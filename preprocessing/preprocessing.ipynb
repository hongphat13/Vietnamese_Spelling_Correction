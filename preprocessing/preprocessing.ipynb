{
 "cells": [
  {
   "cell_type": "code",
   "execution_count": 1,
   "id": "e7ed2c70",
   "metadata": {
    "_cell_guid": "b1076dfc-b9ad-4769-8c92-a6c4dae69d19",
    "_uuid": "8f2839f25d086af736a60e9eeb907d3b93b6e0e5",
    "execution": {
     "iopub.execute_input": "2025-06-25T12:01:26.940960Z",
     "iopub.status.busy": "2025-06-25T12:01:26.940655Z",
     "iopub.status.idle": "2025-06-25T12:01:39.839265Z",
     "shell.execute_reply": "2025-06-25T12:01:39.837959Z"
    },
    "papermill": {
     "duration": 12.916223,
     "end_time": "2025-06-25T12:01:39.841371",
     "exception": false,
     "start_time": "2025-06-25T12:01:26.925148",
     "status": "completed"
    },
    "tags": []
   },
   "outputs": [
    {
     "name": "stdout",
     "output_type": "stream",
     "text": [
      "\u001b[31mERROR: Could not find a version that satisfies the requirement vn_telex (from versions: none)\u001b[0m\u001b[31m\r\n",
      "\u001b[0m\u001b[31mERROR: No matching distribution found for vn_telex\u001b[0m\u001b[31m\r\n",
      "\u001b[0mCollecting underthesea\r\n",
      "  Downloading underthesea-6.8.4-py3-none-any.whl.metadata (15 kB)\r\n",
      "Requirement already satisfied: Click>=6.0 in /usr/local/lib/python3.11/dist-packages (from underthesea) (8.1.8)\r\n",
      "Collecting python-crfsuite>=0.9.6 (from underthesea)\r\n",
      "  Downloading python_crfsuite-0.9.11-cp311-cp311-manylinux_2_17_x86_64.manylinux2014_x86_64.whl.metadata (4.3 kB)\r\n",
      "Requirement already satisfied: nltk in /usr/local/lib/python3.11/dist-packages (from underthesea) (3.9.1)\r\n",
      "Requirement already satisfied: tqdm in /usr/local/lib/python3.11/dist-packages (from underthesea) (4.67.1)\r\n",
      "Requirement already satisfied: requests in /usr/local/lib/python3.11/dist-packages (from underthesea) (2.32.3)\r\n",
      "Requirement already satisfied: joblib in /usr/local/lib/python3.11/dist-packages (from underthesea) (1.5.0)\r\n",
      "Requirement already satisfied: scikit-learn in /usr/local/lib/python3.11/dist-packages (from underthesea) (1.2.2)\r\n",
      "Requirement already satisfied: PyYAML in /usr/local/lib/python3.11/dist-packages (from underthesea) (6.0.2)\r\n",
      "Collecting underthesea-core==1.0.4 (from underthesea)\r\n",
      "  Downloading underthesea_core-1.0.4-cp311-cp311-manylinux2010_x86_64.whl.metadata (1.7 kB)\r\n",
      "Requirement already satisfied: regex>=2021.8.3 in /usr/local/lib/python3.11/dist-packages (from nltk->underthesea) (2024.11.6)\r\n",
      "Requirement already satisfied: charset-normalizer<4,>=2 in /usr/local/lib/python3.11/dist-packages (from requests->underthesea) (3.4.2)\r\n",
      "Requirement already satisfied: idna<4,>=2.5 in /usr/local/lib/python3.11/dist-packages (from requests->underthesea) (3.10)\r\n",
      "Requirement already satisfied: urllib3<3,>=1.21.1 in /usr/local/lib/python3.11/dist-packages (from requests->underthesea) (2.4.0)\r\n",
      "Requirement already satisfied: certifi>=2017.4.17 in /usr/local/lib/python3.11/dist-packages (from requests->underthesea) (2025.4.26)\r\n",
      "Requirement already satisfied: numpy>=1.17.3 in /usr/local/lib/python3.11/dist-packages (from scikit-learn->underthesea) (1.26.4)\r\n",
      "Requirement already satisfied: scipy>=1.3.2 in /usr/local/lib/python3.11/dist-packages (from scikit-learn->underthesea) (1.15.2)\r\n",
      "Requirement already satisfied: threadpoolctl>=2.0.0 in /usr/local/lib/python3.11/dist-packages (from scikit-learn->underthesea) (3.6.0)\r\n",
      "Requirement already satisfied: mkl_fft in /usr/local/lib/python3.11/dist-packages (from numpy>=1.17.3->scikit-learn->underthesea) (1.3.8)\r\n",
      "Requirement already satisfied: mkl_random in /usr/local/lib/python3.11/dist-packages (from numpy>=1.17.3->scikit-learn->underthesea) (1.2.4)\r\n",
      "Requirement already satisfied: mkl_umath in /usr/local/lib/python3.11/dist-packages (from numpy>=1.17.3->scikit-learn->underthesea) (0.1.1)\r\n",
      "Requirement already satisfied: mkl in /usr/local/lib/python3.11/dist-packages (from numpy>=1.17.3->scikit-learn->underthesea) (2025.1.0)\r\n",
      "Requirement already satisfied: tbb4py in /usr/local/lib/python3.11/dist-packages (from numpy>=1.17.3->scikit-learn->underthesea) (2022.1.0)\r\n",
      "Requirement already satisfied: mkl-service in /usr/local/lib/python3.11/dist-packages (from numpy>=1.17.3->scikit-learn->underthesea) (2.4.1)\r\n",
      "Requirement already satisfied: intel-openmp<2026,>=2024 in /usr/local/lib/python3.11/dist-packages (from mkl->numpy>=1.17.3->scikit-learn->underthesea) (2024.2.0)\r\n",
      "Requirement already satisfied: tbb==2022.* in /usr/local/lib/python3.11/dist-packages (from mkl->numpy>=1.17.3->scikit-learn->underthesea) (2022.1.0)\r\n",
      "Requirement already satisfied: tcmlib==1.* in /usr/local/lib/python3.11/dist-packages (from tbb==2022.*->mkl->numpy>=1.17.3->scikit-learn->underthesea) (1.3.0)\r\n",
      "Requirement already satisfied: intel-cmplr-lib-rt in /usr/local/lib/python3.11/dist-packages (from mkl_umath->numpy>=1.17.3->scikit-learn->underthesea) (2024.2.0)\r\n",
      "Requirement already satisfied: intel-cmplr-lib-ur==2024.2.0 in /usr/local/lib/python3.11/dist-packages (from intel-openmp<2026,>=2024->mkl->numpy>=1.17.3->scikit-learn->underthesea) (2024.2.0)\r\n",
      "Downloading underthesea-6.8.4-py3-none-any.whl (20.9 MB)\r\n",
      "\u001b[2K   \u001b[90m━━━━━━━━━━━━━━━━━━━━━━━━━━━━━━━━━━━━━━━━\u001b[0m \u001b[32m20.9/20.9 MB\u001b[0m \u001b[31m41.8 MB/s\u001b[0m eta \u001b[36m0:00:00\u001b[0m\r\n",
      "\u001b[?25hDownloading underthesea_core-1.0.4-cp311-cp311-manylinux2010_x86_64.whl (657 kB)\r\n",
      "\u001b[2K   \u001b[90m━━━━━━━━━━━━━━━━━━━━━━━━━━━━━━━━━━━━━━━━\u001b[0m \u001b[32m657.8/657.8 kB\u001b[0m \u001b[31m28.1 MB/s\u001b[0m eta \u001b[36m0:00:00\u001b[0m\r\n",
      "\u001b[?25hDownloading python_crfsuite-0.9.11-cp311-cp311-manylinux_2_17_x86_64.manylinux2014_x86_64.whl (1.3 MB)\r\n",
      "\u001b[2K   \u001b[90m━━━━━━━━━━━━━━━━━━━━━━━━━━━━━━━━━━━━━━━━\u001b[0m \u001b[32m1.3/1.3 MB\u001b[0m \u001b[31m42.6 MB/s\u001b[0m eta \u001b[36m0:00:00\u001b[0m\r\n",
      "\u001b[?25hInstalling collected packages: underthesea-core, python-crfsuite, underthesea\r\n",
      "Successfully installed python-crfsuite-0.9.11 underthesea-6.8.4 underthesea-core-1.0.4\r\n",
      "Collecting viet_text_tools\r\n",
      "  Downloading viet_text_tools-0.1.6-py3-none-any.whl.metadata (1.8 kB)\r\n",
      "Downloading viet_text_tools-0.1.6-py3-none-any.whl (4.7 kB)\r\n",
      "Installing collected packages: viet_text_tools\r\n",
      "Successfully installed viet_text_tools-0.1.6\r\n"
     ]
    }
   ],
   "source": [
    "!pip install vn_telex\n",
    "!pip install underthesea\n",
    "!pip install viet_text_tools"
   ]
  },
  {
   "cell_type": "markdown",
   "id": "9a2d4ece",
   "metadata": {
    "papermill": {
     "duration": 0.012844,
     "end_time": "2025-06-25T12:01:39.868619",
     "exception": false,
     "start_time": "2025-06-25T12:01:39.855775",
     "status": "completed"
    },
    "tags": []
   },
   "source": [
    "# Bảng đánh dấu"
   ]
  },
  {
   "cell_type": "code",
   "execution_count": 2,
   "id": "9db1ead9",
   "metadata": {
    "execution": {
     "iopub.execute_input": "2025-06-25T12:01:39.897687Z",
     "iopub.status.busy": "2025-06-25T12:01:39.897278Z",
     "iopub.status.idle": "2025-06-25T12:01:42.008681Z",
     "shell.execute_reply": "2025-06-25T12:01:42.007534Z"
    },
    "papermill": {
     "duration": 2.127719,
     "end_time": "2025-06-25T12:01:42.010169",
     "exception": false,
     "start_time": "2025-06-25T12:01:39.882450",
     "status": "completed"
    },
    "tags": []
   },
   "outputs": [
    {
     "data": {
      "text/plain": [
       "'DDajo dduwsc kinh'"
      ]
     },
     "execution_count": 2,
     "metadata": {},
     "output_type": "execute_result"
    }
   ],
   "source": [
    "import pandas as pd\n",
    "\n",
    "BANG_DANH_DAU = {\n",
    "    \"telex\": {\n",
    "                   \"Á\": \"AS\" , \"À\": \"AF\" , \"Ả\": \"AR\" , \"Ã\": \"AX\" , \"Ạ\": \"AJ\" ,\n",
    "        \"Ă\": \"AW\", \"Ắ\": \"AWS\", \"Ằ\": \"AWF\", \"Ẳ\": \"AWR\", \"Ẵ\": \"AWX\", \"Ặ\": \"AWJ\",\n",
    "        \"Â\": \"AA\", \"Ấ\": \"AAS\", \"Ầ\": \"AAF\", \"Ẩ\": \"AAR\", \"Ẫ\": \"AAX\", \"Ậ\": \"AAJ\",\n",
    "        \"Đ\": \"DD\",\n",
    "                   \"É\": \"ES\" , \"È\": \"EF\" , \"Ẻ\": \"ER\" , \"Ẽ\": \"EX\" , \"Ẹ\": \"EJ\" ,\n",
    "        \"Ê\": \"EE\", \"Ế\": \"EES\", \"Ề\": \"EEF\", \"Ể\": \"EER\", \"Ễ\": \"EEX\", \"Ệ\": \"EEJ\",\n",
    "                   \"Í\": \"IS\" , \"Ì\": \"IF\" , \"Ỉ\": \"IR\" , \"Ĩ\": \"IX\" , \"Ị\": \"IJ\" ,\n",
    "                   \"Ó\": \"OS\" , \"Ò\": \"OF\" , \"Ỏ\": \"OR\" , \"Õ\": \"OX\" , \"Ọ\": \"OJ\" ,\n",
    "        \"Ô\": \"OO\", \"Ố\": \"OOS\", \"Ồ\": \"OOF\", \"Ổ\": \"OOR\", \"Ỗ\": \"OOX\", \"Ộ\": \"OOJ\",\n",
    "        \"Ơ\": \"OW\", \"Ớ\": \"OWS\", \"Ờ\": \"OWF\", \"Ở\": \"OWR\", \"Ỡ\": \"OWX\", \"Ợ\": \"OWJ\",\n",
    "                   \"Ú\": \"US\" , \"Ù\": \"UF\" , \"Ủ\": \"UR\" , \"Ũ\": \"UX\" , \"Ụ\": \"UJ\" ,\n",
    "        \"Ư\": \"UW\", \"Ứ\": \"UWS\", \"Ừ\": \"UWF\", \"Ử\": \"UWR\", \"Ữ\": \"UWX\", \"Ự\": \"UWJ\",\n",
    "                   \"Ý\": \"YS\" , \"Ỳ\": \"YF\" , \"Ỷ\": \"YR\" , \"Ỹ\": \"YX\" , \"Ỵ\": \"YJ\" ,\n",
    "                   \"á\": \"as\" , \"à\": \"af\" , \"ả\": \"ar\" , \"ã\": \"ax\" , \"ạ\": \"aj\" ,\n",
    "        \"ă\": \"aw\", \"ắ\": \"aws\", \"ằ\": \"awf\", \"ẳ\": \"awr\", \"ẵ\": \"awx\", \"ặ\": \"awj\",\n",
    "        \"â\": \"aa\", \"ấ\": \"aas\", \"ầ\": \"aaf\", \"ẩ\": \"aar\", \"ẫ\": \"aax\", \"ậ\": \"aaj\",\n",
    "        \"đ\": \"dd\",\n",
    "                   \"é\": \"es\" , \"è\": \"ef\" , \"ẻ\": \"er\" , \"ẽ\": \"ex\" , \"ẹ\": \"ej\" ,\n",
    "        \"ê\": \"ee\", \"ế\": \"ees\", \"ề\": \"eef\", \"ể\": \"eer\", \"ễ\": \"eex\", \"ệ\": \"eej\",\n",
    "                   \"í\": \"is\" , \"ì\": \"if\" , \"ỉ\": \"ir\" , \"ĩ\": \"ix\" , \"ị\": \"ij\" ,\n",
    "                   \"ó\": \"os\" , \"ò\": \"of\" , \"ỏ\": \"or\" , \"õ\": \"ox\" , \"ọ\": \"oj\" ,\n",
    "        \"ô\": \"oo\", \"ố\": \"oos\", \"ồ\": \"oof\", \"ổ\": \"oor\", \"ỗ\": \"oox\", \"ộ\": \"ooj\",\n",
    "        \"ơ\": \"ow\", \"ớ\": \"ows\", \"ờ\": \"owf\", \"ở\": \"owr\", \"ỡ\": \"owx\", \"ợ\": \"owj\",\n",
    "                   \"ú\": \"us\" , \"ù\": \"uf\" , \"ủ\": \"ur\" , \"ũ\": \"ux\" , \"ụ\": \"uj\" ,\n",
    "        \"ư\": \"uw\", \"ứ\": \"uws\", \"ừ\": \"uwf\", \"ử\": \"uwr\", \"ữ\": \"uwx\", \"ự\": \"uwj\",\n",
    "                   \"ý\": \"ys\" , \"ỳ\": \"yf\" , \"ỷ\": \"yr\" , \"ỹ\": \"yx\" , \"ỵ\": \"yj\" ,\n",
    "    }\n",
    "}\n",
    "\n",
    "def xoa_dau_sang_telex(txt: str, kieu_go: str) -> str:\n",
    "    kieu_go = kieu_go.lower()\n",
    "    if kieu_go not in BANG_DANH_DAU:\n",
    "        raise Exception(\"kiểu gõ ko hợp lệ\")\n",
    "    for k, v in BANG_DANH_DAU[kieu_go].items():\n",
    "        txt = txt.replace(k, v)\n",
    "    return txt\n",
    "\n",
    "txt = \"Đạo đức kinh\"\n",
    "xoa_dau_sang_telex(txt, \"telex\") # \"“DDajo dduwsc kinh”\""
   ]
  },
  {
   "cell_type": "code",
   "execution_count": 3,
   "id": "d9d58971",
   "metadata": {
    "execution": {
     "iopub.execute_input": "2025-06-25T12:01:42.037897Z",
     "iopub.status.busy": "2025-06-25T12:01:42.036852Z",
     "iopub.status.idle": "2025-06-25T12:01:42.043785Z",
     "shell.execute_reply": "2025-06-25T12:01:42.042710Z"
    },
    "papermill": {
     "duration": 0.022459,
     "end_time": "2025-06-25T12:01:42.045574",
     "exception": false,
     "start_time": "2025-06-25T12:01:42.023115",
     "status": "completed"
    },
    "tags": []
   },
   "outputs": [
    {
     "data": {
      "text/plain": [
       "'DDaoro dduwsc kinh'"
      ]
     },
     "execution_count": 3,
     "metadata": {},
     "output_type": "execute_result"
    }
   ],
   "source": [
    "txt = \"Đaỏo đức kinh\"\n",
    "xoa_dau_sang_telex(txt, \"telex\") # \"“DDajo dduwsc kinh”\""
   ]
  },
  {
   "cell_type": "markdown",
   "id": "7da959f2",
   "metadata": {
    "papermill": {
     "duration": 0.012856,
     "end_time": "2025-06-25T12:01:42.071455",
     "exception": false,
     "start_time": "2025-06-25T12:01:42.058599",
     "status": "completed"
    },
    "tags": []
   },
   "source": [
    "# Loại bỏ nhiễu, emoji"
   ]
  },
  {
   "cell_type": "code",
   "execution_count": 4,
   "id": "bb1be1ae",
   "metadata": {
    "execution": {
     "iopub.execute_input": "2025-06-25T12:01:42.101058Z",
     "iopub.status.busy": "2025-06-25T12:01:42.099867Z",
     "iopub.status.idle": "2025-06-25T12:01:42.143301Z",
     "shell.execute_reply": "2025-06-25T12:01:42.142292Z"
    },
    "papermill": {
     "duration": 0.061291,
     "end_time": "2025-06-25T12:01:42.145392",
     "exception": false,
     "start_time": "2025-06-25T12:01:42.084101",
     "status": "completed"
    },
    "tags": []
   },
   "outputs": [],
   "source": [
    "import re\n",
    "import emoji\n",
    "\n",
    "def remove_noise(text):\n",
    "    # Loại bỏ emoji\n",
    "    text = emoji.replace_emoji(text, replace='')\n",
    "    # Loại bỏ ký tự xuống dòng và các ký tự không cần thiết\n",
    "    text = re.sub(r'[\\n\\r\\t]', ' ', text)\n",
    "    return text\n"
   ]
  },
  {
   "cell_type": "markdown",
   "id": "d1656d73",
   "metadata": {
    "papermill": {
     "duration": 0.012599,
     "end_time": "2025-06-25T12:01:42.171886",
     "exception": false,
     "start_time": "2025-06-25T12:01:42.159287",
     "status": "completed"
    },
    "tags": []
   },
   "source": [
    "# Chuyển hóa thành chữ thường"
   ]
  },
  {
   "cell_type": "code",
   "execution_count": 5,
   "id": "a80d50d1",
   "metadata": {
    "execution": {
     "iopub.execute_input": "2025-06-25T12:01:42.200326Z",
     "iopub.status.busy": "2025-06-25T12:01:42.199954Z",
     "iopub.status.idle": "2025-06-25T12:01:42.204543Z",
     "shell.execute_reply": "2025-06-25T12:01:42.203352Z"
    },
    "papermill": {
     "duration": 0.021577,
     "end_time": "2025-06-25T12:01:42.206344",
     "exception": false,
     "start_time": "2025-06-25T12:01:42.184767",
     "status": "completed"
    },
    "tags": []
   },
   "outputs": [],
   "source": [
    "def to_lowercase(text):\n",
    "    return text.lower()"
   ]
  },
  {
   "cell_type": "markdown",
   "id": "4d7cfd90",
   "metadata": {
    "papermill": {
     "duration": 0.014802,
     "end_time": "2025-06-25T12:01:42.237064",
     "exception": false,
     "start_time": "2025-06-25T12:01:42.222262",
     "status": "completed"
    },
    "tags": []
   },
   "source": [
    "# Chuẩn hóa dấu (ví dụ: \"cuả\" → \"của\")"
   ]
  },
  {
   "cell_type": "code",
   "execution_count": 6,
   "id": "75b52cbf",
   "metadata": {
    "execution": {
     "iopub.execute_input": "2025-06-25T12:01:42.267722Z",
     "iopub.status.busy": "2025-06-25T12:01:42.267378Z",
     "iopub.status.idle": "2025-06-25T12:01:42.287263Z",
     "shell.execute_reply": "2025-06-25T12:01:42.286179Z"
    },
    "papermill": {
     "duration": 0.037445,
     "end_time": "2025-06-25T12:01:42.289398",
     "exception": false,
     "start_time": "2025-06-25T12:01:42.251953",
     "status": "completed"
    },
    "tags": []
   },
   "outputs": [],
   "source": [
    "from viet_text_tools import normalize_diacritics\n",
    "\n",
    "def normalize_marks(text):\n",
    "    return normalize_diacritics(text)\n",
    "\n",
    "# cuả -> cuar -> của"
   ]
  },
  {
   "cell_type": "code",
   "execution_count": 7,
   "id": "84490c24",
   "metadata": {
    "execution": {
     "iopub.execute_input": "2025-06-25T12:01:42.323593Z",
     "iopub.status.busy": "2025-06-25T12:01:42.323230Z",
     "iopub.status.idle": "2025-06-25T12:01:42.333927Z",
     "shell.execute_reply": "2025-06-25T12:01:42.332965Z"
    },
    "papermill": {
     "duration": 0.030497,
     "end_time": "2025-06-25T12:01:42.335630",
     "exception": false,
     "start_time": "2025-06-25T12:01:42.305133",
     "status": "completed"
    },
    "tags": []
   },
   "outputs": [
    {
     "data": {
      "text/plain": [
       "'của'"
      ]
     },
     "execution_count": 7,
     "metadata": {},
     "output_type": "execute_result"
    }
   ],
   "source": [
    "normalize_marks(\"cuả\") "
   ]
  },
  {
   "cell_type": "code",
   "execution_count": 8,
   "id": "24335d02",
   "metadata": {
    "execution": {
     "iopub.execute_input": "2025-06-25T12:01:42.364670Z",
     "iopub.status.busy": "2025-06-25T12:01:42.364349Z",
     "iopub.status.idle": "2025-06-25T12:01:42.370613Z",
     "shell.execute_reply": "2025-06-25T12:01:42.369845Z"
    },
    "papermill": {
     "duration": 0.02264,
     "end_time": "2025-06-25T12:01:42.372174",
     "exception": false,
     "start_time": "2025-06-25T12:01:42.349534",
     "status": "completed"
    },
    "tags": []
   },
   "outputs": [
    {
     "data": {
      "text/plain": [
       "'tiểutiện'"
      ]
     },
     "execution_count": 8,
     "metadata": {},
     "output_type": "execute_result"
    }
   ],
   "source": [
    "normalize_marks(\"tiêủtịên\") "
   ]
  },
  {
   "cell_type": "code",
   "execution_count": 9,
   "id": "2f2d1650",
   "metadata": {
    "execution": {
     "iopub.execute_input": "2025-06-25T12:01:42.399845Z",
     "iopub.status.busy": "2025-06-25T12:01:42.399545Z",
     "iopub.status.idle": "2025-06-25T12:01:42.405500Z",
     "shell.execute_reply": "2025-06-25T12:01:42.404612Z"
    },
    "papermill": {
     "duration": 0.021447,
     "end_time": "2025-06-25T12:01:42.406976",
     "exception": false,
     "start_time": "2025-06-25T12:01:42.385529",
     "status": "completed"
    },
    "tags": []
   },
   "outputs": [
    {
     "data": {
      "text/plain": [
       "'Đảo'"
      ]
     },
     "execution_count": 9,
     "metadata": {},
     "output_type": "execute_result"
    }
   ],
   "source": [
    "txt = \"Đaỏ\"\n",
    "normalize_marks(txt)"
   ]
  },
  {
   "cell_type": "markdown",
   "id": "dd2f3e0a",
   "metadata": {
    "papermill": {
     "duration": 0.08624,
     "end_time": "2025-06-25T12:01:42.506433",
     "exception": false,
     "start_time": "2025-06-25T12:01:42.420193",
     "status": "completed"
    },
    "tags": []
   },
   "source": [
    "# Load từ điển và tính tần suất từ"
   ]
  },
  {
   "cell_type": "code",
   "execution_count": 10,
   "id": "474d55db",
   "metadata": {
    "execution": {
     "iopub.execute_input": "2025-06-25T12:01:42.534069Z",
     "iopub.status.busy": "2025-06-25T12:01:42.533714Z",
     "iopub.status.idle": "2025-06-25T12:01:42.881443Z",
     "shell.execute_reply": "2025-06-25T12:01:42.879885Z"
    },
    "papermill": {
     "duration": 0.364342,
     "end_time": "2025-06-25T12:01:42.883819",
     "exception": false,
     "start_time": "2025-06-25T12:01:42.519477",
     "status": "completed"
    },
    "tags": []
   },
   "outputs": [
    {
     "name": "stdout",
     "output_type": "stream",
     "text": [
      "--2025-06-25 12:01:42--  https://raw.githubusercontent.com/undertheseanlp/underthesea/refs/heads/main/underthesea/corpus/data/Viet74K.txt\r\n",
      "Resolving raw.githubusercontent.com (raw.githubusercontent.com)... 185.199.111.133, 185.199.109.133, 185.199.110.133, ...\r\n",
      "Connecting to raw.githubusercontent.com (raw.githubusercontent.com)|185.199.111.133|:443... connected.\r\n",
      "HTTP request sent, awaiting response... 200 OK\r\n",
      "Length: 988627 (965K) [text/plain]\r\n",
      "Saving to: ‘Viet74K.txt’\r\n",
      "\r\n",
      "Viet74K.txt         100%[===================>] 965.46K  --.-KB/s    in 0.05s   \r\n",
      "\r\n",
      "2025-06-25 12:01:42 (19.8 MB/s) - ‘Viet74K.txt’ saved [988627/988627]\r\n",
      "\r\n"
     ]
    }
   ],
   "source": [
    "!wget https://raw.githubusercontent.com/undertheseanlp/underthesea/refs/heads/main/underthesea/corpus/data/Viet74K.txt"
   ]
  },
  {
   "cell_type": "code",
   "execution_count": 11,
   "id": "cde407aa",
   "metadata": {
    "execution": {
     "iopub.execute_input": "2025-06-25T12:01:42.914382Z",
     "iopub.status.busy": "2025-06-25T12:01:42.913938Z",
     "iopub.status.idle": "2025-06-25T12:01:42.920586Z",
     "shell.execute_reply": "2025-06-25T12:01:42.919564Z"
    },
    "papermill": {
     "duration": 0.023776,
     "end_time": "2025-06-25T12:01:42.922433",
     "exception": false,
     "start_time": "2025-06-25T12:01:42.898657",
     "status": "completed"
    },
    "tags": []
   },
   "outputs": [],
   "source": [
    "from collections import defaultdict\n",
    "\n",
    "def load_words_from_txt(file_path):\n",
    "    word_freq = defaultdict(int)\n",
    "    with open(file_path, \"r\", encoding=\"utf-8\") as f:\n",
    "        for line in f:\n",
    "            word = line.strip()\n",
    "            if word:\n",
    "                word_freq[word.lower()] += 1  # Gán tần suất mặc định là 1\n",
    "    return word_freq.items()\n"
   ]
  },
  {
   "cell_type": "markdown",
   "id": "e7bba3ab",
   "metadata": {
    "papermill": {
     "duration": 0.013546,
     "end_time": "2025-06-25T12:01:42.950758",
     "exception": false,
     "start_time": "2025-06-25T12:01:42.937212",
     "status": "completed"
    },
    "tags": []
   },
   "source": [
    "# Tách từ bị dính (ví dụ: \"làmviệc\" → \"làm việc\")"
   ]
  },
  {
   "cell_type": "code",
   "execution_count": 12,
   "id": "e743afa0",
   "metadata": {
    "execution": {
     "iopub.execute_input": "2025-06-25T12:01:42.980424Z",
     "iopub.status.busy": "2025-06-25T12:01:42.980049Z",
     "iopub.status.idle": "2025-06-25T12:01:42.987135Z",
     "shell.execute_reply": "2025-06-25T12:01:42.986214Z"
    },
    "papermill": {
     "duration": 0.024106,
     "end_time": "2025-06-25T12:01:42.988736",
     "exception": false,
     "start_time": "2025-06-25T12:01:42.964630",
     "status": "completed"
    },
    "tags": []
   },
   "outputs": [],
   "source": [
    "from functools import lru_cache\n",
    "from math import prod\n",
    "\n",
    "def splits(text, L=20):\n",
    "    return [(text[:i+1], text[i+1:]) for i in range(min(len(text), L))]\n",
    "\n",
    "@lru_cache(maxsize=None)\n",
    "def segment(text):\n",
    "    if not text:\n",
    "        return []\n",
    "    candidates = ([first] + segment(rem) for first, rem in splits(text))\n",
    "    return max(candidates, key=Pwords)\n",
    "\n",
    "def Pwords(words):\n",
    "    return prod(Pw(w) for w in words)"
   ]
  },
  {
   "cell_type": "code",
   "execution_count": 13,
   "id": "f679f400",
   "metadata": {
    "execution": {
     "iopub.execute_input": "2025-06-25T12:01:43.019507Z",
     "iopub.status.busy": "2025-06-25T12:01:43.018562Z",
     "iopub.status.idle": "2025-06-25T12:01:43.025531Z",
     "shell.execute_reply": "2025-06-25T12:01:43.024520Z"
    },
    "papermill": {
     "duration": 0.024196,
     "end_time": "2025-06-25T12:01:43.027538",
     "exception": false,
     "start_time": "2025-06-25T12:01:43.003342",
     "status": "completed"
    },
    "tags": []
   },
   "outputs": [],
   "source": [
    "class Pdist(dict):\n",
    "    def __init__(self, data, N=None, missingfn=None):\n",
    "        for key, count in data:\n",
    "            self[key] = self.get(key, 0) + int(count)\n",
    "        self.N = float(N or sum(self.values()))\n",
    "        self.missingfn = missingfn or (lambda k, N: 1. / N)\n",
    "\n",
    "    def __call__(self, key):\n",
    "        if key in self:\n",
    "            return self[key] / self.N\n",
    "        else:\n",
    "            return self.missingfn(key, self.N)\n",
    "\n",
    "def avoid_long_words(word, N):\n",
    "    return 10. / (N * 10 ** len(word))\n"
   ]
  },
  {
   "cell_type": "code",
   "execution_count": 14,
   "id": "89c5af2c",
   "metadata": {
    "execution": {
     "iopub.execute_input": "2025-06-25T12:01:43.055644Z",
     "iopub.status.busy": "2025-06-25T12:01:43.055341Z",
     "iopub.status.idle": "2025-06-25T12:01:43.167889Z",
     "shell.execute_reply": "2025-06-25T12:01:43.166558Z"
    },
    "papermill": {
     "duration": 0.128414,
     "end_time": "2025-06-25T12:01:43.169544",
     "exception": false,
     "start_time": "2025-06-25T12:01:43.041130",
     "status": "completed"
    },
    "tags": []
   },
   "outputs": [
    {
     "name": "stdout",
     "output_type": "stream",
     "text": [
      "làm việc\n"
     ]
    }
   ],
   "source": [
    "word_data = load_words_from_txt('Viet74K.txt')\n",
    "Pw = Pdist(word_data, missingfn=avoid_long_words)\n",
    "\n",
    "# Segment thử từ bị dính liền\n",
    "#text = \"quantrọnglàsứckhỏe\"\n",
    "text = \"làmviệc\"\n",
    "print(\" \".join(segment(text)))\n"
   ]
  },
  {
   "cell_type": "code",
   "execution_count": 15,
   "id": "3caffa89",
   "metadata": {
    "execution": {
     "iopub.execute_input": "2025-06-25T12:01:43.198713Z",
     "iopub.status.busy": "2025-06-25T12:01:43.198363Z",
     "iopub.status.idle": "2025-06-25T12:01:43.204051Z",
     "shell.execute_reply": "2025-06-25T12:01:43.202771Z"
    },
    "papermill": {
     "duration": 0.022388,
     "end_time": "2025-06-25T12:01:43.205804",
     "exception": false,
     "start_time": "2025-06-25T12:01:43.183416",
     "status": "completed"
    },
    "tags": []
   },
   "outputs": [
    {
     "name": "stdout",
     "output_type": "stream",
     "text": [
      "True\n",
      "True\n"
     ]
    }
   ],
   "source": [
    "print(\"có\" in Pw)      # True\n",
    "print(\"được\" in Pw)    # True"
   ]
  },
  {
   "cell_type": "code",
   "execution_count": 16,
   "id": "9c4b8a1c",
   "metadata": {
    "execution": {
     "iopub.execute_input": "2025-06-25T12:01:43.236752Z",
     "iopub.status.busy": "2025-06-25T12:01:43.235826Z",
     "iopub.status.idle": "2025-06-25T12:01:43.245512Z",
     "shell.execute_reply": "2025-06-25T12:01:43.244312Z"
    },
    "papermill": {
     "duration": 0.026961,
     "end_time": "2025-06-25T12:01:43.247434",
     "exception": false,
     "start_time": "2025-06-25T12:01:43.220473",
     "status": "completed"
    },
    "tags": []
   },
   "outputs": [],
   "source": [
    "import math\n",
    "import re\n",
    "\n",
    "def logP(word):\n",
    "    prob = Pw(word)\n",
    "    return math.log(prob) if prob > 0 else float('-inf')\n",
    "    \n",
    "def is_valid_segmentation(words):\n",
    "    # Mỗi từ phải nằm trong từ điển và độ dài tối thiểu 2 (trừ những từ hợp lệ ngắn)\n",
    "    for w in words:\n",
    "        if w not in Pw:\n",
    "            return False\n",
    "        if len(w) == 1 and w not in {\"a\", \"i\", \"ở\", \"ê\", \"ô\"}:  # giữ lại các từ 1 ký tự có nghĩa thật\n",
    "            return False\n",
    "    return True\n",
    "    \n",
    "def split_merged_token(token, ratio_threshold=1):\n",
    "    \"\"\"\n",
    "    Nếu token không có khoảng trắng và không có trong từ điển,\n",
    "    dùng segment() để thử tách. So sánh trực tiếp xác suất tổng của các từ tách ra.\n",
    "    \"\"\"\n",
    "    if token in Pw or \" \" in token:\n",
    "        return [token]\n",
    "\n",
    "    segmented = segment(token)\n",
    "    prob_segmented = Pwords(segmented)\n",
    "    # print(prob_segmented)\n",
    "    prob_original = Pw(token)\n",
    "    # print(prob_original)\n",
    "\n",
    "    if (prob_segmented > ratio_threshold * prob_original) and is_valid_segmentation(segmented):\n",
    "        return segmented\n",
    "    else:\n",
    "        return [token]\n",
    "\n",
    "\n",
    "def segment_sentence(sentence):\n",
    "    words = []\n",
    "    for token in sentence.split():\n",
    "        raw_token = token\n",
    "        segmented = split_merged_token(raw_token)\n",
    "\n",
    "        if segmented == [raw_token]:\n",
    "            words.append(raw_token)  # giữ nguyên token gốc nếu không thể tách hoặc không cần\n",
    "        else:\n",
    "            words.extend(segmented)\n",
    "    return \" \".join(words)\n"
   ]
  },
  {
   "cell_type": "code",
   "execution_count": 17,
   "id": "944be5dd",
   "metadata": {
    "execution": {
     "iopub.execute_input": "2025-06-25T12:01:43.279392Z",
     "iopub.status.busy": "2025-06-25T12:01:43.278162Z",
     "iopub.status.idle": "2025-06-25T12:01:43.285338Z",
     "shell.execute_reply": "2025-06-25T12:01:43.284136Z"
    },
    "papermill": {
     "duration": 0.024415,
     "end_time": "2025-06-25T12:01:43.287119",
     "exception": false,
     "start_time": "2025-06-25T12:01:43.262704",
     "status": "completed"
    },
    "tags": []
   },
   "outputs": [
    {
     "name": "stdout",
     "output_type": "stream",
     "text": [
      "hạnh phúc\n"
     ]
    }
   ],
   "source": [
    "# Câu gồm cả từ đúng và từ dính liền\n",
    "text = \"hạnhphúc\"\n",
    "\n",
    "print(segment_sentence(text))\n",
    "# → bảo rộng quan trọng và sức khỏe là hạnh phúc"
   ]
  },
  {
   "cell_type": "code",
   "execution_count": 18,
   "id": "5b352ccd",
   "metadata": {
    "execution": {
     "iopub.execute_input": "2025-06-25T12:01:43.316798Z",
     "iopub.status.busy": "2025-06-25T12:01:43.316405Z",
     "iopub.status.idle": "2025-06-25T12:01:43.323664Z",
     "shell.execute_reply": "2025-06-25T12:01:43.322682Z"
    },
    "papermill": {
     "duration": 0.024016,
     "end_time": "2025-06-25T12:01:43.325400",
     "exception": false,
     "start_time": "2025-06-25T12:01:43.301384",
     "status": "completed"
    },
    "tags": []
   },
   "outputs": [
    {
     "data": {
      "text/plain": [
       "'vaàhệ'"
      ]
     },
     "execution_count": 18,
     "metadata": {},
     "output_type": "execute_result"
    }
   ],
   "source": [
    "segment_sentence(\"vaàhệ\")"
   ]
  },
  {
   "cell_type": "code",
   "execution_count": 19,
   "id": "955c07e2",
   "metadata": {
    "execution": {
     "iopub.execute_input": "2025-06-25T12:01:43.356709Z",
     "iopub.status.busy": "2025-06-25T12:01:43.356361Z",
     "iopub.status.idle": "2025-06-25T12:01:43.363071Z",
     "shell.execute_reply": "2025-06-25T12:01:43.361881Z"
    },
    "papermill": {
     "duration": 0.024272,
     "end_time": "2025-06-25T12:01:43.364681",
     "exception": false,
     "start_time": "2025-06-25T12:01:43.340409",
     "status": "completed"
    },
    "tags": []
   },
   "outputs": [
    {
     "data": {
      "text/plain": [
       "'tranhh'"
      ]
     },
     "execution_count": 19,
     "metadata": {},
     "output_type": "execute_result"
    }
   ],
   "source": [
    "segment_sentence(\"tranhh\")"
   ]
  },
  {
   "cell_type": "code",
   "execution_count": 20,
   "id": "8bee85a7",
   "metadata": {
    "execution": {
     "iopub.execute_input": "2025-06-25T12:01:43.394289Z",
     "iopub.status.busy": "2025-06-25T12:01:43.393935Z",
     "iopub.status.idle": "2025-06-25T12:01:43.400528Z",
     "shell.execute_reply": "2025-06-25T12:01:43.399567Z"
    },
    "papermill": {
     "duration": 0.023118,
     "end_time": "2025-06-25T12:01:43.402162",
     "exception": false,
     "start_time": "2025-06-25T12:01:43.379044",
     "status": "completed"
    },
    "tags": []
   },
   "outputs": [
    {
     "data": {
      "text/plain": [
       "'có được'"
      ]
     },
     "execution_count": 20,
     "metadata": {},
     "output_type": "execute_result"
    }
   ],
   "source": [
    "segment_sentence(\"cóđược\")"
   ]
  },
  {
   "cell_type": "code",
   "execution_count": 21,
   "id": "811a0e72",
   "metadata": {
    "execution": {
     "iopub.execute_input": "2025-06-25T12:01:43.432955Z",
     "iopub.status.busy": "2025-06-25T12:01:43.432613Z",
     "iopub.status.idle": "2025-06-25T12:01:43.438141Z",
     "shell.execute_reply": "2025-06-25T12:01:43.436802Z"
    },
    "papermill": {
     "duration": 0.022964,
     "end_time": "2025-06-25T12:01:43.440140",
     "exception": false,
     "start_time": "2025-06-25T12:01:43.417176",
     "status": "completed"
    },
    "tags": []
   },
   "outputs": [
    {
     "name": "stdout",
     "output_type": "stream",
     "text": [
      "['có', 'được']\n"
     ]
    }
   ],
   "source": [
    "print(segment(\"cóđược\"))"
   ]
  },
  {
   "cell_type": "code",
   "execution_count": 22,
   "id": "e9c98576",
   "metadata": {
    "execution": {
     "iopub.execute_input": "2025-06-25T12:01:43.470023Z",
     "iopub.status.busy": "2025-06-25T12:01:43.469637Z",
     "iopub.status.idle": "2025-06-25T12:01:43.476566Z",
     "shell.execute_reply": "2025-06-25T12:01:43.475602Z"
    },
    "papermill": {
     "duration": 0.023847,
     "end_time": "2025-06-25T12:01:43.478489",
     "exception": false,
     "start_time": "2025-06-25T12:01:43.454642",
     "status": "completed"
    },
    "tags": []
   },
   "outputs": [
    {
     "data": {
      "text/plain": [
       "1.353161662223786e-10"
      ]
     },
     "execution_count": 22,
     "metadata": {},
     "output_type": "execute_result"
    }
   ],
   "source": [
    "Pw(\"cóđược\")"
   ]
  },
  {
   "cell_type": "code",
   "execution_count": 23,
   "id": "13bf8178",
   "metadata": {
    "execution": {
     "iopub.execute_input": "2025-06-25T12:01:43.508718Z",
     "iopub.status.busy": "2025-06-25T12:01:43.508409Z",
     "iopub.status.idle": "2025-06-25T12:01:43.514610Z",
     "shell.execute_reply": "2025-06-25T12:01:43.513694Z"
    },
    "papermill": {
     "duration": 0.023576,
     "end_time": "2025-06-25T12:01:43.516407",
     "exception": false,
     "start_time": "2025-06-25T12:01:43.492831",
     "status": "completed"
    },
    "tags": []
   },
   "outputs": [
    {
     "data": {
      "text/plain": [
       "1.3531616622237858e-05"
      ]
     },
     "execution_count": 23,
     "metadata": {},
     "output_type": "execute_result"
    }
   ],
   "source": [
    "Pw(\"có\")"
   ]
  },
  {
   "cell_type": "code",
   "execution_count": 24,
   "id": "76ece80a",
   "metadata": {
    "execution": {
     "iopub.execute_input": "2025-06-25T12:01:43.546416Z",
     "iopub.status.busy": "2025-06-25T12:01:43.546091Z",
     "iopub.status.idle": "2025-06-25T12:01:43.551900Z",
     "shell.execute_reply": "2025-06-25T12:01:43.551031Z"
    },
    "papermill": {
     "duration": 0.022528,
     "end_time": "2025-06-25T12:01:43.553429",
     "exception": false,
     "start_time": "2025-06-25T12:01:43.530901",
     "status": "completed"
    },
    "tags": []
   },
   "outputs": [
    {
     "data": {
      "text/plain": [
       "1.3531616622237858e-05"
      ]
     },
     "execution_count": 24,
     "metadata": {},
     "output_type": "execute_result"
    }
   ],
   "source": [
    "Pw(\"được\")"
   ]
  },
  {
   "cell_type": "code",
   "execution_count": 25,
   "id": "97c373c3",
   "metadata": {
    "execution": {
     "iopub.execute_input": "2025-06-25T12:01:43.583663Z",
     "iopub.status.busy": "2025-06-25T12:01:43.583352Z",
     "iopub.status.idle": "2025-06-25T12:01:43.589898Z",
     "shell.execute_reply": "2025-06-25T12:01:43.589023Z"
    },
    "papermill": {
     "duration": 0.023773,
     "end_time": "2025-06-25T12:01:43.591579",
     "exception": false,
     "start_time": "2025-06-25T12:01:43.567806",
     "status": "completed"
    },
    "tags": []
   },
   "outputs": [
    {
     "data": {
      "text/plain": [
       "'Nghiên cứu cụ thể hóa giải pháp về đổi mới cơ chế, chính sách vào điều kiện đặc thù của tỉnh, để khu yến khích các doanh nghiệp thuộc các thành phần kinh tế trên địa bàn phát triển nhanh, bềnvững.'"
      ]
     },
     "execution_count": 25,
     "metadata": {},
     "output_type": "execute_result"
    }
   ],
   "source": [
    "segment_sentence(\"Nghiên cứu cụ thể hóa giải pháp về đổi mới cơ chế, chính sách vào điều kiện đặc thù của tỉnh, để khuyến khích các doanh nghiệp thuộc các thành phần kinh tế trên địa bàn phát triển nhanh, bềnvững.\")"
   ]
  },
  {
   "cell_type": "markdown",
   "id": "d9f3b2ec",
   "metadata": {
    "papermill": {
     "duration": 0.01484,
     "end_time": "2025-06-25T12:01:43.621021",
     "exception": false,
     "start_time": "2025-06-25T12:01:43.606181",
     "status": "completed"
    },
    "tags": []
   },
   "source": [
    "# load từ điển và cài trie"
   ]
  },
  {
   "cell_type": "code",
   "execution_count": 26,
   "id": "3716f981",
   "metadata": {
    "execution": {
     "iopub.execute_input": "2025-06-25T12:01:43.652307Z",
     "iopub.status.busy": "2025-06-25T12:01:43.651890Z",
     "iopub.status.idle": "2025-06-25T12:01:43.659653Z",
     "shell.execute_reply": "2025-06-25T12:01:43.658738Z"
    },
    "papermill": {
     "duration": 0.025304,
     "end_time": "2025-06-25T12:01:43.661329",
     "exception": false,
     "start_time": "2025-06-25T12:01:43.636025",
     "status": "completed"
    },
    "tags": []
   },
   "outputs": [],
   "source": [
    "class TrieNode:\n",
    "    def __init__(self):\n",
    "        self.children = {}\n",
    "        self.is_end_of_word = False\n",
    "\n",
    "class Trie:\n",
    "    def __init__(self):\n",
    "        self.root = TrieNode()\n",
    "\n",
    "    # Thêm từ vào Trie\n",
    "    def insert(self, word):\n",
    "        node = self.root\n",
    "        for ch in word:\n",
    "            if ch not in node.children:\n",
    "                node.children[ch] = TrieNode()\n",
    "            node = node.children[ch]\n",
    "        node.is_end_of_word = True\n",
    "\n",
    "    # Kiểm tra từ có trong Trie không\n",
    "    def search(self, word):\n",
    "        node = self.root\n",
    "        for ch in word:\n",
    "            if ch not in node.children:\n",
    "                return False\n",
    "            node = node.children[ch]\n",
    "        return node.is_end_of_word\n",
    "\n",
    "    # Kiểm tra prefix có tồn tại không\n",
    "    def starts_with(self, prefix):\n",
    "        node = self.root\n",
    "        for ch in prefix:\n",
    "            if ch not in node.children:\n",
    "                return False\n",
    "            node = node.children[ch]\n",
    "        return True\n"
   ]
  },
  {
   "cell_type": "code",
   "execution_count": 27,
   "id": "c19dc685",
   "metadata": {
    "execution": {
     "iopub.execute_input": "2025-06-25T12:01:43.691415Z",
     "iopub.status.busy": "2025-06-25T12:01:43.691081Z",
     "iopub.status.idle": "2025-06-25T12:01:44.852861Z",
     "shell.execute_reply": "2025-06-25T12:01:44.851759Z"
    },
    "papermill": {
     "duration": 1.178964,
     "end_time": "2025-06-25T12:01:44.854887",
     "exception": false,
     "start_time": "2025-06-25T12:01:43.675923",
     "status": "completed"
    },
    "tags": []
   },
   "outputs": [],
   "source": [
    "trie = Trie()\n",
    "\n",
    "with open(\"Viet74K.txt\", \"r\", encoding=\"utf-8\") as f:\n",
    "    for line in f:\n",
    "        word = line.strip()\n",
    "        if word:\n",
    "            trie.insert(word)\n"
   ]
  },
  {
   "cell_type": "code",
   "execution_count": 28,
   "id": "67d44302",
   "metadata": {
    "execution": {
     "iopub.execute_input": "2025-06-25T12:01:44.886047Z",
     "iopub.status.busy": "2025-06-25T12:01:44.885723Z",
     "iopub.status.idle": "2025-06-25T12:01:44.892424Z",
     "shell.execute_reply": "2025-06-25T12:01:44.891059Z"
    },
    "papermill": {
     "duration": 0.024574,
     "end_time": "2025-06-25T12:01:44.894283",
     "exception": false,
     "start_time": "2025-06-25T12:01:44.869709",
     "status": "completed"
    },
    "tags": []
   },
   "outputs": [
    {
     "data": {
      "text/plain": [
       "False"
      ]
     },
     "execution_count": 28,
     "metadata": {},
     "output_type": "execute_result"
    }
   ],
   "source": [
    "trie.search(\"nhiên\")"
   ]
  },
  {
   "cell_type": "code",
   "execution_count": 29,
   "id": "4354e601",
   "metadata": {
    "execution": {
     "iopub.execute_input": "2025-06-25T12:01:44.926656Z",
     "iopub.status.busy": "2025-06-25T12:01:44.926344Z",
     "iopub.status.idle": "2025-06-25T12:01:44.932358Z",
     "shell.execute_reply": "2025-06-25T12:01:44.931452Z"
    },
    "papermill": {
     "duration": 0.024083,
     "end_time": "2025-06-25T12:01:44.934032",
     "exception": false,
     "start_time": "2025-06-25T12:01:44.909949",
     "status": "completed"
    },
    "tags": []
   },
   "outputs": [
    {
     "data": {
      "text/plain": [
       "True"
      ]
     },
     "execution_count": 29,
     "metadata": {},
     "output_type": "execute_result"
    }
   ],
   "source": [
    "trie.search(\"được\")"
   ]
  },
  {
   "cell_type": "code",
   "execution_count": 30,
   "id": "1c9628d7",
   "metadata": {
    "execution": {
     "iopub.execute_input": "2025-06-25T12:01:44.967105Z",
     "iopub.status.busy": "2025-06-25T12:01:44.966706Z",
     "iopub.status.idle": "2025-06-25T12:01:44.971807Z",
     "shell.execute_reply": "2025-06-25T12:01:44.970820Z"
    },
    "papermill": {
     "duration": 0.024638,
     "end_time": "2025-06-25T12:01:44.973562",
     "exception": false,
     "start_time": "2025-06-25T12:01:44.948924",
     "status": "completed"
    },
    "tags": []
   },
   "outputs": [],
   "source": [
    "trie.insert(\"nhiên\")"
   ]
  },
  {
   "cell_type": "code",
   "execution_count": 31,
   "id": "ae4f4dba",
   "metadata": {
    "execution": {
     "iopub.execute_input": "2025-06-25T12:01:45.006618Z",
     "iopub.status.busy": "2025-06-25T12:01:45.005812Z",
     "iopub.status.idle": "2025-06-25T12:01:45.010686Z",
     "shell.execute_reply": "2025-06-25T12:01:45.009523Z"
    },
    "papermill": {
     "duration": 0.023639,
     "end_time": "2025-06-25T12:01:45.012480",
     "exception": false,
     "start_time": "2025-06-25T12:01:44.988841",
     "status": "completed"
    },
    "tags": []
   },
   "outputs": [],
   "source": [
    "trie.insert(\"khuyến\")"
   ]
  },
  {
   "cell_type": "markdown",
   "id": "f2ac1a48",
   "metadata": {
    "papermill": {
     "duration": 0.0137,
     "end_time": "2025-06-25T12:01:45.040565",
     "exception": false,
     "start_time": "2025-06-25T12:01:45.026865",
     "status": "completed"
    },
    "tags": []
   },
   "source": [
    "# Ghép các âm tiết bị tách rời (ví dụ: \"g i á o\" → \"giáo\")"
   ]
  },
  {
   "cell_type": "code",
   "execution_count": 32,
   "id": "96417552",
   "metadata": {
    "execution": {
     "iopub.execute_input": "2025-06-25T12:01:45.072468Z",
     "iopub.status.busy": "2025-06-25T12:01:45.071500Z",
     "iopub.status.idle": "2025-06-25T12:01:45.080363Z",
     "shell.execute_reply": "2025-06-25T12:01:45.079354Z"
    },
    "papermill": {
     "duration": 0.026297,
     "end_time": "2025-06-25T12:01:45.082148",
     "exception": false,
     "start_time": "2025-06-25T12:01:45.055851",
     "status": "completed"
    },
    "tags": []
   },
   "outputs": [],
   "source": [
    "import re\n",
    "\n",
    "def merge_separated_syllables(text, trie):\n",
    "    # --- Tiền xử lý: Tách dấu câu ra khỏi chữ ---\n",
    "    punctuations = r\"([.,!?;:])\"\n",
    "    text = re.sub(punctuations, r' \\1 ', text)      # tách dấu câu ra\n",
    "    text = re.sub(r'\\s{2,}', ' ', text).strip()\n",
    "\n",
    "    syllables = text.split()\n",
    "    i = 0\n",
    "    merged = []\n",
    "\n",
    "    while i < len(syllables):\n",
    "        j = i\n",
    "        best_match = syllables[i]\n",
    "        end_index = i + 1\n",
    "\n",
    "        while j < len(syllables):\n",
    "            candidate = ' '.join(syllables[i:j+1])\n",
    "            candidate_no_space = ''.join(syllables[i:j+1])\n",
    "\n",
    "            if trie.search(candidate):  # Ưu tiên cụm từ có khoảng trắng hợp lệ\n",
    "                best_match = candidate\n",
    "                end_index = j + 1\n",
    "            elif trie.search(candidate_no_space):\n",
    "                best_match = candidate_no_space\n",
    "                end_index = j + 1\n",
    "\n",
    "            if not trie.starts_with(candidate) and not trie.starts_with(candidate_no_space):\n",
    "                break\n",
    "\n",
    "            j += 1\n",
    "\n",
    "        merged.append(best_match)\n",
    "        i = end_index\n",
    "\n",
    "    # --- Hậu xử lý: Gộp lại dấu câu đúng định dạng ---\n",
    "    result = ' '.join(merged)\n",
    "    result = re.sub(r'\\s+([.,!?;:])', r'\\1', result)  # Xóa khoảng trắng trước dấu câu\n",
    "    result = re.sub(r'\\s{2,}', ' ', result).strip()  # Rút gọn khoảng trắng thừa\n",
    "\n",
    "    return result"
   ]
  },
  {
   "cell_type": "code",
   "execution_count": 33,
   "id": "65afc013",
   "metadata": {
    "execution": {
     "iopub.execute_input": "2025-06-25T12:01:45.115885Z",
     "iopub.status.busy": "2025-06-25T12:01:45.115534Z",
     "iopub.status.idle": "2025-06-25T12:01:45.121905Z",
     "shell.execute_reply": "2025-06-25T12:01:45.120848Z"
    },
    "papermill": {
     "duration": 0.026061,
     "end_time": "2025-06-25T12:01:45.123309",
     "exception": false,
     "start_time": "2025-06-25T12:01:45.097248",
     "status": "completed"
    },
    "tags": []
   },
   "outputs": [
    {
     "name": "stdout",
     "output_type": "stream",
     "text": [
      "giáo dục môi trường\n"
     ]
    }
   ],
   "source": [
    "text = \"g iá o d ục môi trường\"\n",
    "merged = merge_separated_syllables(text, trie)\n",
    "print(merged)  # → giáo dục môi trường\n"
   ]
  },
  {
   "cell_type": "code",
   "execution_count": 34,
   "id": "a502f225",
   "metadata": {
    "execution": {
     "iopub.execute_input": "2025-06-25T12:01:45.153912Z",
     "iopub.status.busy": "2025-06-25T12:01:45.153523Z",
     "iopub.status.idle": "2025-06-25T12:01:45.160658Z",
     "shell.execute_reply": "2025-06-25T12:01:45.159695Z"
    },
    "papermill": {
     "duration": 0.024815,
     "end_time": "2025-06-25T12:01:45.162428",
     "exception": false,
     "start_time": "2025-06-25T12:01:45.137613",
     "status": "completed"
    },
    "tags": []
   },
   "outputs": [
    {
     "data": {
      "text/plain": [
       "'bê tông'"
      ]
     },
     "execution_count": 34,
     "metadata": {},
     "output_type": "execute_result"
    }
   ],
   "source": [
    "merge_separated_syllables(\"bê tông\", trie)"
   ]
  },
  {
   "cell_type": "code",
   "execution_count": 35,
   "id": "1ca6fc45",
   "metadata": {
    "execution": {
     "iopub.execute_input": "2025-06-25T12:01:45.195749Z",
     "iopub.status.busy": "2025-06-25T12:01:45.195399Z",
     "iopub.status.idle": "2025-06-25T12:01:45.202402Z",
     "shell.execute_reply": "2025-06-25T12:01:45.201256Z"
    },
    "papermill": {
     "duration": 0.025236,
     "end_time": "2025-06-25T12:01:45.204173",
     "exception": false,
     "start_time": "2025-06-25T12:01:45.178937",
     "status": "completed"
    },
    "tags": []
   },
   "outputs": [
    {
     "data": {
      "text/plain": [
       "'tranhh'"
      ]
     },
     "execution_count": 35,
     "metadata": {},
     "output_type": "execute_result"
    }
   ],
   "source": [
    "merge_separated_syllables(\"tranhh\", trie)"
   ]
  },
  {
   "cell_type": "code",
   "execution_count": 36,
   "id": "7c0eb96d",
   "metadata": {
    "execution": {
     "iopub.execute_input": "2025-06-25T12:01:45.236620Z",
     "iopub.status.busy": "2025-06-25T12:01:45.236278Z",
     "iopub.status.idle": "2025-06-25T12:01:45.243481Z",
     "shell.execute_reply": "2025-06-25T12:01:45.242426Z"
    },
    "papermill": {
     "duration": 0.025761,
     "end_time": "2025-06-25T12:01:45.245434",
     "exception": false,
     "start_time": "2025-06-25T12:01:45.219673",
     "status": "completed"
    },
    "tags": []
   },
   "outputs": [
    {
     "data": {
      "text/plain": [
       "'tuy nhiên, mục tiêu của p4 là còn có thể tái cấu hình với cả các asic có chức năng cố định.'"
      ]
     },
     "execution_count": 36,
     "metadata": {},
     "output_type": "execute_result"
    }
   ],
   "source": [
    "merge_separated_syllables(\"tuy nh iên, mục tiêu của p4 là còn có thể tái cấu hình với cả các asic có chức năng cố định.\", trie)"
   ]
  },
  {
   "cell_type": "code",
   "execution_count": 37,
   "id": "9c1de6d0",
   "metadata": {
    "execution": {
     "iopub.execute_input": "2025-06-25T12:01:45.279295Z",
     "iopub.status.busy": "2025-06-25T12:01:45.278906Z",
     "iopub.status.idle": "2025-06-25T12:01:45.286113Z",
     "shell.execute_reply": "2025-06-25T12:01:45.285097Z"
    },
    "papermill": {
     "duration": 0.025358,
     "end_time": "2025-06-25T12:01:45.287719",
     "exception": false,
     "start_time": "2025-06-25T12:01:45.262361",
     "status": "completed"
    },
    "tags": []
   },
   "outputs": [
    {
     "data": {
      "text/plain": [
       "'để có được một định nghĩa khái quát nhất về ngành công nghiệp rong biển đầu tiên cần xét đến khái niệm ngành công nghiệp.'"
      ]
     },
     "execution_count": 37,
     "metadata": {},
     "output_type": "execute_result"
    }
   ],
   "source": [
    "merge_separated_syllables(\"để có được một định nghĩa khái quát nhất về ngành công nghiệp rong biển đầu tiên cần xét đến khái niệm ngành công nghiệp.\", trie)"
   ]
  },
  {
   "cell_type": "code",
   "execution_count": 38,
   "id": "61cada97",
   "metadata": {
    "execution": {
     "iopub.execute_input": "2025-06-25T12:01:45.321483Z",
     "iopub.status.busy": "2025-06-25T12:01:45.321168Z",
     "iopub.status.idle": "2025-06-25T12:01:45.327494Z",
     "shell.execute_reply": "2025-06-25T12:01:45.326410Z"
    },
    "papermill": {
     "duration": 0.025383,
     "end_time": "2025-06-25T12:01:45.328957",
     "exception": false,
     "start_time": "2025-06-25T12:01:45.303574",
     "status": "completed"
    },
    "tags": []
   },
   "outputs": [
    {
     "data": {
      "text/plain": [
       "'khuyến khích'"
      ]
     },
     "execution_count": 38,
     "metadata": {},
     "output_type": "execute_result"
    }
   ],
   "source": [
    "merge_separated_syllables(\"khu yến khích\", trie)"
   ]
  },
  {
   "cell_type": "code",
   "execution_count": 39,
   "id": "3030f0f6",
   "metadata": {
    "execution": {
     "iopub.execute_input": "2025-06-25T12:01:45.360774Z",
     "iopub.status.busy": "2025-06-25T12:01:45.360487Z",
     "iopub.status.idle": "2025-06-25T12:01:45.366190Z",
     "shell.execute_reply": "2025-06-25T12:01:45.365322Z"
    },
    "papermill": {
     "duration": 0.022602,
     "end_time": "2025-06-25T12:01:45.367519",
     "exception": false,
     "start_time": "2025-06-25T12:01:45.344917",
     "status": "completed"
    },
    "tags": []
   },
   "outputs": [
    {
     "data": {
      "text/plain": [
       "'bền vững'"
      ]
     },
     "execution_count": 39,
     "metadata": {},
     "output_type": "execute_result"
    }
   ],
   "source": [
    "merge_separated_syllables(\"bền vững\", trie)"
   ]
  },
  {
   "cell_type": "markdown",
   "id": "61d06a20",
   "metadata": {
    "papermill": {
     "duration": 0.014341,
     "end_time": "2025-06-25T12:01:45.396265",
     "exception": false,
     "start_time": "2025-06-25T12:01:45.381924",
     "status": "completed"
    },
    "tags": []
   },
   "source": [
    "# Chuẩn hóa dấu câu"
   ]
  },
  {
   "cell_type": "code",
   "execution_count": 40,
   "id": "cb1b296d",
   "metadata": {
    "execution": {
     "iopub.execute_input": "2025-06-25T12:01:45.426581Z",
     "iopub.status.busy": "2025-06-25T12:01:45.426206Z",
     "iopub.status.idle": "2025-06-25T12:01:45.434376Z",
     "shell.execute_reply": "2025-06-25T12:01:45.433487Z"
    },
    "papermill": {
     "duration": 0.025141,
     "end_time": "2025-06-25T12:01:45.435879",
     "exception": false,
     "start_time": "2025-06-25T12:01:45.410738",
     "status": "completed"
    },
    "tags": []
   },
   "outputs": [],
   "source": [
    "import re\n",
    "import pandas as pd\n",
    "\n",
    "def clean_punctuation(text):\n",
    "    if pd.isnull(text):\n",
    "        return text\n",
    "\n",
    "    # 0. Chuẩn hóa dấu ba chấm: xóa khoảng trắng trước/sau\n",
    "    text = re.sub(r'\\s*\\.{3}\\s*', '...', text)\n",
    "\n",
    "\n",
    "    # 2. Xóa khoảng trắng trước dấu câu nếu không nằm giữa số\n",
    "    text = re.sub(r'(?<!\\d)\\s+([.,!?:;])(?=\\D|$)', r'\\1', text)\n",
    "\n",
    "    # 3. Thêm khoảng trắng sau dấu câu nếu liền kề chữ cái (trừ khi giữa số)\n",
    "    text = re.sub(r'([.,!?:;])(?=\\D)', r'\\1 ', text)\n",
    "\n",
    "    # 4. Dấu ba chấm: thêm khoảng trắng sau nếu liền kề chữ\n",
    "    text = re.sub(r'(\\.\\.\\.)(?=\\w)', r'\\1 ', text)\n",
    "\n",
    "    # 4.1 Xử lý các cụm dấu câu lặp lại (ngoại trừ dấu ba chấm '...')\n",
    "    text = re.sub(r'(?<!\\.)[.,!?;:]{2,}(?!\\.)', lambda m: m.group(0)[0], text)\n",
    "    text = re.sub(r'([!?]{2,})', lambda m: m.group(0)[-1], text)\n",
    "    text = re.sub(r'([.,!?;:])(?=\\w)', r'\\1 ', text)\n",
    "\n",
    "    # 5. Dấu ngoặc đơn ()\n",
    "    text = re.sub(r'\\s*\\(\\s*', '(', text)\n",
    "    text = re.sub(r'\\s*\\)\\s*', ')', text)\n",
    "    text = re.sub(r'(?<=[\\w])\\(', ' (', text)\n",
    "    text = re.sub(r'\\)(?=[\\w])', ') ', text)\n",
    "\n",
    "    # 6. Bỏ hoàn toàn dấu ngoặc kép \" và dấu nháy đơn '\n",
    "    text = re.sub(r'[\\'\"]', '', text)\n",
    "\n",
    "    # 7. Rút gọn khoảng trắng thừa\n",
    "    text = re.sub(r'\\s{2,}', ' ', text)\n",
    "\n",
    "    # 1. Giữ dấu ',' hoặc '.' giữa số (số thập phân)\n",
    "    text = re.sub(r'(?<=\\d)\\s*([.,])\\s*(?=\\d)', r'\\1', text)\n",
    "    \n",
    "    return text.strip()"
   ]
  },
  {
   "cell_type": "markdown",
   "id": "02a408e0",
   "metadata": {
    "papermill": {
     "duration": 0.014738,
     "end_time": "2025-06-25T12:01:45.466802",
     "exception": false,
     "start_time": "2025-06-25T12:01:45.452064",
     "status": "completed"
    },
    "tags": []
   },
   "source": [
    "# Preprocessing"
   ]
  },
  {
   "cell_type": "code",
   "execution_count": 41,
   "id": "e1c9ad13",
   "metadata": {
    "execution": {
     "iopub.execute_input": "2025-06-25T12:01:45.499143Z",
     "iopub.status.busy": "2025-06-25T12:01:45.498821Z",
     "iopub.status.idle": "2025-06-25T12:01:45.504430Z",
     "shell.execute_reply": "2025-06-25T12:01:45.503395Z"
    },
    "papermill": {
     "duration": 0.023496,
     "end_time": "2025-06-25T12:01:45.506069",
     "exception": false,
     "start_time": "2025-06-25T12:01:45.482573",
     "status": "completed"
    },
    "tags": []
   },
   "outputs": [],
   "source": [
    "def preprocess(text):\n",
    "    # print(\"=== Original Text ===\")\n",
    "    # print(text)\n",
    "    # print(\"---------------------\\n\")\n",
    "\n",
    "    # text = remove_noise(text)\n",
    "    # print(\"=== After Removing Noise ===\")\n",
    "    # print(text)\n",
    "    # print(\"---------------------\\n\")\n",
    "\n",
    "    # text = to_lowercase(text)\n",
    "    # print(\"=== After Lowercasing ===\")\n",
    "    # print(text)\n",
    "    # print(\"---------------------\\n\")\n",
    "\n",
    "    # text = normalize_marks(text)\n",
    "    # print(\"=== After Normalizing Diacritics ===\")\n",
    "    # print(text)\n",
    "    # print(\"---------------------\\n\")\n",
    "\n",
    "    # text = segment_sentence(text)\n",
    "    # print(\"=== After Word Segmentation ===\")\n",
    "    # print(text)\n",
    "    # print(\"---------------------\\n\")\n",
    "\n",
    "    # text = merge_separated_syllables(text, trie)\n",
    "    # print(\"=== After Merging Separated Syllables ===\")\n",
    "    # print(text)\n",
    "    # print(\"---------------------\\n\")\n",
    "\n",
    "    text = remove_noise(text)\n",
    "    text = to_lowercase(text)\n",
    "    text = normalize_marks(text)\n",
    "    text = segment_sentence(text)\n",
    "    text = merge_separated_syllables(text, trie)\n",
    "    text = clean_punctuation(text)\n",
    "    return text\n"
   ]
  },
  {
   "cell_type": "code",
   "execution_count": 42,
   "id": "f6cfb7a6",
   "metadata": {
    "execution": {
     "iopub.execute_input": "2025-06-25T12:01:45.539927Z",
     "iopub.status.busy": "2025-06-25T12:01:45.539625Z",
     "iopub.status.idle": "2025-06-25T12:01:45.556832Z",
     "shell.execute_reply": "2025-06-25T12:01:45.555806Z"
    },
    "papermill": {
     "duration": 0.035462,
     "end_time": "2025-06-25T12:01:45.558417",
     "exception": false,
     "start_time": "2025-06-25T12:01:45.522955",
     "status": "completed"
    },
    "tags": []
   },
   "outputs": [
    {
     "name": "stdout",
     "output_type": "stream",
     "text": [
      "thông qua công tác tuyên truyền, vận độ/ ng này phụ huynh sẽ hiểu rõ hơn tầm quan trọng của việc giáo dục ý thức bảo vệ môi trường cho trẻ không phải chỉ ở phía nhà trường mà còn ở gia đình, góp phần vào việc gìn giữ môi trường sanh, sạch, đẹp.\n"
     ]
    }
   ],
   "source": [
    "original_text = \"Thông qua công tác tuyên truyền📢, vận độ/ ng này phụ huynh s ẽ hiểu rõ hơn tầm quantrọng cuả vịêc giáo dục ý thức bảo vệ môi trường cho trẻ không phải chỉ ở phía nhà trường mà còn ở gia đình, góp phần vào việc gìn giữ môi trường sanh, sạch, đẹp.\"\n",
    "processed_text = preprocess(original_text)\n",
    "print(processed_text)\n",
    "\n",
    "# tieeurtienj"
   ]
  },
  {
   "cell_type": "markdown",
   "id": "57ec1a61",
   "metadata": {
    "papermill": {
     "duration": 0.014891,
     "end_time": "2025-06-25T12:01:45.588644",
     "exception": false,
     "start_time": "2025-06-25T12:01:45.573753",
     "status": "completed"
    },
    "tags": []
   },
   "source": [
    "# Chuẩn bị tập test"
   ]
  },
  {
   "cell_type": "code",
   "execution_count": 43,
   "id": "4922e726",
   "metadata": {
    "execution": {
     "iopub.execute_input": "2025-06-25T12:01:45.620376Z",
     "iopub.status.busy": "2025-06-25T12:01:45.620064Z",
     "iopub.status.idle": "2025-06-25T12:01:47.084712Z",
     "shell.execute_reply": "2025-06-25T12:01:47.083709Z"
    },
    "papermill": {
     "duration": 1.482578,
     "end_time": "2025-06-25T12:01:47.086330",
     "exception": false,
     "start_time": "2025-06-25T12:01:45.603752",
     "status": "completed"
    },
    "tags": []
   },
   "outputs": [
    {
     "data": {
      "text/html": [
       "<div>\n",
       "<style scoped>\n",
       "    .dataframe tbody tr th:only-of-type {\n",
       "        vertical-align: middle;\n",
       "    }\n",
       "\n",
       "    .dataframe tbody tr th {\n",
       "        vertical-align: top;\n",
       "    }\n",
       "\n",
       "    .dataframe thead th {\n",
       "        text-align: right;\n",
       "    }\n",
       "</style>\n",
       "<table border=\"1\" class=\"dataframe\">\n",
       "  <thead>\n",
       "    <tr style=\"text-align: right;\">\n",
       "      <th></th>\n",
       "      <th>annotations</th>\n",
       "      <th>text</th>\n",
       "    </tr>\n",
       "  </thead>\n",
       "  <tbody>\n",
       "    <tr>\n",
       "      <th>0</th>\n",
       "      <td>[{'alternative_syllables': [], 'current_syllab...</td>\n",
       "      <td>Thông qua công tác tuyên truyền, vận động này ...</td>\n",
       "    </tr>\n",
       "    <tr>\n",
       "      <th>1</th>\n",
       "      <td>[{'alternative_syllables': [], 'current_syllab...</td>\n",
       "      <td>Do đó, doanh nghiệp cần chú trọng đến yếu tố n...</td>\n",
       "    </tr>\n",
       "    <tr>\n",
       "      <th>2</th>\n",
       "      <td>[{'alternative_syllables': [], 'current_syllab...</td>\n",
       "      <td>Giữ được chỉ số này không giam mà còn tăng thê...</td>\n",
       "    </tr>\n",
       "    <tr>\n",
       "      <th>3</th>\n",
       "      <td>[{'alternative_syllables': ['Đứng'], 'current_...</td>\n",
       "      <td>Đúng trước thực tế này đòi hỏi chúng ta cần ph...</td>\n",
       "    </tr>\n",
       "    <tr>\n",
       "      <th>4</th>\n",
       "      <td>[{'alternative_syllables': [], 'current_syllab...</td>\n",
       "      <td>Trình độ học vấn của nhân viên được tuyển dụng...</td>\n",
       "    </tr>\n",
       "  </tbody>\n",
       "</table>\n",
       "</div>"
      ],
      "text/plain": [
       "                                         annotations  \\\n",
       "0  [{'alternative_syllables': [], 'current_syllab...   \n",
       "1  [{'alternative_syllables': [], 'current_syllab...   \n",
       "2  [{'alternative_syllables': [], 'current_syllab...   \n",
       "3  [{'alternative_syllables': ['Đứng'], 'current_...   \n",
       "4  [{'alternative_syllables': [], 'current_syllab...   \n",
       "\n",
       "                                                text  \n",
       "0  Thông qua công tác tuyên truyền, vận động này ...  \n",
       "1  Do đó, doanh nghiệp cần chú trọng đến yếu tố n...  \n",
       "2  Giữ được chỉ số này không giam mà còn tăng thê...  \n",
       "3  Đúng trước thực tế này đòi hỏi chúng ta cần ph...  \n",
       "4  Trình độ học vấn của nhân viên được tuyển dụng...  "
      ]
     },
     "execution_count": 43,
     "metadata": {},
     "output_type": "execute_result"
    }
   ],
   "source": [
    "import pandas as pd\n",
    "import json\n",
    "\n",
    "file_path = '/kaggle/input/vsec-dataset-for-vietnammese-correction-words/VSEC.jsonl'\n",
    "\n",
    "data = []\n",
    "with open(file_path, 'r') as f:\n",
    "    for line in f:\n",
    "        try:\n",
    "            json_object = json.loads(line)\n",
    "            data.append(json_object)\n",
    "        except json.JSONDecodeError as e:\n",
    "            print(f\"Lỗi khi giải mã JSON ở dòng: {line.strip()}. Lỗi: {e}\")\n",
    "            # Xử lý lỗi hoặc bỏ qua dòng này tùy theo nhu cầu của bạn\n",
    "\n",
    "df = pd.DataFrame(data)\n",
    "\n",
    "df.head()"
   ]
  },
  {
   "cell_type": "code",
   "execution_count": 44,
   "id": "9ca0a1c2",
   "metadata": {
    "execution": {
     "iopub.execute_input": "2025-06-25T12:01:47.123094Z",
     "iopub.status.busy": "2025-06-25T12:01:47.121944Z",
     "iopub.status.idle": "2025-06-25T12:01:52.917002Z",
     "shell.execute_reply": "2025-06-25T12:01:52.915735Z"
    },
    "papermill": {
     "duration": 5.816348,
     "end_time": "2025-06-25T12:01:52.918627",
     "exception": false,
     "start_time": "2025-06-25T12:01:47.102279",
     "status": "completed"
    },
    "tags": []
   },
   "outputs": [
    {
     "data": {
      "text/html": [
       "<div>\n",
       "<style scoped>\n",
       "    .dataframe tbody tr th:only-of-type {\n",
       "        vertical-align: middle;\n",
       "    }\n",
       "\n",
       "    .dataframe tbody tr th {\n",
       "        vertical-align: top;\n",
       "    }\n",
       "\n",
       "    .dataframe thead th {\n",
       "        text-align: right;\n",
       "    }\n",
       "</style>\n",
       "<table border=\"1\" class=\"dataframe\">\n",
       "  <thead>\n",
       "    <tr style=\"text-align: right;\">\n",
       "      <th></th>\n",
       "      <th>annotations</th>\n",
       "      <th>text</th>\n",
       "      <th>preprocess</th>\n",
       "    </tr>\n",
       "  </thead>\n",
       "  <tbody>\n",
       "    <tr>\n",
       "      <th>0</th>\n",
       "      <td>[{'alternative_syllables': [], 'current_syllab...</td>\n",
       "      <td>Thông qua công tác tuyên truyền, vận động này ...</td>\n",
       "      <td>thông qua công tác tuyên truyền, vận động này ...</td>\n",
       "    </tr>\n",
       "    <tr>\n",
       "      <th>1</th>\n",
       "      <td>[{'alternative_syllables': [], 'current_syllab...</td>\n",
       "      <td>Do đó, doanh nghiệp cần chú trọng đến yếu tố n...</td>\n",
       "      <td>do đó, doanh nghiệp cần chú trọng đến yếu tố n...</td>\n",
       "    </tr>\n",
       "    <tr>\n",
       "      <th>2</th>\n",
       "      <td>[{'alternative_syllables': [], 'current_syllab...</td>\n",
       "      <td>Giữ được chỉ số này không giam mà còn tăng thê...</td>\n",
       "      <td>giữ được chỉ số này không giam mà còn tăng thê...</td>\n",
       "    </tr>\n",
       "    <tr>\n",
       "      <th>3</th>\n",
       "      <td>[{'alternative_syllables': ['Đứng'], 'current_...</td>\n",
       "      <td>Đúng trước thực tế này đòi hỏi chúng ta cần ph...</td>\n",
       "      <td>đúng trước thực tế này đòi hỏi chúng ta cần ph...</td>\n",
       "    </tr>\n",
       "    <tr>\n",
       "      <th>4</th>\n",
       "      <td>[{'alternative_syllables': [], 'current_syllab...</td>\n",
       "      <td>Trình độ học vấn của nhân viên được tuyển dụng...</td>\n",
       "      <td>trình độ học vấn của nhân viên được tuyển dụng...</td>\n",
       "    </tr>\n",
       "  </tbody>\n",
       "</table>\n",
       "</div>"
      ],
      "text/plain": [
       "                                         annotations  \\\n",
       "0  [{'alternative_syllables': [], 'current_syllab...   \n",
       "1  [{'alternative_syllables': [], 'current_syllab...   \n",
       "2  [{'alternative_syllables': [], 'current_syllab...   \n",
       "3  [{'alternative_syllables': ['Đứng'], 'current_...   \n",
       "4  [{'alternative_syllables': [], 'current_syllab...   \n",
       "\n",
       "                                                text  \\\n",
       "0  Thông qua công tác tuyên truyền, vận động này ...   \n",
       "1  Do đó, doanh nghiệp cần chú trọng đến yếu tố n...   \n",
       "2  Giữ được chỉ số này không giam mà còn tăng thê...   \n",
       "3  Đúng trước thực tế này đòi hỏi chúng ta cần ph...   \n",
       "4  Trình độ học vấn của nhân viên được tuyển dụng...   \n",
       "\n",
       "                                          preprocess  \n",
       "0  thông qua công tác tuyên truyền, vận động này ...  \n",
       "1  do đó, doanh nghiệp cần chú trọng đến yếu tố n...  \n",
       "2  giữ được chỉ số này không giam mà còn tăng thê...  \n",
       "3  đúng trước thực tế này đòi hỏi chúng ta cần ph...  \n",
       "4  trình độ học vấn của nhân viên được tuyển dụng...  "
      ]
     },
     "execution_count": 44,
     "metadata": {},
     "output_type": "execute_result"
    }
   ],
   "source": [
    "df['preprocess'] = df['text'].apply(preprocess)\n",
    "df.head()"
   ]
  },
  {
   "cell_type": "code",
   "execution_count": 45,
   "id": "1e48cb45",
   "metadata": {
    "execution": {
     "iopub.execute_input": "2025-06-25T12:01:52.951783Z",
     "iopub.status.busy": "2025-06-25T12:01:52.950682Z",
     "iopub.status.idle": "2025-06-25T12:01:54.287439Z",
     "shell.execute_reply": "2025-06-25T12:01:54.285834Z"
    },
    "papermill": {
     "duration": 1.356085,
     "end_time": "2025-06-25T12:01:54.290131",
     "exception": false,
     "start_time": "2025-06-25T12:01:52.934046",
     "status": "completed"
    },
    "tags": []
   },
   "outputs": [],
   "source": [
    "output_path = '/kaggle/working/preprocess.csv'\n",
    "df.to_csv(output_path, index=False, encoding='utf-8-sig')"
   ]
  },
  {
   "cell_type": "code",
   "execution_count": 46,
   "id": "91681f8c",
   "metadata": {
    "execution": {
     "iopub.execute_input": "2025-06-25T12:01:54.325448Z",
     "iopub.status.busy": "2025-06-25T12:01:54.325077Z",
     "iopub.status.idle": "2025-06-25T12:01:55.137054Z",
     "shell.execute_reply": "2025-06-25T12:01:55.135883Z"
    },
    "papermill": {
     "duration": 0.831132,
     "end_time": "2025-06-25T12:01:55.138731",
     "exception": false,
     "start_time": "2025-06-25T12:01:54.307599",
     "status": "completed"
    },
    "tags": []
   },
   "outputs": [],
   "source": [
    "# Giả sử df là DataFrame ban đầu\n",
    "def reconstruct_text(annotation_list):\n",
    "    corrected = []\n",
    "    for item in annotation_list:\n",
    "        if item['is_correct']:\n",
    "            corrected.append(item['current_syllable'])\n",
    "        else:\n",
    "            # Lấy phần tử đầu tiên trong alternative_syllables nếu có, nếu không thì để trống\n",
    "            corrected.append(item['alternative_syllables'][0] if item['alternative_syllables'] else '')\n",
    "    return ' '.join(corrected)\n",
    "\n",
    "# Tạo cột mới 'correct_text'\n",
    "df['correct_text'] = df['annotations'].apply(reconstruct_text)\n",
    "# Loại bỏ khoảng trắng thừa\n",
    "df['correct_text'] = df['correct_text'].str.split().str.join(' ')\n",
    "df['correct_text'] = df['correct_text'].apply(clean_punctuation)"
   ]
  },
  {
   "cell_type": "code",
   "execution_count": 47,
   "id": "d64ea9ba",
   "metadata": {
    "execution": {
     "iopub.execute_input": "2025-06-25T12:01:55.170493Z",
     "iopub.status.busy": "2025-06-25T12:01:55.170197Z",
     "iopub.status.idle": "2025-06-25T12:01:55.237135Z",
     "shell.execute_reply": "2025-06-25T12:01:55.235905Z"
    },
    "papermill": {
     "duration": 0.084573,
     "end_time": "2025-06-25T12:01:55.238754",
     "exception": false,
     "start_time": "2025-06-25T12:01:55.154181",
     "status": "completed"
    },
    "tags": []
   },
   "outputs": [
    {
     "data": {
      "text/html": [
       "<div>\n",
       "<style scoped>\n",
       "    .dataframe tbody tr th:only-of-type {\n",
       "        vertical-align: middle;\n",
       "    }\n",
       "\n",
       "    .dataframe tbody tr th {\n",
       "        vertical-align: top;\n",
       "    }\n",
       "\n",
       "    .dataframe thead th {\n",
       "        text-align: right;\n",
       "    }\n",
       "</style>\n",
       "<table border=\"1\" class=\"dataframe\">\n",
       "  <thead>\n",
       "    <tr style=\"text-align: right;\">\n",
       "      <th></th>\n",
       "      <th>annotations</th>\n",
       "      <th>text</th>\n",
       "      <th>preprocess</th>\n",
       "      <th>correct_text</th>\n",
       "    </tr>\n",
       "  </thead>\n",
       "  <tbody>\n",
       "    <tr>\n",
       "      <th>0</th>\n",
       "      <td>[{'alternative_syllables': [], 'current_syllab...</td>\n",
       "      <td>Thông qua công tác tuyên truyền, vận động này ...</td>\n",
       "      <td>thông qua công tác tuyên truyền, vận động này ...</td>\n",
       "      <td>Thông qua công tác tuyên truyền, vận động này ...</td>\n",
       "    </tr>\n",
       "    <tr>\n",
       "      <th>1</th>\n",
       "      <td>[{'alternative_syllables': [], 'current_syllab...</td>\n",
       "      <td>Do đó, doanh nghiệp cần chú trọng đến yếu tố n...</td>\n",
       "      <td>do đó, doanh nghiệp cần chú trọng đến yếu tố n...</td>\n",
       "      <td>Do đó, doanh nghiệp cần chú trọng đến yếu tố n...</td>\n",
       "    </tr>\n",
       "    <tr>\n",
       "      <th>2</th>\n",
       "      <td>[{'alternative_syllables': [], 'current_syllab...</td>\n",
       "      <td>Giữ được chỉ số này không giam mà còn tăng thê...</td>\n",
       "      <td>giữ được chỉ số này không giam mà còn tăng thê...</td>\n",
       "      <td>Giữ được chỉ số này không giảm mà còn tăng thê...</td>\n",
       "    </tr>\n",
       "    <tr>\n",
       "      <th>3</th>\n",
       "      <td>[{'alternative_syllables': ['Đứng'], 'current_...</td>\n",
       "      <td>Đúng trước thực tế này đòi hỏi chúng ta cần ph...</td>\n",
       "      <td>đúng trước thực tế này đòi hỏi chúng ta cần ph...</td>\n",
       "      <td>Đứng trước thực tế này đòi hỏi chúng ta cần ph...</td>\n",
       "    </tr>\n",
       "    <tr>\n",
       "      <th>4</th>\n",
       "      <td>[{'alternative_syllables': [], 'current_syllab...</td>\n",
       "      <td>Trình độ học vấn của nhân viên được tuyển dụng...</td>\n",
       "      <td>trình độ học vấn của nhân viên được tuyển dụng...</td>\n",
       "      <td>Trình độ học vấn của nhân viên được tuyển dụng...</td>\n",
       "    </tr>\n",
       "  </tbody>\n",
       "</table>\n",
       "</div>"
      ],
      "text/plain": [
       "                                         annotations  \\\n",
       "0  [{'alternative_syllables': [], 'current_syllab...   \n",
       "1  [{'alternative_syllables': [], 'current_syllab...   \n",
       "2  [{'alternative_syllables': [], 'current_syllab...   \n",
       "3  [{'alternative_syllables': ['Đứng'], 'current_...   \n",
       "4  [{'alternative_syllables': [], 'current_syllab...   \n",
       "\n",
       "                                                text  \\\n",
       "0  Thông qua công tác tuyên truyền, vận động này ...   \n",
       "1  Do đó, doanh nghiệp cần chú trọng đến yếu tố n...   \n",
       "2  Giữ được chỉ số này không giam mà còn tăng thê...   \n",
       "3  Đúng trước thực tế này đòi hỏi chúng ta cần ph...   \n",
       "4  Trình độ học vấn của nhân viên được tuyển dụng...   \n",
       "\n",
       "                                          preprocess  \\\n",
       "0  thông qua công tác tuyên truyền, vận động này ...   \n",
       "1  do đó, doanh nghiệp cần chú trọng đến yếu tố n...   \n",
       "2  giữ được chỉ số này không giam mà còn tăng thê...   \n",
       "3  đúng trước thực tế này đòi hỏi chúng ta cần ph...   \n",
       "4  trình độ học vấn của nhân viên được tuyển dụng...   \n",
       "\n",
       "                                        correct_text  \n",
       "0  Thông qua công tác tuyên truyền, vận động này ...  \n",
       "1  Do đó, doanh nghiệp cần chú trọng đến yếu tố n...  \n",
       "2  Giữ được chỉ số này không giảm mà còn tăng thê...  \n",
       "3  Đứng trước thực tế này đòi hỏi chúng ta cần ph...  \n",
       "4  Trình độ học vấn của nhân viên được tuyển dụng...  "
      ]
     },
     "execution_count": 47,
     "metadata": {},
     "output_type": "execute_result"
    }
   ],
   "source": [
    "df.head()"
   ]
  },
  {
   "cell_type": "code",
   "execution_count": 48,
   "id": "e241ec13",
   "metadata": {
    "execution": {
     "iopub.execute_input": "2025-06-25T12:01:55.270688Z",
     "iopub.status.busy": "2025-06-25T12:01:55.270411Z",
     "iopub.status.idle": "2025-06-25T12:01:56.656660Z",
     "shell.execute_reply": "2025-06-25T12:01:56.655727Z"
    },
    "papermill": {
     "duration": 1.404261,
     "end_time": "2025-06-25T12:01:56.658404",
     "exception": false,
     "start_time": "2025-06-25T12:01:55.254143",
     "status": "completed"
    },
    "tags": []
   },
   "outputs": [],
   "source": [
    "df.to_csv(\"full_test.csv\", index = False, encoding='utf-8-sig')"
   ]
  },
  {
   "cell_type": "code",
   "execution_count": 49,
   "id": "882b5010",
   "metadata": {
    "execution": {
     "iopub.execute_input": "2025-06-25T12:01:56.691361Z",
     "iopub.status.busy": "2025-06-25T12:01:56.690249Z",
     "iopub.status.idle": "2025-06-25T12:01:56.788511Z",
     "shell.execute_reply": "2025-06-25T12:01:56.787526Z"
    },
    "papermill": {
     "duration": 0.115828,
     "end_time": "2025-06-25T12:01:56.790106",
     "exception": false,
     "start_time": "2025-06-25T12:01:56.674278",
     "status": "completed"
    },
    "tags": []
   },
   "outputs": [
    {
     "data": {
      "text/html": [
       "<div>\n",
       "<style scoped>\n",
       "    .dataframe tbody tr th:only-of-type {\n",
       "        vertical-align: middle;\n",
       "    }\n",
       "\n",
       "    .dataframe tbody tr th {\n",
       "        vertical-align: top;\n",
       "    }\n",
       "\n",
       "    .dataframe thead th {\n",
       "        text-align: right;\n",
       "    }\n",
       "</style>\n",
       "<table border=\"1\" class=\"dataframe\">\n",
       "  <thead>\n",
       "    <tr style=\"text-align: right;\">\n",
       "      <th></th>\n",
       "      <th>text</th>\n",
       "      <th>preprocess</th>\n",
       "      <th>correct_text</th>\n",
       "      <th>preprocess_word_count</th>\n",
       "      <th>correct_text_word_count</th>\n",
       "    </tr>\n",
       "  </thead>\n",
       "  <tbody>\n",
       "    <tr>\n",
       "      <th>45</th>\n",
       "      <td>aNăng lực rút gọn quá trình lập luận toán học ...</td>\n",
       "      <td>anăng lực rút gọn quá trình lập luận toán học ...</td>\n",
       "      <td>Năng lực rút gọn quá trình lập luận toán học v...</td>\n",
       "      <td>15</td>\n",
       "      <td>16</td>\n",
       "    </tr>\n",
       "    <tr>\n",
       "      <th>67</th>\n",
       "      <td>Chủ động tham gia các hoạt động ngoại ngoại kh...</td>\n",
       "      <td>chủ động tham gia các hoạt động ngoại ngoại kh...</td>\n",
       "      <td>Chủ động tham gia các hoạt động ngoại khóa với...</td>\n",
       "      <td>17</td>\n",
       "      <td>16</td>\n",
       "    </tr>\n",
       "    <tr>\n",
       "      <th>106</th>\n",
       "      <td>Theo quy định pháp luật thuế hiện hiện hnhf, b...</td>\n",
       "      <td>theo quy định pháp luật thuế hiện hiện hnhf, b...</td>\n",
       "      <td>Theo quy định pháp luật thuế hiện hành bắt buộ...</td>\n",
       "      <td>18</td>\n",
       "      <td>17</td>\n",
       "    </tr>\n",
       "    <tr>\n",
       "      <th>120</th>\n",
       "      <td>Hơn nữa, để phát triển du lịch văn hóa thì thì...</td>\n",
       "      <td>hơn nữa, để phát triển du lịch văn hóa thì thì...</td>\n",
       "      <td>Hơn nữa, để phát triển du lịch văn hóa thì tài...</td>\n",
       "      <td>20</td>\n",
       "      <td>19</td>\n",
       "    </tr>\n",
       "    <tr>\n",
       "      <th>126</th>\n",
       "      <td>Luận án bổ sung vào nguồn tài liệu phục vụ ngh...</td>\n",
       "      <td>luận án bổ sung vào nguồn tài liệu phục vụ ngh...</td>\n",
       "      <td>Luận án bổ sung vào nguồn tài liệu phục vụ ngh...</td>\n",
       "      <td>27</td>\n",
       "      <td>28</td>\n",
       "    </tr>\n",
       "    <tr>\n",
       "      <th>...</th>\n",
       "      <td>...</td>\n",
       "      <td>...</td>\n",
       "      <td>...</td>\n",
       "      <td>...</td>\n",
       "      <td>...</td>\n",
       "    </tr>\n",
       "    <tr>\n",
       "      <th>9286</th>\n",
       "      <td>Công tắc này được liên kết với công tắc cần gạ...</td>\n",
       "      <td>công tắc này được liên kết với công tắc cần gạ...</td>\n",
       "      <td>Công tắc này được liên kết với công tắc cần gạ...</td>\n",
       "      <td>44</td>\n",
       "      <td>43</td>\n",
       "    </tr>\n",
       "    <tr>\n",
       "      <th>9293</th>\n",
       "      <td>Những biến đổi trong điều kiện khí hậu đang ản...</td>\n",
       "      <td>những biến đổi trong điều kiện khí hậu đang ản...</td>\n",
       "      <td>Những biến đổi trong điều kiện khí hậu đang ản...</td>\n",
       "      <td>35</td>\n",
       "      <td>34</td>\n",
       "    </tr>\n",
       "    <tr>\n",
       "      <th>9299</th>\n",
       "      <td>Nghiên cứu cụ thể hóa giải pháp về đổi mới cơ ...</td>\n",
       "      <td>nghiên cứu cụ thể hóa giải pháp về đổi mới cơ ...</td>\n",
       "      <td>Nghiên cứu cụ thể hóa giải pháp về đổi mới cơ ...</td>\n",
       "      <td>40</td>\n",
       "      <td>41</td>\n",
       "    </tr>\n",
       "    <tr>\n",
       "      <th>9316</th>\n",
       "      <td>Theo Hair và ctg (2009,116) Mutivariate Data A...</td>\n",
       "      <td>theo hair và ctg (2009,116) mutivariate data a...</td>\n",
       "      <td>Theo Hair và ctg (2009,116) Mutivariate Data A...</td>\n",
       "      <td>35</td>\n",
       "      <td>36</td>\n",
       "    </tr>\n",
       "    <tr>\n",
       "      <th>9326</th>\n",
       "      <td>Vị trí đặc điểm địa hình khiến Việt Nam là một...</td>\n",
       "      <td>vị trí đặc điểm địa hình khiến việt nam là một...</td>\n",
       "      <td>Vị trí đặc điểm địa hình khiến Việt Nam là một...</td>\n",
       "      <td>52</td>\n",
       "      <td>53</td>\n",
       "    </tr>\n",
       "  </tbody>\n",
       "</table>\n",
       "<p>372 rows × 5 columns</p>\n",
       "</div>"
      ],
      "text/plain": [
       "                                                   text  \\\n",
       "45    aNăng lực rút gọn quá trình lập luận toán học ...   \n",
       "67    Chủ động tham gia các hoạt động ngoại ngoại kh...   \n",
       "106   Theo quy định pháp luật thuế hiện hiện hnhf, b...   \n",
       "120   Hơn nữa, để phát triển du lịch văn hóa thì thì...   \n",
       "126   Luận án bổ sung vào nguồn tài liệu phục vụ ngh...   \n",
       "...                                                 ...   \n",
       "9286  Công tắc này được liên kết với công tắc cần gạ...   \n",
       "9293  Những biến đổi trong điều kiện khí hậu đang ản...   \n",
       "9299  Nghiên cứu cụ thể hóa giải pháp về đổi mới cơ ...   \n",
       "9316  Theo Hair và ctg (2009,116) Mutivariate Data A...   \n",
       "9326  Vị trí đặc điểm địa hình khiến Việt Nam là một...   \n",
       "\n",
       "                                             preprocess  \\\n",
       "45    anăng lực rút gọn quá trình lập luận toán học ...   \n",
       "67    chủ động tham gia các hoạt động ngoại ngoại kh...   \n",
       "106   theo quy định pháp luật thuế hiện hiện hnhf, b...   \n",
       "120   hơn nữa, để phát triển du lịch văn hóa thì thì...   \n",
       "126   luận án bổ sung vào nguồn tài liệu phục vụ ngh...   \n",
       "...                                                 ...   \n",
       "9286  công tắc này được liên kết với công tắc cần gạ...   \n",
       "9293  những biến đổi trong điều kiện khí hậu đang ản...   \n",
       "9299  nghiên cứu cụ thể hóa giải pháp về đổi mới cơ ...   \n",
       "9316  theo hair và ctg (2009,116) mutivariate data a...   \n",
       "9326  vị trí đặc điểm địa hình khiến việt nam là một...   \n",
       "\n",
       "                                           correct_text  \\\n",
       "45    Năng lực rút gọn quá trình lập luận toán học v...   \n",
       "67    Chủ động tham gia các hoạt động ngoại khóa với...   \n",
       "106   Theo quy định pháp luật thuế hiện hành bắt buộ...   \n",
       "120   Hơn nữa, để phát triển du lịch văn hóa thì tài...   \n",
       "126   Luận án bổ sung vào nguồn tài liệu phục vụ ngh...   \n",
       "...                                                 ...   \n",
       "9286  Công tắc này được liên kết với công tắc cần gạ...   \n",
       "9293  Những biến đổi trong điều kiện khí hậu đang ản...   \n",
       "9299  Nghiên cứu cụ thể hóa giải pháp về đổi mới cơ ...   \n",
       "9316  Theo Hair và ctg (2009,116) Mutivariate Data A...   \n",
       "9326  Vị trí đặc điểm địa hình khiến Việt Nam là một...   \n",
       "\n",
       "      preprocess_word_count  correct_text_word_count  \n",
       "45                       15                       16  \n",
       "67                       17                       16  \n",
       "106                      18                       17  \n",
       "120                      20                       19  \n",
       "126                      27                       28  \n",
       "...                     ...                      ...  \n",
       "9286                     44                       43  \n",
       "9293                     35                       34  \n",
       "9299                     40                       41  \n",
       "9316                     35                       36  \n",
       "9326                     52                       53  \n",
       "\n",
       "[372 rows x 5 columns]"
      ]
     },
     "execution_count": 49,
     "metadata": {},
     "output_type": "execute_result"
    }
   ],
   "source": [
    "df['preprocess_word_count'] = df['preprocess'].apply(lambda x: len(x.split()))\n",
    "df['correct_text_word_count'] = df['correct_text'].apply(lambda x: len(x.split()))\n",
    "\n",
    "# Find rows where word counts differ\n",
    "mismatched_rows = df[df['preprocess_word_count'] != df['correct_text_word_count']]\n",
    "\n",
    "mismatched_rows[['text', 'preprocess', 'correct_text', 'preprocess_word_count', 'correct_text_word_count']]"
   ]
  },
  {
   "cell_type": "code",
   "execution_count": 50,
   "id": "6db386c2",
   "metadata": {
    "execution": {
     "iopub.execute_input": "2025-06-25T12:01:56.822940Z",
     "iopub.status.busy": "2025-06-25T12:01:56.822542Z",
     "iopub.status.idle": "2025-06-25T12:01:56.827424Z",
     "shell.execute_reply": "2025-06-25T12:01:56.826447Z"
    },
    "papermill": {
     "duration": 0.023258,
     "end_time": "2025-06-25T12:01:56.829079",
     "exception": false,
     "start_time": "2025-06-25T12:01:56.805821",
     "status": "completed"
    },
    "tags": []
   },
   "outputs": [],
   "source": [
    "# Tùy chọn hiển thị toàn bộ nội dung trong mỗi ô\n",
    "pd.set_option('display.max_colwidth', None)"
   ]
  },
  {
   "cell_type": "code",
   "execution_count": 51,
   "id": "17cab251",
   "metadata": {
    "execution": {
     "iopub.execute_input": "2025-06-25T12:01:56.861617Z",
     "iopub.status.busy": "2025-06-25T12:01:56.861254Z",
     "iopub.status.idle": "2025-06-25T12:01:56.875502Z",
     "shell.execute_reply": "2025-06-25T12:01:56.874416Z"
    },
    "papermill": {
     "duration": 0.032642,
     "end_time": "2025-06-25T12:01:56.877184",
     "exception": false,
     "start_time": "2025-06-25T12:01:56.844542",
     "status": "completed"
    },
    "tags": []
   },
   "outputs": [
    {
     "data": {
      "text/html": [
       "<div>\n",
       "<style scoped>\n",
       "    .dataframe tbody tr th:only-of-type {\n",
       "        vertical-align: middle;\n",
       "    }\n",
       "\n",
       "    .dataframe tbody tr th {\n",
       "        vertical-align: top;\n",
       "    }\n",
       "\n",
       "    .dataframe thead th {\n",
       "        text-align: right;\n",
       "    }\n",
       "</style>\n",
       "<table border=\"1\" class=\"dataframe\">\n",
       "  <thead>\n",
       "    <tr style=\"text-align: right;\">\n",
       "      <th></th>\n",
       "      <th>text</th>\n",
       "      <th>preprocess</th>\n",
       "      <th>correct_text</th>\n",
       "      <th>preprocess_word_count</th>\n",
       "      <th>correct_text_word_count</th>\n",
       "    </tr>\n",
       "  </thead>\n",
       "  <tbody>\n",
       "    <tr>\n",
       "      <th>45</th>\n",
       "      <td>aNăng lực rút gọn quá trình lập luận toán học vàahệ thống các phép tính.</td>\n",
       "      <td>anăng lực rút gọn quá trình lập luận toán học vaàhệ thống các phép tính.</td>\n",
       "      <td>Năng lực rút gọn quá trình lập luận toán học và hệ thống các phép tính.</td>\n",
       "      <td>15</td>\n",
       "      <td>16</td>\n",
       "    </tr>\n",
       "    <tr>\n",
       "      <th>67</th>\n",
       "      <td>Chủ động tham gia các hoạt động ngoại ngoại khóa với các sinh viên khác trong trường.</td>\n",
       "      <td>chủ động tham gia các hoạt động ngoại ngoại khóa với các sinh viên khác trong trường.</td>\n",
       "      <td>Chủ động tham gia các hoạt động ngoại khóa với các sinh viên khác trong trường.</td>\n",
       "      <td>17</td>\n",
       "      <td>16</td>\n",
       "    </tr>\n",
       "    <tr>\n",
       "      <th>106</th>\n",
       "      <td>Theo quy định pháp luật thuế hiện hiện hnhf, bắt buộc phải sử dụng hóa đơn điện tử.</td>\n",
       "      <td>theo quy định pháp luật thuế hiện hiện hnhf, bắt buộc phải sử dụng hóa đơn điện tử.</td>\n",
       "      <td>Theo quy định pháp luật thuế hiện hành bắt buộc phải sử dụng hóa đơn điện tử.</td>\n",
       "      <td>18</td>\n",
       "      <td>17</td>\n",
       "    </tr>\n",
       "    <tr>\n",
       "      <th>120</th>\n",
       "      <td>Hơn nữa, để phát triển du lịch văn hóa thì thì tài nguyên văn hóa là vai trò thứ yếu.</td>\n",
       "      <td>hơn nữa, để phát triển du lịch văn hóa thì thì tài nguyên văn hóa là vai trò thứ yếu.</td>\n",
       "      <td>Hơn nữa, để phát triển du lịch văn hóa thì tài nguyên văn hóa là vai trò thứ yếu.</td>\n",
       "      <td>20</td>\n",
       "      <td>19</td>\n",
       "    </tr>\n",
       "    <tr>\n",
       "      <th>126</th>\n",
       "      <td>Luận án bổ sung vào nguồn tài liệu phục vụ nghiên cứu, học tập, giảing dạy của khoa học chính trị, y đức và y xã hội học.</td>\n",
       "      <td>luận án bổ sung vào nguồn tài liệu phục vụ nghiên cứu, học tập, giảing dạy của khoa học chính trị, y đức vày xã hội học.</td>\n",
       "      <td>Luận án bổ sung vào nguồn tài liệu phục vụ nghiên cứu, học tập, giảng dạy của khoa học chính trị, y đức và y xã hội học.</td>\n",
       "      <td>27</td>\n",
       "      <td>28</td>\n",
       "    </tr>\n",
       "    <tr>\n",
       "      <th>...</th>\n",
       "      <td>...</td>\n",
       "      <td>...</td>\n",
       "      <td>...</td>\n",
       "      <td>...</td>\n",
       "      <td>...</td>\n",
       "    </tr>\n",
       "    <tr>\n",
       "      <th>9286</th>\n",
       "      <td>Công tắc này được liên kết với công tắc cần gạt nên khi việc được rửa kính được tài xê kích hoạt thì công tắc rửa kính cũng được bật lên và nước sẽ được điều khiển bằng vòi phun vào kính chắn gió.</td>\n",
       "      <td>công tắc này được liên kết với công tắc cần gạt nên khi việc được rửa kính được tài xê kích hoạt thì công tắc rửa kính cũng được bật lên và nước sẽ được điều khiển bằng vòi phun vào kính chắn gió.</td>\n",
       "      <td>Công tắc này được liên kết với công tắc cần gạt nên khi việc rửa kính được tài xế kích hoạt thì công tắc rửa kính cũng được bật lên và nước sẽ được điều khiển bằng vòi phun vào kính chắn gió.</td>\n",
       "      <td>44</td>\n",
       "      <td>43</td>\n",
       "    </tr>\n",
       "    <tr>\n",
       "      <th>9293</th>\n",
       "      <td>Những biến đổi trong điều kiện khí hậu đang ảnh hưởng nghiêm trọng đến nông nghiệp do đây là ngành sản xuất chịu sự ảnh hướng lớn đến từ các thời tiết và khí hậu.</td>\n",
       "      <td>những biến đổi trong điều kiện khí hậu đang ảnh hưởng nghiêm trọng đến nông nghiệp do đây là ngành sản xuất chịu sự ảnh hướng lớn đến từ các thời tiết và khí hậu.</td>\n",
       "      <td>Những biến đổi trong điều kiện khí hậu đang ảnh hưởng nghiêm trọng đến nông nghiệp do đây là ngành sản xuất chịu sự ảnh hưởng lớn đến từ thời tiết và khí hậu.</td>\n",
       "      <td>35</td>\n",
       "      <td>34</td>\n",
       "    </tr>\n",
       "    <tr>\n",
       "      <th>9299</th>\n",
       "      <td>Nghiên cứu cụ thể hóa giải pháp về đổi mới cơ chế, chính sách vào điều kiện đặc thù của tỉnh, để khuyến khích các doanh nghiệp thuộc các thành phần kinh tế trên địa bàn phát triển nhanh, bềnvững.</td>\n",
       "      <td>nghiên cứu cụ thể hóa giải pháp về đổi mới cơ chế, chính sách vào điều kiện đặc thù của tỉnh, để khuyến khích các doanh nghiệp thuộc các thành phần kinh tế trên địa bàn phát triển nhanh, bềnvững.</td>\n",
       "      <td>Nghiên cứu cụ thể hóa giải pháp về đổi mới cơ chế, chính sách vào điều kiện đặc thù của tỉnh, để khuyến khích các doanh nghiệp thuộc các thành phần kinh tế trên địa bàn phát triển nhanh, bền vững</td>\n",
       "      <td>40</td>\n",
       "      <td>41</td>\n",
       "    </tr>\n",
       "    <tr>\n",
       "      <th>9316</th>\n",
       "      <td>Theo Hair và ctg (2009,116) Mutivariate Data Analysis, 7 th Edition thì với kích thước mẫu có ý nghĩa thống là 30 thì hệ số tải Factor Loading có thể lấy giá trị từ 0,75.</td>\n",
       "      <td>theo hair và ctg (2009,116) mutivariate data analysis, 7 th edition thì với kích thước mẫu có ý nghĩa thống là 30 thì hệ số tải factor loading có thể lấy giá trị từ 0,75.</td>\n",
       "      <td>Theo Hair và ctg (2009,116) Mutivariate Data Analysis, 7 th Edition thì với kích thước mẫu có ý nghĩa thống kê là 30 thì hệ số tải Factor Loading có thể lấy giá trị từ 0,75.</td>\n",
       "      <td>35</td>\n",
       "      <td>36</td>\n",
       "    </tr>\n",
       "    <tr>\n",
       "      <th>9326</th>\n",
       "      <td>Vị trí đặc điểm địa hình khiến Việt Nam là một trong những nước chịu nhiều thiên tai nhất trên thế giới từ bão, lũ lụt, hạn hán đến xâm mặn , lở đất và cháy rừng , trong đó sảy ra thường xuyên và gây tàn phá nhiều nhất là bão, lũ lụt.</td>\n",
       "      <td>vị trí đặc điểm địa hình khiến việt nam là một trong những nước chịu nhiều thiên tai nhất trên thế giới từ bão, lũ lụt, hạn hán đến xâm mặn, lở đất và cháy rừng, trong đó sảy ra thường xuyên và gây tàn phá nhiều nhất là bão, lũ lụt.</td>\n",
       "      <td>Vị trí đặc điểm địa hình khiến Việt Nam là một trong những nước chịu nhiều thiên tai nhất trên thế giới từ bão, lũ lụt, hạn hán đến xâm nhập mặn, lở đất và cháy rừng, trong đó xảy ra thường xuyên và gây tàn phá nhiều nhất là bão, lũ lụt.</td>\n",
       "      <td>52</td>\n",
       "      <td>53</td>\n",
       "    </tr>\n",
       "  </tbody>\n",
       "</table>\n",
       "<p>372 rows × 5 columns</p>\n",
       "</div>"
      ],
      "text/plain": [
       "                                                                                                                                                                                                                                            text  \\\n",
       "45                                                                                                                                                                      aNăng lực rút gọn quá trình lập luận toán học vàahệ thống các phép tính.   \n",
       "67                                                                                                                                                         Chủ động tham gia các hoạt động ngoại ngoại khóa với các sinh viên khác trong trường.   \n",
       "106                                                                                                                                                          Theo quy định pháp luật thuế hiện hiện hnhf, bắt buộc phải sử dụng hóa đơn điện tử.   \n",
       "120                                                                                                                                                        Hơn nữa, để phát triển du lịch văn hóa thì thì tài nguyên văn hóa là vai trò thứ yếu.   \n",
       "126                                                                                                                    Luận án bổ sung vào nguồn tài liệu phục vụ nghiên cứu, học tập, giảing dạy của khoa học chính trị, y đức và y xã hội học.   \n",
       "...                                                                                                                                                                                                                                          ...   \n",
       "9286                                        Công tắc này được liên kết với công tắc cần gạt nên khi việc được rửa kính được tài xê kích hoạt thì công tắc rửa kính cũng được bật lên và nước sẽ được điều khiển bằng vòi phun vào kính chắn gió.   \n",
       "9293                                                                          Những biến đổi trong điều kiện khí hậu đang ảnh hưởng nghiêm trọng đến nông nghiệp do đây là ngành sản xuất chịu sự ảnh hướng lớn đến từ các thời tiết và khí hậu.   \n",
       "9299                                         Nghiên cứu cụ thể hóa giải pháp về đổi mới cơ chế, chính sách vào điều kiện đặc thù của tỉnh, để khuyến khích các doanh nghiệp thuộc các thành phần kinh tế trên địa bàn phát triển nhanh, bềnvững.   \n",
       "9316                                                                  Theo Hair và ctg (2009,116) Mutivariate Data Analysis, 7 th Edition thì với kích thước mẫu có ý nghĩa thống là 30 thì hệ số tải Factor Loading có thể lấy giá trị từ 0,75.   \n",
       "9326  Vị trí đặc điểm địa hình khiến Việt Nam là một trong những nước chịu nhiều thiên tai nhất trên thế giới từ bão, lũ lụt, hạn hán đến xâm mặn , lở đất và cháy rừng , trong đó sảy ra thường xuyên và gây tàn phá nhiều nhất là bão, lũ lụt.   \n",
       "\n",
       "                                                                                                                                                                                                                                    preprocess  \\\n",
       "45                                                                                                                                                                    anăng lực rút gọn quá trình lập luận toán học vaàhệ thống các phép tính.   \n",
       "67                                                                                                                                                       chủ động tham gia các hoạt động ngoại ngoại khóa với các sinh viên khác trong trường.   \n",
       "106                                                                                                                                                        theo quy định pháp luật thuế hiện hiện hnhf, bắt buộc phải sử dụng hóa đơn điện tử.   \n",
       "120                                                                                                                                                      hơn nữa, để phát triển du lịch văn hóa thì thì tài nguyên văn hóa là vai trò thứ yếu.   \n",
       "126                                                                                                                   luận án bổ sung vào nguồn tài liệu phục vụ nghiên cứu, học tập, giảing dạy của khoa học chính trị, y đức vày xã hội học.   \n",
       "...                                                                                                                                                                                                                                        ...   \n",
       "9286                                      công tắc này được liên kết với công tắc cần gạt nên khi việc được rửa kính được tài xê kích hoạt thì công tắc rửa kính cũng được bật lên và nước sẽ được điều khiển bằng vòi phun vào kính chắn gió.   \n",
       "9293                                                                        những biến đổi trong điều kiện khí hậu đang ảnh hưởng nghiêm trọng đến nông nghiệp do đây là ngành sản xuất chịu sự ảnh hướng lớn đến từ các thời tiết và khí hậu.   \n",
       "9299                                       nghiên cứu cụ thể hóa giải pháp về đổi mới cơ chế, chính sách vào điều kiện đặc thù của tỉnh, để khuyến khích các doanh nghiệp thuộc các thành phần kinh tế trên địa bàn phát triển nhanh, bềnvững.   \n",
       "9316                                                                theo hair và ctg (2009,116) mutivariate data analysis, 7 th edition thì với kích thước mẫu có ý nghĩa thống là 30 thì hệ số tải factor loading có thể lấy giá trị từ 0,75.   \n",
       "9326  vị trí đặc điểm địa hình khiến việt nam là một trong những nước chịu nhiều thiên tai nhất trên thế giới từ bão, lũ lụt, hạn hán đến xâm mặn, lở đất và cháy rừng, trong đó sảy ra thường xuyên và gây tàn phá nhiều nhất là bão, lũ lụt.   \n",
       "\n",
       "                                                                                                                                                                                                                                       correct_text  \\\n",
       "45                                                                                                                                                                          Năng lực rút gọn quá trình lập luận toán học và hệ thống các phép tính.   \n",
       "67                                                                                                                                                                  Chủ động tham gia các hoạt động ngoại khóa với các sinh viên khác trong trường.   \n",
       "106                                                                                                                                                                   Theo quy định pháp luật thuế hiện hành bắt buộc phải sử dụng hóa đơn điện tử.   \n",
       "120                                                                                                                                                               Hơn nữa, để phát triển du lịch văn hóa thì tài nguyên văn hóa là vai trò thứ yếu.   \n",
       "126                                                                                                                        Luận án bổ sung vào nguồn tài liệu phục vụ nghiên cứu, học tập, giảng dạy của khoa học chính trị, y đức và y xã hội học.   \n",
       "...                                                                                                                                                                                                                                             ...   \n",
       "9286                                                Công tắc này được liên kết với công tắc cần gạt nên khi việc rửa kính được tài xế kích hoạt thì công tắc rửa kính cũng được bật lên và nước sẽ được điều khiển bằng vòi phun vào kính chắn gió.   \n",
       "9293                                                                                 Những biến đổi trong điều kiện khí hậu đang ảnh hưởng nghiêm trọng đến nông nghiệp do đây là ngành sản xuất chịu sự ảnh hưởng lớn đến từ thời tiết và khí hậu.   \n",
       "9299                                            Nghiên cứu cụ thể hóa giải pháp về đổi mới cơ chế, chính sách vào điều kiện đặc thù của tỉnh, để khuyến khích các doanh nghiệp thuộc các thành phần kinh tế trên địa bàn phát triển nhanh, bền vững   \n",
       "9316                                                                  Theo Hair và ctg (2009,116) Mutivariate Data Analysis, 7 th Edition thì với kích thước mẫu có ý nghĩa thống kê là 30 thì hệ số tải Factor Loading có thể lấy giá trị từ 0,75.   \n",
       "9326  Vị trí đặc điểm địa hình khiến Việt Nam là một trong những nước chịu nhiều thiên tai nhất trên thế giới từ bão, lũ lụt, hạn hán đến xâm nhập mặn, lở đất và cháy rừng, trong đó xảy ra thường xuyên và gây tàn phá nhiều nhất là bão, lũ lụt.   \n",
       "\n",
       "      preprocess_word_count  correct_text_word_count  \n",
       "45                       15                       16  \n",
       "67                       17                       16  \n",
       "106                      18                       17  \n",
       "120                      20                       19  \n",
       "126                      27                       28  \n",
       "...                     ...                      ...  \n",
       "9286                     44                       43  \n",
       "9293                     35                       34  \n",
       "9299                     40                       41  \n",
       "9316                     35                       36  \n",
       "9326                     52                       53  \n",
       "\n",
       "[372 rows x 5 columns]"
      ]
     },
     "execution_count": 51,
     "metadata": {},
     "output_type": "execute_result"
    }
   ],
   "source": [
    "mismatched_rows[['text', 'preprocess', 'correct_text', 'preprocess_word_count', 'correct_text_word_count']]"
   ]
  },
  {
   "cell_type": "code",
   "execution_count": 52,
   "id": "6ee829bd",
   "metadata": {
    "execution": {
     "iopub.execute_input": "2025-06-25T12:01:56.911323Z",
     "iopub.status.busy": "2025-06-25T12:01:56.910877Z",
     "iopub.status.idle": "2025-06-25T12:01:59.597316Z",
     "shell.execute_reply": "2025-06-25T12:01:59.595962Z"
    },
    "papermill": {
     "duration": 2.705505,
     "end_time": "2025-06-25T12:01:59.599248",
     "exception": false,
     "start_time": "2025-06-25T12:01:56.893743",
     "status": "completed"
    },
    "tags": []
   },
   "outputs": [
    {
     "name": "stderr",
     "output_type": "stream",
     "text": [
      "[nltk_data] Downloading package punkt to /usr/share/nltk_data...\n",
      "[nltk_data]   Package punkt is already up-to-date!\n"
     ]
    },
    {
     "data": {
      "text/plain": [
       "True"
      ]
     },
     "execution_count": 52,
     "metadata": {},
     "output_type": "execute_result"
    }
   ],
   "source": [
    "import nltk\n",
    "from nltk.tokenize import word_tokenize\n",
    "\n",
    "# Nếu chưa có, tải tokenizer\n",
    "nltk.download('punkt')"
   ]
  },
  {
   "cell_type": "code",
   "execution_count": 53,
   "id": "1bb97593",
   "metadata": {
    "execution": {
     "iopub.execute_input": "2025-06-25T12:01:59.633385Z",
     "iopub.status.busy": "2025-06-25T12:01:59.632826Z",
     "iopub.status.idle": "2025-06-25T12:01:59.640680Z",
     "shell.execute_reply": "2025-06-25T12:01:59.639578Z"
    },
    "papermill": {
     "duration": 0.02678,
     "end_time": "2025-06-25T12:01:59.642306",
     "exception": false,
     "start_time": "2025-06-25T12:01:59.615526",
     "status": "completed"
    },
    "tags": []
   },
   "outputs": [],
   "source": [
    "import string\n",
    "from nltk.tokenize import word_tokenize\n",
    "\n",
    "def count_different_tokens(preprocess, correct_text):\n",
    "    def clean_tokens(text):\n",
    "        tokens = word_tokenize(text.lower())\n",
    "        # Loại bỏ tất cả dấu câu, bao gồm cả dấu nháy \" và '\n",
    "        punct = set(string.punctuation) | {'“', '”', '‘', '’', '\"', \"'\"}\n",
    "        return [t for t in tokens if t not in punct]\n",
    "\n",
    "    pre_tokens = clean_tokens(preprocess)\n",
    "    corr_tokens = clean_tokens(correct_text)\n",
    "\n",
    "    min_len = min(len(pre_tokens), len(corr_tokens))\n",
    "    diff_count = sum(1 for i in range(min_len) if pre_tokens[i] != corr_tokens[i])\n",
    "    diff_count += abs(len(pre_tokens) - len(corr_tokens))\n",
    "\n",
    "    return diff_count"
   ]
  },
  {
   "cell_type": "code",
   "execution_count": 54,
   "id": "290540c3",
   "metadata": {
    "execution": {
     "iopub.execute_input": "2025-06-25T12:01:59.676626Z",
     "iopub.status.busy": "2025-06-25T12:01:59.676282Z",
     "iopub.status.idle": "2025-06-25T12:02:02.804897Z",
     "shell.execute_reply": "2025-06-25T12:02:02.803191Z"
    },
    "papermill": {
     "duration": 3.147983,
     "end_time": "2025-06-25T12:02:02.807071",
     "exception": false,
     "start_time": "2025-06-25T12:01:59.659088",
     "status": "completed"
    },
    "tags": []
   },
   "outputs": [],
   "source": [
    "import pandas as pd\n",
    "\n",
    "df[\"diff_word_count\"] = df.apply(\n",
    "    lambda row: count_different_tokens(row[\"preprocess\"], row[\"correct_text\"]),\n",
    "    axis=1\n",
    ")"
   ]
  },
  {
   "cell_type": "code",
   "execution_count": 55,
   "id": "105b92e4",
   "metadata": {
    "execution": {
     "iopub.execute_input": "2025-06-25T12:02:02.843303Z",
     "iopub.status.busy": "2025-06-25T12:02:02.842899Z",
     "iopub.status.idle": "2025-06-25T12:02:02.999236Z",
     "shell.execute_reply": "2025-06-25T12:02:02.998295Z"
    },
    "papermill": {
     "duration": 0.180095,
     "end_time": "2025-06-25T12:02:03.004474",
     "exception": false,
     "start_time": "2025-06-25T12:02:02.824379",
     "status": "completed"
    },
    "tags": []
   },
   "outputs": [
    {
     "data": {
      "text/html": [
       "<div>\n",
       "<style scoped>\n",
       "    .dataframe tbody tr th:only-of-type {\n",
       "        vertical-align: middle;\n",
       "    }\n",
       "\n",
       "    .dataframe tbody tr th {\n",
       "        vertical-align: top;\n",
       "    }\n",
       "\n",
       "    .dataframe thead th {\n",
       "        text-align: right;\n",
       "    }\n",
       "</style>\n",
       "<table border=\"1\" class=\"dataframe\">\n",
       "  <thead>\n",
       "    <tr style=\"text-align: right;\">\n",
       "      <th></th>\n",
       "      <th>annotations</th>\n",
       "      <th>text</th>\n",
       "      <th>preprocess</th>\n",
       "      <th>correct_text</th>\n",
       "      <th>preprocess_word_count</th>\n",
       "      <th>correct_text_word_count</th>\n",
       "      <th>diff_word_count</th>\n",
       "    </tr>\n",
       "  </thead>\n",
       "  <tbody>\n",
       "    <tr>\n",
       "      <th>0</th>\n",
       "      <td>[{'alternative_syllables': [], 'current_syllable': 'Thông', 'id': 1, 'is_correct': True}, {'alternative_syllables': [], 'current_syllable': 'qua', 'id': 2, 'is_correct': True}, {'alternative_syllables': [], 'current_syllable': 'công', 'id': 3, 'is_correct': True}, {'alternative_syllables': [], 'current_syllable': 'tác', 'id': 4, 'is_correct': True}, {'alternative_syllables': [], 'current_syllable': 'tuyên', 'id': 5, 'is_correct': True}, {'alternative_syllables': [], 'current_syllable': 'truyền,', 'id': 6, 'is_correct': True}, {'alternative_syllables': [], 'current_syllable': 'vận', 'id': 7, 'is_correct': True}, {'alternative_syllables': [], 'current_syllable': 'động', 'id': 8, 'is_correct': True}, {'alternative_syllables': [], 'current_syllable': 'này', 'id': 9, 'is_correct': True}, {'alternative_syllables': [], 'current_syllable': 'phụ', 'id': 10, 'is_correct': True}, {'alternative_syllables': [], 'current_syllable': 'huynh', 'id': 11, 'is_correct': True}, {'alternative_syllables': [], 'current_syllable': 'sẽ', 'id': 12, 'is_correct': True}, {'alternative_syllables': [], 'current_syllable': 'hiểu', 'id': 13, 'is_correct': True}, {'alternative_syllables': [], 'current_syllable': 'rõ', 'id': 14, 'is_correct': True}, {'alternative_syllables': [], 'current_syllable': 'hơn', 'id': 15, 'is_correct': True}, {'alternative_syllables': [], 'current_syllable': 'tầm', 'id': 16, 'is_correct': True}, {'alternative_syllables': [], 'current_syllable': 'quan', 'id': 17, 'is_correct': True}, {'alternative_syllables': [], 'current_syllable': 'trọng', 'id': 18, 'is_correct': True}, {'alternative_syllables': [], 'current_syllable': 'của', 'id': 19, 'is_correct': True}, {'alternative_syllables': [], 'current_syllable': 'việc', 'id': 20, 'is_correct': True}, {'alternative_syllables': [], 'current_syllable': 'giáo', 'id': 21, 'is_correct': True}, {'alternative_syllables': [], 'current_syllable': 'dục', 'id': 22, 'is_correct': True}, {'alternative_syllables': [], 'current_syllable': 'ý', 'id': 23, 'is_correct': True}, {'alternative_syllables': [], 'current_syllable': 'thức', 'id': 24, 'is_correct': True}, {'alternative_syllables': [], 'current_syllable': 'bảo', 'id': 25, 'is_correct': True}, {'alternative_syllables': [], 'current_syllable': 'vệ', 'id': 26, 'is_correct': True}, {'alternative_syllables': [], 'current_syllable': 'môi', 'id': 27, 'is_correct': True}, {'alternative_syllables': [], 'current_syllable': 'trường', 'id': 28, 'is_correct': True}, {'alternative_syllables': [], 'current_syllable': 'cho', 'id': 29, 'is_correct': True}, {'alternative_syllables': [], 'current_syllable': 'trẻ', 'id': 30, 'is_correct': True}, {'alternative_syllables': [], 'current_syllable': 'không', 'id': 31, 'is_correct': True}, {'alternative_syllables': [], 'current_syllable': 'phải', 'id': 32, 'is_correct': True}, {'alternative_syllables': [], 'current_syllable': 'chỉ', 'id': 33, 'is_correct': True}, {'alternative_syllables': [], 'current_syllable': 'ở', 'id': 34, 'is_correct': True}, {'alternative_syllables': [], 'current_syllable': 'phía', 'id': 35, 'is_correct': True}, {'alternative_syllables': [], 'current_syllable': 'nhà', 'id': 36, 'is_correct': True}, {'alternative_syllables': [], 'current_syllable': 'trường', 'id': 37, 'is_correct': True}, {'alternative_syllables': [], 'current_syllable': 'mà', 'id': 38, 'is_correct': True}, {'alternative_syllables': [], 'current_syllable': 'còn', 'id': 39, 'is_correct': True}, {'alternative_syllables': [], 'current_syllable': 'ở', 'id': 40, 'is_correct': True}, {'alternative_syllables': [], 'current_syllable': 'gia', 'id': 41, 'is_correct': True}, {'alternative_syllables': [], 'current_syllable': 'đình', 'id': 42, 'is_correct': True}, {'alternative_syllables': [], 'current_syllable': ',', 'id': 43, 'is_correct': True}, {'alternative_syllables': [], 'current_syllable': 'góp', 'id': 44, 'is_correct': True}, {'alternative_syllables': [], 'current_syllable': 'phần', 'id': 45, 'is_correct': True}, {'alternative_syllables': [], 'current_syllable': 'vào', 'id': 46, 'is_correct': True}, {'alternative_syllables': [], 'current_syllable': 'việc', 'id': 47, 'is_correct': True}, {'alternative_syllables': [], 'current_syllable': 'gìn', 'id': 48, 'is_correct': True}, {'alternative_syllables': [], 'current_syllable': 'giữ', 'id': 49, 'is_correct': True}, {'alternative_syllables': [], 'current_syllable': 'môi', 'id': 50, 'is_correct': True}, {'alternative_syllables': [], 'current_syllable': 'trường', 'id': 51, 'is_correct': True}, {'alternative_syllables': ['xanh'], 'current_syllable': 'sanh', 'id': 52, 'is_correct': False}, {'alternative_syllables': [], 'current_syllable': ',', 'id': 53, 'is_correct': True}, {'alternative_syllables': [], 'current_syllable': 'sạch', 'id': 54, 'is_correct': True}, {'alternative_syllables': [], 'current_syllable': ',', 'id': 55, 'is_correct': True}, {'alternative_syllables': [], 'current_syllable': 'đẹp.', 'id': 56, 'is_correct': True}]</td>\n",
       "      <td>Thông qua công tác tuyên truyền, vận động này phụ huynh sẽ hiểu rõ hơn tầm quan trọng của việc giáo dục ý thức bảo vệ môi trường cho trẻ không phải chỉ ở phía nhà trường mà còn ở gia đình , góp phần vào việc gìn giữ môi trường sanh , sạch , đẹp.</td>\n",
       "      <td>thông qua công tác tuyên truyền, vận động này phụ huynh sẽ hiểu rõ hơn tầm quan trọng của việc giáo dục ý thức bảo vệ môi trường cho trẻ không phải chỉ ở phía nhà trường mà còn ở gia đình, góp phần vào việc gìn giữ môi trường sanh, sạch, đẹp.</td>\n",
       "      <td>Thông qua công tác tuyên truyền, vận động này phụ huynh sẽ hiểu rõ hơn tầm quan trọng của việc giáo dục ý thức bảo vệ môi trường cho trẻ không phải chỉ ở phía nhà trường mà còn ở gia đình, góp phần vào việc gìn giữ môi trường xanh, sạch, đẹp.</td>\n",
       "      <td>53</td>\n",
       "      <td>53</td>\n",
       "      <td>1</td>\n",
       "    </tr>\n",
       "    <tr>\n",
       "      <th>1</th>\n",
       "      <td>[{'alternative_syllables': [], 'current_syllable': 'Do', 'id': 1, 'is_correct': True}, {'alternative_syllables': [], 'current_syllable': 'đó,', 'id': 2, 'is_correct': True}, {'alternative_syllables': [], 'current_syllable': 'doanh', 'id': 3, 'is_correct': True}, {'alternative_syllables': [], 'current_syllable': 'nghiệp', 'id': 4, 'is_correct': True}, {'alternative_syllables': [], 'current_syllable': 'cần', 'id': 5, 'is_correct': True}, {'alternative_syllables': [], 'current_syllable': 'chú', 'id': 6, 'is_correct': True}, {'alternative_syllables': [], 'current_syllable': 'trọng', 'id': 7, 'is_correct': True}, {'alternative_syllables': [], 'current_syllable': 'đến', 'id': 8, 'is_correct': True}, {'alternative_syllables': [], 'current_syllable': 'yếu', 'id': 9, 'is_correct': True}, {'alternative_syllables': [], 'current_syllable': 'tố', 'id': 10, 'is_correct': True}, {'alternative_syllables': [], 'current_syllable': 'này', 'id': 11, 'is_correct': True}, {'alternative_syllables': [], 'current_syllable': 'để', 'id': 12, 'is_correct': True}, {'alternative_syllables': ['làm'], 'current_syllable': 'là', 'id': 13, 'is_correct': False}, {'alternative_syllables': [], 'current_syllable': 'thỏa', 'id': 14, 'is_correct': True}, {'alternative_syllables': [], 'current_syllable': 'mãn,', 'id': 15, 'is_correct': True}, {'alternative_syllables': [], 'current_syllable': 'hài', 'id': 16, 'is_correct': True}, {'alternative_syllables': [], 'current_syllable': 'lòng', 'id': 17, 'is_correct': True}, {'alternative_syllables': [], 'current_syllable': 'các', 'id': 18, 'is_correct': True}, {'alternative_syllables': [], 'current_syllable': 'nhóm', 'id': 19, 'is_correct': True}, {'alternative_syllables': [], 'current_syllable': 'đối', 'id': 20, 'is_correct': True}, {'alternative_syllables': [], 'current_syllable': 'tượng', 'id': 21, 'is_correct': True}, {'alternative_syllables': [], 'current_syllable': 'này.', 'id': 22, 'is_correct': True}]</td>\n",
       "      <td>Do đó, doanh nghiệp cần chú trọng đến yếu tố này để là thỏa mãn, hài lòng các nhóm đối tượng này.</td>\n",
       "      <td>do đó, doanh nghiệp cần chú trọng đến yếu tố này để là thỏa mãn, hài lòng các nhóm đối tượng này.</td>\n",
       "      <td>Do đó, doanh nghiệp cần chú trọng đến yếu tố này để làm thỏa mãn, hài lòng các nhóm đối tượng này.</td>\n",
       "      <td>22</td>\n",
       "      <td>22</td>\n",
       "      <td>1</td>\n",
       "    </tr>\n",
       "    <tr>\n",
       "      <th>2</th>\n",
       "      <td>[{'alternative_syllables': [], 'current_syllable': 'Giữ', 'id': 1, 'is_correct': True}, {'alternative_syllables': [], 'current_syllable': 'được', 'id': 2, 'is_correct': True}, {'alternative_syllables': [], 'current_syllable': 'chỉ', 'id': 3, 'is_correct': True}, {'alternative_syllables': [], 'current_syllable': 'số', 'id': 4, 'is_correct': True}, {'alternative_syllables': [], 'current_syllable': 'này', 'id': 5, 'is_correct': True}, {'alternative_syllables': [], 'current_syllable': 'không', 'id': 6, 'is_correct': True}, {'alternative_syllables': ['giảm'], 'current_syllable': 'giam', 'id': 7, 'is_correct': False}, {'alternative_syllables': [], 'current_syllable': 'mà', 'id': 8, 'is_correct': True}, {'alternative_syllables': [], 'current_syllable': 'còn', 'id': 9, 'is_correct': True}, {'alternative_syllables': [], 'current_syllable': 'tăng', 'id': 10, 'is_correct': True}, {'alternative_syllables': [], 'current_syllable': 'thêm', 'id': 11, 'is_correct': True}, {'alternative_syllables': [], 'current_syllable': 'cũng', 'id': 12, 'is_correct': True}, {'alternative_syllables': [], 'current_syllable': 'được', 'id': 13, 'is_correct': True}, {'alternative_syllables': [], 'current_syllable': 'xem', 'id': 14, 'is_correct': True}, {'alternative_syllables': [], 'current_syllable': 'là', 'id': 15, 'is_correct': True}, {'alternative_syllables': [], 'current_syllable': 'một', 'id': 16, 'is_correct': True}, {'alternative_syllables': ['bước'], 'current_syllable': 'bức', 'id': 17, 'is_correct': False}, {'alternative_syllables': [], 'current_syllable': 'thành', 'id': 18, 'is_correct': True}, {'alternative_syllables': [], 'current_syllable': 'công', 'id': 19, 'is_correct': True}, {'alternative_syllables': [], 'current_syllable': 'của', 'id': 20, 'is_correct': True}, {'alternative_syllables': [], 'current_syllable': 'Ngân', 'id': 21, 'is_correct': True}, {'alternative_syllables': [], 'current_syllable': 'hàng.', 'id': 22, 'is_correct': True}]</td>\n",
       "      <td>Giữ được chỉ số này không giam mà còn tăng thêm cũng được xem là một bức thành công của Ngân hàng.</td>\n",
       "      <td>giữ được chỉ số này không giam mà còn tăng thêm cũng được xem là một bức thành công của ngân hàng.</td>\n",
       "      <td>Giữ được chỉ số này không giảm mà còn tăng thêm cũng được xem là một bước thành công của Ngân hàng.</td>\n",
       "      <td>22</td>\n",
       "      <td>22</td>\n",
       "      <td>2</td>\n",
       "    </tr>\n",
       "    <tr>\n",
       "      <th>3</th>\n",
       "      <td>[{'alternative_syllables': ['Đứng'], 'current_syllable': 'Đúng', 'id': 1, 'is_correct': False}, {'alternative_syllables': [], 'current_syllable': 'trước', 'id': 2, 'is_correct': True}, {'alternative_syllables': [], 'current_syllable': 'thực', 'id': 3, 'is_correct': True}, {'alternative_syllables': [], 'current_syllable': 'tế', 'id': 4, 'is_correct': True}, {'alternative_syllables': [], 'current_syllable': 'này', 'id': 5, 'is_correct': True}, {'alternative_syllables': [], 'current_syllable': 'đòi', 'id': 6, 'is_correct': True}, {'alternative_syllables': [], 'current_syllable': 'hỏi', 'id': 7, 'is_correct': True}, {'alternative_syllables': [], 'current_syllable': 'chúng', 'id': 8, 'is_correct': True}, {'alternative_syllables': [], 'current_syllable': 'ta', 'id': 9, 'is_correct': True}, {'alternative_syllables': [], 'current_syllable': 'cần', 'id': 10, 'is_correct': True}, {'alternative_syllables': [], 'current_syllable': 'phải', 'id': 11, 'is_correct': True}, {'alternative_syllables': [], 'current_syllable': 'có', 'id': 12, 'is_correct': True}, {'alternative_syllables': [], 'current_syllable': 'những', 'id': 13, 'is_correct': True}, {'alternative_syllables': [], 'current_syllable': 'nghiên', 'id': 14, 'is_correct': True}, {'alternative_syllables': [], 'current_syllable': 'cứu', 'id': 15, 'is_correct': True}, {'alternative_syllables': [], 'current_syllable': 'chi', 'id': 16, 'is_correct': True}, {'alternative_syllables': [], 'current_syllable': 'li,', 'id': 17, 'is_correct': True}, {'alternative_syllables': [], 'current_syllable': 'cụ', 'id': 18, 'is_correct': True}, {'alternative_syllables': [], 'current_syllable': 'thể', 'id': 19, 'is_correct': True}, {'alternative_syllables': [], 'current_syllable': 'nhằm', 'id': 20, 'is_correct': True}, {'alternative_syllables': [], 'current_syllable': 'tìm', 'id': 21, 'is_correct': True}, {'alternative_syllables': [], 'current_syllable': 'ra', 'id': 22, 'is_correct': True}, {'alternative_syllables': [], 'current_syllable': 'những', 'id': 23, 'is_correct': True}, {'alternative_syllables': [], 'current_syllable': 'nhân', 'id': 24, 'is_correct': True}, {'alternative_syllables': [], 'current_syllable': 'tố', 'id': 25, 'is_correct': True}, {'alternative_syllables': [], 'current_syllable': 'ảnh', 'id': 26, 'is_correct': True}, {'alternative_syllables': [], 'current_syllable': 'hưởng', 'id': 27, 'is_correct': True}, {'alternative_syllables': [], 'current_syllable': 'đến', 'id': 28, 'is_correct': True}, {'alternative_syllables': [], 'current_syllable': 'sự', 'id': 29, 'is_correct': True}, {'alternative_syllables': [], 'current_syllable': 'lựa', 'id': 30, 'is_correct': True}, {'alternative_syllables': [], 'current_syllable': 'chọn', 'id': 31, 'is_correct': True}, {'alternative_syllables': [], 'current_syllable': 'kênh', 'id': 32, 'is_correct': True}, {'alternative_syllables': [], 'current_syllable': 'mua', 'id': 33, 'is_correct': True}, {'alternative_syllables': [], 'current_syllable': 'sắm', 'id': 34, 'is_correct': True}, {'alternative_syllables': [], 'current_syllable': 'của', 'id': 35, 'is_correct': True}, {'alternative_syllables': [], 'current_syllable': 'người', 'id': 36, 'is_correct': True}, {'alternative_syllables': [], 'current_syllable': 'tiêu', 'id': 37, 'is_correct': True}, {'alternative_syllables': [], 'current_syllable': 'dùng', 'id': 38, 'is_correct': True}, {'alternative_syllables': [], 'current_syllable': 'ở', 'id': 39, 'is_correct': True}, {'alternative_syllables': [], 'current_syllable': 'TP.', 'id': 40, 'is_correct': True}]</td>\n",
       "      <td>Đúng trước thực tế này đòi hỏi chúng ta cần phải có những nghiên cứu chi li, cụ thể nhằm tìm ra những nhân tố ảnh hưởng đến sự lựa chọn kênh mua sắm của người tiêu dùng ở TP.</td>\n",
       "      <td>đúng trước thực tế này đòi hỏi chúng ta cần phải có những nghiên cứu chi li, cụ thể nhằm tìm ra những nhân tố ảnh hưởng đến sự lựa chọn kênh mua sắm của người tiêu dùng ở tp.</td>\n",
       "      <td>Đứng trước thực tế này đòi hỏi chúng ta cần phải có những nghiên cứu chi li, cụ thể nhằm tìm ra những nhân tố ảnh hưởng đến sự lựa chọn kênh mua sắm của người tiêu dùng ở TP.</td>\n",
       "      <td>40</td>\n",
       "      <td>40</td>\n",
       "      <td>1</td>\n",
       "    </tr>\n",
       "    <tr>\n",
       "      <th>4</th>\n",
       "      <td>[{'alternative_syllables': [], 'current_syllable': 'Trình', 'id': 1, 'is_correct': True}, {'alternative_syllables': [], 'current_syllable': 'độ', 'id': 2, 'is_correct': True}, {'alternative_syllables': [], 'current_syllable': 'học', 'id': 3, 'is_correct': True}, {'alternative_syllables': [], 'current_syllable': 'vấn', 'id': 4, 'is_correct': True}, {'alternative_syllables': [], 'current_syllable': 'của', 'id': 5, 'is_correct': True}, {'alternative_syllables': [], 'current_syllable': 'nhân', 'id': 6, 'is_correct': True}, {'alternative_syllables': [], 'current_syllable': 'viên', 'id': 7, 'is_correct': True}, {'alternative_syllables': [], 'current_syllable': 'được', 'id': 8, 'is_correct': True}, {'alternative_syllables': [], 'current_syllable': 'tuyển', 'id': 9, 'is_correct': True}, {'alternative_syllables': [], 'current_syllable': 'dụng', 'id': 10, 'is_correct': True}, {'alternative_syllables': [], 'current_syllable': 'ngày', 'id': 11, 'is_correct': True}, {'alternative_syllables': ['càng'], 'current_syllable': 'cang', 'id': 12, 'is_correct': False}, {'alternative_syllables': [], 'current_syllable': 'cao', 'id': 13, 'is_correct': True}, {'alternative_syllables': [], 'current_syllable': 'hơn,', 'id': 14, 'is_correct': True}, {'alternative_syllables': [], 'current_syllable': 'thợ', 'id': 15, 'is_correct': True}, {'alternative_syllables': [], 'current_syllable': 'lành', 'id': 16, 'is_correct': True}, {'alternative_syllables': [], 'current_syllable': 'nghề', 'id': 17, 'is_correct': True}, {'alternative_syllables': [], 'current_syllable': 'cũng', 'id': 18, 'is_correct': True}, {'alternative_syllables': [], 'current_syllable': 'được', 'id': 19, 'is_correct': True}, {'alternative_syllables': [], 'current_syllable': 'sàng', 'id': 20, 'is_correct': True}, {'alternative_syllables': [], 'current_syllable': 'lọc', 'id': 21, 'is_correct': True}, {'alternative_syllables': [], 'current_syllable': 'kỹ', 'id': 22, 'is_correct': True}, {'alternative_syllables': [], 'current_syllable': 'hơn.', 'id': 23, 'is_correct': True}]</td>\n",
       "      <td>Trình độ học vấn của nhân viên được tuyển dụng ngày cang cao hơn, thợ lành nghề cũng được sàng lọc kỹ hơn.</td>\n",
       "      <td>trình độ học vấn của nhân viên được tuyển dụng ngày cang cao hơn, thợ lành nghề cũng được sàng lọc kỹ hơn.</td>\n",
       "      <td>Trình độ học vấn của nhân viên được tuyển dụng ngày càng cao hơn, thợ lành nghề cũng được sàng lọc kỹ hơn.</td>\n",
       "      <td>23</td>\n",
       "      <td>23</td>\n",
       "      <td>1</td>\n",
       "    </tr>\n",
       "    <tr>\n",
       "      <th>...</th>\n",
       "      <td>...</td>\n",
       "      <td>...</td>\n",
       "      <td>...</td>\n",
       "      <td>...</td>\n",
       "      <td>...</td>\n",
       "      <td>...</td>\n",
       "      <td>...</td>\n",
       "    </tr>\n",
       "    <tr>\n",
       "      <th>9336</th>\n",
       "      <td>[{'alternative_syllables': [], 'current_syllable': 'Tuy', 'id': 1, 'is_correct': True}, {'alternative_syllables': [], 'current_syllable': 'nhiên,', 'id': 2, 'is_correct': True}, {'alternative_syllables': [], 'current_syllable': 'khi', 'id': 3, 'is_correct': True}, {'alternative_syllables': [], 'current_syllable': 'nói', 'id': 4, 'is_correct': True}, {'alternative_syllables': [], 'current_syllable': 'đến', 'id': 5, 'is_correct': True}, {'alternative_syllables': [], 'current_syllable': 'E-Learning,', 'id': 6, 'is_correct': True}, {'alternative_syllables': [], 'current_syllable': 'các', 'id': 7, 'is_correct': True}, {'alternative_syllables': [], 'current_syllable': 'phương', 'id': 8, 'is_correct': True}, {'alternative_syllables': [], 'current_syllable': 'pháp', 'id': 9, 'is_correct': True}, {'alternative_syllables': [], 'current_syllable': 'lớp', 'id': 10, 'is_correct': True}, {'alternative_syllables': [], 'current_syllable': 'học', 'id': 11, 'is_correct': True}, {'alternative_syllables': [], 'current_syllable': 'dựa', 'id': 12, 'is_correct': True}, {'alternative_syllables': [], 'current_syllable': 'trên', 'id': 13, 'is_correct': True}, {'alternative_syllables': [], 'current_syllable': 'địa', 'id': 14, 'is_correct': True}, {'alternative_syllables': [], 'current_syllable': 'điểm', 'id': 15, 'is_correct': True}, {'alternative_syllables': [], 'current_syllable': 'của', 'id': 16, 'is_correct': True}, {'alternative_syllables': [], 'current_syllable': 'Google', 'id': 17, 'is_correct': True}, {'alternative_syllables': [], 'current_syllable': 'có', 'id': 18, 'is_correct': True}, {'alternative_syllables': [], 'current_syllable': 'thể', 'id': 19, 'is_correct': True}, {'alternative_syllables': [], 'current_syllable': 'được', 'id': 20, 'is_correct': True}, {'alternative_syllables': [], 'current_syllable': 'thay', 'id': 21, 'is_correct': True}, {'alternative_syllables': [], 'current_syllable': 'thế', 'id': 22, 'is_correct': True}, {'alternative_syllables': [], 'current_syllable': 'bằng', 'id': 23, 'is_correct': True}, {'alternative_syllables': [], 'current_syllable': 'hội', 'id': 24, 'is_correct': True}, {'alternative_syllables': [], 'current_syllable': 'thảo', 'id': 25, 'is_correct': True}, {'alternative_syllables': [], 'current_syllable': 'trên', 'id': 26, 'is_correct': True}, {'alternative_syllables': [], 'current_syllable': 'web', 'id': 27, 'is_correct': True}, {'alternative_syllables': [], 'current_syllable': 'giúp', 'id': 28, 'is_correct': True}, {'alternative_syllables': [], 'current_syllable': 'việc', 'id': 29, 'is_correct': True}, {'alternative_syllables': ['học'], 'current_syllable': 'hoc', 'id': 30, 'is_correct': False}, {'alternative_syllables': [], 'current_syllable': 'trở', 'id': 31, 'is_correct': True}, {'alternative_syllables': [], 'current_syllable': 'nên', 'id': 32, 'is_correct': True}, {'alternative_syllables': [], 'current_syllable': 'dễ', 'id': 33, 'is_correct': True}, {'alternative_syllables': [], 'current_syllable': 'tiếp', 'id': 34, 'is_correct': True}, {'alternative_syllables': [], 'current_syllable': 'cận', 'id': 35, 'is_correct': True}, {'alternative_syllables': [], 'current_syllable': 'và', 'id': 36, 'is_correct': True}, {'alternative_syllables': [], 'current_syllable': 'thuận', 'id': 37, 'is_correct': True}, {'alternative_syllables': [], 'current_syllable': 'tiện', 'id': 38, 'is_correct': True}, {'alternative_syllables': [], 'current_syllable': 'hơn.', 'id': 39, 'is_correct': True}]</td>\n",
       "      <td>Tuy nhiên, khi nói đến E-Learning, các phương pháp lớp học dựa trên địa điểm của Google có thể được thay thế bằng hội thảo trên web giúp việc hoc trở nên dễ tiếp cận và thuận tiện hơn.</td>\n",
       "      <td>tuy nhiên, khi nói đến e-learning, các phương pháp lớp học dựa trên địa điểm của google có thể được thay thế bằng hội thảo trên web giúp việc hoc trở nên dễ tiếp cận và thuận tiện hơn.</td>\n",
       "      <td>Tuy nhiên, khi nói đến E-Learning, các phương pháp lớp học dựa trên địa điểm của Google có thể được thay thế bằng hội thảo trên web giúp việc học trở nên dễ tiếp cận và thuận tiện hơn.</td>\n",
       "      <td>39</td>\n",
       "      <td>39</td>\n",
       "      <td>1</td>\n",
       "    </tr>\n",
       "    <tr>\n",
       "      <th>9337</th>\n",
       "      <td>[{'alternative_syllables': [], 'current_syllable': 'Đứng', 'id': 1, 'is_correct': True}, {'alternative_syllables': [], 'current_syllable': 'trước', 'id': 2, 'is_correct': True}, {'alternative_syllables': [], 'current_syllable': 'những', 'id': 3, 'is_correct': True}, {'alternative_syllables': [], 'current_syllable': 'hành', 'id': 4, 'is_correct': True}, {'alternative_syllables': [], 'current_syllable': 'vi', 'id': 5, 'is_correct': True}, {'alternative_syllables': [], 'current_syllable': 'đi', 'id': 6, 'is_correct': True}, {'alternative_syllables': [], 'current_syllable': 'ngược', 'id': 7, 'is_correct': True}, {'alternative_syllables': [], 'current_syllable': 'lại', 'id': 8, 'is_correct': True}, {'alternative_syllables': [], 'current_syllable': 'với', 'id': 9, 'is_correct': True}, {'alternative_syllables': [], 'current_syllable': 'đạo', 'id': 10, 'is_correct': True}, {'alternative_syllables': [], 'current_syllable': 'đức', 'id': 11, 'is_correct': True}, {'alternative_syllables': [], 'current_syllable': 'giáo', 'id': 12, 'is_correct': True}, {'alternative_syllables': [], 'current_syllable': 'dục', 'id': 13, 'is_correct': True}, {'alternative_syllables': [], 'current_syllable': 'và', 'id': 14, 'is_correct': True}, {'alternative_syllables': [], 'current_syllable': 'luật', 'id': 15, 'is_correct': True}, {'alternative_syllables': [], 'current_syllable': 'pháp', 'id': 16, 'is_correct': True}, {'alternative_syllables': [], 'current_syllable': 'nhóm', 'id': 17, 'is_correct': True}, {'alternative_syllables': [], 'current_syllable': 'chúng', 'id': 18, 'is_correct': True}, {'alternative_syllables': [], 'current_syllable': 'tôi', 'id': 19, 'is_correct': True}, {'alternative_syllables': [], 'current_syllable': 'quyết', 'id': 20, 'is_correct': True}, {'alternative_syllables': [], 'current_syllable': 'định', 'id': 21, 'is_correct': True}, {'alternative_syllables': [], 'current_syllable': 'chọn', 'id': 22, 'is_correct': True}, {'alternative_syllables': [], 'current_syllable': 'và', 'id': 23, 'is_correct': True}, {'alternative_syllables': [], 'current_syllable': 'thực', 'id': 24, 'is_correct': True}, {'alternative_syllables': [], 'current_syllable': 'hiện', 'id': 25, 'is_correct': True}, {'alternative_syllables': [], 'current_syllable': 'đề', 'id': 26, 'is_correct': True}, {'alternative_syllables': [], 'current_syllable': 'tài', 'id': 27, 'is_correct': True}, {'alternative_syllables': [], 'current_syllable': 'này', 'id': 28, 'is_correct': True}, {'alternative_syllables': [], 'current_syllable': 'để', 'id': 29, 'is_correct': True}, {'alternative_syllables': [], 'current_syllable': 'góp', 'id': 30, 'is_correct': True}, {'alternative_syllables': [], 'current_syllable': 'phần', 'id': 31, 'is_correct': True}, {'alternative_syllables': [], 'current_syllable': 'nói', 'id': 32, 'is_correct': True}, {'alternative_syllables': [], 'current_syllable': 'lên', 'id': 33, 'is_correct': True}, {'alternative_syllables': [], 'current_syllable': 'tiếng', 'id': 34, 'is_correct': True}, {'alternative_syllables': [], 'current_syllable': 'nói', 'id': 35, 'is_correct': True}, {'alternative_syllables': [], 'current_syllable': 'và', 'id': 36, 'is_correct': True}, {'alternative_syllables': [], 'current_syllable': 'nâng', 'id': 37, 'is_correct': True}, {'alternative_syllables': [], 'current_syllable': 'cao', 'id': 38, 'is_correct': True}, {'alternative_syllables': [], 'current_syllable': 'nhận', 'id': 39, 'is_correct': True}, {'alternative_syllables': [], 'current_syllable': 'thức', 'id': 40, 'is_correct': True}, {'alternative_syllables': [], 'current_syllable': 'cho', 'id': 41, 'is_correct': True}, {'alternative_syllables': [], 'current_syllable': 'giáo', 'id': 42, 'is_correct': True}, {'alternative_syllables': ['dục,'], 'current_syllable': 'duc,', 'id': 43, 'is_correct': False}, {'alternative_syllables': [], 'current_syllable': 'các', 'id': 44, 'is_correct': True}, {'alternative_syllables': [], 'current_syllable': 'bậc', 'id': 45, 'is_correct': True}, {'alternative_syllables': [], 'current_syllable': 'giáo', 'id': 46, 'is_correct': True}, {'alternative_syllables': [], 'current_syllable': 'viên', 'id': 47, 'is_correct': True}, {'alternative_syllables': [], 'current_syllable': 'về', 'id': 48, 'is_correct': True}, {'alternative_syllables': [], 'current_syllable': 'bạo', 'id': 49, 'is_correct': True}, {'alternative_syllables': [], 'current_syllable': 'lực', 'id': 50, 'is_correct': True}, {'alternative_syllables': [], 'current_syllable': 'trẻ', 'id': 51, 'is_correct': True}, {'alternative_syllables': [], 'current_syllable': 'em', 'id': 52, 'is_correct': True}, {'alternative_syllables': [], 'current_syllable': 'ở', 'id': 53, 'is_correct': True}, {'alternative_syllables': [], 'current_syllable': 'trường', 'id': 54, 'is_correct': True}, {'alternative_syllables': [], 'current_syllable': 'mầm', 'id': 55, 'is_correct': True}, {'alternative_syllables': [], 'current_syllable': 'non', 'id': 56, 'is_correct': True}, {'alternative_syllables': [], 'current_syllable': 'hiện', 'id': 57, 'is_correct': True}, {'alternative_syllables': [], 'current_syllable': 'nay.', 'id': 58, 'is_correct': True}]</td>\n",
       "      <td>Đứng trước những hành vi đi ngược lại với đạo đức giáo dục và luật pháp nhóm chúng tôi quyết định chọn và thực hiện đề tài này để góp phần nói lên tiếng nói và nâng cao nhận thức cho giáo duc, các bậc giáo viên về bạo lực trẻ em ở trường mầm non hiện nay.</td>\n",
       "      <td>đứng trước những hành vi đi ngược lại với đạo đức giáo dục và luật pháp nhóm chúng tôi quyết định chọn và thực hiện đề tài này để góp phần nói lên tiếng nói và nâng cao nhận thức cho giáo duc, các bậc giáo viên về bạo lực trẻ em ở trường mầm non hiện nay.</td>\n",
       "      <td>Đứng trước những hành vi đi ngược lại với đạo đức giáo dục và luật pháp nhóm chúng tôi quyết định chọn và thực hiện đề tài này để góp phần nói lên tiếng nói và nâng cao nhận thức cho giáo dục, các bậc giáo viên về bạo lực trẻ em ở trường mầm non hiện nay.</td>\n",
       "      <td>58</td>\n",
       "      <td>58</td>\n",
       "      <td>1</td>\n",
       "    </tr>\n",
       "    <tr>\n",
       "      <th>9338</th>\n",
       "      <td>[{'alternative_syllables': [], 'current_syllable': 'Quan', 'id': 1, 'is_correct': True}, {'alternative_syllables': [], 'current_syllable': 'điểm', 'id': 2, 'is_correct': True}, {'alternative_syllables': [], 'current_syllable': 'biện', 'id': 3, 'is_correct': True}, {'alternative_syllables': [], 'current_syllable': 'chứng', 'id': 4, 'is_correct': True}, {'alternative_syllables': [], 'current_syllable': 'của', 'id': 5, 'is_correct': True}, {'alternative_syllables': ['chủ'], 'current_syllable': 'chù', 'id': 6, 'is_correct': False}, {'alternative_syllables': [], 'current_syllable': 'nghĩa', 'id': 7, 'is_correct': True}, {'alternative_syllables': [], 'current_syllable': 'Mác', 'id': 8, 'is_correct': True}, {'alternative_syllables': [], 'current_syllable': '-', 'id': 9, 'is_correct': True}, {'alternative_syllables': [], 'current_syllable': 'Lênin', 'id': 10, 'is_correct': True}, {'alternative_syllables': [], 'current_syllable': 'không', 'id': 11, 'is_correct': True}, {'alternative_syllables': [], 'current_syllable': 'chỉ', 'id': 12, 'is_correct': True}, {'alternative_syllables': [], 'current_syllable': 'khẳng', 'id': 13, 'is_correct': True}, {'alternative_syllables': [], 'current_syllable': 'định', 'id': 14, 'is_correct': True}, {'alternative_syllables': [], 'current_syllable': 'tính', 'id': 15, 'is_correct': True}, {'alternative_syllables': [], 'current_syllable': 'khách', 'id': 16, 'is_correct': True}, {'alternative_syllables': [], 'current_syllable': 'quan,', 'id': 17, 'is_correct': True}, {'alternative_syllables': [], 'current_syllable': 'tính', 'id': 18, 'is_correct': True}, {'alternative_syllables': [], 'current_syllable': 'phổ', 'id': 19, 'is_correct': True}, {'alternative_syllables': [], 'current_syllable': 'biến', 'id': 20, 'is_correct': True}, {'alternative_syllables': [], 'current_syllable': 'của', 'id': 21, 'is_correct': True}, {'alternative_syllables': [], 'current_syllable': 'các', 'id': 22, 'is_correct': True}, {'alternative_syllables': [], 'current_syllable': 'mối', 'id': 23, 'is_correct': True}, {'alternative_syllables': [], 'current_syllable': 'liên', 'id': 24, 'is_correct': True}, {'alternative_syllables': [], 'current_syllable': 'hệ', 'id': 25, 'is_correct': True}, {'alternative_syllables': [], 'current_syllable': 'mà', 'id': 26, 'is_correct': True}, {'alternative_syllables': [], 'current_syllable': 'còn', 'id': 27, 'is_correct': True}, {'alternative_syllables': [], 'current_syllable': 'nhấn', 'id': 28, 'is_correct': True}, {'alternative_syllables': [], 'current_syllable': 'mạnh', 'id': 29, 'is_correct': True}, {'alternative_syllables': [], 'current_syllable': 'tính', 'id': 30, 'is_correct': True}, {'alternative_syllables': [], 'current_syllable': 'phong', 'id': 31, 'is_correct': True}, {'alternative_syllables': [], 'current_syllable': 'phú,', 'id': 32, 'is_correct': True}, {'alternative_syllables': [], 'current_syllable': 'đa', 'id': 33, 'is_correct': True}, {'alternative_syllables': [], 'current_syllable': 'dạng', 'id': 34, 'is_correct': True}, {'alternative_syllables': [], 'current_syllable': 'của', 'id': 35, 'is_correct': True}, {'alternative_syllables': [], 'current_syllable': 'các', 'id': 36, 'is_correct': True}, {'alternative_syllables': [], 'current_syllable': 'mối', 'id': 37, 'is_correct': True}, {'alternative_syllables': [], 'current_syllable': 'liên', 'id': 38, 'is_correct': True}, {'alternative_syllables': [], 'current_syllable': 'hệ.', 'id': 39, 'is_correct': True}]</td>\n",
       "      <td>Quan điểm biện chứng của chù nghĩa Mác - Lênin không chỉ khẳng định tính khách quan, tính phổ biến của các mối liên hệ mà còn nhấn mạnh tính phong phú, đa dạng của các mối liên hệ.</td>\n",
       "      <td>quan điểm biện chứng của chù nghĩa mác - lênin không chỉ khẳng định tính khách quan, tính phổ biến của các mối liên hệ mà còn nhấn mạnh tính phong phú, đa dạng của các mối liên hệ.</td>\n",
       "      <td>Quan điểm biện chứng của chủ nghĩa Mác - Lênin không chỉ khẳng định tính khách quan, tính phổ biến của các mối liên hệ mà còn nhấn mạnh tính phong phú, đa dạng của các mối liên hệ.</td>\n",
       "      <td>39</td>\n",
       "      <td>39</td>\n",
       "      <td>1</td>\n",
       "    </tr>\n",
       "    <tr>\n",
       "      <th>9339</th>\n",
       "      <td>[{'alternative_syllables': [], 'current_syllable': 'Đối', 'id': 1, 'is_correct': True}, {'alternative_syllables': [], 'current_syllable': 'với', 'id': 2, 'is_correct': True}, {'alternative_syllables': [], 'current_syllable': 'biểu', 'id': 3, 'is_correct': True}, {'alternative_syllables': [], 'current_syllable': 'đồ', 'id': 4, 'is_correct': True}, {'alternative_syllables': [], 'current_syllable': 'Histogram,', 'id': 5, 'is_correct': True}, {'alternative_syllables': [], 'current_syllable': 'nếu', 'id': 6, 'is_correct': True}, {'alternative_syllables': [], 'current_syllable': 'giá', 'id': 7, 'is_correct': True}, {'alternative_syllables': [], 'current_syllable': 'trị', 'id': 8, 'is_correct': True}, {'alternative_syllables': [], 'current_syllable': 'trung', 'id': 9, 'is_correct': True}, {'alternative_syllables': [], 'current_syllable': 'bình', 'id': 10, 'is_correct': True}, {'alternative_syllables': [], 'current_syllable': 'Mean', 'id': 11, 'is_correct': True}, {'alternative_syllables': [], 'current_syllable': 'gần', 'id': 12, 'is_correct': True}, {'alternative_syllables': [], 'current_syllable': 'bằng', 'id': 13, 'is_correct': True}, {'alternative_syllables': [], 'current_syllable': '0,', 'id': 14, 'is_correct': True}, {'alternative_syllables': [], 'current_syllable': 'độ', 'id': 15, 'is_correct': True}, {'alternative_syllables': [], 'current_syllable': 'lệch', 'id': 16, 'is_correct': True}, {'alternative_syllables': [], 'current_syllable': 'chuẩn', 'id': 17, 'is_correct': True}, {'alternative_syllables': [], 'current_syllable': 'gần', 'id': 18, 'is_correct': True}, {'alternative_syllables': [], 'current_syllable': 'bằng', 'id': 19, 'is_correct': True}, {'alternative_syllables': [], 'current_syllable': '1', 'id': 20, 'is_correct': True}, {'alternative_syllables': [], 'current_syllable': 'và', 'id': 21, 'is_correct': True}, {'alternative_syllables': [], 'current_syllable': 'đường', 'id': 22, 'is_correct': True}, {'alternative_syllables': [], 'current_syllable': 'cong', 'id': 23, 'is_correct': True}, {'alternative_syllables': [], 'current_syllable': 'phân', 'id': 24, 'is_correct': True}, {'alternative_syllables': [], 'current_syllable': 'phối', 'id': 25, 'is_correct': True}, {'alternative_syllables': [], 'current_syllable': 'có', 'id': 26, 'is_correct': True}, {'alternative_syllables': [], 'current_syllable': 'hình', 'id': 27, 'is_correct': True}, {'alternative_syllables': [], 'current_syllable': 'dạng', 'id': 28, 'is_correct': True}, {'alternative_syllables': [], 'current_syllable': 'chuông', 'id': 29, 'is_correct': True}, {'alternative_syllables': [], 'current_syllable': 'thì', 'id': 30, 'is_correct': True}, {'alternative_syllables': [], 'current_syllable': 'có', 'id': 31, 'is_correct': True}, {'alternative_syllables': [], 'current_syllable': 'thể', 'id': 32, 'is_correct': True}, {'alternative_syllables': [], 'current_syllable': 'khẳng', 'id': 33, 'is_correct': True}, {'alternative_syllables': [], 'current_syllable': 'định', 'id': 34, 'is_correct': True}, {'alternative_syllables': [], 'current_syllable': 'phân', 'id': 35, 'is_correct': True}, {'alternative_syllables': [], 'current_syllable': 'phối', 'id': 36, 'is_correct': True}, {'alternative_syllables': [], 'current_syllable': 'là', 'id': 37, 'is_correct': True}, {'alternative_syllables': ['xấp'], 'current_syllable': 'xếp', 'id': 38, 'is_correct': False}, {'alternative_syllables': [], 'current_syllable': 'xỉ', 'id': 39, 'is_correct': True}, {'alternative_syllables': [], 'current_syllable': 'chuẩn,', 'id': 40, 'is_correct': True}, {'alternative_syllables': [], 'current_syllable': 'giả', 'id': 41, 'is_correct': True}, {'alternative_syllables': [], 'current_syllable': 'định', 'id': 42, 'is_correct': True}, {'alternative_syllables': [], 'current_syllable': 'phân', 'id': 43, 'is_correct': True}, {'alternative_syllables': [], 'current_syllable': 'phối', 'id': 44, 'is_correct': True}, {'alternative_syllables': [], 'current_syllable': 'chuẩn', 'id': 45, 'is_correct': True}, {'alternative_syllables': [], 'current_syllable': 'của', 'id': 46, 'is_correct': True}, {'alternative_syllables': [], 'current_syllable': 'phần', 'id': 47, 'is_correct': True}, {'alternative_syllables': [], 'current_syllable': 'dư', 'id': 48, 'is_correct': True}, {'alternative_syllables': [], 'current_syllable': 'không', 'id': 49, 'is_correct': True}, {'alternative_syllables': [], 'current_syllable': 'bị', 'id': 50, 'is_correct': True}, {'alternative_syllables': [], 'current_syllable': 'vi', 'id': 51, 'is_correct': True}, {'alternative_syllables': [], 'current_syllable': 'phạm.', 'id': 52, 'is_correct': True}]</td>\n",
       "      <td>Đối với biểu đồ Histogram, nếu giá trị trung bình Mean gần bằng 0, độ lệch chuẩn gần bằng 1 và đường cong phân phối có hình dạng chuông thì có thể khẳng định phân phối là xếp xỉ chuẩn, giả định phân phối chuẩn của phần dư không bị vi phạm.</td>\n",
       "      <td>đối với biểu đồ histogram, nếu giá trị trung bình mean gần bằng 0, độ lệch chuẩn gần bằng 1 và đường cong phân phối có hình dạng chuông thì có thể khẳng định phân phối là xếp xỉ chuẩn, giả định phân phối chuẩn của phần dư không bị vi phạm.</td>\n",
       "      <td>Đối với biểu đồ Histogram, nếu giá trị trung bình Mean gần bằng 0, độ lệch chuẩn gần bằng 1 và đường cong phân phối có hình dạng chuông thì có thể khẳng định phân phối là xấp xỉ chuẩn, giả định phân phối chuẩn của phần dư không bị vi phạm.</td>\n",
       "      <td>52</td>\n",
       "      <td>52</td>\n",
       "      <td>1</td>\n",
       "    </tr>\n",
       "    <tr>\n",
       "      <th>9340</th>\n",
       "      <td>[{'alternative_syllables': [], 'current_syllable': 'Trong', 'id': 1, 'is_correct': True}, {'alternative_syllables': [], 'current_syllable': 'mỗi', 'id': 2, 'is_correct': True}, {'alternative_syllables': [], 'current_syllable': 'khu', 'id': 3, 'is_correct': True}, {'alternative_syllables': [], 'current_syllable': 'vực', 'id': 4, 'is_correct': True}, {'alternative_syllables': [], 'current_syllable': 'mà', 'id': 5, 'is_correct': True}, {'alternative_syllables': [], 'current_syllable': 'đội', 'id': 6, 'is_correct': True}, {'alternative_syllables': [], 'current_syllable': 'phát', 'id': 7, 'is_correct': True}, {'alternative_syllables': [], 'current_syllable': 'triển', 'id': 8, 'is_correct': True}, {'alternative_syllables': [], 'current_syllable': 'thị', 'id': 9, 'is_correct': True}, {'alternative_syllables': [], 'current_syllable': 'trường', 'id': 10, 'is_correct': True}, {'alternative_syllables': [], 'current_syllable': 'nhắm', 'id': 11, 'is_correct': True}, {'alternative_syllables': [], 'current_syllable': 'đến', 'id': 12, 'is_correct': True}, {'alternative_syllables': [], 'current_syllable': 'sẽ', 'id': 13, 'is_correct': True}, {'alternative_syllables': [], 'current_syllable': 'có', 'id': 14, 'is_correct': True}, {'alternative_syllables': [], 'current_syllable': 'những', 'id': 15, 'is_correct': True}, {'alternative_syllables': [], 'current_syllable': 'tệp', 'id': 16, 'is_correct': True}, {'alternative_syllables': [], 'current_syllable': 'khách', 'id': 17, 'is_correct': True}, {'alternative_syllables': [], 'current_syllable': 'hàng', 'id': 18, 'is_correct': True}, {'alternative_syllables': [], 'current_syllable': 'khác', 'id': 19, 'is_correct': True}, {'alternative_syllables': [], 'current_syllable': 'nhau', 'id': 20, 'is_correct': True}, {'alternative_syllables': [], 'current_syllable': 'cho', 'id': 21, 'is_correct': True}, {'alternative_syllables': [], 'current_syllable': 'nên', 'id': 22, 'is_correct': True}, {'alternative_syllables': [], 'current_syllable': 'việc', 'id': 23, 'is_correct': True}, {'alternative_syllables': [], 'current_syllable': 'tạo', 'id': 24, 'is_correct': True}, {'alternative_syllables': [], 'current_syllable': 'ra', 'id': 25, 'is_correct': True}, {'alternative_syllables': [], 'current_syllable': 'từng', 'id': 26, 'is_correct': True}, {'alternative_syllables': [], 'current_syllable': 'nhóm', 'id': 27, 'is_correct': True}, {'alternative_syllables': [], 'current_syllable': 'khách', 'id': 28, 'is_correct': True}, {'alternative_syllables': [], 'current_syllable': 'hàng', 'id': 29, 'is_correct': True}, {'alternative_syllables': [], 'current_syllable': 'trên', 'id': 30, 'is_correct': True}, {'alternative_syllables': [], 'current_syllable': 'từng', 'id': 31, 'is_correct': True}, {'alternative_syllables': [], 'current_syllable': 'khu', 'id': 32, 'is_correct': True}, {'alternative_syllables': [], 'current_syllable': 'vực', 'id': 33, 'is_correct': True}, {'alternative_syllables': [], 'current_syllable': 'trong', 'id': 34, 'is_correct': True}, {'alternative_syllables': [], 'current_syllable': 'CRM', 'id': 35, 'is_correct': True}, {'alternative_syllables': [], 'current_syllable': 'là', 'id': 36, 'is_correct': True}, {'alternative_syllables': [], 'current_syllable': 'một', 'id': 37, 'is_correct': True}, {'alternative_syllables': [], 'current_syllable': 'việc', 'id': 38, 'is_correct': True}, {'alternative_syllables': [], 'current_syllable': 'cần', 'id': 39, 'is_correct': True}, {'alternative_syllables': [], 'current_syllable': 'thiết', 'id': 40, 'is_correct': True}, {'alternative_syllables': [], 'current_syllable': 'để', 'id': 41, 'is_correct': True}, {'alternative_syllables': [], 'current_syllable': 'dễ', 'id': 42, 'is_correct': True}, {'alternative_syllables': [], 'current_syllable': 'dàng', 'id': 43, 'is_correct': True}, {'alternative_syllables': [], 'current_syllable': 'và', 'id': 44, 'is_correct': True}, {'alternative_syllables': ['tiện'], 'current_syllable': 'tiên', 'id': 45, 'is_correct': False}, {'alternative_syllables': [], 'current_syllable': 'lợi', 'id': 46, 'is_correct': True}, {'alternative_syllables': [], 'current_syllable': 'cho', 'id': 47, 'is_correct': True}, {'alternative_syllables': [], 'current_syllable': 'việc', 'id': 48, 'is_correct': True}, {'alternative_syllables': [], 'current_syllable': 'chăm', 'id': 49, 'is_correct': True}, {'alternative_syllables': [], 'current_syllable': 'sóc', 'id': 50, 'is_correct': True}, {'alternative_syllables': [], 'current_syllable': 'khách', 'id': 51, 'is_correct': True}, {'alternative_syllables': [], 'current_syllable': 'hàng.', 'id': 52, 'is_correct': True}]</td>\n",
       "      <td>Trong mỗi khu vực mà đội phát triển thị trường nhắm đến sẽ có những tệp khách hàng khác nhau cho nên việc tạo ra từng nhóm khách hàng trên từng khu vực trong CRM là một việc cần thiết để dễ dàng và tiên lợi cho việc chăm sóc khách hàng.</td>\n",
       "      <td>trong mỗi khu vực mà đội phát triển thị trường nhắm đến sẽ có những tệp khách hàng khác nhau cho nên việc tạo ra từng nhóm khách hàng trên từng khu vực trong crm là một việc cần thiết để dễ dàng và tiên lợi cho việc chăm sóc khách hàng.</td>\n",
       "      <td>Trong mỗi khu vực mà đội phát triển thị trường nhắm đến sẽ có những tệp khách hàng khác nhau cho nên việc tạo ra từng nhóm khách hàng trên từng khu vực trong CRM là một việc cần thiết để dễ dàng và tiện lợi cho việc chăm sóc khách hàng.</td>\n",
       "      <td>52</td>\n",
       "      <td>52</td>\n",
       "      <td>1</td>\n",
       "    </tr>\n",
       "  </tbody>\n",
       "</table>\n",
       "<p>8969 rows × 7 columns</p>\n",
       "</div>"
      ],
      "text/plain": [
       "                                                                                                                                                                                                                                                                                                                                                                                                                                                                                                                                                                                                                                                                                                                                                                                                                                                                                                                                                                                                                                                                                                                                                                                                                                                                                                                                                                                                                                                                                                                                                                                                                                                                                                                                                                                                                                                                                                                                                                                                                                                                                                                                                                                                                                                                                                                                                                                                                                                                                                                                                                                                                                                                                                                                                                                                                                                                                                                                                                                                                                                                                                                                                                                                                                                                                                                                                                                                                                                                                                                                                                                                                                                                                                                                                                                                                                                                                                                                                                                                                                                                                                                                                                                                                                                                                                                                                                                                                                                                                                                                                                                                                                                                                                                                                                                                                                                                                                                                                                                                                                                                                                                                                                                                                                                                                                                                 annotations  \\\n",
       "0                                                                                                                                                                                       [{'alternative_syllables': [], 'current_syllable': 'Thông', 'id': 1, 'is_correct': True}, {'alternative_syllables': [], 'current_syllable': 'qua', 'id': 2, 'is_correct': True}, {'alternative_syllables': [], 'current_syllable': 'công', 'id': 3, 'is_correct': True}, {'alternative_syllables': [], 'current_syllable': 'tác', 'id': 4, 'is_correct': True}, {'alternative_syllables': [], 'current_syllable': 'tuyên', 'id': 5, 'is_correct': True}, {'alternative_syllables': [], 'current_syllable': 'truyền,', 'id': 6, 'is_correct': True}, {'alternative_syllables': [], 'current_syllable': 'vận', 'id': 7, 'is_correct': True}, {'alternative_syllables': [], 'current_syllable': 'động', 'id': 8, 'is_correct': True}, {'alternative_syllables': [], 'current_syllable': 'này', 'id': 9, 'is_correct': True}, {'alternative_syllables': [], 'current_syllable': 'phụ', 'id': 10, 'is_correct': True}, {'alternative_syllables': [], 'current_syllable': 'huynh', 'id': 11, 'is_correct': True}, {'alternative_syllables': [], 'current_syllable': 'sẽ', 'id': 12, 'is_correct': True}, {'alternative_syllables': [], 'current_syllable': 'hiểu', 'id': 13, 'is_correct': True}, {'alternative_syllables': [], 'current_syllable': 'rõ', 'id': 14, 'is_correct': True}, {'alternative_syllables': [], 'current_syllable': 'hơn', 'id': 15, 'is_correct': True}, {'alternative_syllables': [], 'current_syllable': 'tầm', 'id': 16, 'is_correct': True}, {'alternative_syllables': [], 'current_syllable': 'quan', 'id': 17, 'is_correct': True}, {'alternative_syllables': [], 'current_syllable': 'trọng', 'id': 18, 'is_correct': True}, {'alternative_syllables': [], 'current_syllable': 'của', 'id': 19, 'is_correct': True}, {'alternative_syllables': [], 'current_syllable': 'việc', 'id': 20, 'is_correct': True}, {'alternative_syllables': [], 'current_syllable': 'giáo', 'id': 21, 'is_correct': True}, {'alternative_syllables': [], 'current_syllable': 'dục', 'id': 22, 'is_correct': True}, {'alternative_syllables': [], 'current_syllable': 'ý', 'id': 23, 'is_correct': True}, {'alternative_syllables': [], 'current_syllable': 'thức', 'id': 24, 'is_correct': True}, {'alternative_syllables': [], 'current_syllable': 'bảo', 'id': 25, 'is_correct': True}, {'alternative_syllables': [], 'current_syllable': 'vệ', 'id': 26, 'is_correct': True}, {'alternative_syllables': [], 'current_syllable': 'môi', 'id': 27, 'is_correct': True}, {'alternative_syllables': [], 'current_syllable': 'trường', 'id': 28, 'is_correct': True}, {'alternative_syllables': [], 'current_syllable': 'cho', 'id': 29, 'is_correct': True}, {'alternative_syllables': [], 'current_syllable': 'trẻ', 'id': 30, 'is_correct': True}, {'alternative_syllables': [], 'current_syllable': 'không', 'id': 31, 'is_correct': True}, {'alternative_syllables': [], 'current_syllable': 'phải', 'id': 32, 'is_correct': True}, {'alternative_syllables': [], 'current_syllable': 'chỉ', 'id': 33, 'is_correct': True}, {'alternative_syllables': [], 'current_syllable': 'ở', 'id': 34, 'is_correct': True}, {'alternative_syllables': [], 'current_syllable': 'phía', 'id': 35, 'is_correct': True}, {'alternative_syllables': [], 'current_syllable': 'nhà', 'id': 36, 'is_correct': True}, {'alternative_syllables': [], 'current_syllable': 'trường', 'id': 37, 'is_correct': True}, {'alternative_syllables': [], 'current_syllable': 'mà', 'id': 38, 'is_correct': True}, {'alternative_syllables': [], 'current_syllable': 'còn', 'id': 39, 'is_correct': True}, {'alternative_syllables': [], 'current_syllable': 'ở', 'id': 40, 'is_correct': True}, {'alternative_syllables': [], 'current_syllable': 'gia', 'id': 41, 'is_correct': True}, {'alternative_syllables': [], 'current_syllable': 'đình', 'id': 42, 'is_correct': True}, {'alternative_syllables': [], 'current_syllable': ',', 'id': 43, 'is_correct': True}, {'alternative_syllables': [], 'current_syllable': 'góp', 'id': 44, 'is_correct': True}, {'alternative_syllables': [], 'current_syllable': 'phần', 'id': 45, 'is_correct': True}, {'alternative_syllables': [], 'current_syllable': 'vào', 'id': 46, 'is_correct': True}, {'alternative_syllables': [], 'current_syllable': 'việc', 'id': 47, 'is_correct': True}, {'alternative_syllables': [], 'current_syllable': 'gìn', 'id': 48, 'is_correct': True}, {'alternative_syllables': [], 'current_syllable': 'giữ', 'id': 49, 'is_correct': True}, {'alternative_syllables': [], 'current_syllable': 'môi', 'id': 50, 'is_correct': True}, {'alternative_syllables': [], 'current_syllable': 'trường', 'id': 51, 'is_correct': True}, {'alternative_syllables': ['xanh'], 'current_syllable': 'sanh', 'id': 52, 'is_correct': False}, {'alternative_syllables': [], 'current_syllable': ',', 'id': 53, 'is_correct': True}, {'alternative_syllables': [], 'current_syllable': 'sạch', 'id': 54, 'is_correct': True}, {'alternative_syllables': [], 'current_syllable': ',', 'id': 55, 'is_correct': True}, {'alternative_syllables': [], 'current_syllable': 'đẹp.', 'id': 56, 'is_correct': True}]   \n",
       "1                                                                                                                                                                                                                                                                                                                                                                                                                                                                                                                                                                                                                                                                                                                                                                                                                                                                                                                                                                                                                                                                                                                                                                                                                                                                                                                                                                                                                                                                                                                                                                                                                                                                                                                                                                                                                                                                                                                                                                                                                                                                                                                                                                                                                                                                                                                                                                                                                                                                                                                                                                                                                                                                                                                                                                                                                                                                                                                                                                                                                                                                                                                                                                                                                                                                                                                    [{'alternative_syllables': [], 'current_syllable': 'Do', 'id': 1, 'is_correct': True}, {'alternative_syllables': [], 'current_syllable': 'đó,', 'id': 2, 'is_correct': True}, {'alternative_syllables': [], 'current_syllable': 'doanh', 'id': 3, 'is_correct': True}, {'alternative_syllables': [], 'current_syllable': 'nghiệp', 'id': 4, 'is_correct': True}, {'alternative_syllables': [], 'current_syllable': 'cần', 'id': 5, 'is_correct': True}, {'alternative_syllables': [], 'current_syllable': 'chú', 'id': 6, 'is_correct': True}, {'alternative_syllables': [], 'current_syllable': 'trọng', 'id': 7, 'is_correct': True}, {'alternative_syllables': [], 'current_syllable': 'đến', 'id': 8, 'is_correct': True}, {'alternative_syllables': [], 'current_syllable': 'yếu', 'id': 9, 'is_correct': True}, {'alternative_syllables': [], 'current_syllable': 'tố', 'id': 10, 'is_correct': True}, {'alternative_syllables': [], 'current_syllable': 'này', 'id': 11, 'is_correct': True}, {'alternative_syllables': [], 'current_syllable': 'để', 'id': 12, 'is_correct': True}, {'alternative_syllables': ['làm'], 'current_syllable': 'là', 'id': 13, 'is_correct': False}, {'alternative_syllables': [], 'current_syllable': 'thỏa', 'id': 14, 'is_correct': True}, {'alternative_syllables': [], 'current_syllable': 'mãn,', 'id': 15, 'is_correct': True}, {'alternative_syllables': [], 'current_syllable': 'hài', 'id': 16, 'is_correct': True}, {'alternative_syllables': [], 'current_syllable': 'lòng', 'id': 17, 'is_correct': True}, {'alternative_syllables': [], 'current_syllable': 'các', 'id': 18, 'is_correct': True}, {'alternative_syllables': [], 'current_syllable': 'nhóm', 'id': 19, 'is_correct': True}, {'alternative_syllables': [], 'current_syllable': 'đối', 'id': 20, 'is_correct': True}, {'alternative_syllables': [], 'current_syllable': 'tượng', 'id': 21, 'is_correct': True}, {'alternative_syllables': [], 'current_syllable': 'này.', 'id': 22, 'is_correct': True}]   \n",
       "2                                                                                                                                                                                                                                                                                                                                                                                                                                                                                                                                                                                                                                                                                                                                                                                                                                                                                                                                                                                                                                                                                                                                                                                                                                                                                                                                                                                                                                                                                                                                                                                                                                                                                                                                                                                                                                                                                                                                                                                                                                                                                                                                                                                                                                                                                                                                                                                                                                                                                                                                                                                                                                                                                                                                                                                                                                                                                                                                                                                                                                                                                                                                                                                                                                                                                                           [{'alternative_syllables': [], 'current_syllable': 'Giữ', 'id': 1, 'is_correct': True}, {'alternative_syllables': [], 'current_syllable': 'được', 'id': 2, 'is_correct': True}, {'alternative_syllables': [], 'current_syllable': 'chỉ', 'id': 3, 'is_correct': True}, {'alternative_syllables': [], 'current_syllable': 'số', 'id': 4, 'is_correct': True}, {'alternative_syllables': [], 'current_syllable': 'này', 'id': 5, 'is_correct': True}, {'alternative_syllables': [], 'current_syllable': 'không', 'id': 6, 'is_correct': True}, {'alternative_syllables': ['giảm'], 'current_syllable': 'giam', 'id': 7, 'is_correct': False}, {'alternative_syllables': [], 'current_syllable': 'mà', 'id': 8, 'is_correct': True}, {'alternative_syllables': [], 'current_syllable': 'còn', 'id': 9, 'is_correct': True}, {'alternative_syllables': [], 'current_syllable': 'tăng', 'id': 10, 'is_correct': True}, {'alternative_syllables': [], 'current_syllable': 'thêm', 'id': 11, 'is_correct': True}, {'alternative_syllables': [], 'current_syllable': 'cũng', 'id': 12, 'is_correct': True}, {'alternative_syllables': [], 'current_syllable': 'được', 'id': 13, 'is_correct': True}, {'alternative_syllables': [], 'current_syllable': 'xem', 'id': 14, 'is_correct': True}, {'alternative_syllables': [], 'current_syllable': 'là', 'id': 15, 'is_correct': True}, {'alternative_syllables': [], 'current_syllable': 'một', 'id': 16, 'is_correct': True}, {'alternative_syllables': ['bước'], 'current_syllable': 'bức', 'id': 17, 'is_correct': False}, {'alternative_syllables': [], 'current_syllable': 'thành', 'id': 18, 'is_correct': True}, {'alternative_syllables': [], 'current_syllable': 'công', 'id': 19, 'is_correct': True}, {'alternative_syllables': [], 'current_syllable': 'của', 'id': 20, 'is_correct': True}, {'alternative_syllables': [], 'current_syllable': 'Ngân', 'id': 21, 'is_correct': True}, {'alternative_syllables': [], 'current_syllable': 'hàng.', 'id': 22, 'is_correct': True}]   \n",
       "3                                                                                                                                                                                                                                                                                                                                                                                                                                                                                                                                                                                                                                                                                                                                                                                                                                                                                                                                                                                                                                                                                                                                                                                                                                                                                                                                                                                                                                                                                                                                                                                                                                                              [{'alternative_syllables': ['Đứng'], 'current_syllable': 'Đúng', 'id': 1, 'is_correct': False}, {'alternative_syllables': [], 'current_syllable': 'trước', 'id': 2, 'is_correct': True}, {'alternative_syllables': [], 'current_syllable': 'thực', 'id': 3, 'is_correct': True}, {'alternative_syllables': [], 'current_syllable': 'tế', 'id': 4, 'is_correct': True}, {'alternative_syllables': [], 'current_syllable': 'này', 'id': 5, 'is_correct': True}, {'alternative_syllables': [], 'current_syllable': 'đòi', 'id': 6, 'is_correct': True}, {'alternative_syllables': [], 'current_syllable': 'hỏi', 'id': 7, 'is_correct': True}, {'alternative_syllables': [], 'current_syllable': 'chúng', 'id': 8, 'is_correct': True}, {'alternative_syllables': [], 'current_syllable': 'ta', 'id': 9, 'is_correct': True}, {'alternative_syllables': [], 'current_syllable': 'cần', 'id': 10, 'is_correct': True}, {'alternative_syllables': [], 'current_syllable': 'phải', 'id': 11, 'is_correct': True}, {'alternative_syllables': [], 'current_syllable': 'có', 'id': 12, 'is_correct': True}, {'alternative_syllables': [], 'current_syllable': 'những', 'id': 13, 'is_correct': True}, {'alternative_syllables': [], 'current_syllable': 'nghiên', 'id': 14, 'is_correct': True}, {'alternative_syllables': [], 'current_syllable': 'cứu', 'id': 15, 'is_correct': True}, {'alternative_syllables': [], 'current_syllable': 'chi', 'id': 16, 'is_correct': True}, {'alternative_syllables': [], 'current_syllable': 'li,', 'id': 17, 'is_correct': True}, {'alternative_syllables': [], 'current_syllable': 'cụ', 'id': 18, 'is_correct': True}, {'alternative_syllables': [], 'current_syllable': 'thể', 'id': 19, 'is_correct': True}, {'alternative_syllables': [], 'current_syllable': 'nhằm', 'id': 20, 'is_correct': True}, {'alternative_syllables': [], 'current_syllable': 'tìm', 'id': 21, 'is_correct': True}, {'alternative_syllables': [], 'current_syllable': 'ra', 'id': 22, 'is_correct': True}, {'alternative_syllables': [], 'current_syllable': 'những', 'id': 23, 'is_correct': True}, {'alternative_syllables': [], 'current_syllable': 'nhân', 'id': 24, 'is_correct': True}, {'alternative_syllables': [], 'current_syllable': 'tố', 'id': 25, 'is_correct': True}, {'alternative_syllables': [], 'current_syllable': 'ảnh', 'id': 26, 'is_correct': True}, {'alternative_syllables': [], 'current_syllable': 'hưởng', 'id': 27, 'is_correct': True}, {'alternative_syllables': [], 'current_syllable': 'đến', 'id': 28, 'is_correct': True}, {'alternative_syllables': [], 'current_syllable': 'sự', 'id': 29, 'is_correct': True}, {'alternative_syllables': [], 'current_syllable': 'lựa', 'id': 30, 'is_correct': True}, {'alternative_syllables': [], 'current_syllable': 'chọn', 'id': 31, 'is_correct': True}, {'alternative_syllables': [], 'current_syllable': 'kênh', 'id': 32, 'is_correct': True}, {'alternative_syllables': [], 'current_syllable': 'mua', 'id': 33, 'is_correct': True}, {'alternative_syllables': [], 'current_syllable': 'sắm', 'id': 34, 'is_correct': True}, {'alternative_syllables': [], 'current_syllable': 'của', 'id': 35, 'is_correct': True}, {'alternative_syllables': [], 'current_syllable': 'người', 'id': 36, 'is_correct': True}, {'alternative_syllables': [], 'current_syllable': 'tiêu', 'id': 37, 'is_correct': True}, {'alternative_syllables': [], 'current_syllable': 'dùng', 'id': 38, 'is_correct': True}, {'alternative_syllables': [], 'current_syllable': 'ở', 'id': 39, 'is_correct': True}, {'alternative_syllables': [], 'current_syllable': 'TP.', 'id': 40, 'is_correct': True}]   \n",
       "4                                                                                                                                                                                                                                                                                                                                                                                                                                                                                                                                                                                                                                                                                                                                                                                                                                                                                                                                                                                                                                                                                                                                                                                                                                                                                                                                                                                                                                                                                                                                                                                                                                                                                                                                                                                                                                                                                                                                                                                                                                                                                                                                                                                                                                                                                                                                                                                                                                                                                                                                                                                                                                                                                                                                                                                                                                                                                                                                                                                                                                                                                                                                                                                                                      [{'alternative_syllables': [], 'current_syllable': 'Trình', 'id': 1, 'is_correct': True}, {'alternative_syllables': [], 'current_syllable': 'độ', 'id': 2, 'is_correct': True}, {'alternative_syllables': [], 'current_syllable': 'học', 'id': 3, 'is_correct': True}, {'alternative_syllables': [], 'current_syllable': 'vấn', 'id': 4, 'is_correct': True}, {'alternative_syllables': [], 'current_syllable': 'của', 'id': 5, 'is_correct': True}, {'alternative_syllables': [], 'current_syllable': 'nhân', 'id': 6, 'is_correct': True}, {'alternative_syllables': [], 'current_syllable': 'viên', 'id': 7, 'is_correct': True}, {'alternative_syllables': [], 'current_syllable': 'được', 'id': 8, 'is_correct': True}, {'alternative_syllables': [], 'current_syllable': 'tuyển', 'id': 9, 'is_correct': True}, {'alternative_syllables': [], 'current_syllable': 'dụng', 'id': 10, 'is_correct': True}, {'alternative_syllables': [], 'current_syllable': 'ngày', 'id': 11, 'is_correct': True}, {'alternative_syllables': ['càng'], 'current_syllable': 'cang', 'id': 12, 'is_correct': False}, {'alternative_syllables': [], 'current_syllable': 'cao', 'id': 13, 'is_correct': True}, {'alternative_syllables': [], 'current_syllable': 'hơn,', 'id': 14, 'is_correct': True}, {'alternative_syllables': [], 'current_syllable': 'thợ', 'id': 15, 'is_correct': True}, {'alternative_syllables': [], 'current_syllable': 'lành', 'id': 16, 'is_correct': True}, {'alternative_syllables': [], 'current_syllable': 'nghề', 'id': 17, 'is_correct': True}, {'alternative_syllables': [], 'current_syllable': 'cũng', 'id': 18, 'is_correct': True}, {'alternative_syllables': [], 'current_syllable': 'được', 'id': 19, 'is_correct': True}, {'alternative_syllables': [], 'current_syllable': 'sàng', 'id': 20, 'is_correct': True}, {'alternative_syllables': [], 'current_syllable': 'lọc', 'id': 21, 'is_correct': True}, {'alternative_syllables': [], 'current_syllable': 'kỹ', 'id': 22, 'is_correct': True}, {'alternative_syllables': [], 'current_syllable': 'hơn.', 'id': 23, 'is_correct': True}]   \n",
       "...                                                                                                                                                                                                                                                                                                                                                                                                                                                                                                                                                                                                                                                                                                                                                                                                                                                                                                                                                                                                                                                                                                                                                                                                                                                                                                                                                                                                                                                                                                                                                                                                                                                                                                                                                                                                                                                                                                                                                                                                                                                                                                                                                                                                                                                                                                                                                                                                                                                                                                                                                                                                                                                                                                                                                                                                                                                                                                                                                                                                                                                                                                                                                                                                                                                                                                                                                                                                                                                                                                                                                                                                                                                                                                                                                                                                                                                                                                                                                                                                                                                                                                                                                                                                                                                                                                                                                                                                                                                                                                                                                                                                                                                                                                                                                                                                                                                                                                                                                                                                                                                                                                                                                                                                                                                                                                                                      ...   \n",
       "9336                                                                                                                                                                                                                                                                                                                                                                                                                                                                                                                                                                                                                                                                                                                                                                                                                                                                                                                                                                                                                                                                                                                                                                                                                                                                                                                                                                                                                                                                                                                                                                                                                                                                                                                                      [{'alternative_syllables': [], 'current_syllable': 'Tuy', 'id': 1, 'is_correct': True}, {'alternative_syllables': [], 'current_syllable': 'nhiên,', 'id': 2, 'is_correct': True}, {'alternative_syllables': [], 'current_syllable': 'khi', 'id': 3, 'is_correct': True}, {'alternative_syllables': [], 'current_syllable': 'nói', 'id': 4, 'is_correct': True}, {'alternative_syllables': [], 'current_syllable': 'đến', 'id': 5, 'is_correct': True}, {'alternative_syllables': [], 'current_syllable': 'E-Learning,', 'id': 6, 'is_correct': True}, {'alternative_syllables': [], 'current_syllable': 'các', 'id': 7, 'is_correct': True}, {'alternative_syllables': [], 'current_syllable': 'phương', 'id': 8, 'is_correct': True}, {'alternative_syllables': [], 'current_syllable': 'pháp', 'id': 9, 'is_correct': True}, {'alternative_syllables': [], 'current_syllable': 'lớp', 'id': 10, 'is_correct': True}, {'alternative_syllables': [], 'current_syllable': 'học', 'id': 11, 'is_correct': True}, {'alternative_syllables': [], 'current_syllable': 'dựa', 'id': 12, 'is_correct': True}, {'alternative_syllables': [], 'current_syllable': 'trên', 'id': 13, 'is_correct': True}, {'alternative_syllables': [], 'current_syllable': 'địa', 'id': 14, 'is_correct': True}, {'alternative_syllables': [], 'current_syllable': 'điểm', 'id': 15, 'is_correct': True}, {'alternative_syllables': [], 'current_syllable': 'của', 'id': 16, 'is_correct': True}, {'alternative_syllables': [], 'current_syllable': 'Google', 'id': 17, 'is_correct': True}, {'alternative_syllables': [], 'current_syllable': 'có', 'id': 18, 'is_correct': True}, {'alternative_syllables': [], 'current_syllable': 'thể', 'id': 19, 'is_correct': True}, {'alternative_syllables': [], 'current_syllable': 'được', 'id': 20, 'is_correct': True}, {'alternative_syllables': [], 'current_syllable': 'thay', 'id': 21, 'is_correct': True}, {'alternative_syllables': [], 'current_syllable': 'thế', 'id': 22, 'is_correct': True}, {'alternative_syllables': [], 'current_syllable': 'bằng', 'id': 23, 'is_correct': True}, {'alternative_syllables': [], 'current_syllable': 'hội', 'id': 24, 'is_correct': True}, {'alternative_syllables': [], 'current_syllable': 'thảo', 'id': 25, 'is_correct': True}, {'alternative_syllables': [], 'current_syllable': 'trên', 'id': 26, 'is_correct': True}, {'alternative_syllables': [], 'current_syllable': 'web', 'id': 27, 'is_correct': True}, {'alternative_syllables': [], 'current_syllable': 'giúp', 'id': 28, 'is_correct': True}, {'alternative_syllables': [], 'current_syllable': 'việc', 'id': 29, 'is_correct': True}, {'alternative_syllables': ['học'], 'current_syllable': 'hoc', 'id': 30, 'is_correct': False}, {'alternative_syllables': [], 'current_syllable': 'trở', 'id': 31, 'is_correct': True}, {'alternative_syllables': [], 'current_syllable': 'nên', 'id': 32, 'is_correct': True}, {'alternative_syllables': [], 'current_syllable': 'dễ', 'id': 33, 'is_correct': True}, {'alternative_syllables': [], 'current_syllable': 'tiếp', 'id': 34, 'is_correct': True}, {'alternative_syllables': [], 'current_syllable': 'cận', 'id': 35, 'is_correct': True}, {'alternative_syllables': [], 'current_syllable': 'và', 'id': 36, 'is_correct': True}, {'alternative_syllables': [], 'current_syllable': 'thuận', 'id': 37, 'is_correct': True}, {'alternative_syllables': [], 'current_syllable': 'tiện', 'id': 38, 'is_correct': True}, {'alternative_syllables': [], 'current_syllable': 'hơn.', 'id': 39, 'is_correct': True}]   \n",
       "9337  [{'alternative_syllables': [], 'current_syllable': 'Đứng', 'id': 1, 'is_correct': True}, {'alternative_syllables': [], 'current_syllable': 'trước', 'id': 2, 'is_correct': True}, {'alternative_syllables': [], 'current_syllable': 'những', 'id': 3, 'is_correct': True}, {'alternative_syllables': [], 'current_syllable': 'hành', 'id': 4, 'is_correct': True}, {'alternative_syllables': [], 'current_syllable': 'vi', 'id': 5, 'is_correct': True}, {'alternative_syllables': [], 'current_syllable': 'đi', 'id': 6, 'is_correct': True}, {'alternative_syllables': [], 'current_syllable': 'ngược', 'id': 7, 'is_correct': True}, {'alternative_syllables': [], 'current_syllable': 'lại', 'id': 8, 'is_correct': True}, {'alternative_syllables': [], 'current_syllable': 'với', 'id': 9, 'is_correct': True}, {'alternative_syllables': [], 'current_syllable': 'đạo', 'id': 10, 'is_correct': True}, {'alternative_syllables': [], 'current_syllable': 'đức', 'id': 11, 'is_correct': True}, {'alternative_syllables': [], 'current_syllable': 'giáo', 'id': 12, 'is_correct': True}, {'alternative_syllables': [], 'current_syllable': 'dục', 'id': 13, 'is_correct': True}, {'alternative_syllables': [], 'current_syllable': 'và', 'id': 14, 'is_correct': True}, {'alternative_syllables': [], 'current_syllable': 'luật', 'id': 15, 'is_correct': True}, {'alternative_syllables': [], 'current_syllable': 'pháp', 'id': 16, 'is_correct': True}, {'alternative_syllables': [], 'current_syllable': 'nhóm', 'id': 17, 'is_correct': True}, {'alternative_syllables': [], 'current_syllable': 'chúng', 'id': 18, 'is_correct': True}, {'alternative_syllables': [], 'current_syllable': 'tôi', 'id': 19, 'is_correct': True}, {'alternative_syllables': [], 'current_syllable': 'quyết', 'id': 20, 'is_correct': True}, {'alternative_syllables': [], 'current_syllable': 'định', 'id': 21, 'is_correct': True}, {'alternative_syllables': [], 'current_syllable': 'chọn', 'id': 22, 'is_correct': True}, {'alternative_syllables': [], 'current_syllable': 'và', 'id': 23, 'is_correct': True}, {'alternative_syllables': [], 'current_syllable': 'thực', 'id': 24, 'is_correct': True}, {'alternative_syllables': [], 'current_syllable': 'hiện', 'id': 25, 'is_correct': True}, {'alternative_syllables': [], 'current_syllable': 'đề', 'id': 26, 'is_correct': True}, {'alternative_syllables': [], 'current_syllable': 'tài', 'id': 27, 'is_correct': True}, {'alternative_syllables': [], 'current_syllable': 'này', 'id': 28, 'is_correct': True}, {'alternative_syllables': [], 'current_syllable': 'để', 'id': 29, 'is_correct': True}, {'alternative_syllables': [], 'current_syllable': 'góp', 'id': 30, 'is_correct': True}, {'alternative_syllables': [], 'current_syllable': 'phần', 'id': 31, 'is_correct': True}, {'alternative_syllables': [], 'current_syllable': 'nói', 'id': 32, 'is_correct': True}, {'alternative_syllables': [], 'current_syllable': 'lên', 'id': 33, 'is_correct': True}, {'alternative_syllables': [], 'current_syllable': 'tiếng', 'id': 34, 'is_correct': True}, {'alternative_syllables': [], 'current_syllable': 'nói', 'id': 35, 'is_correct': True}, {'alternative_syllables': [], 'current_syllable': 'và', 'id': 36, 'is_correct': True}, {'alternative_syllables': [], 'current_syllable': 'nâng', 'id': 37, 'is_correct': True}, {'alternative_syllables': [], 'current_syllable': 'cao', 'id': 38, 'is_correct': True}, {'alternative_syllables': [], 'current_syllable': 'nhận', 'id': 39, 'is_correct': True}, {'alternative_syllables': [], 'current_syllable': 'thức', 'id': 40, 'is_correct': True}, {'alternative_syllables': [], 'current_syllable': 'cho', 'id': 41, 'is_correct': True}, {'alternative_syllables': [], 'current_syllable': 'giáo', 'id': 42, 'is_correct': True}, {'alternative_syllables': ['dục,'], 'current_syllable': 'duc,', 'id': 43, 'is_correct': False}, {'alternative_syllables': [], 'current_syllable': 'các', 'id': 44, 'is_correct': True}, {'alternative_syllables': [], 'current_syllable': 'bậc', 'id': 45, 'is_correct': True}, {'alternative_syllables': [], 'current_syllable': 'giáo', 'id': 46, 'is_correct': True}, {'alternative_syllables': [], 'current_syllable': 'viên', 'id': 47, 'is_correct': True}, {'alternative_syllables': [], 'current_syllable': 'về', 'id': 48, 'is_correct': True}, {'alternative_syllables': [], 'current_syllable': 'bạo', 'id': 49, 'is_correct': True}, {'alternative_syllables': [], 'current_syllable': 'lực', 'id': 50, 'is_correct': True}, {'alternative_syllables': [], 'current_syllable': 'trẻ', 'id': 51, 'is_correct': True}, {'alternative_syllables': [], 'current_syllable': 'em', 'id': 52, 'is_correct': True}, {'alternative_syllables': [], 'current_syllable': 'ở', 'id': 53, 'is_correct': True}, {'alternative_syllables': [], 'current_syllable': 'trường', 'id': 54, 'is_correct': True}, {'alternative_syllables': [], 'current_syllable': 'mầm', 'id': 55, 'is_correct': True}, {'alternative_syllables': [], 'current_syllable': 'non', 'id': 56, 'is_correct': True}, {'alternative_syllables': [], 'current_syllable': 'hiện', 'id': 57, 'is_correct': True}, {'alternative_syllables': [], 'current_syllable': 'nay.', 'id': 58, 'is_correct': True}]   \n",
       "9338                                                                                                                                                                                                                                                                                                                                                                                                                                                                                                                                                                                                                                                                                                                                                                                                                                                                                                                                                                                                                                                                                                                                                                                                                                                                                                                                                                                                                                                                                                                                                                                                                                                                                                                                          [{'alternative_syllables': [], 'current_syllable': 'Quan', 'id': 1, 'is_correct': True}, {'alternative_syllables': [], 'current_syllable': 'điểm', 'id': 2, 'is_correct': True}, {'alternative_syllables': [], 'current_syllable': 'biện', 'id': 3, 'is_correct': True}, {'alternative_syllables': [], 'current_syllable': 'chứng', 'id': 4, 'is_correct': True}, {'alternative_syllables': [], 'current_syllable': 'của', 'id': 5, 'is_correct': True}, {'alternative_syllables': ['chủ'], 'current_syllable': 'chù', 'id': 6, 'is_correct': False}, {'alternative_syllables': [], 'current_syllable': 'nghĩa', 'id': 7, 'is_correct': True}, {'alternative_syllables': [], 'current_syllable': 'Mác', 'id': 8, 'is_correct': True}, {'alternative_syllables': [], 'current_syllable': '-', 'id': 9, 'is_correct': True}, {'alternative_syllables': [], 'current_syllable': 'Lênin', 'id': 10, 'is_correct': True}, {'alternative_syllables': [], 'current_syllable': 'không', 'id': 11, 'is_correct': True}, {'alternative_syllables': [], 'current_syllable': 'chỉ', 'id': 12, 'is_correct': True}, {'alternative_syllables': [], 'current_syllable': 'khẳng', 'id': 13, 'is_correct': True}, {'alternative_syllables': [], 'current_syllable': 'định', 'id': 14, 'is_correct': True}, {'alternative_syllables': [], 'current_syllable': 'tính', 'id': 15, 'is_correct': True}, {'alternative_syllables': [], 'current_syllable': 'khách', 'id': 16, 'is_correct': True}, {'alternative_syllables': [], 'current_syllable': 'quan,', 'id': 17, 'is_correct': True}, {'alternative_syllables': [], 'current_syllable': 'tính', 'id': 18, 'is_correct': True}, {'alternative_syllables': [], 'current_syllable': 'phổ', 'id': 19, 'is_correct': True}, {'alternative_syllables': [], 'current_syllable': 'biến', 'id': 20, 'is_correct': True}, {'alternative_syllables': [], 'current_syllable': 'của', 'id': 21, 'is_correct': True}, {'alternative_syllables': [], 'current_syllable': 'các', 'id': 22, 'is_correct': True}, {'alternative_syllables': [], 'current_syllable': 'mối', 'id': 23, 'is_correct': True}, {'alternative_syllables': [], 'current_syllable': 'liên', 'id': 24, 'is_correct': True}, {'alternative_syllables': [], 'current_syllable': 'hệ', 'id': 25, 'is_correct': True}, {'alternative_syllables': [], 'current_syllable': 'mà', 'id': 26, 'is_correct': True}, {'alternative_syllables': [], 'current_syllable': 'còn', 'id': 27, 'is_correct': True}, {'alternative_syllables': [], 'current_syllable': 'nhấn', 'id': 28, 'is_correct': True}, {'alternative_syllables': [], 'current_syllable': 'mạnh', 'id': 29, 'is_correct': True}, {'alternative_syllables': [], 'current_syllable': 'tính', 'id': 30, 'is_correct': True}, {'alternative_syllables': [], 'current_syllable': 'phong', 'id': 31, 'is_correct': True}, {'alternative_syllables': [], 'current_syllable': 'phú,', 'id': 32, 'is_correct': True}, {'alternative_syllables': [], 'current_syllable': 'đa', 'id': 33, 'is_correct': True}, {'alternative_syllables': [], 'current_syllable': 'dạng', 'id': 34, 'is_correct': True}, {'alternative_syllables': [], 'current_syllable': 'của', 'id': 35, 'is_correct': True}, {'alternative_syllables': [], 'current_syllable': 'các', 'id': 36, 'is_correct': True}, {'alternative_syllables': [], 'current_syllable': 'mối', 'id': 37, 'is_correct': True}, {'alternative_syllables': [], 'current_syllable': 'liên', 'id': 38, 'is_correct': True}, {'alternative_syllables': [], 'current_syllable': 'hệ.', 'id': 39, 'is_correct': True}]   \n",
       "9339                                                                                                                                                                                                                                                                                                                                                                                                                                                                                                                                           [{'alternative_syllables': [], 'current_syllable': 'Đối', 'id': 1, 'is_correct': True}, {'alternative_syllables': [], 'current_syllable': 'với', 'id': 2, 'is_correct': True}, {'alternative_syllables': [], 'current_syllable': 'biểu', 'id': 3, 'is_correct': True}, {'alternative_syllables': [], 'current_syllable': 'đồ', 'id': 4, 'is_correct': True}, {'alternative_syllables': [], 'current_syllable': 'Histogram,', 'id': 5, 'is_correct': True}, {'alternative_syllables': [], 'current_syllable': 'nếu', 'id': 6, 'is_correct': True}, {'alternative_syllables': [], 'current_syllable': 'giá', 'id': 7, 'is_correct': True}, {'alternative_syllables': [], 'current_syllable': 'trị', 'id': 8, 'is_correct': True}, {'alternative_syllables': [], 'current_syllable': 'trung', 'id': 9, 'is_correct': True}, {'alternative_syllables': [], 'current_syllable': 'bình', 'id': 10, 'is_correct': True}, {'alternative_syllables': [], 'current_syllable': 'Mean', 'id': 11, 'is_correct': True}, {'alternative_syllables': [], 'current_syllable': 'gần', 'id': 12, 'is_correct': True}, {'alternative_syllables': [], 'current_syllable': 'bằng', 'id': 13, 'is_correct': True}, {'alternative_syllables': [], 'current_syllable': '0,', 'id': 14, 'is_correct': True}, {'alternative_syllables': [], 'current_syllable': 'độ', 'id': 15, 'is_correct': True}, {'alternative_syllables': [], 'current_syllable': 'lệch', 'id': 16, 'is_correct': True}, {'alternative_syllables': [], 'current_syllable': 'chuẩn', 'id': 17, 'is_correct': True}, {'alternative_syllables': [], 'current_syllable': 'gần', 'id': 18, 'is_correct': True}, {'alternative_syllables': [], 'current_syllable': 'bằng', 'id': 19, 'is_correct': True}, {'alternative_syllables': [], 'current_syllable': '1', 'id': 20, 'is_correct': True}, {'alternative_syllables': [], 'current_syllable': 'và', 'id': 21, 'is_correct': True}, {'alternative_syllables': [], 'current_syllable': 'đường', 'id': 22, 'is_correct': True}, {'alternative_syllables': [], 'current_syllable': 'cong', 'id': 23, 'is_correct': True}, {'alternative_syllables': [], 'current_syllable': 'phân', 'id': 24, 'is_correct': True}, {'alternative_syllables': [], 'current_syllable': 'phối', 'id': 25, 'is_correct': True}, {'alternative_syllables': [], 'current_syllable': 'có', 'id': 26, 'is_correct': True}, {'alternative_syllables': [], 'current_syllable': 'hình', 'id': 27, 'is_correct': True}, {'alternative_syllables': [], 'current_syllable': 'dạng', 'id': 28, 'is_correct': True}, {'alternative_syllables': [], 'current_syllable': 'chuông', 'id': 29, 'is_correct': True}, {'alternative_syllables': [], 'current_syllable': 'thì', 'id': 30, 'is_correct': True}, {'alternative_syllables': [], 'current_syllable': 'có', 'id': 31, 'is_correct': True}, {'alternative_syllables': [], 'current_syllable': 'thể', 'id': 32, 'is_correct': True}, {'alternative_syllables': [], 'current_syllable': 'khẳng', 'id': 33, 'is_correct': True}, {'alternative_syllables': [], 'current_syllable': 'định', 'id': 34, 'is_correct': True}, {'alternative_syllables': [], 'current_syllable': 'phân', 'id': 35, 'is_correct': True}, {'alternative_syllables': [], 'current_syllable': 'phối', 'id': 36, 'is_correct': True}, {'alternative_syllables': [], 'current_syllable': 'là', 'id': 37, 'is_correct': True}, {'alternative_syllables': ['xấp'], 'current_syllable': 'xếp', 'id': 38, 'is_correct': False}, {'alternative_syllables': [], 'current_syllable': 'xỉ', 'id': 39, 'is_correct': True}, {'alternative_syllables': [], 'current_syllable': 'chuẩn,', 'id': 40, 'is_correct': True}, {'alternative_syllables': [], 'current_syllable': 'giả', 'id': 41, 'is_correct': True}, {'alternative_syllables': [], 'current_syllable': 'định', 'id': 42, 'is_correct': True}, {'alternative_syllables': [], 'current_syllable': 'phân', 'id': 43, 'is_correct': True}, {'alternative_syllables': [], 'current_syllable': 'phối', 'id': 44, 'is_correct': True}, {'alternative_syllables': [], 'current_syllable': 'chuẩn', 'id': 45, 'is_correct': True}, {'alternative_syllables': [], 'current_syllable': 'của', 'id': 46, 'is_correct': True}, {'alternative_syllables': [], 'current_syllable': 'phần', 'id': 47, 'is_correct': True}, {'alternative_syllables': [], 'current_syllable': 'dư', 'id': 48, 'is_correct': True}, {'alternative_syllables': [], 'current_syllable': 'không', 'id': 49, 'is_correct': True}, {'alternative_syllables': [], 'current_syllable': 'bị', 'id': 50, 'is_correct': True}, {'alternative_syllables': [], 'current_syllable': 'vi', 'id': 51, 'is_correct': True}, {'alternative_syllables': [], 'current_syllable': 'phạm.', 'id': 52, 'is_correct': True}]   \n",
       "9340                                                                                                                                                                                                                                                                                                                                                                                                                                                                                                                                             [{'alternative_syllables': [], 'current_syllable': 'Trong', 'id': 1, 'is_correct': True}, {'alternative_syllables': [], 'current_syllable': 'mỗi', 'id': 2, 'is_correct': True}, {'alternative_syllables': [], 'current_syllable': 'khu', 'id': 3, 'is_correct': True}, {'alternative_syllables': [], 'current_syllable': 'vực', 'id': 4, 'is_correct': True}, {'alternative_syllables': [], 'current_syllable': 'mà', 'id': 5, 'is_correct': True}, {'alternative_syllables': [], 'current_syllable': 'đội', 'id': 6, 'is_correct': True}, {'alternative_syllables': [], 'current_syllable': 'phát', 'id': 7, 'is_correct': True}, {'alternative_syllables': [], 'current_syllable': 'triển', 'id': 8, 'is_correct': True}, {'alternative_syllables': [], 'current_syllable': 'thị', 'id': 9, 'is_correct': True}, {'alternative_syllables': [], 'current_syllable': 'trường', 'id': 10, 'is_correct': True}, {'alternative_syllables': [], 'current_syllable': 'nhắm', 'id': 11, 'is_correct': True}, {'alternative_syllables': [], 'current_syllable': 'đến', 'id': 12, 'is_correct': True}, {'alternative_syllables': [], 'current_syllable': 'sẽ', 'id': 13, 'is_correct': True}, {'alternative_syllables': [], 'current_syllable': 'có', 'id': 14, 'is_correct': True}, {'alternative_syllables': [], 'current_syllable': 'những', 'id': 15, 'is_correct': True}, {'alternative_syllables': [], 'current_syllable': 'tệp', 'id': 16, 'is_correct': True}, {'alternative_syllables': [], 'current_syllable': 'khách', 'id': 17, 'is_correct': True}, {'alternative_syllables': [], 'current_syllable': 'hàng', 'id': 18, 'is_correct': True}, {'alternative_syllables': [], 'current_syllable': 'khác', 'id': 19, 'is_correct': True}, {'alternative_syllables': [], 'current_syllable': 'nhau', 'id': 20, 'is_correct': True}, {'alternative_syllables': [], 'current_syllable': 'cho', 'id': 21, 'is_correct': True}, {'alternative_syllables': [], 'current_syllable': 'nên', 'id': 22, 'is_correct': True}, {'alternative_syllables': [], 'current_syllable': 'việc', 'id': 23, 'is_correct': True}, {'alternative_syllables': [], 'current_syllable': 'tạo', 'id': 24, 'is_correct': True}, {'alternative_syllables': [], 'current_syllable': 'ra', 'id': 25, 'is_correct': True}, {'alternative_syllables': [], 'current_syllable': 'từng', 'id': 26, 'is_correct': True}, {'alternative_syllables': [], 'current_syllable': 'nhóm', 'id': 27, 'is_correct': True}, {'alternative_syllables': [], 'current_syllable': 'khách', 'id': 28, 'is_correct': True}, {'alternative_syllables': [], 'current_syllable': 'hàng', 'id': 29, 'is_correct': True}, {'alternative_syllables': [], 'current_syllable': 'trên', 'id': 30, 'is_correct': True}, {'alternative_syllables': [], 'current_syllable': 'từng', 'id': 31, 'is_correct': True}, {'alternative_syllables': [], 'current_syllable': 'khu', 'id': 32, 'is_correct': True}, {'alternative_syllables': [], 'current_syllable': 'vực', 'id': 33, 'is_correct': True}, {'alternative_syllables': [], 'current_syllable': 'trong', 'id': 34, 'is_correct': True}, {'alternative_syllables': [], 'current_syllable': 'CRM', 'id': 35, 'is_correct': True}, {'alternative_syllables': [], 'current_syllable': 'là', 'id': 36, 'is_correct': True}, {'alternative_syllables': [], 'current_syllable': 'một', 'id': 37, 'is_correct': True}, {'alternative_syllables': [], 'current_syllable': 'việc', 'id': 38, 'is_correct': True}, {'alternative_syllables': [], 'current_syllable': 'cần', 'id': 39, 'is_correct': True}, {'alternative_syllables': [], 'current_syllable': 'thiết', 'id': 40, 'is_correct': True}, {'alternative_syllables': [], 'current_syllable': 'để', 'id': 41, 'is_correct': True}, {'alternative_syllables': [], 'current_syllable': 'dễ', 'id': 42, 'is_correct': True}, {'alternative_syllables': [], 'current_syllable': 'dàng', 'id': 43, 'is_correct': True}, {'alternative_syllables': [], 'current_syllable': 'và', 'id': 44, 'is_correct': True}, {'alternative_syllables': ['tiện'], 'current_syllable': 'tiên', 'id': 45, 'is_correct': False}, {'alternative_syllables': [], 'current_syllable': 'lợi', 'id': 46, 'is_correct': True}, {'alternative_syllables': [], 'current_syllable': 'cho', 'id': 47, 'is_correct': True}, {'alternative_syllables': [], 'current_syllable': 'việc', 'id': 48, 'is_correct': True}, {'alternative_syllables': [], 'current_syllable': 'chăm', 'id': 49, 'is_correct': True}, {'alternative_syllables': [], 'current_syllable': 'sóc', 'id': 50, 'is_correct': True}, {'alternative_syllables': [], 'current_syllable': 'khách', 'id': 51, 'is_correct': True}, {'alternative_syllables': [], 'current_syllable': 'hàng.', 'id': 52, 'is_correct': True}]   \n",
       "\n",
       "                                                                                                                                                                                                                                                                 text  \\\n",
       "0               Thông qua công tác tuyên truyền, vận động này phụ huynh sẽ hiểu rõ hơn tầm quan trọng của việc giáo dục ý thức bảo vệ môi trường cho trẻ không phải chỉ ở phía nhà trường mà còn ở gia đình , góp phần vào việc gìn giữ môi trường sanh , sạch , đẹp.   \n",
       "1                                                                                                                                                                   Do đó, doanh nghiệp cần chú trọng đến yếu tố này để là thỏa mãn, hài lòng các nhóm đối tượng này.   \n",
       "2                                                                                                                                                                  Giữ được chỉ số này không giam mà còn tăng thêm cũng được xem là một bức thành công của Ngân hàng.   \n",
       "3                                                                                      Đúng trước thực tế này đòi hỏi chúng ta cần phải có những nghiên cứu chi li, cụ thể nhằm tìm ra những nhân tố ảnh hưởng đến sự lựa chọn kênh mua sắm của người tiêu dùng ở TP.   \n",
       "4                                                                                                                                                          Trình độ học vấn của nhân viên được tuyển dụng ngày cang cao hơn, thợ lành nghề cũng được sàng lọc kỹ hơn.   \n",
       "...                                                                                                                                                                                                                                                               ...   \n",
       "9336                                                                         Tuy nhiên, khi nói đến E-Learning, các phương pháp lớp học dựa trên địa điểm của Google có thể được thay thế bằng hội thảo trên web giúp việc hoc trở nên dễ tiếp cận và thuận tiện hơn.   \n",
       "9337  Đứng trước những hành vi đi ngược lại với đạo đức giáo dục và luật pháp nhóm chúng tôi quyết định chọn và thực hiện đề tài này để góp phần nói lên tiếng nói và nâng cao nhận thức cho giáo duc, các bậc giáo viên về bạo lực trẻ em ở trường mầm non hiện nay.   \n",
       "9338                                                                             Quan điểm biện chứng của chù nghĩa Mác - Lênin không chỉ khẳng định tính khách quan, tính phổ biến của các mối liên hệ mà còn nhấn mạnh tính phong phú, đa dạng của các mối liên hệ.   \n",
       "9339                  Đối với biểu đồ Histogram, nếu giá trị trung bình Mean gần bằng 0, độ lệch chuẩn gần bằng 1 và đường cong phân phối có hình dạng chuông thì có thể khẳng định phân phối là xếp xỉ chuẩn, giả định phân phối chuẩn của phần dư không bị vi phạm.   \n",
       "9340                     Trong mỗi khu vực mà đội phát triển thị trường nhắm đến sẽ có những tệp khách hàng khác nhau cho nên việc tạo ra từng nhóm khách hàng trên từng khu vực trong CRM là một việc cần thiết để dễ dàng và tiên lợi cho việc chăm sóc khách hàng.   \n",
       "\n",
       "                                                                                                                                                                                                                                                           preprocess  \\\n",
       "0                  thông qua công tác tuyên truyền, vận động này phụ huynh sẽ hiểu rõ hơn tầm quan trọng của việc giáo dục ý thức bảo vệ môi trường cho trẻ không phải chỉ ở phía nhà trường mà còn ở gia đình, góp phần vào việc gìn giữ môi trường sanh, sạch, đẹp.   \n",
       "1                                                                                                                                                                   do đó, doanh nghiệp cần chú trọng đến yếu tố này để là thỏa mãn, hài lòng các nhóm đối tượng này.   \n",
       "2                                                                                                                                                                  giữ được chỉ số này không giam mà còn tăng thêm cũng được xem là một bức thành công của ngân hàng.   \n",
       "3                                                                                      đúng trước thực tế này đòi hỏi chúng ta cần phải có những nghiên cứu chi li, cụ thể nhằm tìm ra những nhân tố ảnh hưởng đến sự lựa chọn kênh mua sắm của người tiêu dùng ở tp.   \n",
       "4                                                                                                                                                          trình độ học vấn của nhân viên được tuyển dụng ngày cang cao hơn, thợ lành nghề cũng được sàng lọc kỹ hơn.   \n",
       "...                                                                                                                                                                                                                                                               ...   \n",
       "9336                                                                         tuy nhiên, khi nói đến e-learning, các phương pháp lớp học dựa trên địa điểm của google có thể được thay thế bằng hội thảo trên web giúp việc hoc trở nên dễ tiếp cận và thuận tiện hơn.   \n",
       "9337  đứng trước những hành vi đi ngược lại với đạo đức giáo dục và luật pháp nhóm chúng tôi quyết định chọn và thực hiện đề tài này để góp phần nói lên tiếng nói và nâng cao nhận thức cho giáo duc, các bậc giáo viên về bạo lực trẻ em ở trường mầm non hiện nay.   \n",
       "9338                                                                             quan điểm biện chứng của chù nghĩa mác - lênin không chỉ khẳng định tính khách quan, tính phổ biến của các mối liên hệ mà còn nhấn mạnh tính phong phú, đa dạng của các mối liên hệ.   \n",
       "9339                  đối với biểu đồ histogram, nếu giá trị trung bình mean gần bằng 0, độ lệch chuẩn gần bằng 1 và đường cong phân phối có hình dạng chuông thì có thể khẳng định phân phối là xếp xỉ chuẩn, giả định phân phối chuẩn của phần dư không bị vi phạm.   \n",
       "9340                     trong mỗi khu vực mà đội phát triển thị trường nhắm đến sẽ có những tệp khách hàng khác nhau cho nên việc tạo ra từng nhóm khách hàng trên từng khu vực trong crm là một việc cần thiết để dễ dàng và tiên lợi cho việc chăm sóc khách hàng.   \n",
       "\n",
       "                                                                                                                                                                                                                                                         correct_text  \\\n",
       "0                  Thông qua công tác tuyên truyền, vận động này phụ huynh sẽ hiểu rõ hơn tầm quan trọng của việc giáo dục ý thức bảo vệ môi trường cho trẻ không phải chỉ ở phía nhà trường mà còn ở gia đình, góp phần vào việc gìn giữ môi trường xanh, sạch, đẹp.   \n",
       "1                                                                                                                                                                  Do đó, doanh nghiệp cần chú trọng đến yếu tố này để làm thỏa mãn, hài lòng các nhóm đối tượng này.   \n",
       "2                                                                                                                                                                 Giữ được chỉ số này không giảm mà còn tăng thêm cũng được xem là một bước thành công của Ngân hàng.   \n",
       "3                                                                                      Đứng trước thực tế này đòi hỏi chúng ta cần phải có những nghiên cứu chi li, cụ thể nhằm tìm ra những nhân tố ảnh hưởng đến sự lựa chọn kênh mua sắm của người tiêu dùng ở TP.   \n",
       "4                                                                                                                                                          Trình độ học vấn của nhân viên được tuyển dụng ngày càng cao hơn, thợ lành nghề cũng được sàng lọc kỹ hơn.   \n",
       "...                                                                                                                                                                                                                                                               ...   \n",
       "9336                                                                         Tuy nhiên, khi nói đến E-Learning, các phương pháp lớp học dựa trên địa điểm của Google có thể được thay thế bằng hội thảo trên web giúp việc học trở nên dễ tiếp cận và thuận tiện hơn.   \n",
       "9337  Đứng trước những hành vi đi ngược lại với đạo đức giáo dục và luật pháp nhóm chúng tôi quyết định chọn và thực hiện đề tài này để góp phần nói lên tiếng nói và nâng cao nhận thức cho giáo dục, các bậc giáo viên về bạo lực trẻ em ở trường mầm non hiện nay.   \n",
       "9338                                                                             Quan điểm biện chứng của chủ nghĩa Mác - Lênin không chỉ khẳng định tính khách quan, tính phổ biến của các mối liên hệ mà còn nhấn mạnh tính phong phú, đa dạng của các mối liên hệ.   \n",
       "9339                  Đối với biểu đồ Histogram, nếu giá trị trung bình Mean gần bằng 0, độ lệch chuẩn gần bằng 1 và đường cong phân phối có hình dạng chuông thì có thể khẳng định phân phối là xấp xỉ chuẩn, giả định phân phối chuẩn của phần dư không bị vi phạm.   \n",
       "9340                     Trong mỗi khu vực mà đội phát triển thị trường nhắm đến sẽ có những tệp khách hàng khác nhau cho nên việc tạo ra từng nhóm khách hàng trên từng khu vực trong CRM là một việc cần thiết để dễ dàng và tiện lợi cho việc chăm sóc khách hàng.   \n",
       "\n",
       "      preprocess_word_count  correct_text_word_count  diff_word_count  \n",
       "0                        53                       53                1  \n",
       "1                        22                       22                1  \n",
       "2                        22                       22                2  \n",
       "3                        40                       40                1  \n",
       "4                        23                       23                1  \n",
       "...                     ...                      ...              ...  \n",
       "9336                     39                       39                1  \n",
       "9337                     58                       58                1  \n",
       "9338                     39                       39                1  \n",
       "9339                     52                       52                1  \n",
       "9340                     52                       52                1  \n",
       "\n",
       "[8969 rows x 7 columns]"
      ]
     },
     "execution_count": 55,
     "metadata": {},
     "output_type": "execute_result"
    }
   ],
   "source": [
    "df_matched = df[df['preprocess_word_count'] == df['correct_text_word_count']]\n",
    "df_matched"
   ]
  },
  {
   "cell_type": "code",
   "execution_count": 56,
   "id": "48a08d9e",
   "metadata": {
    "execution": {
     "iopub.execute_input": "2025-06-25T12:02:03.049469Z",
     "iopub.status.busy": "2025-06-25T12:02:03.048516Z",
     "iopub.status.idle": "2025-06-25T12:02:03.468056Z",
     "shell.execute_reply": "2025-06-25T12:02:03.466977Z"
    },
    "papermill": {
     "duration": 0.442876,
     "end_time": "2025-06-25T12:02:03.469620",
     "exception": false,
     "start_time": "2025-06-25T12:02:03.026744",
     "status": "completed"
    },
    "tags": []
   },
   "outputs": [
    {
     "data": {
      "image/png": "[encoded data removed]",
      "text/plain": [
       "<Figure size 1000x600 with 1 Axes>"
      ]
     },
     "metadata": {},
     "output_type": "display_data"
    }
   ],
   "source": [
    "import matplotlib.pyplot as plt\n",
    "\n",
    "# Đếm tần suất xuất hiện của từng giá trị trong diff_word_count\n",
    "value_counts = df_matched['diff_word_count'].value_counts().sort_index()\n",
    "\n",
    "# Vẽ biểu đồ\n",
    "plt.figure(figsize=(10, 6))\n",
    "value_counts.plot(kind='bar', color='skyblue', edgecolor='black')\n",
    "\n",
    "plt.title('Frequency of Token Differences')\n",
    "plt.xlabel('Number of Token Differences')\n",
    "plt.ylabel('Frequency')\n",
    "plt.xticks(rotation=0)\n",
    "plt.grid(axis='y', linestyle='--', alpha=0.7)\n",
    "plt.tight_layout()\n",
    "plt.show()"
   ]
  },
  {
   "cell_type": "code",
   "execution_count": 57,
   "id": "750f3662",
   "metadata": {
    "execution": {
     "iopub.execute_input": "2025-06-25T12:02:03.514905Z",
     "iopub.status.busy": "2025-06-25T12:02:03.513710Z",
     "iopub.status.idle": "2025-06-25T12:02:03.533944Z",
     "shell.execute_reply": "2025-06-25T12:02:03.532829Z"
    },
    "papermill": {
     "duration": 0.046327,
     "end_time": "2025-06-25T12:02:03.538086",
     "exception": false,
     "start_time": "2025-06-25T12:02:03.491759",
     "status": "completed"
    },
    "tags": []
   },
   "outputs": [
    {
     "data": {
      "text/html": [
       "<div>\n",
       "<style scoped>\n",
       "    .dataframe tbody tr th:only-of-type {\n",
       "        vertical-align: middle;\n",
       "    }\n",
       "\n",
       "    .dataframe tbody tr th {\n",
       "        vertical-align: top;\n",
       "    }\n",
       "\n",
       "    .dataframe thead th {\n",
       "        text-align: right;\n",
       "    }\n",
       "</style>\n",
       "<table border=\"1\" class=\"dataframe\">\n",
       "  <thead>\n",
       "    <tr style=\"text-align: right;\">\n",
       "      <th></th>\n",
       "      <th>text</th>\n",
       "      <th>preprocess</th>\n",
       "      <th>correct_text</th>\n",
       "      <th>preprocess_word_count</th>\n",
       "      <th>correct_text_word_count</th>\n",
       "      <th>diff_word_count</th>\n",
       "    </tr>\n",
       "  </thead>\n",
       "  <tbody>\n",
       "    <tr>\n",
       "      <th>144</th>\n",
       "      <td>Giáo viên ghi lên ảng các âm, tiếng, từ mà các ạn chưa tiếp thu kịp ở ài học trước và yêu cầu an cán sự lớp cho các ạn yếu đọc.</td>\n",
       "      <td>giáo viên ghi lên ảng các âm, tiếng, từ mà các ạn chưa tiếp thu kịp ở ài học trước và yêu cầu an cán sự lớp cho các ạn yếu đọc.</td>\n",
       "      <td>Giáo viên ghi lên bảng các âm, tiếng, từ mà các bạn chưa tiếp thu kịp ở bài học trước và yêu cầu ban cán sự lớp cho các bạn yếu đọc.</td>\n",
       "      <td>32</td>\n",
       "      <td>32</td>\n",
       "      <td>5</td>\n",
       "    </tr>\n",
       "    <tr>\n",
       "      <th>681</th>\n",
       "      <td>Các em không dễ tin, không dế chấp nhận ý kiến người khác, muốn tranh luận, chứng mình vấn đề một cách sát thực, rõ ràng, thậm chí đôi khi muốn phê phán những kết luận, những phán đoán của nguời khác.</td>\n",
       "      <td>các em không dễ tin, không dế chấp nhận ý kiến người khác, muốn tranh luận, chứng mình vấn đề một cách sát thực, rõ ràng, thậm chí đôi khi muốn phê phán những kết luận, những phán đoán của nguời khác.</td>\n",
       "      <td>Các em không dễ tin, không dễ chấp nhận ý kiến người khác, muốn tranh luận, chứng minh vấn đề một cách xác thực, rõ ràng, thậm chí đôi khi muốn phê phán những kết luận, những phán đoán của người khác.</td>\n",
       "      <td>42</td>\n",
       "      <td>42</td>\n",
       "      <td>4</td>\n",
       "    </tr>\n",
       "    <tr>\n",
       "      <th>813</th>\n",
       "      <td>Báo cáo thực tập GVHD: Trần Tuấn Anh Đối tương nghiện cứu của đề tài là Các chính sách bán hàng của công ty cổ phần thương mại và dịch vụ Katsuma chi nhánh Gia Lai và giải pháp thể cải thiện cách chính sách đó.</td>\n",
       "      <td>báo cáo thực tập gvhd: trần tuấn anh đối tương nghiện cứu của đề tài là các chính sách bán hàng của công ty cổ phần thương mại và dịch vụ katsuma chi nhánh gia lai và giải pháp thể cải thiện cách chính sách đó.</td>\n",
       "      <td>Báo cáo thực tập GVHD: Trần Tuấn Anh Đối tượng nghiên cứu của đề tài là Các chính sách bán hàng của công ty cổ phần thương mại và dịch vụ Katsuma chi nhánh Gia Lai và giải pháp để cải thiện các chính sách đó.</td>\n",
       "      <td>46</td>\n",
       "      <td>46</td>\n",
       "      <td>4</td>\n",
       "    </tr>\n",
       "    <tr>\n",
       "      <th>1180</th>\n",
       "      <td>Ước tính của các chuyên gia ngành thuế Hà Nội cho rằng Keangnam Vina đã trả lãi xuất trung bình khoản 12% mỗi năm cho khẳn vay này, nhưng trong khi đó, lãi suất vay bằng USD tại Việt Nam trong thời điểm đó chỉ giao động hkar từ 5% - 7% mỗi năm.</td>\n",
       "      <td>ước tính của các chuyên gia ngành thuế hà nội cho rằng keangnam vina đã trả lãi xuất trung bình khoản 12% mỗi năm cho khẳn vay này, nhưng trong khi đó, lãi suất vay bằng usd tại việt nam trong thời điểm đó chỉ giao động hkar từ 5% - 7% mỗi năm.</td>\n",
       "      <td>Ước tính của các chuyên gia ngành thuế Hà Nội cho rằng Keangnam Vina đã trả lãi suất trung bình khoảng 12% mỗi năm cho khoản vay này, nhưng trong khi đó, lãi suất vay bằng USD tại Việt Nam trong thời điểm đó chỉ dao động khoảng từ 5% - 7% mỗi năm.</td>\n",
       "      <td>54</td>\n",
       "      <td>54</td>\n",
       "      <td>5</td>\n",
       "    </tr>\n",
       "    <tr>\n",
       "      <th>1201</th>\n",
       "      <td>Phổi hợp với Sở Kế hoạch Đầu tư xây dựng kế hoạch, cân đối bổ trí vổn hàng năm để đầu tư hạ tầng du lịch cho các khu, điểm du lịch cùa tinh.</td>\n",
       "      <td>phổi hợp với sở kế hoạch đầu tư xây dựng kế hoạch, cân đối bổ trí vổn hàng năm để đầu tư hạ tầng du lịch cho các khu, điểm du lịch cùa tinh.</td>\n",
       "      <td>Phối hợp với Sở Kế hoạch Đầu tư xây dựng kế hoạch, cân đối bố trí vốn hàng năm để đầu tư hạ tầng du lịch cho các khu, điểm du lịch của tỉnh.</td>\n",
       "      <td>34</td>\n",
       "      <td>34</td>\n",
       "      <td>5</td>\n",
       "    </tr>\n",
       "    <tr>\n",
       "      <th>1208</th>\n",
       "      <td>Sổ ngày rét hại trung bình năm ở tình Hưng Yên ở 4 kịch bản có xu thế giảm với thời kỳ cơ sở, giảm ít nhất là 2,6 ngày, giảm nhiêu nhât là 11,2 ngày.</td>\n",
       "      <td>sổ ngày rét hại trung bình năm ở tình hưng yên ở 4 kịch bản có xu thế giảm với thời kỳ cơ sở, giảm ít nhất là 2,6 ngày, giảm nhiêu nhât là 11,2 ngày.</td>\n",
       "      <td>Số ngày rét hại trung bình năm ở tỉnh Hưng Yên ở 4 kịch bản có xu thế giảm với thời kỳ cơ sở, giảm ít nhất là 2,6 ngày, giảm nhiều nhất là 11,2 ngày.</td>\n",
       "      <td>36</td>\n",
       "      <td>36</td>\n",
       "      <td>4</td>\n",
       "    </tr>\n",
       "    <tr>\n",
       "      <th>1651</th>\n",
       "      <td>Như vậy với việ apsd ụng hóa đơn điện tử trong thời gian tới sẽ giuos các cơ quan thuế dễ dàng, thuận tiện hơn trong việc tổng họp, kiểm tra thông tin.</td>\n",
       "      <td>như vậy với việ apsd ụng hóa đơn điện tử trong thời gian tới sẽ giuos các cơ quan thuế dễ dàng, thuận tiện hơn trong việc tổng họp, kiểm tra thông tin.</td>\n",
       "      <td>Như vậy với việc áp dụng hóa đơn điện tử trong thời gian tới sẽ giúp các cơ quan thuế dễ dàng, thuận tiện hơn trong việc tổng hợp, kiểm tra thông tin.</td>\n",
       "      <td>33</td>\n",
       "      <td>33</td>\n",
       "      <td>5</td>\n",
       "    </tr>\n",
       "    <tr>\n",
       "      <th>1756</th>\n",
       "      <td>Chú ý cua các em thể hiện sư lưạ chọn rất rõ, sưc tập trung chú ý cao hơn, khả năng duy trì chú ý được lâu bên hơn so với học sinh tiểu học và lớp 6.</td>\n",
       "      <td>chú ý cua các em thể hiện sư lựa chọn rất rõ, sưc tập trung chú ý cao hơn, khả năng duy trì chú ý được lâu bên hơn so với học sinh tiểu học và lớp 6.</td>\n",
       "      <td>Chú ý của các em thể hiện sự lựa chọn rất rõ, sự tập trung chú ý cao hơn, khả năng duy trì chú ý được lâu bền hơn so với học sinh tiểu học và lớp 6.</td>\n",
       "      <td>38</td>\n",
       "      <td>38</td>\n",
       "      <td>4</td>\n",
       "    </tr>\n",
       "    <tr>\n",
       "      <th>1800</th>\n",
       "      <td>Nâng cao chất lượng dồ án quy hoạch thông qua việc nâng cao công tác thẩm dịnh phê duyệt nhiệm vụ quy hoạch, đồ án quy hoạch và báo cáo đánh giá tác dộng môi trường chiến lược trong các dồ án quy hoạch.</td>\n",
       "      <td>nâng cao chất lượng dồ án quy hoạch thông qua việc nâng cao công tác thẩm dịnh phê duyệt nhiệm vụ quy hoạch, đồ án quy hoạch và báo cáo đánh giá tác dộng môi trường chiến lược trong các dồ án quy hoạch.</td>\n",
       "      <td>Nâng cao chất lượng đồ án quy hoạch thông qua việc nâng cao công tác thẩm định phê duyệt nhiệm vụ quy hoạch, đồ án quy hoạch và báo cáo đánh giá tác động môi trường chiến lược trong các đồ án quy hoạch.</td>\n",
       "      <td>44</td>\n",
       "      <td>44</td>\n",
       "      <td>4</td>\n",
       "    </tr>\n",
       "    <tr>\n",
       "      <th>1969</th>\n",
       "      <td>Chỉ tiêu này phản ánh một đồng vốn cố dịnh trong kỷ tạo ra dược bao nhiều đồng lợi nhuận.</td>\n",
       "      <td>chỉ tiêu này phản ánh một đồng vốn cố dịnh trong kỷ tạo ra dược bao nhiều đồng lợi nhuận.</td>\n",
       "      <td>Chỉ tiêu này phản ánh một đồng vốn cố định trong kỳ tạo ra được bao nhiêu đồng lợi nhuận.</td>\n",
       "      <td>20</td>\n",
       "      <td>20</td>\n",
       "      <td>4</td>\n",
       "    </tr>\n",
       "    <tr>\n",
       "      <th>2048</th>\n",
       "      <td>Đôin gủ cán bộ ngành thuế ngày cangd đucợ trang bị những kiến thức chuyên sâu, chuyên nghiệp, có các kỹ ăng quản lý thuế hiện đại, các kỹ nagw áo dụng, sử dụng các phương tiện điện tử trong việc phân tích, đánh giá, tổng hợp,...</td>\n",
       "      <td>đôin gủ cán bộ ngành thuế ngày cangd đucợ trang bị những kiến thức chuyên sâu, chuyên nghiệp, có các kỹ ăng quản lý thuế hiện đại, các kỹ nagw áo dụng, sử dụng các phương tiện điện tử trong việc phân tích, đánh giá, tổng hợp, . . .</td>\n",
       "      <td>Đội ngũ cán bộ ngành thuế ngày càng được trang bị những kiến thức chuyên sâu, chuyên nghiệp, có các kỹ năng quản lý thuế hiện đại, các kỹ năng áp dụng, sử dụng các phương tiện điện tử trong việc phân tích, đánh giá, tổng hợp, . . .</td>\n",
       "      <td>50</td>\n",
       "      <td>50</td>\n",
       "      <td>7</td>\n",
       "    </tr>\n",
       "    <tr>\n",
       "      <th>2210</th>\n",
       "      <td>Thiết kế dịch vụ để khách hàng co thể tự thực hiện các thao tác như: cung cấp thong tin lô hàng, ten người gửi, địa chỉ gửi , địa chỉ nhận hàng,… từ đó bộ phận dịch vụ sẽ thống kế được lượng khách nhanh chíng hơn.</td>\n",
       "      <td>thiết kế dịch vụ để khách hàng co thể tự thực hiện các thao tác như: cung cấp thong tin lô hàng, ten người gửi, địa chỉ gửi, địa chỉ nhận hàng, … từ đó bộ phận dịch vụ sẽ thống kế được lượng khách nhanh chíng hơn.</td>\n",
       "      <td>Thiết kế dịch vụ để khách hàng có thể tự thực hiện các thao tác như: cung cấp thông tin lô hàng, tên người gửi, địa chỉ gửi, địa chỉ nhận hàng, … từ đó bộ phận dịch vụ sẽ thống kê được lượng khách nhanh chóng hơn.</td>\n",
       "      <td>48</td>\n",
       "      <td>48</td>\n",
       "      <td>5</td>\n",
       "    </tr>\n",
       "    <tr>\n",
       "      <th>2299</th>\n",
       "      <td>Từ năm 1961 đen nay, nhiệt độ không khí trung bình năm và các mùa nhìn chung đều có xu thế tăng với tốc độ tăng xấp xì 0,2°C/thập kỷ, riêng nhiệt độ mùa dông không thề hiện xu thế rõ ràng.</td>\n",
       "      <td>từ năm 1961 đen nay, nhiệt độ không khí trung bình năm và các mùa nhìn chung đều có xu thế tăng với tốc độ tăng xấp xì 0,2°c/thập kỷ, riêng nhiệt độ mùa dông không thề hiện xu thế rõ ràng.</td>\n",
       "      <td>Từ năm 1961 đến nay, nhiệt độ không khí trung bình năm và các mùa nhìn chung đều có xu thế tăng với tốc độ tăng xấp xỉ 0,2°C/thập kỷ, riêng nhiệt độ mùa đông không thể hiện xu thế rõ ràng.</td>\n",
       "      <td>42</td>\n",
       "      <td>42</td>\n",
       "      <td>4</td>\n",
       "    </tr>\n",
       "    <tr>\n",
       "      <th>2319</th>\n",
       "      <td>Tuy nhiên ghi nhớ của học sinh lớp 7 cũng còn một sô thiếu sót: Các em thường bị mâu thuẫn trong việc ghi nhớ, mặc du có khả năng ghi nhớ ý nghiã, song các em vẫn tuy tiện trong ghi nhớ, khi gặp kho khăn lại tư bo ghi nhớ ý nghiã.</td>\n",
       "      <td>tuy nhiên ghi nhớ của học sinh lớp 7 cũng còn một sô thiếu sót: các em thường bị mâu thuẫn trong việc ghi nhớ, mặc du có khả năng ghi nhớ ý nghĩa, song các em vẫn tuy tiện trong ghi nhớ, khi gặp kho khăn lại tư bo ghi nhớ ý nghĩa.</td>\n",
       "      <td>Tuy nhiên ghi nhớ của học sinh lớp 7 cũng còn một số thiếu sót: Các em thường bị mâu thuẫn trong việc ghi nhớ, mặc dù có khả năng ghi nhớ ý nghĩa song các em vẫn tùy tiện trong ghi nhớ, khi gặp khó khăn lại từ bỏ ghi nhớ ý nghĩa.</td>\n",
       "      <td>54</td>\n",
       "      <td>54</td>\n",
       "      <td>6</td>\n",
       "    </tr>\n",
       "    <tr>\n",
       "      <th>2546</th>\n",
       "      <td>Như vậy, khi học sinh được phong làm \"lớp trưởng\" các em sẽ ý thức hơn, luôn muốn thể hiện ản thân mình giỏi hơn ạn thì ạn ấy sẽ cố gắng đọc tốt để ạn đọc theo.</td>\n",
       "      <td>như vậy, khi học sinh được phong làm lớp trưởng các em sẽ ý thức hơn, luôn muốn thể hiện ản thân mình giỏi hơn ạn thì ạn ấy sẽ cố gắng đọc tốt để ạn đọc theo.</td>\n",
       "      <td>Như vậy, khi học sinh được phong làm lớp trưởng các em sẽ ý thức hơn, luôn muốn thể hiện bản thân mình giỏi hơn bạn thì bạn ấy sẽ cố gắng đọc tốt để bạn đọc theo.</td>\n",
       "      <td>38</td>\n",
       "      <td>38</td>\n",
       "      <td>4</td>\n",
       "    </tr>\n",
       "    <tr>\n",
       "      <th>2603</th>\n",
       "      <td>Vùng kinh tế trong điểm Bắc Bộ đã trở thành trung tâm kinh tế - chính tri, đào tao nguồn nhân lực khoa học - công nghệ, cung cấp dịch vu cho khu vực phía Bắc và cả nước.</td>\n",
       "      <td>vùng kinh tế trong điểm bắc bộ đã trở thành trung tâm kinh tế - chính tri, đào tao nguồn nhân lực khoa học - công nghệ, cung cấp dịch vu cho khu vực phía bắc và cả nước.</td>\n",
       "      <td>Vùng kinh tế trọng điểm Bắc Bộ đã trở thành trung tâm kinh tế - chính trị đào tạo nguồn nhân lực khoa học - công nghệ, cung cấp dịch vụ cho khu vực phía Bắc và cả nước.</td>\n",
       "      <td>39</td>\n",
       "      <td>39</td>\n",
       "      <td>4</td>\n",
       "    </tr>\n",
       "    <tr>\n",
       "      <th>2669</th>\n",
       "      <td>Tăng cường công tác đào tạo, bồi dưỡng chuyên môn, nâng cao nhận thức về BĐKH cho cán bộ quản lý xây dựng, các chủ đầu tư công trình sừ dụng vốn ngân sách để nâng cao hiệu quà đầu tư công găn với yêu câu chù động ứng phó với BĐKH.</td>\n",
       "      <td>tăng cường công tác đào tạo, bồi dưỡng chuyên môn, nâng cao nhận thức về bđkh cho cán bộ quản lý xây dựng, các chủ đầu tư công trình sừ dụng vốn ngân sách để nâng cao hiệu quà đầu tư công găn với yêu câu chù động ứng phó với bđkh.</td>\n",
       "      <td>Tăng cường công tác đào tạo, bồi dưỡng chuyên môn, nâng cao nhận thức về BĐKH cho cán bộ quản lý xây dựng, các chủ đầu tư công trình sử dụng vốn ngân sách để nâng cao hiệu quả đầu tư công gắn với yêu cầu chủ động ứng phó với BĐKH.</td>\n",
       "      <td>52</td>\n",
       "      <td>52</td>\n",
       "      <td>5</td>\n",
       "    </tr>\n",
       "    <tr>\n",
       "      <th>2854</th>\n",
       "      <td>Thông thường trách nhiệm pháp lý nói chung và trách nhiệm bồi thường thiệt hại phải có đủ điều kiện pháp sinh, trong đó hành vì trái phát luật và lỗi là yêu tố bắt buộc.</td>\n",
       "      <td>thông thường trách nhiệm pháp lý nói chung và trách nhiệm bồi thường thiệt hại phải có đủ điều kiện pháp sinh, trong đó hành vì trái phát luật và lỗi là yêu tố bắt buộc.</td>\n",
       "      <td>Thông thường trách nhiệm pháp lý nói chung và trách nhiệm bồi thường thiệt hại phải có đủ điều kiện phát sinh, trong đó hành vi trái pháp luật và lỗi là yếu tố bắt buộc.</td>\n",
       "      <td>36</td>\n",
       "      <td>36</td>\n",
       "      <td>4</td>\n",
       "    </tr>\n",
       "    <tr>\n",
       "      <th>3234</th>\n",
       "      <td>Trường hợp này, cũng sẽ cân điêu chỉnh lại góc cụp và góc phương vị của các cell hàng xóm cho phù hợp, ưu tiên chỉnh từ xa về gân để giải quyết luôn vẫn đê OverShoot.</td>\n",
       "      <td>trường hợp này, cũng sẽ cân điêu chỉnh lại góc cụp và góc phương vị của các cell hàng xóm cho phù hợp, ưu tiên chỉnh từ xa về gân để giải quyết luôn vẫn đê overshoot.</td>\n",
       "      <td>Trường hợp này, cũng sẽ cần điều chỉnh lại góc cụp và góc phương vị của các cell hàng xóm cho phù hợp, ưu tiên chỉnh từ xa về gần để giải quyết luôn vấn đề OverShoot.</td>\n",
       "      <td>37</td>\n",
       "      <td>37</td>\n",
       "      <td>5</td>\n",
       "    </tr>\n",
       "    <tr>\n",
       "      <th>3849</th>\n",
       "      <td>Ngoài sử dụng bằng công tắc cơ khí đơn thuần thì hệ thống con sử sử dụng mô tơ cho việc đóng khóa cửa của một chiếc xe ô tô.</td>\n",
       "      <td>ngoài sử dụng bằng công tắc cơ khí đơn thuần thì hệ thống con sử sử dụng môtơ cho việc đóng khóa cửa của một chiếc xe ô tô.</td>\n",
       "      <td>Ngoài sử dụng bằng công tắc cơ khí đơn thuần thì hệ thống còn sử dụng mô tơ cho việc đóng khóa cửa của một chiếc xe ô tô.</td>\n",
       "      <td>29</td>\n",
       "      <td>29</td>\n",
       "      <td>4</td>\n",
       "    </tr>\n",
       "    <tr>\n",
       "      <th>3949</th>\n",
       "      <td>aPhương pháp này giúp học sinh phát huyatính tích cực, chủ động và sáng tạo.</td>\n",
       "      <td>a phương pháp này giúp học sinh phát huyatính tích cực, chủ động và sáng tạo.</td>\n",
       "      <td>Phương pháp này giúp học sinh phát huy tính tích cực, chủ động và sáng tạo.</td>\n",
       "      <td>16</td>\n",
       "      <td>16</td>\n",
       "      <td>9</td>\n",
       "    </tr>\n",
       "    <tr>\n",
       "      <th>3977</th>\n",
       "      <td>Khảo sat thực trạng dạy học truyện truyền thuyết của giao vien va học sinh ở chương trinh.</td>\n",
       "      <td>khảo sat thực trạng dạy học truyện truyền thuyết của giao vien va học sinh ở chương trinh.</td>\n",
       "      <td>Khảo sát thực trạng dạy học truyện truyền thuyết của giáo viên và học sinh ở chương trình.</td>\n",
       "      <td>18</td>\n",
       "      <td>18</td>\n",
       "      <td>5</td>\n",
       "    </tr>\n",
       "    <tr>\n",
       "      <th>4155</th>\n",
       "      <td>Ngoai ra đôi với một sô học sinh, hoạt động nhận thưc chưa trơ thành hoạt động độc lập, tính kiên trì trong học tập còn yếu.</td>\n",
       "      <td>ngoai ra đôi với một sô học sinh, hoạt động nhận thưc chưa trơ thành hoạt động độc lập, tính kiên trì trong học tập còn yếu.</td>\n",
       "      <td>Ngoài ra đối với một số học sinh, hoạt động nhận thức chưa trở thành hoạt động độc lập, tính kiên trì trong học tập còn yếu.</td>\n",
       "      <td>27</td>\n",
       "      <td>27</td>\n",
       "      <td>5</td>\n",
       "    </tr>\n",
       "    <tr>\n",
       "      <th>4181</th>\n",
       "      <td>Ưu điểm đó chính là do có 2 động cơ cùng phối hợp chuyển động do do cung cấp một momen lớn hơn, như vậy có thể hổ trợ cho cụm trục có khối lượng lớn hoặc cũng có thể sử dụng đồng thời 2 động cơ có momen nhỏ hơn vẫn truyền động đượ cho cum trục này.</td>\n",
       "      <td>ưu điểm đó chính là do có 2 động cơ cùng phối hợp chuyển động do do cung cấp một momen lớn hơn, như vậy có thể hổ trợ cho cụm trục có khối lượng lớn hoặc cũng có thể sử dụng đồng thời 2 động cơ có momen nhỏ hơn vẫn truyền động đượ cho cum trục này.</td>\n",
       "      <td>Ưu điểm đó chính là do có 2 động cơ cùng phối hợp chuyển động do đó cung cấp một momen lớn hơn, như vậy có thể hỗ trợ cho cụm trục có khối lượng lớn hoặc cũng có thể sử dụng đồng thời 2 động cơ có momen nhỏ hơn vẫn truyền động được cho cụm trục này.</td>\n",
       "      <td>59</td>\n",
       "      <td>59</td>\n",
       "      <td>4</td>\n",
       "    </tr>\n",
       "    <tr>\n",
       "      <th>4182</th>\n",
       "      <td>Bởi vì việc Fed sử dụng những công cụ chính scahs đó có ảnh hưởng như vậy đến hoạt ddoognj kinh tế, cho nên điều quan trọng là phải hiểu Fed sử dụng những công cj đó trong thục tế như thế nào và mỗi công cụ đó có lợi ích tương ứng như thế nào.</td>\n",
       "      <td>bởi vì việc fed sử dụng những công cụ chính scahs đó có ảnh hưởng như vậy đến hoạt ddoognj kinh tế, cho nên điều quan trọng là phải hiểu fed sử dụng những công cj đó trong thục tế như thế nào và mỗi công cụ đó có lợi ích tương ứng như thế nào.</td>\n",
       "      <td>Bởi vì việc Fed sử dụng những công cụ chính sách đó có ảnh hưởng như vậy đến hoạt động kinh tế, cho nên điều quan trọng là phải hiểu Fed sử dụng những công cụ đó trong thực tế như thế nào và mỗi công cụ đó có lợi ích tương ứng như thế nào.</td>\n",
       "      <td>56</td>\n",
       "      <td>56</td>\n",
       "      <td>4</td>\n",
       "    </tr>\n",
       "    <tr>\n",
       "      <th>4397</th>\n",
       "      <td>Có một số giao dịch thu chi bằng tiền mặt, mà số tiền giao dịch lớn, nhân viên ở Công ty chỉ thực thiện kiểm tiền bằng tay thì rất dễ xảy ra sai xót, nhiều nhẫm lần không đáng có cho cả Công ty và cả khách hàng của Công ty.</td>\n",
       "      <td>có một số giao dịch thu chi bằng tiền mặt, mà số tiền giao dịch lớn, nhân viên ở công ty chỉ thực thiện kiểm tiền bằng tay thì rất dễ xảy ra sai xót, nhiều nhẫm lần không đáng có cho cả công ty và cả khách hàng của công ty.</td>\n",
       "      <td>Có một số giao dịch thu chi bằng tiền mặt, mà số tiền giao dịch lớn, nhân viên ở Công ty chỉ thực hiện kiểm tiền bằng tay thì rất dễ xảy ra sai sót, nhiều nhầm lẫn không đáng có cho cả Công ty và cả khách hàng của Công ty.</td>\n",
       "      <td>52</td>\n",
       "      <td>52</td>\n",
       "      <td>4</td>\n",
       "    </tr>\n",
       "    <tr>\n",
       "      <th>4437</th>\n",
       "      <td>Du lich văn hóa đươc xem là loai hình du lịch phát triển manh ở Hà Nội.</td>\n",
       "      <td>du lich văn hóa đươc xem là loai hình du lịch phát triển manh ở hà nội.</td>\n",
       "      <td>Du lịch văn hóa được xem là loại hình du lịch phát triển mạnh ở Hà Nội.</td>\n",
       "      <td>17</td>\n",
       "      <td>17</td>\n",
       "      <td>4</td>\n",
       "    </tr>\n",
       "    <tr>\n",
       "      <th>4451</th>\n",
       "      <td>Lời đầu tiên cho tôi được gởi lời chào thân ái,lời chúc sức khỏe đến toàn thế an giám khảo, chúc cho hội thi của chung ta thành công tốt đep.</td>\n",
       "      <td>lời đầu tiên cho tôi được gởi lời chào thân ái, lời chúc sức khỏe đến toàn thế an giám khảo, chúc cho hội thi của chung ta thành công tốt đep.</td>\n",
       "      <td>Lời đầu tiên cho tôi được gửi lời chào thân ái, lời chúc sức khỏe đến toàn thể ban giám khảo, chúc cho hội thi của chúng ta thành công tốt đẹp.</td>\n",
       "      <td>32</td>\n",
       "      <td>32</td>\n",
       "      <td>5</td>\n",
       "    </tr>\n",
       "    <tr>\n",
       "      <th>5165</th>\n",
       "      <td>Hệ thống tải điện: được hiểu là một cấu trúc dược thiết kế, lắp đặt hoàn chinh giữa máy biến áp và dường dây tải diện cùng với một số thiết bị khác nhằm cung cấp điện đến nơi tiêu thụ.</td>\n",
       "      <td>hệ thống tải điện: được hiểu là một cấu trúc dược thiết kế, lắp đặt hoàn chinh giữa máy biến áp và dường dây tải diện cùng với một số thiết bị khác nhằm cung cấp điện đến nơi tiêu thụ.</td>\n",
       "      <td>Hệ thống tải điện: được hiểu là một cấu trúc được thiết kế, lắp đặt hoàn chỉnh giữa máy biến áp và đường dây tải điện cùng với một số thiết bị khác nhằm cung cấp điện đến nơi tiêu thụ.</td>\n",
       "      <td>41</td>\n",
       "      <td>41</td>\n",
       "      <td>4</td>\n",
       "    </tr>\n",
       "    <tr>\n",
       "      <th>5840</th>\n",
       "      <td>Tỉ số năng lượn bit thu được trên mật độ phổ tạp âm, phụ thuộc vào chất lượn liên kết tần số vô tuyên tổng thể và dung lượn đường truyền được đo bởi tốc độ bit thông tin.</td>\n",
       "      <td>tỉ số năng lượn bit thu được trên mật độ phổ tạp âm, phụ thuộc vào chất lượn liên kết tần số vô tuyên tổng thể và dung lượn đường truyền được đo bởi tốc độ bit thông tin.</td>\n",
       "      <td>Tỉ số năng lượng bit thu được trên mật độ phổ tạp âm, phụ thuộc vào chất lượng liên kết tần số vô tuyến tổng thể và dung lượng đường truyền được đo bởi tốc độ bit thông tin.</td>\n",
       "      <td>39</td>\n",
       "      <td>39</td>\n",
       "      <td>4</td>\n",
       "    </tr>\n",
       "    <tr>\n",
       "      <th>5843</th>\n",
       "      <td>Khuynhahướng về sự rõ ràng, ađơn giản và tiết kiệm của lời giải các bàiatoán.</td>\n",
       "      <td>khuynh a hướng về sự rõ ràng, ađơn giản và tiết kiệm của lời giải các baìatoán.</td>\n",
       "      <td>Khuynh hướng về sự rõ ràng, đơn giản và tiết kiệm của lời giải các bài toán.</td>\n",
       "      <td>17</td>\n",
       "      <td>17</td>\n",
       "      <td>16</td>\n",
       "    </tr>\n",
       "    <tr>\n",
       "      <th>6074</th>\n",
       "      <td>Các em chưa hiểu đung vai trò của ghi nhớ máy móc, xem đó là học vẹt, nên coi thương loại ghi nhớ này, do đo không nhớ được tài liệu chính xac.</td>\n",
       "      <td>các em chưa hiểu đung vai trò của ghi nhớ máy móc, xem đó là học vẹt, nên coi thương loại ghi nhớ này, do đo không nhớ được tài liệu chính xac.</td>\n",
       "      <td>Các em chưa hiểu đúng vai trò của ghi nhớ máy móc, xem đó là học vẹt, nên coi thường loại ghi nhớ này, do đó không nhớ được tài liệu chính xác.</td>\n",
       "      <td>33</td>\n",
       "      <td>33</td>\n",
       "      <td>4</td>\n",
       "    </tr>\n",
       "    <tr>\n",
       "      <th>6205</th>\n",
       "      <td>Vì vậy, chúng ta phải nhận thức sự việc một cách xác thực và hãy phân biệt rõ đâu là nững vật có ta thể sở hữu và đâu những vật ta không thể sở hữu để ránh trường hợp sống trong thế giới như người lái buôn.</td>\n",
       "      <td>vì vậy, chúng ta phải nhận thức sự việc một cách xác thực và hãy phân biệt rõ đâu là nững vật có ta thể sở hữu và đâu những vật ta không thể sở hữu để ránh trường hợp sống trong thế giới như người lái buôn.</td>\n",
       "      <td>Vì vậy, chúng ta phải nhận thức sự việc một cách xác thực và hãy phân biệt rõ đâu là những vật ta có thể sở hữu và đâu những vật ta không thể sở hữu để tránh trường hợp sống trong thế giới như người lái buôn.</td>\n",
       "      <td>48</td>\n",
       "      <td>48</td>\n",
       "      <td>4</td>\n",
       "    </tr>\n",
       "    <tr>\n",
       "      <th>6388</th>\n",
       "      <td>Các thí nghiệm hóa học được trình bày dưới dây là những thi nghiệm khó, do chủng tôi chỉ đưa ra những hóa chất thường dùng và trình bảy một số kỹ năng cần thiết để thi nghiệm đảm bảo an toàn.</td>\n",
       "      <td>các thí nghiệm hóa học được trình bày dưới dây là những thi nghiệm khó, do chủng tôi chỉ đưa ra những hóa chất thường dùng và trình bảy một số kỹ năng cần thiết để thi nghiệm đảm bảo an toàn.</td>\n",
       "      <td>Các thí nghiệm hóa học được trình bày dưới đây là những thí nghiệm khó, do chúng tôi chỉ đưa ra những hóa chất thường dùng và trình bày một số kỹ năng cần thiết để thí nghiệm đảm bảo an toàn.</td>\n",
       "      <td>42</td>\n",
       "      <td>42</td>\n",
       "      <td>5</td>\n",
       "    </tr>\n",
       "    <tr>\n",
       "      <th>6574</th>\n",
       "      <td>Chuẩn hóa là yếu tố quan trọng nhất đarm bro sự thống nhật trong hoạt đọng thư viện, tăng sức mạnh của toàn ngành.</td>\n",
       "      <td>chuẩn hóa là yếu tố quan trọng nhất đarm bro sự thống nhật trong hoạt đọng thư viện, tăng sức mạnh của toàn ngành.</td>\n",
       "      <td>Chuẩn hóa là yếu tố quan trọng nhất đảm bảo sự thống nhất trong hoạt động thư viện, tăng sức mạnh của toàn ngành.</td>\n",
       "      <td>24</td>\n",
       "      <td>24</td>\n",
       "      <td>4</td>\n",
       "    </tr>\n",
       "    <tr>\n",
       "      <th>6633</th>\n",
       "      <td>Những biểu hiên đầu tiên của viẹc tạo nhiễu vô tuyến xuất hiên trong thời kỳ chiến tranh Nga-Nhật khi viên chỉ huy tàu tuần dương hạm Nga \"U-ral\" đề nghị dùng các đài vô tuyến trên tàu để khống chế hê thống liên lạc vô tuyến của các tuần dương hạm Nhật.</td>\n",
       "      <td>những biểu hiên đầu tiên của vịec tạo nhiễu vô tuyến xuất hiên trong thời kỳ chiến tranh nga-nhật khi viên chỉ huy tàu tuần dương hạm nga u-ral đề nghị dùng các đài vô tuyến trên tàu để khống chế hê thống liên lạc vô tuyến của các tuần dương hạm nhật.</td>\n",
       "      <td>Những biểu hiện đầu tiên của việc tạo nhiễu vô tuyến xuất hiện trong thời kỳ chiến tranh Nga-Nhật khi viên chỉ huy tàu tuần dương hạm Nga U-ral đề nghị dùng các đài vô tuyến trên tàu để khống chế hệ thống liên lạc vô tuyến của các tuần dương hạm Nhật.</td>\n",
       "      <td>53</td>\n",
       "      <td>53</td>\n",
       "      <td>4</td>\n",
       "    </tr>\n",
       "    <tr>\n",
       "      <th>6679</th>\n",
       "      <td>Ưu diểm của lại thiết kế trên là tránh được sự tiếp xúc của bụi bẩn không khi đến các linh kiện bên trong đèn giup tuổi thọ của đèn được nâng cao hơn so với việc lắp ráp đơn lẻ thông thường, tuy nhiên giá thành của thiết bị lại được nâng lên.</td>\n",
       "      <td>ưu diểm của lại thiết kế trên là tránh được sự tiếp xúc của bụi bẩn không khi đến các linh kiện bên trong đèn giup tuổi thọ của đèn được nâng cao hơn so với việc lắp ráp đơn lẻ thông thường, tuy nhiên giá thành của thiết bị lại được nâng lên.</td>\n",
       "      <td>Ưu điểm của loại thiết kế trên là tránh được sự tiếp xúc của bụi bẩn không khí đến các linh kiện bên trong đèn giúp tuổi thọ của đèn được nâng cao hơn so với việc lắp ráp đơn lẻ thông thường, tuy nhiên giá thành của thiết bị lại được nâng lên.</td>\n",
       "      <td>54</td>\n",
       "      <td>54</td>\n",
       "      <td>4</td>\n",
       "    </tr>\n",
       "    <tr>\n",
       "      <th>6781</th>\n",
       "      <td>Tri giác cua học sinh lớp 7 co trình tự, co kế hoạch và hoàn thiện, các em co khả năng phân tích và tổng hợp.</td>\n",
       "      <td>tri giác cua học sinh lớp 7 co trình tự, co kế hoạch và hoàn thiện, các em co khả năng phân tích và tổng hợp.</td>\n",
       "      <td>Tri giác của học sinh lớp 7 có trình tự, có kế hoạch và hoàn thiện, các em có khả năng phân tích và tổng hợp.</td>\n",
       "      <td>26</td>\n",
       "      <td>26</td>\n",
       "      <td>4</td>\n",
       "    </tr>\n",
       "    <tr>\n",
       "      <th>6989</th>\n",
       "      <td>Được thanh lập bởi 03 cô đông sang lập vào ngay 12 thang 06 năm 2008, với số vốn góp ban đầu là 950 triệu đồng để bắt đầu triển khai kinh doanh thương mại, tập trung mua bán văn phòng phẩm, thiết bị văn phòng.</td>\n",
       "      <td>được thanh lập bởi 03 cô đông sang lập vào ngay 12 thang 06 năm 2008, với số vốn góp ban đầu là 950 triệu đồng để bắt đầu triển khai kinh doanh thương mại, tập trung mua bán văn phòng phẩm, thiết bị văn phòng.</td>\n",
       "      <td>Được thành lập bởi 03 cổ đông sáng lập vào ngày 12 tháng 06 năm 2008, với số vốn góp ban đầu là 950 triệu đồng để bắt đầu triển khai kinh doanh thương mại, tập trung mua bán văn phòng phẩm, thiết bị văn phòng.</td>\n",
       "      <td>46</td>\n",
       "      <td>46</td>\n",
       "      <td>5</td>\n",
       "    </tr>\n",
       "    <tr>\n",
       "      <th>7723</th>\n",
       "      <td>Chất cháy: được hiểu là những chất tồn tại dưới dạng khí, lông, rấn có tính tư bốc cháy khi tiếp xúc với oxy trong không khí, nước hoặc dười tác động của nhiệt như phốt pho, xăng, dầu.</td>\n",
       "      <td>chất cháy: được hiểu là những chất tồn tại dưới dạng khí, lông, rấn có tính tư bốc cháy khi tiếp xúc với oxy trong không khí, nước hoặc dười tác động của nhiệt như phốt pho, xăng, dầu.</td>\n",
       "      <td>Chất cháy: được hiểu là những chất tồn tại dưới dạng khí, lỏng, rắn có tính tự bốc cháy khi tiếp xúc với oxy trong không khí, nước hoặc dưới tác động của nhiệt như phốt pho, xăng, dầu.</td>\n",
       "      <td>39</td>\n",
       "      <td>39</td>\n",
       "      <td>4</td>\n",
       "    </tr>\n",
       "    <tr>\n",
       "      <th>7881</th>\n",
       "      <td>Với sự đầu tư nghiêm túc và dài hạn kiết hợp với công nghệ hiện đại nhất thể giới, chúng tối quyết tâm trở thành thương hiệu thực phẩm đẳng cấp thế giới được mọi nhà tin dùng, mọi người yêu thích và quốc gia tư hào.</td>\n",
       "      <td>với sự đầu tư nghiêm túc và dài hạn kiết hợp với công nghệ hiện đại nhất thể giới, chúng tối quyết tâm trở thành thương hiệu thực phẩm đẳng cấp thế giới được mọi nhà tin dùng, mọi người yêu thích và quốc gia tư hào.</td>\n",
       "      <td>Với sự đầu tư nghiêm túc và dài hạn kết hợp với công nghệ hiện đại nhất thế giới, chúng tôi quyết tâm trở thành thương hiệu thực phẩm đẳng cấp thế giới được mọi nhà tin dùng, mọi người yêu thích và quốc gia tự hào.</td>\n",
       "      <td>47</td>\n",
       "      <td>47</td>\n",
       "      <td>4</td>\n",
       "    </tr>\n",
       "    <tr>\n",
       "      <th>7888</th>\n",
       "      <td>Việt Nam ngày càng hội nhập sâu rộng vào nền kinh tế thế giới và được tính nhiệm giữa nhiều vai trò quan trọng, qua đó từng bươc skhawngr định vị trí của Việt Nam trên thương trường quốc tế.</td>\n",
       "      <td>việt nam ngày càng hội nhập sâu rộng vào nền kinh tế thế giới và được tính nhiệm giữa nhiều vai trò quan trọng, qua đó từng bươc skhawngr định vị trí của việt nam trên thương trường quốc tế.</td>\n",
       "      <td>Việt Nam ngày càng hội nhập sâu rộng vào nền kinh tế thế giới và được tín nhiệm giữ nhiều vai trò quan trọng, qua đó từng bước khẳng định vị trí của Việt Nam trên thương trường quốc tế.</td>\n",
       "      <td>40</td>\n",
       "      <td>40</td>\n",
       "      <td>4</td>\n",
       "    </tr>\n",
       "    <tr>\n",
       "      <th>8467</th>\n",
       "      <td>Bảng đồng hồ được bố trí trong bản điểu khiển táp lô để người lái có thế quan sát một các dễ dàng khi đang lái xe.</td>\n",
       "      <td>bảng đồng hồ được bố trí trong bản điểu khiển táp lô để người lái có thế quan sát một các dễ dàng khi đang lái xe.</td>\n",
       "      <td>Bảng đồng hồ được bố trí trong bảng điều khiển táp lô để người lái có thể quan sát một cách dễ dàng khi đang lái xe.</td>\n",
       "      <td>27</td>\n",
       "      <td>27</td>\n",
       "      <td>4</td>\n",
       "    </tr>\n",
       "    <tr>\n",
       "      <th>8754</th>\n",
       "      <td>Chính phủ Mỹ ngang nhiên dùng vũ lưc can thiêp vào quan hê giữa hai bờ eo biển thuôc công việc nội bộ Trung Quốc.</td>\n",
       "      <td>chính phủ mỹ ngang nhiên dùng vũ lưc can thiêp vào quan hê giữa hai bờ eo biển thuôc công việc nội bộ trung quốc.</td>\n",
       "      <td>Chính phủ Mỹ ngang nhiên dùng vũ lực can thiệp vào quan hệ giữa hai bờ eo biển thuộc công việc nội bộ Trung Quốc.</td>\n",
       "      <td>25</td>\n",
       "      <td>25</td>\n",
       "      <td>4</td>\n",
       "    </tr>\n",
       "    <tr>\n",
       "      <th>8965</th>\n",
       "      <td>Chăm sóc sức khỏe: bò được tự vân động trong nhà máy có máy che, gắn quạt mát, bod được nghe nhạc, tám mát mỗi ngày nhằm kich thích sự tiết sữa tự nhiên của bò.</td>\n",
       "      <td>chăm sóc sức khỏe: bò được tự vân động trong nhà máy có máy che, gắn quạt mát, bod được nghe nhạc, tám mát mỗi ngày nhằm kich thích sự tiết sữa tự nhiên của bò.</td>\n",
       "      <td>Chăm sóc sức khỏe: bò được tự vận động trong nhà máy có mái che, gắn quạt mát, bò được nghe nhạc, tắm mát mỗi ngày nhằm kích thích sự tiết sữa tự nhiên của bò.</td>\n",
       "      <td>36</td>\n",
       "      <td>36</td>\n",
       "      <td>5</td>\n",
       "    </tr>\n",
       "    <tr>\n",
       "      <th>9094</th>\n",
       "      <td>Tòa án có thế từ chối đề nghị thay đoi người tiến hành tố tụng hoặc chấp nhận yêu cầu thay đoi của đương sự bằng quyết định thay đoi người tiến hành tố tụng theo quy định tại Điều 50, Điều 51 BLTTDS 2105.</td>\n",
       "      <td>tòa án có thế từ chối đề nghị thay đoi người tiến hành tố tụng hoặc chấp nhận yêu cầu thay đoi của đương sự bằng quyết định thay đoi người tiến hành tố tụng theo quy định tại điều 50, điều 51 blttds 2105.</td>\n",
       "      <td>Tòa án có thể từ chối đề nghị thay đổi người tiến hành tố tụng hoặc chấp nhận yêu cầu thay đổi của đương sự bằng quyết định thay đổi người tiến hành tố tụng theo quy định tại Điều 50, Điều 51 BLTTDS 2105.</td>\n",
       "      <td>45</td>\n",
       "      <td>45</td>\n",
       "      <td>4</td>\n",
       "    </tr>\n",
       "  </tbody>\n",
       "</table>\n",
       "</div>"
      ],
      "text/plain": [
       "                                                                                                                                                                                                                                                               text  \\\n",
       "144                                                                                                                                 Giáo viên ghi lên ảng các âm, tiếng, từ mà các ạn chưa tiếp thu kịp ở ài học trước và yêu cầu an cán sự lớp cho các ạn yếu đọc.   \n",
       "681                                                        Các em không dễ tin, không dế chấp nhận ý kiến người khác, muốn tranh luận, chứng mình vấn đề một cách sát thực, rõ ràng, thậm chí đôi khi muốn phê phán những kết luận, những phán đoán của nguời khác.   \n",
       "813                                              Báo cáo thực tập GVHD: Trần Tuấn Anh Đối tương nghiện cứu của đề tài là Các chính sách bán hàng của công ty cổ phần thương mại và dịch vụ Katsuma chi nhánh Gia Lai và giải pháp thể cải thiện cách chính sách đó.   \n",
       "1180           Ước tính của các chuyên gia ngành thuế Hà Nội cho rằng Keangnam Vina đã trả lãi xuất trung bình khoản 12% mỗi năm cho khẳn vay này, nhưng trong khi đó, lãi suất vay bằng USD tại Việt Nam trong thời điểm đó chỉ giao động hkar từ 5% - 7% mỗi năm.   \n",
       "1201                                                                                                                   Phổi hợp với Sở Kế hoạch Đầu tư xây dựng kế hoạch, cân đối bổ trí vổn hàng năm để đầu tư hạ tầng du lịch cho các khu, điểm du lịch cùa tinh.   \n",
       "1208                                                                                                          Sổ ngày rét hại trung bình năm ở tình Hưng Yên ở 4 kịch bản có xu thế giảm với thời kỳ cơ sở, giảm ít nhất là 2,6 ngày, giảm nhiêu nhât là 11,2 ngày.   \n",
       "1651                                                                                                        Như vậy với việ apsd ụng hóa đơn điện tử trong thời gian tới sẽ giuos các cơ quan thuế dễ dàng, thuận tiện hơn trong việc tổng họp, kiểm tra thông tin.   \n",
       "1756                                                                                                          Chú ý cua các em thể hiện sư lưạ chọn rất rõ, sưc tập trung chú ý cao hơn, khả năng duy trì chú ý được lâu bên hơn so với học sinh tiểu học và lớp 6.   \n",
       "1800                                                     Nâng cao chất lượng dồ án quy hoạch thông qua việc nâng cao công tác thẩm dịnh phê duyệt nhiệm vụ quy hoạch, đồ án quy hoạch và báo cáo đánh giá tác dộng môi trường chiến lược trong các dồ án quy hoạch.   \n",
       "1969                                                                                                                                                                      Chỉ tiêu này phản ánh một đồng vốn cố dịnh trong kỷ tạo ra dược bao nhiều đồng lợi nhuận.   \n",
       "2048                           Đôin gủ cán bộ ngành thuế ngày cangd đucợ trang bị những kiến thức chuyên sâu, chuyên nghiệp, có các kỹ ăng quản lý thuế hiện đại, các kỹ nagw áo dụng, sử dụng các phương tiện điện tử trong việc phân tích, đánh giá, tổng hợp,...   \n",
       "2210                                          Thiết kế dịch vụ để khách hàng co thể tự thực hiện các thao tác như: cung cấp thong tin lô hàng, ten người gửi, địa chỉ gửi , địa chỉ nhận hàng,… từ đó bộ phận dịch vụ sẽ thống kế được lượng khách nhanh chíng hơn.   \n",
       "2299                                                                   Từ năm 1961 đen nay, nhiệt độ không khí trung bình năm và các mùa nhìn chung đều có xu thế tăng với tốc độ tăng xấp xì 0,2°C/thập kỷ, riêng nhiệt độ mùa dông không thề hiện xu thế rõ ràng.   \n",
       "2319                         Tuy nhiên ghi nhớ của học sinh lớp 7 cũng còn một sô thiếu sót: Các em thường bị mâu thuẫn trong việc ghi nhớ, mặc du có khả năng ghi nhớ ý nghiã, song các em vẫn tuy tiện trong ghi nhớ, khi gặp kho khăn lại tư bo ghi nhớ ý nghiã.   \n",
       "2546                                                                                               Như vậy, khi học sinh được phong làm \"lớp trưởng\" các em sẽ ý thức hơn, luôn muốn thể hiện ản thân mình giỏi hơn ạn thì ạn ấy sẽ cố gắng đọc tốt để ạn đọc theo.   \n",
       "2603                                                                                      Vùng kinh tế trong điểm Bắc Bộ đã trở thành trung tâm kinh tế - chính tri, đào tao nguồn nhân lực khoa học - công nghệ, cung cấp dịch vu cho khu vực phía Bắc và cả nước.   \n",
       "2669                         Tăng cường công tác đào tạo, bồi dưỡng chuyên môn, nâng cao nhận thức về BĐKH cho cán bộ quản lý xây dựng, các chủ đầu tư công trình sừ dụng vốn ngân sách để nâng cao hiệu quà đầu tư công găn với yêu câu chù động ứng phó với BĐKH.   \n",
       "2854                                                                                      Thông thường trách nhiệm pháp lý nói chung và trách nhiệm bồi thường thiệt hại phải có đủ điều kiện pháp sinh, trong đó hành vì trái phát luật và lỗi là yêu tố bắt buộc.   \n",
       "3234                                                                                         Trường hợp này, cũng sẽ cân điêu chỉnh lại góc cụp và góc phương vị của các cell hàng xóm cho phù hợp, ưu tiên chỉnh từ xa về gân để giải quyết luôn vẫn đê OverShoot.   \n",
       "3849                                                                                                                                   Ngoài sử dụng bằng công tắc cơ khí đơn thuần thì hệ thống con sử sử dụng mô tơ cho việc đóng khóa cửa của một chiếc xe ô tô.   \n",
       "3949                                                                                                                                                                                   aPhương pháp này giúp học sinh phát huyatính tích cực, chủ động và sáng tạo.   \n",
       "3977                                                                                                                                                                     Khảo sat thực trạng dạy học truyện truyền thuyết của giao vien va học sinh ở chương trinh.   \n",
       "4155                                                                                                                                   Ngoai ra đôi với một sô học sinh, hoạt động nhận thưc chưa trơ thành hoạt động độc lập, tính kiên trì trong học tập còn yếu.   \n",
       "4181       Ưu điểm đó chính là do có 2 động cơ cùng phối hợp chuyển động do do cung cấp một momen lớn hơn, như vậy có thể hổ trợ cho cụm trục có khối lượng lớn hoặc cũng có thể sử dụng đồng thời 2 động cơ có momen nhỏ hơn vẫn truyền động đượ cho cum trục này.   \n",
       "4182            Bởi vì việc Fed sử dụng những công cụ chính scahs đó có ảnh hưởng như vậy đến hoạt ddoognj kinh tế, cho nên điều quan trọng là phải hiểu Fed sử dụng những công cj đó trong thục tế như thế nào và mỗi công cụ đó có lợi ích tương ứng như thế nào.   \n",
       "4397                                Có một số giao dịch thu chi bằng tiền mặt, mà số tiền giao dịch lớn, nhân viên ở Công ty chỉ thực thiện kiểm tiền bằng tay thì rất dễ xảy ra sai xót, nhiều nhẫm lần không đáng có cho cả Công ty và cả khách hàng của Công ty.   \n",
       "4437                                                                                                                                                                                        Du lich văn hóa đươc xem là loai hình du lịch phát triển manh ở Hà Nội.   \n",
       "4451                                                                                                                  Lời đầu tiên cho tôi được gởi lời chào thân ái,lời chúc sức khỏe đến toàn thế an giám khảo, chúc cho hội thi của chung ta thành công tốt đep.   \n",
       "5165                                                                       Hệ thống tải điện: được hiểu là một cấu trúc dược thiết kế, lắp đặt hoàn chinh giữa máy biến áp và dường dây tải diện cùng với một số thiết bị khác nhằm cung cấp điện đến nơi tiêu thụ.   \n",
       "5840                                                                                     Tỉ số năng lượn bit thu được trên mật độ phổ tạp âm, phụ thuộc vào chất lượn liên kết tần số vô tuyên tổng thể và dung lượn đường truyền được đo bởi tốc độ bit thông tin.   \n",
       "5843                                                                                                                                                                                  Khuynhahướng về sự rõ ràng, ađơn giản và tiết kiệm của lời giải các bàiatoán.   \n",
       "6074                                                                                                                Các em chưa hiểu đung vai trò của ghi nhớ máy móc, xem đó là học vẹt, nên coi thương loại ghi nhớ này, do đo không nhớ được tài liệu chính xac.   \n",
       "6205                                                 Vì vậy, chúng ta phải nhận thức sự việc một cách xác thực và hãy phân biệt rõ đâu là nững vật có ta thể sở hữu và đâu những vật ta không thể sở hữu để ránh trường hợp sống trong thế giới như người lái buôn.   \n",
       "6388                                                                Các thí nghiệm hóa học được trình bày dưới dây là những thi nghiệm khó, do chủng tôi chỉ đưa ra những hóa chất thường dùng và trình bảy một số kỹ năng cần thiết để thi nghiệm đảm bảo an toàn.   \n",
       "6574                                                                                                                                             Chuẩn hóa là yếu tố quan trọng nhất đarm bro sự thống nhật trong hoạt đọng thư viện, tăng sức mạnh của toàn ngành.   \n",
       "6633  Những biểu hiên đầu tiên của viẹc tạo nhiễu vô tuyến xuất hiên trong thời kỳ chiến tranh Nga-Nhật khi viên chỉ huy tàu tuần dương hạm Nga \"U-ral\" đề nghị dùng các đài vô tuyến trên tàu để khống chế hê thống liên lạc vô tuyến của các tuần dương hạm Nhật.   \n",
       "6679             Ưu diểm của lại thiết kế trên là tránh được sự tiếp xúc của bụi bẩn không khi đến các linh kiện bên trong đèn giup tuổi thọ của đèn được nâng cao hơn so với việc lắp ráp đơn lẻ thông thường, tuy nhiên giá thành của thiết bị lại được nâng lên.   \n",
       "6781                                                                                                                                                  Tri giác cua học sinh lớp 7 co trình tự, co kế hoạch và hoàn thiện, các em co khả năng phân tích và tổng hợp.   \n",
       "6989                                              Được thanh lập bởi 03 cô đông sang lập vào ngay 12 thang 06 năm 2008, với số vốn góp ban đầu là 950 triệu đồng để bắt đầu triển khai kinh doanh thương mại, tập trung mua bán văn phòng phẩm, thiết bị văn phòng.   \n",
       "7723                                                                       Chất cháy: được hiểu là những chất tồn tại dưới dạng khí, lông, rấn có tính tư bốc cháy khi tiếp xúc với oxy trong không khí, nước hoặc dười tác động của nhiệt như phốt pho, xăng, dầu.   \n",
       "7881                                        Với sự đầu tư nghiêm túc và dài hạn kiết hợp với công nghệ hiện đại nhất thể giới, chúng tối quyết tâm trở thành thương hiệu thực phẩm đẳng cấp thế giới được mọi nhà tin dùng, mọi người yêu thích và quốc gia tư hào.   \n",
       "7888                                                                 Việt Nam ngày càng hội nhập sâu rộng vào nền kinh tế thế giới và được tính nhiệm giữa nhiều vai trò quan trọng, qua đó từng bươc skhawngr định vị trí của Việt Nam trên thương trường quốc tế.   \n",
       "8467                                                                                                                                             Bảng đồng hồ được bố trí trong bản điểu khiển táp lô để người lái có thế quan sát một các dễ dàng khi đang lái xe.   \n",
       "8754                                                                                                                                              Chính phủ Mỹ ngang nhiên dùng vũ lưc can thiêp vào quan hê giữa hai bờ eo biển thuôc công việc nội bộ Trung Quốc.   \n",
       "8965                                                                                               Chăm sóc sức khỏe: bò được tự vân động trong nhà máy có máy che, gắn quạt mát, bod được nghe nhạc, tám mát mỗi ngày nhằm kich thích sự tiết sữa tự nhiên của bò.   \n",
       "9094                                                   Tòa án có thế từ chối đề nghị thay đoi người tiến hành tố tụng hoặc chấp nhận yêu cầu thay đoi của đương sự bằng quyết định thay đoi người tiến hành tố tụng theo quy định tại Điều 50, Điều 51 BLTTDS 2105.   \n",
       "\n",
       "                                                                                                                                                                                                                                                       preprocess  \\\n",
       "144                                                                                                                               giáo viên ghi lên ảng các âm, tiếng, từ mà các ạn chưa tiếp thu kịp ở ài học trước và yêu cầu an cán sự lớp cho các ạn yếu đọc.   \n",
       "681                                                      các em không dễ tin, không dế chấp nhận ý kiến người khác, muốn tranh luận, chứng mình vấn đề một cách sát thực, rõ ràng, thậm chí đôi khi muốn phê phán những kết luận, những phán đoán của nguời khác.   \n",
       "813                                            báo cáo thực tập gvhd: trần tuấn anh đối tương nghiện cứu của đề tài là các chính sách bán hàng của công ty cổ phần thương mại và dịch vụ katsuma chi nhánh gia lai và giải pháp thể cải thiện cách chính sách đó.   \n",
       "1180         ước tính của các chuyên gia ngành thuế hà nội cho rằng keangnam vina đã trả lãi xuất trung bình khoản 12% mỗi năm cho khẳn vay này, nhưng trong khi đó, lãi suất vay bằng usd tại việt nam trong thời điểm đó chỉ giao động hkar từ 5% - 7% mỗi năm.   \n",
       "1201                                                                                                                 phổi hợp với sở kế hoạch đầu tư xây dựng kế hoạch, cân đối bổ trí vổn hàng năm để đầu tư hạ tầng du lịch cho các khu, điểm du lịch cùa tinh.   \n",
       "1208                                                                                                        sổ ngày rét hại trung bình năm ở tình hưng yên ở 4 kịch bản có xu thế giảm với thời kỳ cơ sở, giảm ít nhất là 2,6 ngày, giảm nhiêu nhât là 11,2 ngày.   \n",
       "1651                                                                                                      như vậy với việ apsd ụng hóa đơn điện tử trong thời gian tới sẽ giuos các cơ quan thuế dễ dàng, thuận tiện hơn trong việc tổng họp, kiểm tra thông tin.   \n",
       "1756                                                                                                        chú ý cua các em thể hiện sư lựa chọn rất rõ, sưc tập trung chú ý cao hơn, khả năng duy trì chú ý được lâu bên hơn so với học sinh tiểu học và lớp 6.   \n",
       "1800                                                   nâng cao chất lượng dồ án quy hoạch thông qua việc nâng cao công tác thẩm dịnh phê duyệt nhiệm vụ quy hoạch, đồ án quy hoạch và báo cáo đánh giá tác dộng môi trường chiến lược trong các dồ án quy hoạch.   \n",
       "1969                                                                                                                                                                    chỉ tiêu này phản ánh một đồng vốn cố dịnh trong kỷ tạo ra dược bao nhiều đồng lợi nhuận.   \n",
       "2048                      đôin gủ cán bộ ngành thuế ngày cangd đucợ trang bị những kiến thức chuyên sâu, chuyên nghiệp, có các kỹ ăng quản lý thuế hiện đại, các kỹ nagw áo dụng, sử dụng các phương tiện điện tử trong việc phân tích, đánh giá, tổng hợp, . . .   \n",
       "2210                                        thiết kế dịch vụ để khách hàng co thể tự thực hiện các thao tác như: cung cấp thong tin lô hàng, ten người gửi, địa chỉ gửi, địa chỉ nhận hàng, … từ đó bộ phận dịch vụ sẽ thống kế được lượng khách nhanh chíng hơn.   \n",
       "2299                                                                 từ năm 1961 đen nay, nhiệt độ không khí trung bình năm và các mùa nhìn chung đều có xu thế tăng với tốc độ tăng xấp xì 0,2°c/thập kỷ, riêng nhiệt độ mùa dông không thề hiện xu thế rõ ràng.   \n",
       "2319                       tuy nhiên ghi nhớ của học sinh lớp 7 cũng còn một sô thiếu sót: các em thường bị mâu thuẫn trong việc ghi nhớ, mặc du có khả năng ghi nhớ ý nghĩa, song các em vẫn tuy tiện trong ghi nhớ, khi gặp kho khăn lại tư bo ghi nhớ ý nghĩa.   \n",
       "2546                                                                                               như vậy, khi học sinh được phong làm lớp trưởng các em sẽ ý thức hơn, luôn muốn thể hiện ản thân mình giỏi hơn ạn thì ạn ấy sẽ cố gắng đọc tốt để ạn đọc theo.   \n",
       "2603                                                                                    vùng kinh tế trong điểm bắc bộ đã trở thành trung tâm kinh tế - chính tri, đào tao nguồn nhân lực khoa học - công nghệ, cung cấp dịch vu cho khu vực phía bắc và cả nước.   \n",
       "2669                       tăng cường công tác đào tạo, bồi dưỡng chuyên môn, nâng cao nhận thức về bđkh cho cán bộ quản lý xây dựng, các chủ đầu tư công trình sừ dụng vốn ngân sách để nâng cao hiệu quà đầu tư công găn với yêu câu chù động ứng phó với bđkh.   \n",
       "2854                                                                                    thông thường trách nhiệm pháp lý nói chung và trách nhiệm bồi thường thiệt hại phải có đủ điều kiện pháp sinh, trong đó hành vì trái phát luật và lỗi là yêu tố bắt buộc.   \n",
       "3234                                                                                       trường hợp này, cũng sẽ cân điêu chỉnh lại góc cụp và góc phương vị của các cell hàng xóm cho phù hợp, ưu tiên chỉnh từ xa về gân để giải quyết luôn vẫn đê overshoot.   \n",
       "3849                                                                                                                                  ngoài sử dụng bằng công tắc cơ khí đơn thuần thì hệ thống con sử sử dụng môtơ cho việc đóng khóa cửa của một chiếc xe ô tô.   \n",
       "3949                                                                                                                                                                                a phương pháp này giúp học sinh phát huyatính tích cực, chủ động và sáng tạo.   \n",
       "3977                                                                                                                                                                   khảo sat thực trạng dạy học truyện truyền thuyết của giao vien va học sinh ở chương trinh.   \n",
       "4155                                                                                                                                 ngoai ra đôi với một sô học sinh, hoạt động nhận thưc chưa trơ thành hoạt động độc lập, tính kiên trì trong học tập còn yếu.   \n",
       "4181     ưu điểm đó chính là do có 2 động cơ cùng phối hợp chuyển động do do cung cấp một momen lớn hơn, như vậy có thể hổ trợ cho cụm trục có khối lượng lớn hoặc cũng có thể sử dụng đồng thời 2 động cơ có momen nhỏ hơn vẫn truyền động đượ cho cum trục này.   \n",
       "4182          bởi vì việc fed sử dụng những công cụ chính scahs đó có ảnh hưởng như vậy đến hoạt ddoognj kinh tế, cho nên điều quan trọng là phải hiểu fed sử dụng những công cj đó trong thục tế như thế nào và mỗi công cụ đó có lợi ích tương ứng như thế nào.   \n",
       "4397                              có một số giao dịch thu chi bằng tiền mặt, mà số tiền giao dịch lớn, nhân viên ở công ty chỉ thực thiện kiểm tiền bằng tay thì rất dễ xảy ra sai xót, nhiều nhẫm lần không đáng có cho cả công ty và cả khách hàng của công ty.   \n",
       "4437                                                                                                                                                                                      du lich văn hóa đươc xem là loai hình du lịch phát triển manh ở hà nội.   \n",
       "4451                                                                                                               lời đầu tiên cho tôi được gởi lời chào thân ái, lời chúc sức khỏe đến toàn thế an giám khảo, chúc cho hội thi của chung ta thành công tốt đep.   \n",
       "5165                                                                     hệ thống tải điện: được hiểu là một cấu trúc dược thiết kế, lắp đặt hoàn chinh giữa máy biến áp và dường dây tải diện cùng với một số thiết bị khác nhằm cung cấp điện đến nơi tiêu thụ.   \n",
       "5840                                                                                   tỉ số năng lượn bit thu được trên mật độ phổ tạp âm, phụ thuộc vào chất lượn liên kết tần số vô tuyên tổng thể và dung lượn đường truyền được đo bởi tốc độ bit thông tin.   \n",
       "5843                                                                                                                                                                              khuynh a hướng về sự rõ ràng, ađơn giản và tiết kiệm của lời giải các baìatoán.   \n",
       "6074                                                                                                              các em chưa hiểu đung vai trò của ghi nhớ máy móc, xem đó là học vẹt, nên coi thương loại ghi nhớ này, do đo không nhớ được tài liệu chính xac.   \n",
       "6205                                               vì vậy, chúng ta phải nhận thức sự việc một cách xác thực và hãy phân biệt rõ đâu là nững vật có ta thể sở hữu và đâu những vật ta không thể sở hữu để ránh trường hợp sống trong thế giới như người lái buôn.   \n",
       "6388                                                              các thí nghiệm hóa học được trình bày dưới dây là những thi nghiệm khó, do chủng tôi chỉ đưa ra những hóa chất thường dùng và trình bảy một số kỹ năng cần thiết để thi nghiệm đảm bảo an toàn.   \n",
       "6574                                                                                                                                           chuẩn hóa là yếu tố quan trọng nhất đarm bro sự thống nhật trong hoạt đọng thư viện, tăng sức mạnh của toàn ngành.   \n",
       "6633  những biểu hiên đầu tiên của vịec tạo nhiễu vô tuyến xuất hiên trong thời kỳ chiến tranh nga-nhật khi viên chỉ huy tàu tuần dương hạm nga u-ral đề nghị dùng các đài vô tuyến trên tàu để khống chế hê thống liên lạc vô tuyến của các tuần dương hạm nhật.   \n",
       "6679           ưu diểm của lại thiết kế trên là tránh được sự tiếp xúc của bụi bẩn không khi đến các linh kiện bên trong đèn giup tuổi thọ của đèn được nâng cao hơn so với việc lắp ráp đơn lẻ thông thường, tuy nhiên giá thành của thiết bị lại được nâng lên.   \n",
       "6781                                                                                                                                                tri giác cua học sinh lớp 7 co trình tự, co kế hoạch và hoàn thiện, các em co khả năng phân tích và tổng hợp.   \n",
       "6989                                            được thanh lập bởi 03 cô đông sang lập vào ngay 12 thang 06 năm 2008, với số vốn góp ban đầu là 950 triệu đồng để bắt đầu triển khai kinh doanh thương mại, tập trung mua bán văn phòng phẩm, thiết bị văn phòng.   \n",
       "7723                                                                     chất cháy: được hiểu là những chất tồn tại dưới dạng khí, lông, rấn có tính tư bốc cháy khi tiếp xúc với oxy trong không khí, nước hoặc dười tác động của nhiệt như phốt pho, xăng, dầu.   \n",
       "7881                                      với sự đầu tư nghiêm túc và dài hạn kiết hợp với công nghệ hiện đại nhất thể giới, chúng tối quyết tâm trở thành thương hiệu thực phẩm đẳng cấp thế giới được mọi nhà tin dùng, mọi người yêu thích và quốc gia tư hào.   \n",
       "7888                                                               việt nam ngày càng hội nhập sâu rộng vào nền kinh tế thế giới và được tính nhiệm giữa nhiều vai trò quan trọng, qua đó từng bươc skhawngr định vị trí của việt nam trên thương trường quốc tế.   \n",
       "8467                                                                                                                                           bảng đồng hồ được bố trí trong bản điểu khiển táp lô để người lái có thế quan sát một các dễ dàng khi đang lái xe.   \n",
       "8754                                                                                                                                            chính phủ mỹ ngang nhiên dùng vũ lưc can thiêp vào quan hê giữa hai bờ eo biển thuôc công việc nội bộ trung quốc.   \n",
       "8965                                                                                             chăm sóc sức khỏe: bò được tự vân động trong nhà máy có máy che, gắn quạt mát, bod được nghe nhạc, tám mát mỗi ngày nhằm kich thích sự tiết sữa tự nhiên của bò.   \n",
       "9094                                                 tòa án có thế từ chối đề nghị thay đoi người tiến hành tố tụng hoặc chấp nhận yêu cầu thay đoi của đương sự bằng quyết định thay đoi người tiến hành tố tụng theo quy định tại điều 50, điều 51 blttds 2105.   \n",
       "\n",
       "                                                                                                                                                                                                                                                     correct_text  \\\n",
       "144                                                                                                                          Giáo viên ghi lên bảng các âm, tiếng, từ mà các bạn chưa tiếp thu kịp ở bài học trước và yêu cầu ban cán sự lớp cho các bạn yếu đọc.   \n",
       "681                                                      Các em không dễ tin, không dễ chấp nhận ý kiến người khác, muốn tranh luận, chứng minh vấn đề một cách xác thực, rõ ràng, thậm chí đôi khi muốn phê phán những kết luận, những phán đoán của người khác.   \n",
       "813                                              Báo cáo thực tập GVHD: Trần Tuấn Anh Đối tượng nghiên cứu của đề tài là Các chính sách bán hàng của công ty cổ phần thương mại và dịch vụ Katsuma chi nhánh Gia Lai và giải pháp để cải thiện các chính sách đó.   \n",
       "1180      Ước tính của các chuyên gia ngành thuế Hà Nội cho rằng Keangnam Vina đã trả lãi suất trung bình khoảng 12% mỗi năm cho khoản vay này, nhưng trong khi đó, lãi suất vay bằng USD tại Việt Nam trong thời điểm đó chỉ dao động khoảng từ 5% - 7% mỗi năm.   \n",
       "1201                                                                                                                 Phối hợp với Sở Kế hoạch Đầu tư xây dựng kế hoạch, cân đối bố trí vốn hàng năm để đầu tư hạ tầng du lịch cho các khu, điểm du lịch của tỉnh.   \n",
       "1208                                                                                                        Số ngày rét hại trung bình năm ở tỉnh Hưng Yên ở 4 kịch bản có xu thế giảm với thời kỳ cơ sở, giảm ít nhất là 2,6 ngày, giảm nhiều nhất là 11,2 ngày.   \n",
       "1651                                                                                                       Như vậy với việc áp dụng hóa đơn điện tử trong thời gian tới sẽ giúp các cơ quan thuế dễ dàng, thuận tiện hơn trong việc tổng hợp, kiểm tra thông tin.   \n",
       "1756                                                                                                         Chú ý của các em thể hiện sự lựa chọn rất rõ, sự tập trung chú ý cao hơn, khả năng duy trì chú ý được lâu bền hơn so với học sinh tiểu học và lớp 6.   \n",
       "1800                                                   Nâng cao chất lượng đồ án quy hoạch thông qua việc nâng cao công tác thẩm định phê duyệt nhiệm vụ quy hoạch, đồ án quy hoạch và báo cáo đánh giá tác động môi trường chiến lược trong các đồ án quy hoạch.   \n",
       "1969                                                                                                                                                                    Chỉ tiêu này phản ánh một đồng vốn cố định trong kỳ tạo ra được bao nhiêu đồng lợi nhuận.   \n",
       "2048                      Đội ngũ cán bộ ngành thuế ngày càng được trang bị những kiến thức chuyên sâu, chuyên nghiệp, có các kỹ năng quản lý thuế hiện đại, các kỹ năng áp dụng, sử dụng các phương tiện điện tử trong việc phân tích, đánh giá, tổng hợp, . . .   \n",
       "2210                                        Thiết kế dịch vụ để khách hàng có thể tự thực hiện các thao tác như: cung cấp thông tin lô hàng, tên người gửi, địa chỉ gửi, địa chỉ nhận hàng, … từ đó bộ phận dịch vụ sẽ thống kê được lượng khách nhanh chóng hơn.   \n",
       "2299                                                                 Từ năm 1961 đến nay, nhiệt độ không khí trung bình năm và các mùa nhìn chung đều có xu thế tăng với tốc độ tăng xấp xỉ 0,2°C/thập kỷ, riêng nhiệt độ mùa đông không thể hiện xu thế rõ ràng.   \n",
       "2319                        Tuy nhiên ghi nhớ của học sinh lớp 7 cũng còn một số thiếu sót: Các em thường bị mâu thuẫn trong việc ghi nhớ, mặc dù có khả năng ghi nhớ ý nghĩa song các em vẫn tùy tiện trong ghi nhớ, khi gặp khó khăn lại từ bỏ ghi nhớ ý nghĩa.   \n",
       "2546                                                                                           Như vậy, khi học sinh được phong làm lớp trưởng các em sẽ ý thức hơn, luôn muốn thể hiện bản thân mình giỏi hơn bạn thì bạn ấy sẽ cố gắng đọc tốt để bạn đọc theo.   \n",
       "2603                                                                                     Vùng kinh tế trọng điểm Bắc Bộ đã trở thành trung tâm kinh tế - chính trị đào tạo nguồn nhân lực khoa học - công nghệ, cung cấp dịch vụ cho khu vực phía Bắc và cả nước.   \n",
       "2669                       Tăng cường công tác đào tạo, bồi dưỡng chuyên môn, nâng cao nhận thức về BĐKH cho cán bộ quản lý xây dựng, các chủ đầu tư công trình sử dụng vốn ngân sách để nâng cao hiệu quả đầu tư công gắn với yêu cầu chủ động ứng phó với BĐKH.   \n",
       "2854                                                                                    Thông thường trách nhiệm pháp lý nói chung và trách nhiệm bồi thường thiệt hại phải có đủ điều kiện phát sinh, trong đó hành vi trái pháp luật và lỗi là yếu tố bắt buộc.   \n",
       "3234                                                                                       Trường hợp này, cũng sẽ cần điều chỉnh lại góc cụp và góc phương vị của các cell hàng xóm cho phù hợp, ưu tiên chỉnh từ xa về gần để giải quyết luôn vấn đề OverShoot.   \n",
       "3849                                                                                                                                    Ngoài sử dụng bằng công tắc cơ khí đơn thuần thì hệ thống còn sử dụng mô tơ cho việc đóng khóa cửa của một chiếc xe ô tô.   \n",
       "3949                                                                                                                                                                                  Phương pháp này giúp học sinh phát huy tính tích cực, chủ động và sáng tạo.   \n",
       "3977                                                                                                                                                                   Khảo sát thực trạng dạy học truyện truyền thuyết của giáo viên và học sinh ở chương trình.   \n",
       "4155                                                                                                                                 Ngoài ra đối với một số học sinh, hoạt động nhận thức chưa trở thành hoạt động độc lập, tính kiên trì trong học tập còn yếu.   \n",
       "4181    Ưu điểm đó chính là do có 2 động cơ cùng phối hợp chuyển động do đó cung cấp một momen lớn hơn, như vậy có thể hỗ trợ cho cụm trục có khối lượng lớn hoặc cũng có thể sử dụng đồng thời 2 động cơ có momen nhỏ hơn vẫn truyền động được cho cụm trục này.   \n",
       "4182              Bởi vì việc Fed sử dụng những công cụ chính sách đó có ảnh hưởng như vậy đến hoạt động kinh tế, cho nên điều quan trọng là phải hiểu Fed sử dụng những công cụ đó trong thực tế như thế nào và mỗi công cụ đó có lợi ích tương ứng như thế nào.   \n",
       "4397                               Có một số giao dịch thu chi bằng tiền mặt, mà số tiền giao dịch lớn, nhân viên ở Công ty chỉ thực hiện kiểm tiền bằng tay thì rất dễ xảy ra sai sót, nhiều nhầm lẫn không đáng có cho cả Công ty và cả khách hàng của Công ty.   \n",
       "4437                                                                                                                                                                                      Du lịch văn hóa được xem là loại hình du lịch phát triển mạnh ở Hà Nội.   \n",
       "4451                                                                                                              Lời đầu tiên cho tôi được gửi lời chào thân ái, lời chúc sức khỏe đến toàn thể ban giám khảo, chúc cho hội thi của chúng ta thành công tốt đẹp.   \n",
       "5165                                                                     Hệ thống tải điện: được hiểu là một cấu trúc được thiết kế, lắp đặt hoàn chỉnh giữa máy biến áp và đường dây tải điện cùng với một số thiết bị khác nhằm cung cấp điện đến nơi tiêu thụ.   \n",
       "5840                                                                                Tỉ số năng lượng bit thu được trên mật độ phổ tạp âm, phụ thuộc vào chất lượng liên kết tần số vô tuyến tổng thể và dung lượng đường truyền được đo bởi tốc độ bit thông tin.   \n",
       "5843                                                                                                                                                                                 Khuynh hướng về sự rõ ràng, đơn giản và tiết kiệm của lời giải các bài toán.   \n",
       "6074                                                                                                              Các em chưa hiểu đúng vai trò của ghi nhớ máy móc, xem đó là học vẹt, nên coi thường loại ghi nhớ này, do đó không nhớ được tài liệu chính xác.   \n",
       "6205                                             Vì vậy, chúng ta phải nhận thức sự việc một cách xác thực và hãy phân biệt rõ đâu là những vật ta có thể sở hữu và đâu những vật ta không thể sở hữu để tránh trường hợp sống trong thế giới như người lái buôn.   \n",
       "6388                                                              Các thí nghiệm hóa học được trình bày dưới đây là những thí nghiệm khó, do chúng tôi chỉ đưa ra những hóa chất thường dùng và trình bày một số kỹ năng cần thiết để thí nghiệm đảm bảo an toàn.   \n",
       "6574                                                                                                                                            Chuẩn hóa là yếu tố quan trọng nhất đảm bảo sự thống nhất trong hoạt động thư viện, tăng sức mạnh của toàn ngành.   \n",
       "6633  Những biểu hiện đầu tiên của việc tạo nhiễu vô tuyến xuất hiện trong thời kỳ chiến tranh Nga-Nhật khi viên chỉ huy tàu tuần dương hạm Nga U-ral đề nghị dùng các đài vô tuyến trên tàu để khống chế hệ thống liên lạc vô tuyến của các tuần dương hạm Nhật.   \n",
       "6679          Ưu điểm của loại thiết kế trên là tránh được sự tiếp xúc của bụi bẩn không khí đến các linh kiện bên trong đèn giúp tuổi thọ của đèn được nâng cao hơn so với việc lắp ráp đơn lẻ thông thường, tuy nhiên giá thành của thiết bị lại được nâng lên.   \n",
       "6781                                                                                                                                                Tri giác của học sinh lớp 7 có trình tự, có kế hoạch và hoàn thiện, các em có khả năng phân tích và tổng hợp.   \n",
       "6989                                            Được thành lập bởi 03 cổ đông sáng lập vào ngày 12 tháng 06 năm 2008, với số vốn góp ban đầu là 950 triệu đồng để bắt đầu triển khai kinh doanh thương mại, tập trung mua bán văn phòng phẩm, thiết bị văn phòng.   \n",
       "7723                                                                     Chất cháy: được hiểu là những chất tồn tại dưới dạng khí, lỏng, rắn có tính tự bốc cháy khi tiếp xúc với oxy trong không khí, nước hoặc dưới tác động của nhiệt như phốt pho, xăng, dầu.   \n",
       "7881                                       Với sự đầu tư nghiêm túc và dài hạn kết hợp với công nghệ hiện đại nhất thế giới, chúng tôi quyết tâm trở thành thương hiệu thực phẩm đẳng cấp thế giới được mọi nhà tin dùng, mọi người yêu thích và quốc gia tự hào.   \n",
       "7888                                                                    Việt Nam ngày càng hội nhập sâu rộng vào nền kinh tế thế giới và được tín nhiệm giữ nhiều vai trò quan trọng, qua đó từng bước khẳng định vị trí của Việt Nam trên thương trường quốc tế.   \n",
       "8467                                                                                                                                         Bảng đồng hồ được bố trí trong bảng điều khiển táp lô để người lái có thể quan sát một cách dễ dàng khi đang lái xe.   \n",
       "8754                                                                                                                                            Chính phủ Mỹ ngang nhiên dùng vũ lực can thiệp vào quan hệ giữa hai bờ eo biển thuộc công việc nội bộ Trung Quốc.   \n",
       "8965                                                                                              Chăm sóc sức khỏe: bò được tự vận động trong nhà máy có mái che, gắn quạt mát, bò được nghe nhạc, tắm mát mỗi ngày nhằm kích thích sự tiết sữa tự nhiên của bò.   \n",
       "9094                                                 Tòa án có thể từ chối đề nghị thay đổi người tiến hành tố tụng hoặc chấp nhận yêu cầu thay đổi của đương sự bằng quyết định thay đổi người tiến hành tố tụng theo quy định tại Điều 50, Điều 51 BLTTDS 2105.   \n",
       "\n",
       "      preprocess_word_count  correct_text_word_count  diff_word_count  \n",
       "144                      32                       32                5  \n",
       "681                      42                       42                4  \n",
       "813                      46                       46                4  \n",
       "1180                     54                       54                5  \n",
       "1201                     34                       34                5  \n",
       "1208                     36                       36                4  \n",
       "1651                     33                       33                5  \n",
       "1756                     38                       38                4  \n",
       "1800                     44                       44                4  \n",
       "1969                     20                       20                4  \n",
       "2048                     50                       50                7  \n",
       "2210                     48                       48                5  \n",
       "2299                     42                       42                4  \n",
       "2319                     54                       54                6  \n",
       "2546                     38                       38                4  \n",
       "2603                     39                       39                4  \n",
       "2669                     52                       52                5  \n",
       "2854                     36                       36                4  \n",
       "3234                     37                       37                5  \n",
       "3849                     29                       29                4  \n",
       "3949                     16                       16                9  \n",
       "3977                     18                       18                5  \n",
       "4155                     27                       27                5  \n",
       "4181                     59                       59                4  \n",
       "4182                     56                       56                4  \n",
       "4397                     52                       52                4  \n",
       "4437                     17                       17                4  \n",
       "4451                     32                       32                5  \n",
       "5165                     41                       41                4  \n",
       "5840                     39                       39                4  \n",
       "5843                     17                       17               16  \n",
       "6074                     33                       33                4  \n",
       "6205                     48                       48                4  \n",
       "6388                     42                       42                5  \n",
       "6574                     24                       24                4  \n",
       "6633                     53                       53                4  \n",
       "6679                     54                       54                4  \n",
       "6781                     26                       26                4  \n",
       "6989                     46                       46                5  \n",
       "7723                     39                       39                4  \n",
       "7881                     47                       47                4  \n",
       "7888                     40                       40                4  \n",
       "8467                     27                       27                4  \n",
       "8754                     25                       25                4  \n",
       "8965                     36                       36                5  \n",
       "9094                     45                       45                4  "
      ]
     },
     "execution_count": 57,
     "metadata": {},
     "output_type": "execute_result"
    }
   ],
   "source": [
    "df_matched[df_matched['diff_word_count'] > 3][['text', 'preprocess', 'correct_text', 'preprocess_word_count', 'correct_text_word_count', 'diff_word_count']]"
   ]
  },
  {
   "cell_type": "code",
   "execution_count": 58,
   "id": "3bccb9de",
   "metadata": {
    "execution": {
     "iopub.execute_input": "2025-06-25T12:02:03.584109Z",
     "iopub.status.busy": "2025-06-25T12:02:03.583716Z",
     "iopub.status.idle": "2025-06-25T12:02:03.739277Z",
     "shell.execute_reply": "2025-06-25T12:02:03.738324Z"
    },
    "papermill": {
     "duration": 0.185195,
     "end_time": "2025-06-25T12:02:03.745421",
     "exception": false,
     "start_time": "2025-06-25T12:02:03.560226",
     "status": "completed"
    },
    "tags": []
   },
   "outputs": [
    {
     "data": {
      "text/html": [
       "<div>\n",
       "<style scoped>\n",
       "    .dataframe tbody tr th:only-of-type {\n",
       "        vertical-align: middle;\n",
       "    }\n",
       "\n",
       "    .dataframe tbody tr th {\n",
       "        vertical-align: top;\n",
       "    }\n",
       "\n",
       "    .dataframe thead th {\n",
       "        text-align: right;\n",
       "    }\n",
       "</style>\n",
       "<table border=\"1\" class=\"dataframe\">\n",
       "  <thead>\n",
       "    <tr style=\"text-align: right;\">\n",
       "      <th></th>\n",
       "      <th>annotations</th>\n",
       "      <th>text</th>\n",
       "      <th>preprocess</th>\n",
       "      <th>correct_text</th>\n",
       "      <th>preprocess_word_count</th>\n",
       "      <th>correct_text_word_count</th>\n",
       "      <th>diff_word_count</th>\n",
       "    </tr>\n",
       "  </thead>\n",
       "  <tbody>\n",
       "    <tr>\n",
       "      <th>0</th>\n",
       "      <td>[{'alternative_syllables': [], 'current_syllable': 'Thông', 'id': 1, 'is_correct': True}, {'alternative_syllables': [], 'current_syllable': 'qua', 'id': 2, 'is_correct': True}, {'alternative_syllables': [], 'current_syllable': 'công', 'id': 3, 'is_correct': True}, {'alternative_syllables': [], 'current_syllable': 'tác', 'id': 4, 'is_correct': True}, {'alternative_syllables': [], 'current_syllable': 'tuyên', 'id': 5, 'is_correct': True}, {'alternative_syllables': [], 'current_syllable': 'truyền,', 'id': 6, 'is_correct': True}, {'alternative_syllables': [], 'current_syllable': 'vận', 'id': 7, 'is_correct': True}, {'alternative_syllables': [], 'current_syllable': 'động', 'id': 8, 'is_correct': True}, {'alternative_syllables': [], 'current_syllable': 'này', 'id': 9, 'is_correct': True}, {'alternative_syllables': [], 'current_syllable': 'phụ', 'id': 10, 'is_correct': True}, {'alternative_syllables': [], 'current_syllable': 'huynh', 'id': 11, 'is_correct': True}, {'alternative_syllables': [], 'current_syllable': 'sẽ', 'id': 12, 'is_correct': True}, {'alternative_syllables': [], 'current_syllable': 'hiểu', 'id': 13, 'is_correct': True}, {'alternative_syllables': [], 'current_syllable': 'rõ', 'id': 14, 'is_correct': True}, {'alternative_syllables': [], 'current_syllable': 'hơn', 'id': 15, 'is_correct': True}, {'alternative_syllables': [], 'current_syllable': 'tầm', 'id': 16, 'is_correct': True}, {'alternative_syllables': [], 'current_syllable': 'quan', 'id': 17, 'is_correct': True}, {'alternative_syllables': [], 'current_syllable': 'trọng', 'id': 18, 'is_correct': True}, {'alternative_syllables': [], 'current_syllable': 'của', 'id': 19, 'is_correct': True}, {'alternative_syllables': [], 'current_syllable': 'việc', 'id': 20, 'is_correct': True}, {'alternative_syllables': [], 'current_syllable': 'giáo', 'id': 21, 'is_correct': True}, {'alternative_syllables': [], 'current_syllable': 'dục', 'id': 22, 'is_correct': True}, {'alternative_syllables': [], 'current_syllable': 'ý', 'id': 23, 'is_correct': True}, {'alternative_syllables': [], 'current_syllable': 'thức', 'id': 24, 'is_correct': True}, {'alternative_syllables': [], 'current_syllable': 'bảo', 'id': 25, 'is_correct': True}, {'alternative_syllables': [], 'current_syllable': 'vệ', 'id': 26, 'is_correct': True}, {'alternative_syllables': [], 'current_syllable': 'môi', 'id': 27, 'is_correct': True}, {'alternative_syllables': [], 'current_syllable': 'trường', 'id': 28, 'is_correct': True}, {'alternative_syllables': [], 'current_syllable': 'cho', 'id': 29, 'is_correct': True}, {'alternative_syllables': [], 'current_syllable': 'trẻ', 'id': 30, 'is_correct': True}, {'alternative_syllables': [], 'current_syllable': 'không', 'id': 31, 'is_correct': True}, {'alternative_syllables': [], 'current_syllable': 'phải', 'id': 32, 'is_correct': True}, {'alternative_syllables': [], 'current_syllable': 'chỉ', 'id': 33, 'is_correct': True}, {'alternative_syllables': [], 'current_syllable': 'ở', 'id': 34, 'is_correct': True}, {'alternative_syllables': [], 'current_syllable': 'phía', 'id': 35, 'is_correct': True}, {'alternative_syllables': [], 'current_syllable': 'nhà', 'id': 36, 'is_correct': True}, {'alternative_syllables': [], 'current_syllable': 'trường', 'id': 37, 'is_correct': True}, {'alternative_syllables': [], 'current_syllable': 'mà', 'id': 38, 'is_correct': True}, {'alternative_syllables': [], 'current_syllable': 'còn', 'id': 39, 'is_correct': True}, {'alternative_syllables': [], 'current_syllable': 'ở', 'id': 40, 'is_correct': True}, {'alternative_syllables': [], 'current_syllable': 'gia', 'id': 41, 'is_correct': True}, {'alternative_syllables': [], 'current_syllable': 'đình', 'id': 42, 'is_correct': True}, {'alternative_syllables': [], 'current_syllable': ',', 'id': 43, 'is_correct': True}, {'alternative_syllables': [], 'current_syllable': 'góp', 'id': 44, 'is_correct': True}, {'alternative_syllables': [], 'current_syllable': 'phần', 'id': 45, 'is_correct': True}, {'alternative_syllables': [], 'current_syllable': 'vào', 'id': 46, 'is_correct': True}, {'alternative_syllables': [], 'current_syllable': 'việc', 'id': 47, 'is_correct': True}, {'alternative_syllables': [], 'current_syllable': 'gìn', 'id': 48, 'is_correct': True}, {'alternative_syllables': [], 'current_syllable': 'giữ', 'id': 49, 'is_correct': True}, {'alternative_syllables': [], 'current_syllable': 'môi', 'id': 50, 'is_correct': True}, {'alternative_syllables': [], 'current_syllable': 'trường', 'id': 51, 'is_correct': True}, {'alternative_syllables': ['xanh'], 'current_syllable': 'sanh', 'id': 52, 'is_correct': False}, {'alternative_syllables': [], 'current_syllable': ',', 'id': 53, 'is_correct': True}, {'alternative_syllables': [], 'current_syllable': 'sạch', 'id': 54, 'is_correct': True}, {'alternative_syllables': [], 'current_syllable': ',', 'id': 55, 'is_correct': True}, {'alternative_syllables': [], 'current_syllable': 'đẹp.', 'id': 56, 'is_correct': True}]</td>\n",
       "      <td>Thông qua công tác tuyên truyền, vận động này phụ huynh sẽ hiểu rõ hơn tầm quan trọng của việc giáo dục ý thức bảo vệ môi trường cho trẻ không phải chỉ ở phía nhà trường mà còn ở gia đình , góp phần vào việc gìn giữ môi trường sanh , sạch , đẹp.</td>\n",
       "      <td>thông qua công tác tuyên truyền, vận động này phụ huynh sẽ hiểu rõ hơn tầm quan trọng của việc giáo dục ý thức bảo vệ môi trường cho trẻ không phải chỉ ở phía nhà trường mà còn ở gia đình, góp phần vào việc gìn giữ môi trường sanh, sạch, đẹp.</td>\n",
       "      <td>Thông qua công tác tuyên truyền, vận động này phụ huynh sẽ hiểu rõ hơn tầm quan trọng của việc giáo dục ý thức bảo vệ môi trường cho trẻ không phải chỉ ở phía nhà trường mà còn ở gia đình, góp phần vào việc gìn giữ môi trường xanh, sạch, đẹp.</td>\n",
       "      <td>53</td>\n",
       "      <td>53</td>\n",
       "      <td>1</td>\n",
       "    </tr>\n",
       "    <tr>\n",
       "      <th>1</th>\n",
       "      <td>[{'alternative_syllables': [], 'current_syllable': 'Do', 'id': 1, 'is_correct': True}, {'alternative_syllables': [], 'current_syllable': 'đó,', 'id': 2, 'is_correct': True}, {'alternative_syllables': [], 'current_syllable': 'doanh', 'id': 3, 'is_correct': True}, {'alternative_syllables': [], 'current_syllable': 'nghiệp', 'id': 4, 'is_correct': True}, {'alternative_syllables': [], 'current_syllable': 'cần', 'id': 5, 'is_correct': True}, {'alternative_syllables': [], 'current_syllable': 'chú', 'id': 6, 'is_correct': True}, {'alternative_syllables': [], 'current_syllable': 'trọng', 'id': 7, 'is_correct': True}, {'alternative_syllables': [], 'current_syllable': 'đến', 'id': 8, 'is_correct': True}, {'alternative_syllables': [], 'current_syllable': 'yếu', 'id': 9, 'is_correct': True}, {'alternative_syllables': [], 'current_syllable': 'tố', 'id': 10, 'is_correct': True}, {'alternative_syllables': [], 'current_syllable': 'này', 'id': 11, 'is_correct': True}, {'alternative_syllables': [], 'current_syllable': 'để', 'id': 12, 'is_correct': True}, {'alternative_syllables': ['làm'], 'current_syllable': 'là', 'id': 13, 'is_correct': False}, {'alternative_syllables': [], 'current_syllable': 'thỏa', 'id': 14, 'is_correct': True}, {'alternative_syllables': [], 'current_syllable': 'mãn,', 'id': 15, 'is_correct': True}, {'alternative_syllables': [], 'current_syllable': 'hài', 'id': 16, 'is_correct': True}, {'alternative_syllables': [], 'current_syllable': 'lòng', 'id': 17, 'is_correct': True}, {'alternative_syllables': [], 'current_syllable': 'các', 'id': 18, 'is_correct': True}, {'alternative_syllables': [], 'current_syllable': 'nhóm', 'id': 19, 'is_correct': True}, {'alternative_syllables': [], 'current_syllable': 'đối', 'id': 20, 'is_correct': True}, {'alternative_syllables': [], 'current_syllable': 'tượng', 'id': 21, 'is_correct': True}, {'alternative_syllables': [], 'current_syllable': 'này.', 'id': 22, 'is_correct': True}]</td>\n",
       "      <td>Do đó, doanh nghiệp cần chú trọng đến yếu tố này để là thỏa mãn, hài lòng các nhóm đối tượng này.</td>\n",
       "      <td>do đó, doanh nghiệp cần chú trọng đến yếu tố này để là thỏa mãn, hài lòng các nhóm đối tượng này.</td>\n",
       "      <td>Do đó, doanh nghiệp cần chú trọng đến yếu tố này để làm thỏa mãn, hài lòng các nhóm đối tượng này.</td>\n",
       "      <td>22</td>\n",
       "      <td>22</td>\n",
       "      <td>1</td>\n",
       "    </tr>\n",
       "    <tr>\n",
       "      <th>2</th>\n",
       "      <td>[{'alternative_syllables': [], 'current_syllable': 'Giữ', 'id': 1, 'is_correct': True}, {'alternative_syllables': [], 'current_syllable': 'được', 'id': 2, 'is_correct': True}, {'alternative_syllables': [], 'current_syllable': 'chỉ', 'id': 3, 'is_correct': True}, {'alternative_syllables': [], 'current_syllable': 'số', 'id': 4, 'is_correct': True}, {'alternative_syllables': [], 'current_syllable': 'này', 'id': 5, 'is_correct': True}, {'alternative_syllables': [], 'current_syllable': 'không', 'id': 6, 'is_correct': True}, {'alternative_syllables': ['giảm'], 'current_syllable': 'giam', 'id': 7, 'is_correct': False}, {'alternative_syllables': [], 'current_syllable': 'mà', 'id': 8, 'is_correct': True}, {'alternative_syllables': [], 'current_syllable': 'còn', 'id': 9, 'is_correct': True}, {'alternative_syllables': [], 'current_syllable': 'tăng', 'id': 10, 'is_correct': True}, {'alternative_syllables': [], 'current_syllable': 'thêm', 'id': 11, 'is_correct': True}, {'alternative_syllables': [], 'current_syllable': 'cũng', 'id': 12, 'is_correct': True}, {'alternative_syllables': [], 'current_syllable': 'được', 'id': 13, 'is_correct': True}, {'alternative_syllables': [], 'current_syllable': 'xem', 'id': 14, 'is_correct': True}, {'alternative_syllables': [], 'current_syllable': 'là', 'id': 15, 'is_correct': True}, {'alternative_syllables': [], 'current_syllable': 'một', 'id': 16, 'is_correct': True}, {'alternative_syllables': ['bước'], 'current_syllable': 'bức', 'id': 17, 'is_correct': False}, {'alternative_syllables': [], 'current_syllable': 'thành', 'id': 18, 'is_correct': True}, {'alternative_syllables': [], 'current_syllable': 'công', 'id': 19, 'is_correct': True}, {'alternative_syllables': [], 'current_syllable': 'của', 'id': 20, 'is_correct': True}, {'alternative_syllables': [], 'current_syllable': 'Ngân', 'id': 21, 'is_correct': True}, {'alternative_syllables': [], 'current_syllable': 'hàng.', 'id': 22, 'is_correct': True}]</td>\n",
       "      <td>Giữ được chỉ số này không giam mà còn tăng thêm cũng được xem là một bức thành công của Ngân hàng.</td>\n",
       "      <td>giữ được chỉ số này không giam mà còn tăng thêm cũng được xem là một bức thành công của ngân hàng.</td>\n",
       "      <td>Giữ được chỉ số này không giảm mà còn tăng thêm cũng được xem là một bước thành công của Ngân hàng.</td>\n",
       "      <td>22</td>\n",
       "      <td>22</td>\n",
       "      <td>2</td>\n",
       "    </tr>\n",
       "    <tr>\n",
       "      <th>3</th>\n",
       "      <td>[{'alternative_syllables': ['Đứng'], 'current_syllable': 'Đúng', 'id': 1, 'is_correct': False}, {'alternative_syllables': [], 'current_syllable': 'trước', 'id': 2, 'is_correct': True}, {'alternative_syllables': [], 'current_syllable': 'thực', 'id': 3, 'is_correct': True}, {'alternative_syllables': [], 'current_syllable': 'tế', 'id': 4, 'is_correct': True}, {'alternative_syllables': [], 'current_syllable': 'này', 'id': 5, 'is_correct': True}, {'alternative_syllables': [], 'current_syllable': 'đòi', 'id': 6, 'is_correct': True}, {'alternative_syllables': [], 'current_syllable': 'hỏi', 'id': 7, 'is_correct': True}, {'alternative_syllables': [], 'current_syllable': 'chúng', 'id': 8, 'is_correct': True}, {'alternative_syllables': [], 'current_syllable': 'ta', 'id': 9, 'is_correct': True}, {'alternative_syllables': [], 'current_syllable': 'cần', 'id': 10, 'is_correct': True}, {'alternative_syllables': [], 'current_syllable': 'phải', 'id': 11, 'is_correct': True}, {'alternative_syllables': [], 'current_syllable': 'có', 'id': 12, 'is_correct': True}, {'alternative_syllables': [], 'current_syllable': 'những', 'id': 13, 'is_correct': True}, {'alternative_syllables': [], 'current_syllable': 'nghiên', 'id': 14, 'is_correct': True}, {'alternative_syllables': [], 'current_syllable': 'cứu', 'id': 15, 'is_correct': True}, {'alternative_syllables': [], 'current_syllable': 'chi', 'id': 16, 'is_correct': True}, {'alternative_syllables': [], 'current_syllable': 'li,', 'id': 17, 'is_correct': True}, {'alternative_syllables': [], 'current_syllable': 'cụ', 'id': 18, 'is_correct': True}, {'alternative_syllables': [], 'current_syllable': 'thể', 'id': 19, 'is_correct': True}, {'alternative_syllables': [], 'current_syllable': 'nhằm', 'id': 20, 'is_correct': True}, {'alternative_syllables': [], 'current_syllable': 'tìm', 'id': 21, 'is_correct': True}, {'alternative_syllables': [], 'current_syllable': 'ra', 'id': 22, 'is_correct': True}, {'alternative_syllables': [], 'current_syllable': 'những', 'id': 23, 'is_correct': True}, {'alternative_syllables': [], 'current_syllable': 'nhân', 'id': 24, 'is_correct': True}, {'alternative_syllables': [], 'current_syllable': 'tố', 'id': 25, 'is_correct': True}, {'alternative_syllables': [], 'current_syllable': 'ảnh', 'id': 26, 'is_correct': True}, {'alternative_syllables': [], 'current_syllable': 'hưởng', 'id': 27, 'is_correct': True}, {'alternative_syllables': [], 'current_syllable': 'đến', 'id': 28, 'is_correct': True}, {'alternative_syllables': [], 'current_syllable': 'sự', 'id': 29, 'is_correct': True}, {'alternative_syllables': [], 'current_syllable': 'lựa', 'id': 30, 'is_correct': True}, {'alternative_syllables': [], 'current_syllable': 'chọn', 'id': 31, 'is_correct': True}, {'alternative_syllables': [], 'current_syllable': 'kênh', 'id': 32, 'is_correct': True}, {'alternative_syllables': [], 'current_syllable': 'mua', 'id': 33, 'is_correct': True}, {'alternative_syllables': [], 'current_syllable': 'sắm', 'id': 34, 'is_correct': True}, {'alternative_syllables': [], 'current_syllable': 'của', 'id': 35, 'is_correct': True}, {'alternative_syllables': [], 'current_syllable': 'người', 'id': 36, 'is_correct': True}, {'alternative_syllables': [], 'current_syllable': 'tiêu', 'id': 37, 'is_correct': True}, {'alternative_syllables': [], 'current_syllable': 'dùng', 'id': 38, 'is_correct': True}, {'alternative_syllables': [], 'current_syllable': 'ở', 'id': 39, 'is_correct': True}, {'alternative_syllables': [], 'current_syllable': 'TP.', 'id': 40, 'is_correct': True}]</td>\n",
       "      <td>Đúng trước thực tế này đòi hỏi chúng ta cần phải có những nghiên cứu chi li, cụ thể nhằm tìm ra những nhân tố ảnh hưởng đến sự lựa chọn kênh mua sắm của người tiêu dùng ở TP.</td>\n",
       "      <td>đúng trước thực tế này đòi hỏi chúng ta cần phải có những nghiên cứu chi li, cụ thể nhằm tìm ra những nhân tố ảnh hưởng đến sự lựa chọn kênh mua sắm của người tiêu dùng ở tp.</td>\n",
       "      <td>Đứng trước thực tế này đòi hỏi chúng ta cần phải có những nghiên cứu chi li, cụ thể nhằm tìm ra những nhân tố ảnh hưởng đến sự lựa chọn kênh mua sắm của người tiêu dùng ở TP.</td>\n",
       "      <td>40</td>\n",
       "      <td>40</td>\n",
       "      <td>1</td>\n",
       "    </tr>\n",
       "    <tr>\n",
       "      <th>4</th>\n",
       "      <td>[{'alternative_syllables': [], 'current_syllable': 'Trình', 'id': 1, 'is_correct': True}, {'alternative_syllables': [], 'current_syllable': 'độ', 'id': 2, 'is_correct': True}, {'alternative_syllables': [], 'current_syllable': 'học', 'id': 3, 'is_correct': True}, {'alternative_syllables': [], 'current_syllable': 'vấn', 'id': 4, 'is_correct': True}, {'alternative_syllables': [], 'current_syllable': 'của', 'id': 5, 'is_correct': True}, {'alternative_syllables': [], 'current_syllable': 'nhân', 'id': 6, 'is_correct': True}, {'alternative_syllables': [], 'current_syllable': 'viên', 'id': 7, 'is_correct': True}, {'alternative_syllables': [], 'current_syllable': 'được', 'id': 8, 'is_correct': True}, {'alternative_syllables': [], 'current_syllable': 'tuyển', 'id': 9, 'is_correct': True}, {'alternative_syllables': [], 'current_syllable': 'dụng', 'id': 10, 'is_correct': True}, {'alternative_syllables': [], 'current_syllable': 'ngày', 'id': 11, 'is_correct': True}, {'alternative_syllables': ['càng'], 'current_syllable': 'cang', 'id': 12, 'is_correct': False}, {'alternative_syllables': [], 'current_syllable': 'cao', 'id': 13, 'is_correct': True}, {'alternative_syllables': [], 'current_syllable': 'hơn,', 'id': 14, 'is_correct': True}, {'alternative_syllables': [], 'current_syllable': 'thợ', 'id': 15, 'is_correct': True}, {'alternative_syllables': [], 'current_syllable': 'lành', 'id': 16, 'is_correct': True}, {'alternative_syllables': [], 'current_syllable': 'nghề', 'id': 17, 'is_correct': True}, {'alternative_syllables': [], 'current_syllable': 'cũng', 'id': 18, 'is_correct': True}, {'alternative_syllables': [], 'current_syllable': 'được', 'id': 19, 'is_correct': True}, {'alternative_syllables': [], 'current_syllable': 'sàng', 'id': 20, 'is_correct': True}, {'alternative_syllables': [], 'current_syllable': 'lọc', 'id': 21, 'is_correct': True}, {'alternative_syllables': [], 'current_syllable': 'kỹ', 'id': 22, 'is_correct': True}, {'alternative_syllables': [], 'current_syllable': 'hơn.', 'id': 23, 'is_correct': True}]</td>\n",
       "      <td>Trình độ học vấn của nhân viên được tuyển dụng ngày cang cao hơn, thợ lành nghề cũng được sàng lọc kỹ hơn.</td>\n",
       "      <td>trình độ học vấn của nhân viên được tuyển dụng ngày cang cao hơn, thợ lành nghề cũng được sàng lọc kỹ hơn.</td>\n",
       "      <td>Trình độ học vấn của nhân viên được tuyển dụng ngày càng cao hơn, thợ lành nghề cũng được sàng lọc kỹ hơn.</td>\n",
       "      <td>23</td>\n",
       "      <td>23</td>\n",
       "      <td>1</td>\n",
       "    </tr>\n",
       "    <tr>\n",
       "      <th>...</th>\n",
       "      <td>...</td>\n",
       "      <td>...</td>\n",
       "      <td>...</td>\n",
       "      <td>...</td>\n",
       "      <td>...</td>\n",
       "      <td>...</td>\n",
       "      <td>...</td>\n",
       "    </tr>\n",
       "    <tr>\n",
       "      <th>8962</th>\n",
       "      <td>[{'alternative_syllables': [], 'current_syllable': 'Tuy', 'id': 1, 'is_correct': True}, {'alternative_syllables': [], 'current_syllable': 'nhiên,', 'id': 2, 'is_correct': True}, {'alternative_syllables': [], 'current_syllable': 'khi', 'id': 3, 'is_correct': True}, {'alternative_syllables': [], 'current_syllable': 'nói', 'id': 4, 'is_correct': True}, {'alternative_syllables': [], 'current_syllable': 'đến', 'id': 5, 'is_correct': True}, {'alternative_syllables': [], 'current_syllable': 'E-Learning,', 'id': 6, 'is_correct': True}, {'alternative_syllables': [], 'current_syllable': 'các', 'id': 7, 'is_correct': True}, {'alternative_syllables': [], 'current_syllable': 'phương', 'id': 8, 'is_correct': True}, {'alternative_syllables': [], 'current_syllable': 'pháp', 'id': 9, 'is_correct': True}, {'alternative_syllables': [], 'current_syllable': 'lớp', 'id': 10, 'is_correct': True}, {'alternative_syllables': [], 'current_syllable': 'học', 'id': 11, 'is_correct': True}, {'alternative_syllables': [], 'current_syllable': 'dựa', 'id': 12, 'is_correct': True}, {'alternative_syllables': [], 'current_syllable': 'trên', 'id': 13, 'is_correct': True}, {'alternative_syllables': [], 'current_syllable': 'địa', 'id': 14, 'is_correct': True}, {'alternative_syllables': [], 'current_syllable': 'điểm', 'id': 15, 'is_correct': True}, {'alternative_syllables': [], 'current_syllable': 'của', 'id': 16, 'is_correct': True}, {'alternative_syllables': [], 'current_syllable': 'Google', 'id': 17, 'is_correct': True}, {'alternative_syllables': [], 'current_syllable': 'có', 'id': 18, 'is_correct': True}, {'alternative_syllables': [], 'current_syllable': 'thể', 'id': 19, 'is_correct': True}, {'alternative_syllables': [], 'current_syllable': 'được', 'id': 20, 'is_correct': True}, {'alternative_syllables': [], 'current_syllable': 'thay', 'id': 21, 'is_correct': True}, {'alternative_syllables': [], 'current_syllable': 'thế', 'id': 22, 'is_correct': True}, {'alternative_syllables': [], 'current_syllable': 'bằng', 'id': 23, 'is_correct': True}, {'alternative_syllables': [], 'current_syllable': 'hội', 'id': 24, 'is_correct': True}, {'alternative_syllables': [], 'current_syllable': 'thảo', 'id': 25, 'is_correct': True}, {'alternative_syllables': [], 'current_syllable': 'trên', 'id': 26, 'is_correct': True}, {'alternative_syllables': [], 'current_syllable': 'web', 'id': 27, 'is_correct': True}, {'alternative_syllables': [], 'current_syllable': 'giúp', 'id': 28, 'is_correct': True}, {'alternative_syllables': [], 'current_syllable': 'việc', 'id': 29, 'is_correct': True}, {'alternative_syllables': ['học'], 'current_syllable': 'hoc', 'id': 30, 'is_correct': False}, {'alternative_syllables': [], 'current_syllable': 'trở', 'id': 31, 'is_correct': True}, {'alternative_syllables': [], 'current_syllable': 'nên', 'id': 32, 'is_correct': True}, {'alternative_syllables': [], 'current_syllable': 'dễ', 'id': 33, 'is_correct': True}, {'alternative_syllables': [], 'current_syllable': 'tiếp', 'id': 34, 'is_correct': True}, {'alternative_syllables': [], 'current_syllable': 'cận', 'id': 35, 'is_correct': True}, {'alternative_syllables': [], 'current_syllable': 'và', 'id': 36, 'is_correct': True}, {'alternative_syllables': [], 'current_syllable': 'thuận', 'id': 37, 'is_correct': True}, {'alternative_syllables': [], 'current_syllable': 'tiện', 'id': 38, 'is_correct': True}, {'alternative_syllables': [], 'current_syllable': 'hơn.', 'id': 39, 'is_correct': True}]</td>\n",
       "      <td>Tuy nhiên, khi nói đến E-Learning, các phương pháp lớp học dựa trên địa điểm của Google có thể được thay thế bằng hội thảo trên web giúp việc hoc trở nên dễ tiếp cận và thuận tiện hơn.</td>\n",
       "      <td>tuy nhiên, khi nói đến e-learning, các phương pháp lớp học dựa trên địa điểm của google có thể được thay thế bằng hội thảo trên web giúp việc hoc trở nên dễ tiếp cận và thuận tiện hơn.</td>\n",
       "      <td>Tuy nhiên, khi nói đến E-Learning, các phương pháp lớp học dựa trên địa điểm của Google có thể được thay thế bằng hội thảo trên web giúp việc học trở nên dễ tiếp cận và thuận tiện hơn.</td>\n",
       "      <td>39</td>\n",
       "      <td>39</td>\n",
       "      <td>1</td>\n",
       "    </tr>\n",
       "    <tr>\n",
       "      <th>8963</th>\n",
       "      <td>[{'alternative_syllables': [], 'current_syllable': 'Đứng', 'id': 1, 'is_correct': True}, {'alternative_syllables': [], 'current_syllable': 'trước', 'id': 2, 'is_correct': True}, {'alternative_syllables': [], 'current_syllable': 'những', 'id': 3, 'is_correct': True}, {'alternative_syllables': [], 'current_syllable': 'hành', 'id': 4, 'is_correct': True}, {'alternative_syllables': [], 'current_syllable': 'vi', 'id': 5, 'is_correct': True}, {'alternative_syllables': [], 'current_syllable': 'đi', 'id': 6, 'is_correct': True}, {'alternative_syllables': [], 'current_syllable': 'ngược', 'id': 7, 'is_correct': True}, {'alternative_syllables': [], 'current_syllable': 'lại', 'id': 8, 'is_correct': True}, {'alternative_syllables': [], 'current_syllable': 'với', 'id': 9, 'is_correct': True}, {'alternative_syllables': [], 'current_syllable': 'đạo', 'id': 10, 'is_correct': True}, {'alternative_syllables': [], 'current_syllable': 'đức', 'id': 11, 'is_correct': True}, {'alternative_syllables': [], 'current_syllable': 'giáo', 'id': 12, 'is_correct': True}, {'alternative_syllables': [], 'current_syllable': 'dục', 'id': 13, 'is_correct': True}, {'alternative_syllables': [], 'current_syllable': 'và', 'id': 14, 'is_correct': True}, {'alternative_syllables': [], 'current_syllable': 'luật', 'id': 15, 'is_correct': True}, {'alternative_syllables': [], 'current_syllable': 'pháp', 'id': 16, 'is_correct': True}, {'alternative_syllables': [], 'current_syllable': 'nhóm', 'id': 17, 'is_correct': True}, {'alternative_syllables': [], 'current_syllable': 'chúng', 'id': 18, 'is_correct': True}, {'alternative_syllables': [], 'current_syllable': 'tôi', 'id': 19, 'is_correct': True}, {'alternative_syllables': [], 'current_syllable': 'quyết', 'id': 20, 'is_correct': True}, {'alternative_syllables': [], 'current_syllable': 'định', 'id': 21, 'is_correct': True}, {'alternative_syllables': [], 'current_syllable': 'chọn', 'id': 22, 'is_correct': True}, {'alternative_syllables': [], 'current_syllable': 'và', 'id': 23, 'is_correct': True}, {'alternative_syllables': [], 'current_syllable': 'thực', 'id': 24, 'is_correct': True}, {'alternative_syllables': [], 'current_syllable': 'hiện', 'id': 25, 'is_correct': True}, {'alternative_syllables': [], 'current_syllable': 'đề', 'id': 26, 'is_correct': True}, {'alternative_syllables': [], 'current_syllable': 'tài', 'id': 27, 'is_correct': True}, {'alternative_syllables': [], 'current_syllable': 'này', 'id': 28, 'is_correct': True}, {'alternative_syllables': [], 'current_syllable': 'để', 'id': 29, 'is_correct': True}, {'alternative_syllables': [], 'current_syllable': 'góp', 'id': 30, 'is_correct': True}, {'alternative_syllables': [], 'current_syllable': 'phần', 'id': 31, 'is_correct': True}, {'alternative_syllables': [], 'current_syllable': 'nói', 'id': 32, 'is_correct': True}, {'alternative_syllables': [], 'current_syllable': 'lên', 'id': 33, 'is_correct': True}, {'alternative_syllables': [], 'current_syllable': 'tiếng', 'id': 34, 'is_correct': True}, {'alternative_syllables': [], 'current_syllable': 'nói', 'id': 35, 'is_correct': True}, {'alternative_syllables': [], 'current_syllable': 'và', 'id': 36, 'is_correct': True}, {'alternative_syllables': [], 'current_syllable': 'nâng', 'id': 37, 'is_correct': True}, {'alternative_syllables': [], 'current_syllable': 'cao', 'id': 38, 'is_correct': True}, {'alternative_syllables': [], 'current_syllable': 'nhận', 'id': 39, 'is_correct': True}, {'alternative_syllables': [], 'current_syllable': 'thức', 'id': 40, 'is_correct': True}, {'alternative_syllables': [], 'current_syllable': 'cho', 'id': 41, 'is_correct': True}, {'alternative_syllables': [], 'current_syllable': 'giáo', 'id': 42, 'is_correct': True}, {'alternative_syllables': ['dục,'], 'current_syllable': 'duc,', 'id': 43, 'is_correct': False}, {'alternative_syllables': [], 'current_syllable': 'các', 'id': 44, 'is_correct': True}, {'alternative_syllables': [], 'current_syllable': 'bậc', 'id': 45, 'is_correct': True}, {'alternative_syllables': [], 'current_syllable': 'giáo', 'id': 46, 'is_correct': True}, {'alternative_syllables': [], 'current_syllable': 'viên', 'id': 47, 'is_correct': True}, {'alternative_syllables': [], 'current_syllable': 'về', 'id': 48, 'is_correct': True}, {'alternative_syllables': [], 'current_syllable': 'bạo', 'id': 49, 'is_correct': True}, {'alternative_syllables': [], 'current_syllable': 'lực', 'id': 50, 'is_correct': True}, {'alternative_syllables': [], 'current_syllable': 'trẻ', 'id': 51, 'is_correct': True}, {'alternative_syllables': [], 'current_syllable': 'em', 'id': 52, 'is_correct': True}, {'alternative_syllables': [], 'current_syllable': 'ở', 'id': 53, 'is_correct': True}, {'alternative_syllables': [], 'current_syllable': 'trường', 'id': 54, 'is_correct': True}, {'alternative_syllables': [], 'current_syllable': 'mầm', 'id': 55, 'is_correct': True}, {'alternative_syllables': [], 'current_syllable': 'non', 'id': 56, 'is_correct': True}, {'alternative_syllables': [], 'current_syllable': 'hiện', 'id': 57, 'is_correct': True}, {'alternative_syllables': [], 'current_syllable': 'nay.', 'id': 58, 'is_correct': True}]</td>\n",
       "      <td>Đứng trước những hành vi đi ngược lại với đạo đức giáo dục và luật pháp nhóm chúng tôi quyết định chọn và thực hiện đề tài này để góp phần nói lên tiếng nói và nâng cao nhận thức cho giáo duc, các bậc giáo viên về bạo lực trẻ em ở trường mầm non hiện nay.</td>\n",
       "      <td>đứng trước những hành vi đi ngược lại với đạo đức giáo dục và luật pháp nhóm chúng tôi quyết định chọn và thực hiện đề tài này để góp phần nói lên tiếng nói và nâng cao nhận thức cho giáo duc, các bậc giáo viên về bạo lực trẻ em ở trường mầm non hiện nay.</td>\n",
       "      <td>Đứng trước những hành vi đi ngược lại với đạo đức giáo dục và luật pháp nhóm chúng tôi quyết định chọn và thực hiện đề tài này để góp phần nói lên tiếng nói và nâng cao nhận thức cho giáo dục, các bậc giáo viên về bạo lực trẻ em ở trường mầm non hiện nay.</td>\n",
       "      <td>58</td>\n",
       "      <td>58</td>\n",
       "      <td>1</td>\n",
       "    </tr>\n",
       "    <tr>\n",
       "      <th>8964</th>\n",
       "      <td>[{'alternative_syllables': [], 'current_syllable': 'Quan', 'id': 1, 'is_correct': True}, {'alternative_syllables': [], 'current_syllable': 'điểm', 'id': 2, 'is_correct': True}, {'alternative_syllables': [], 'current_syllable': 'biện', 'id': 3, 'is_correct': True}, {'alternative_syllables': [], 'current_syllable': 'chứng', 'id': 4, 'is_correct': True}, {'alternative_syllables': [], 'current_syllable': 'của', 'id': 5, 'is_correct': True}, {'alternative_syllables': ['chủ'], 'current_syllable': 'chù', 'id': 6, 'is_correct': False}, {'alternative_syllables': [], 'current_syllable': 'nghĩa', 'id': 7, 'is_correct': True}, {'alternative_syllables': [], 'current_syllable': 'Mác', 'id': 8, 'is_correct': True}, {'alternative_syllables': [], 'current_syllable': '-', 'id': 9, 'is_correct': True}, {'alternative_syllables': [], 'current_syllable': 'Lênin', 'id': 10, 'is_correct': True}, {'alternative_syllables': [], 'current_syllable': 'không', 'id': 11, 'is_correct': True}, {'alternative_syllables': [], 'current_syllable': 'chỉ', 'id': 12, 'is_correct': True}, {'alternative_syllables': [], 'current_syllable': 'khẳng', 'id': 13, 'is_correct': True}, {'alternative_syllables': [], 'current_syllable': 'định', 'id': 14, 'is_correct': True}, {'alternative_syllables': [], 'current_syllable': 'tính', 'id': 15, 'is_correct': True}, {'alternative_syllables': [], 'current_syllable': 'khách', 'id': 16, 'is_correct': True}, {'alternative_syllables': [], 'current_syllable': 'quan,', 'id': 17, 'is_correct': True}, {'alternative_syllables': [], 'current_syllable': 'tính', 'id': 18, 'is_correct': True}, {'alternative_syllables': [], 'current_syllable': 'phổ', 'id': 19, 'is_correct': True}, {'alternative_syllables': [], 'current_syllable': 'biến', 'id': 20, 'is_correct': True}, {'alternative_syllables': [], 'current_syllable': 'của', 'id': 21, 'is_correct': True}, {'alternative_syllables': [], 'current_syllable': 'các', 'id': 22, 'is_correct': True}, {'alternative_syllables': [], 'current_syllable': 'mối', 'id': 23, 'is_correct': True}, {'alternative_syllables': [], 'current_syllable': 'liên', 'id': 24, 'is_correct': True}, {'alternative_syllables': [], 'current_syllable': 'hệ', 'id': 25, 'is_correct': True}, {'alternative_syllables': [], 'current_syllable': 'mà', 'id': 26, 'is_correct': True}, {'alternative_syllables': [], 'current_syllable': 'còn', 'id': 27, 'is_correct': True}, {'alternative_syllables': [], 'current_syllable': 'nhấn', 'id': 28, 'is_correct': True}, {'alternative_syllables': [], 'current_syllable': 'mạnh', 'id': 29, 'is_correct': True}, {'alternative_syllables': [], 'current_syllable': 'tính', 'id': 30, 'is_correct': True}, {'alternative_syllables': [], 'current_syllable': 'phong', 'id': 31, 'is_correct': True}, {'alternative_syllables': [], 'current_syllable': 'phú,', 'id': 32, 'is_correct': True}, {'alternative_syllables': [], 'current_syllable': 'đa', 'id': 33, 'is_correct': True}, {'alternative_syllables': [], 'current_syllable': 'dạng', 'id': 34, 'is_correct': True}, {'alternative_syllables': [], 'current_syllable': 'của', 'id': 35, 'is_correct': True}, {'alternative_syllables': [], 'current_syllable': 'các', 'id': 36, 'is_correct': True}, {'alternative_syllables': [], 'current_syllable': 'mối', 'id': 37, 'is_correct': True}, {'alternative_syllables': [], 'current_syllable': 'liên', 'id': 38, 'is_correct': True}, {'alternative_syllables': [], 'current_syllable': 'hệ.', 'id': 39, 'is_correct': True}]</td>\n",
       "      <td>Quan điểm biện chứng của chù nghĩa Mác - Lênin không chỉ khẳng định tính khách quan, tính phổ biến của các mối liên hệ mà còn nhấn mạnh tính phong phú, đa dạng của các mối liên hệ.</td>\n",
       "      <td>quan điểm biện chứng của chù nghĩa mác - lênin không chỉ khẳng định tính khách quan, tính phổ biến của các mối liên hệ mà còn nhấn mạnh tính phong phú, đa dạng của các mối liên hệ.</td>\n",
       "      <td>Quan điểm biện chứng của chủ nghĩa Mác - Lênin không chỉ khẳng định tính khách quan, tính phổ biến của các mối liên hệ mà còn nhấn mạnh tính phong phú, đa dạng của các mối liên hệ.</td>\n",
       "      <td>39</td>\n",
       "      <td>39</td>\n",
       "      <td>1</td>\n",
       "    </tr>\n",
       "    <tr>\n",
       "      <th>8965</th>\n",
       "      <td>[{'alternative_syllables': [], 'current_syllable': 'Đối', 'id': 1, 'is_correct': True}, {'alternative_syllables': [], 'current_syllable': 'với', 'id': 2, 'is_correct': True}, {'alternative_syllables': [], 'current_syllable': 'biểu', 'id': 3, 'is_correct': True}, {'alternative_syllables': [], 'current_syllable': 'đồ', 'id': 4, 'is_correct': True}, {'alternative_syllables': [], 'current_syllable': 'Histogram,', 'id': 5, 'is_correct': True}, {'alternative_syllables': [], 'current_syllable': 'nếu', 'id': 6, 'is_correct': True}, {'alternative_syllables': [], 'current_syllable': 'giá', 'id': 7, 'is_correct': True}, {'alternative_syllables': [], 'current_syllable': 'trị', 'id': 8, 'is_correct': True}, {'alternative_syllables': [], 'current_syllable': 'trung', 'id': 9, 'is_correct': True}, {'alternative_syllables': [], 'current_syllable': 'bình', 'id': 10, 'is_correct': True}, {'alternative_syllables': [], 'current_syllable': 'Mean', 'id': 11, 'is_correct': True}, {'alternative_syllables': [], 'current_syllable': 'gần', 'id': 12, 'is_correct': True}, {'alternative_syllables': [], 'current_syllable': 'bằng', 'id': 13, 'is_correct': True}, {'alternative_syllables': [], 'current_syllable': '0,', 'id': 14, 'is_correct': True}, {'alternative_syllables': [], 'current_syllable': 'độ', 'id': 15, 'is_correct': True}, {'alternative_syllables': [], 'current_syllable': 'lệch', 'id': 16, 'is_correct': True}, {'alternative_syllables': [], 'current_syllable': 'chuẩn', 'id': 17, 'is_correct': True}, {'alternative_syllables': [], 'current_syllable': 'gần', 'id': 18, 'is_correct': True}, {'alternative_syllables': [], 'current_syllable': 'bằng', 'id': 19, 'is_correct': True}, {'alternative_syllables': [], 'current_syllable': '1', 'id': 20, 'is_correct': True}, {'alternative_syllables': [], 'current_syllable': 'và', 'id': 21, 'is_correct': True}, {'alternative_syllables': [], 'current_syllable': 'đường', 'id': 22, 'is_correct': True}, {'alternative_syllables': [], 'current_syllable': 'cong', 'id': 23, 'is_correct': True}, {'alternative_syllables': [], 'current_syllable': 'phân', 'id': 24, 'is_correct': True}, {'alternative_syllables': [], 'current_syllable': 'phối', 'id': 25, 'is_correct': True}, {'alternative_syllables': [], 'current_syllable': 'có', 'id': 26, 'is_correct': True}, {'alternative_syllables': [], 'current_syllable': 'hình', 'id': 27, 'is_correct': True}, {'alternative_syllables': [], 'current_syllable': 'dạng', 'id': 28, 'is_correct': True}, {'alternative_syllables': [], 'current_syllable': 'chuông', 'id': 29, 'is_correct': True}, {'alternative_syllables': [], 'current_syllable': 'thì', 'id': 30, 'is_correct': True}, {'alternative_syllables': [], 'current_syllable': 'có', 'id': 31, 'is_correct': True}, {'alternative_syllables': [], 'current_syllable': 'thể', 'id': 32, 'is_correct': True}, {'alternative_syllables': [], 'current_syllable': 'khẳng', 'id': 33, 'is_correct': True}, {'alternative_syllables': [], 'current_syllable': 'định', 'id': 34, 'is_correct': True}, {'alternative_syllables': [], 'current_syllable': 'phân', 'id': 35, 'is_correct': True}, {'alternative_syllables': [], 'current_syllable': 'phối', 'id': 36, 'is_correct': True}, {'alternative_syllables': [], 'current_syllable': 'là', 'id': 37, 'is_correct': True}, {'alternative_syllables': ['xấp'], 'current_syllable': 'xếp', 'id': 38, 'is_correct': False}, {'alternative_syllables': [], 'current_syllable': 'xỉ', 'id': 39, 'is_correct': True}, {'alternative_syllables': [], 'current_syllable': 'chuẩn,', 'id': 40, 'is_correct': True}, {'alternative_syllables': [], 'current_syllable': 'giả', 'id': 41, 'is_correct': True}, {'alternative_syllables': [], 'current_syllable': 'định', 'id': 42, 'is_correct': True}, {'alternative_syllables': [], 'current_syllable': 'phân', 'id': 43, 'is_correct': True}, {'alternative_syllables': [], 'current_syllable': 'phối', 'id': 44, 'is_correct': True}, {'alternative_syllables': [], 'current_syllable': 'chuẩn', 'id': 45, 'is_correct': True}, {'alternative_syllables': [], 'current_syllable': 'của', 'id': 46, 'is_correct': True}, {'alternative_syllables': [], 'current_syllable': 'phần', 'id': 47, 'is_correct': True}, {'alternative_syllables': [], 'current_syllable': 'dư', 'id': 48, 'is_correct': True}, {'alternative_syllables': [], 'current_syllable': 'không', 'id': 49, 'is_correct': True}, {'alternative_syllables': [], 'current_syllable': 'bị', 'id': 50, 'is_correct': True}, {'alternative_syllables': [], 'current_syllable': 'vi', 'id': 51, 'is_correct': True}, {'alternative_syllables': [], 'current_syllable': 'phạm.', 'id': 52, 'is_correct': True}]</td>\n",
       "      <td>Đối với biểu đồ Histogram, nếu giá trị trung bình Mean gần bằng 0, độ lệch chuẩn gần bằng 1 và đường cong phân phối có hình dạng chuông thì có thể khẳng định phân phối là xếp xỉ chuẩn, giả định phân phối chuẩn của phần dư không bị vi phạm.</td>\n",
       "      <td>đối với biểu đồ histogram, nếu giá trị trung bình mean gần bằng 0, độ lệch chuẩn gần bằng 1 và đường cong phân phối có hình dạng chuông thì có thể khẳng định phân phối là xếp xỉ chuẩn, giả định phân phối chuẩn của phần dư không bị vi phạm.</td>\n",
       "      <td>Đối với biểu đồ Histogram, nếu giá trị trung bình Mean gần bằng 0, độ lệch chuẩn gần bằng 1 và đường cong phân phối có hình dạng chuông thì có thể khẳng định phân phối là xấp xỉ chuẩn, giả định phân phối chuẩn của phần dư không bị vi phạm.</td>\n",
       "      <td>52</td>\n",
       "      <td>52</td>\n",
       "      <td>1</td>\n",
       "    </tr>\n",
       "    <tr>\n",
       "      <th>8966</th>\n",
       "      <td>[{'alternative_syllables': [], 'current_syllable': 'Trong', 'id': 1, 'is_correct': True}, {'alternative_syllables': [], 'current_syllable': 'mỗi', 'id': 2, 'is_correct': True}, {'alternative_syllables': [], 'current_syllable': 'khu', 'id': 3, 'is_correct': True}, {'alternative_syllables': [], 'current_syllable': 'vực', 'id': 4, 'is_correct': True}, {'alternative_syllables': [], 'current_syllable': 'mà', 'id': 5, 'is_correct': True}, {'alternative_syllables': [], 'current_syllable': 'đội', 'id': 6, 'is_correct': True}, {'alternative_syllables': [], 'current_syllable': 'phát', 'id': 7, 'is_correct': True}, {'alternative_syllables': [], 'current_syllable': 'triển', 'id': 8, 'is_correct': True}, {'alternative_syllables': [], 'current_syllable': 'thị', 'id': 9, 'is_correct': True}, {'alternative_syllables': [], 'current_syllable': 'trường', 'id': 10, 'is_correct': True}, {'alternative_syllables': [], 'current_syllable': 'nhắm', 'id': 11, 'is_correct': True}, {'alternative_syllables': [], 'current_syllable': 'đến', 'id': 12, 'is_correct': True}, {'alternative_syllables': [], 'current_syllable': 'sẽ', 'id': 13, 'is_correct': True}, {'alternative_syllables': [], 'current_syllable': 'có', 'id': 14, 'is_correct': True}, {'alternative_syllables': [], 'current_syllable': 'những', 'id': 15, 'is_correct': True}, {'alternative_syllables': [], 'current_syllable': 'tệp', 'id': 16, 'is_correct': True}, {'alternative_syllables': [], 'current_syllable': 'khách', 'id': 17, 'is_correct': True}, {'alternative_syllables': [], 'current_syllable': 'hàng', 'id': 18, 'is_correct': True}, {'alternative_syllables': [], 'current_syllable': 'khác', 'id': 19, 'is_correct': True}, {'alternative_syllables': [], 'current_syllable': 'nhau', 'id': 20, 'is_correct': True}, {'alternative_syllables': [], 'current_syllable': 'cho', 'id': 21, 'is_correct': True}, {'alternative_syllables': [], 'current_syllable': 'nên', 'id': 22, 'is_correct': True}, {'alternative_syllables': [], 'current_syllable': 'việc', 'id': 23, 'is_correct': True}, {'alternative_syllables': [], 'current_syllable': 'tạo', 'id': 24, 'is_correct': True}, {'alternative_syllables': [], 'current_syllable': 'ra', 'id': 25, 'is_correct': True}, {'alternative_syllables': [], 'current_syllable': 'từng', 'id': 26, 'is_correct': True}, {'alternative_syllables': [], 'current_syllable': 'nhóm', 'id': 27, 'is_correct': True}, {'alternative_syllables': [], 'current_syllable': 'khách', 'id': 28, 'is_correct': True}, {'alternative_syllables': [], 'current_syllable': 'hàng', 'id': 29, 'is_correct': True}, {'alternative_syllables': [], 'current_syllable': 'trên', 'id': 30, 'is_correct': True}, {'alternative_syllables': [], 'current_syllable': 'từng', 'id': 31, 'is_correct': True}, {'alternative_syllables': [], 'current_syllable': 'khu', 'id': 32, 'is_correct': True}, {'alternative_syllables': [], 'current_syllable': 'vực', 'id': 33, 'is_correct': True}, {'alternative_syllables': [], 'current_syllable': 'trong', 'id': 34, 'is_correct': True}, {'alternative_syllables': [], 'current_syllable': 'CRM', 'id': 35, 'is_correct': True}, {'alternative_syllables': [], 'current_syllable': 'là', 'id': 36, 'is_correct': True}, {'alternative_syllables': [], 'current_syllable': 'một', 'id': 37, 'is_correct': True}, {'alternative_syllables': [], 'current_syllable': 'việc', 'id': 38, 'is_correct': True}, {'alternative_syllables': [], 'current_syllable': 'cần', 'id': 39, 'is_correct': True}, {'alternative_syllables': [], 'current_syllable': 'thiết', 'id': 40, 'is_correct': True}, {'alternative_syllables': [], 'current_syllable': 'để', 'id': 41, 'is_correct': True}, {'alternative_syllables': [], 'current_syllable': 'dễ', 'id': 42, 'is_correct': True}, {'alternative_syllables': [], 'current_syllable': 'dàng', 'id': 43, 'is_correct': True}, {'alternative_syllables': [], 'current_syllable': 'và', 'id': 44, 'is_correct': True}, {'alternative_syllables': ['tiện'], 'current_syllable': 'tiên', 'id': 45, 'is_correct': False}, {'alternative_syllables': [], 'current_syllable': 'lợi', 'id': 46, 'is_correct': True}, {'alternative_syllables': [], 'current_syllable': 'cho', 'id': 47, 'is_correct': True}, {'alternative_syllables': [], 'current_syllable': 'việc', 'id': 48, 'is_correct': True}, {'alternative_syllables': [], 'current_syllable': 'chăm', 'id': 49, 'is_correct': True}, {'alternative_syllables': [], 'current_syllable': 'sóc', 'id': 50, 'is_correct': True}, {'alternative_syllables': [], 'current_syllable': 'khách', 'id': 51, 'is_correct': True}, {'alternative_syllables': [], 'current_syllable': 'hàng.', 'id': 52, 'is_correct': True}]</td>\n",
       "      <td>Trong mỗi khu vực mà đội phát triển thị trường nhắm đến sẽ có những tệp khách hàng khác nhau cho nên việc tạo ra từng nhóm khách hàng trên từng khu vực trong CRM là một việc cần thiết để dễ dàng và tiên lợi cho việc chăm sóc khách hàng.</td>\n",
       "      <td>trong mỗi khu vực mà đội phát triển thị trường nhắm đến sẽ có những tệp khách hàng khác nhau cho nên việc tạo ra từng nhóm khách hàng trên từng khu vực trong crm là một việc cần thiết để dễ dàng và tiên lợi cho việc chăm sóc khách hàng.</td>\n",
       "      <td>Trong mỗi khu vực mà đội phát triển thị trường nhắm đến sẽ có những tệp khách hàng khác nhau cho nên việc tạo ra từng nhóm khách hàng trên từng khu vực trong CRM là một việc cần thiết để dễ dàng và tiện lợi cho việc chăm sóc khách hàng.</td>\n",
       "      <td>52</td>\n",
       "      <td>52</td>\n",
       "      <td>1</td>\n",
       "    </tr>\n",
       "  </tbody>\n",
       "</table>\n",
       "<p>8967 rows × 7 columns</p>\n",
       "</div>"
      ],
      "text/plain": [
       "                                                                                                                                                                                                                                                                                                                                                                                                                                                                                                                                                                                                                                                                                                                                                                                                                                                                                                                                                                                                                                                                                                                                                                                                                                                                                                                                                                                                                                                                                                                                                                                                                                                                                                                                                                                                                                                                                                                                                                                                                                                                                                                                                                                                                                                                                                                                                                                                                                                                                                                                                                                                                                                                                                                                                                                                                                                                                                                                                                                                                                                                                                                                                                                                                                                                                                                                                                                                                                                                                                                                                                                                                                                                                                                                                                                                                                                                                                                                                                                                                                                                                                                                                                                                                                                                                                                                                                                                                                                                                                                                                                                                                                                                                                                                                                                                                                                                                                                                                                                                                                                                                                                                                                                                                                                                                                                                 annotations  \\\n",
       "0                                                                                                                                                                                       [{'alternative_syllables': [], 'current_syllable': 'Thông', 'id': 1, 'is_correct': True}, {'alternative_syllables': [], 'current_syllable': 'qua', 'id': 2, 'is_correct': True}, {'alternative_syllables': [], 'current_syllable': 'công', 'id': 3, 'is_correct': True}, {'alternative_syllables': [], 'current_syllable': 'tác', 'id': 4, 'is_correct': True}, {'alternative_syllables': [], 'current_syllable': 'tuyên', 'id': 5, 'is_correct': True}, {'alternative_syllables': [], 'current_syllable': 'truyền,', 'id': 6, 'is_correct': True}, {'alternative_syllables': [], 'current_syllable': 'vận', 'id': 7, 'is_correct': True}, {'alternative_syllables': [], 'current_syllable': 'động', 'id': 8, 'is_correct': True}, {'alternative_syllables': [], 'current_syllable': 'này', 'id': 9, 'is_correct': True}, {'alternative_syllables': [], 'current_syllable': 'phụ', 'id': 10, 'is_correct': True}, {'alternative_syllables': [], 'current_syllable': 'huynh', 'id': 11, 'is_correct': True}, {'alternative_syllables': [], 'current_syllable': 'sẽ', 'id': 12, 'is_correct': True}, {'alternative_syllables': [], 'current_syllable': 'hiểu', 'id': 13, 'is_correct': True}, {'alternative_syllables': [], 'current_syllable': 'rõ', 'id': 14, 'is_correct': True}, {'alternative_syllables': [], 'current_syllable': 'hơn', 'id': 15, 'is_correct': True}, {'alternative_syllables': [], 'current_syllable': 'tầm', 'id': 16, 'is_correct': True}, {'alternative_syllables': [], 'current_syllable': 'quan', 'id': 17, 'is_correct': True}, {'alternative_syllables': [], 'current_syllable': 'trọng', 'id': 18, 'is_correct': True}, {'alternative_syllables': [], 'current_syllable': 'của', 'id': 19, 'is_correct': True}, {'alternative_syllables': [], 'current_syllable': 'việc', 'id': 20, 'is_correct': True}, {'alternative_syllables': [], 'current_syllable': 'giáo', 'id': 21, 'is_correct': True}, {'alternative_syllables': [], 'current_syllable': 'dục', 'id': 22, 'is_correct': True}, {'alternative_syllables': [], 'current_syllable': 'ý', 'id': 23, 'is_correct': True}, {'alternative_syllables': [], 'current_syllable': 'thức', 'id': 24, 'is_correct': True}, {'alternative_syllables': [], 'current_syllable': 'bảo', 'id': 25, 'is_correct': True}, {'alternative_syllables': [], 'current_syllable': 'vệ', 'id': 26, 'is_correct': True}, {'alternative_syllables': [], 'current_syllable': 'môi', 'id': 27, 'is_correct': True}, {'alternative_syllables': [], 'current_syllable': 'trường', 'id': 28, 'is_correct': True}, {'alternative_syllables': [], 'current_syllable': 'cho', 'id': 29, 'is_correct': True}, {'alternative_syllables': [], 'current_syllable': 'trẻ', 'id': 30, 'is_correct': True}, {'alternative_syllables': [], 'current_syllable': 'không', 'id': 31, 'is_correct': True}, {'alternative_syllables': [], 'current_syllable': 'phải', 'id': 32, 'is_correct': True}, {'alternative_syllables': [], 'current_syllable': 'chỉ', 'id': 33, 'is_correct': True}, {'alternative_syllables': [], 'current_syllable': 'ở', 'id': 34, 'is_correct': True}, {'alternative_syllables': [], 'current_syllable': 'phía', 'id': 35, 'is_correct': True}, {'alternative_syllables': [], 'current_syllable': 'nhà', 'id': 36, 'is_correct': True}, {'alternative_syllables': [], 'current_syllable': 'trường', 'id': 37, 'is_correct': True}, {'alternative_syllables': [], 'current_syllable': 'mà', 'id': 38, 'is_correct': True}, {'alternative_syllables': [], 'current_syllable': 'còn', 'id': 39, 'is_correct': True}, {'alternative_syllables': [], 'current_syllable': 'ở', 'id': 40, 'is_correct': True}, {'alternative_syllables': [], 'current_syllable': 'gia', 'id': 41, 'is_correct': True}, {'alternative_syllables': [], 'current_syllable': 'đình', 'id': 42, 'is_correct': True}, {'alternative_syllables': [], 'current_syllable': ',', 'id': 43, 'is_correct': True}, {'alternative_syllables': [], 'current_syllable': 'góp', 'id': 44, 'is_correct': True}, {'alternative_syllables': [], 'current_syllable': 'phần', 'id': 45, 'is_correct': True}, {'alternative_syllables': [], 'current_syllable': 'vào', 'id': 46, 'is_correct': True}, {'alternative_syllables': [], 'current_syllable': 'việc', 'id': 47, 'is_correct': True}, {'alternative_syllables': [], 'current_syllable': 'gìn', 'id': 48, 'is_correct': True}, {'alternative_syllables': [], 'current_syllable': 'giữ', 'id': 49, 'is_correct': True}, {'alternative_syllables': [], 'current_syllable': 'môi', 'id': 50, 'is_correct': True}, {'alternative_syllables': [], 'current_syllable': 'trường', 'id': 51, 'is_correct': True}, {'alternative_syllables': ['xanh'], 'current_syllable': 'sanh', 'id': 52, 'is_correct': False}, {'alternative_syllables': [], 'current_syllable': ',', 'id': 53, 'is_correct': True}, {'alternative_syllables': [], 'current_syllable': 'sạch', 'id': 54, 'is_correct': True}, {'alternative_syllables': [], 'current_syllable': ',', 'id': 55, 'is_correct': True}, {'alternative_syllables': [], 'current_syllable': 'đẹp.', 'id': 56, 'is_correct': True}]   \n",
       "1                                                                                                                                                                                                                                                                                                                                                                                                                                                                                                                                                                                                                                                                                                                                                                                                                                                                                                                                                                                                                                                                                                                                                                                                                                                                                                                                                                                                                                                                                                                                                                                                                                                                                                                                                                                                                                                                                                                                                                                                                                                                                                                                                                                                                                                                                                                                                                                                                                                                                                                                                                                                                                                                                                                                                                                                                                                                                                                                                                                                                                                                                                                                                                                                                                                                                                                    [{'alternative_syllables': [], 'current_syllable': 'Do', 'id': 1, 'is_correct': True}, {'alternative_syllables': [], 'current_syllable': 'đó,', 'id': 2, 'is_correct': True}, {'alternative_syllables': [], 'current_syllable': 'doanh', 'id': 3, 'is_correct': True}, {'alternative_syllables': [], 'current_syllable': 'nghiệp', 'id': 4, 'is_correct': True}, {'alternative_syllables': [], 'current_syllable': 'cần', 'id': 5, 'is_correct': True}, {'alternative_syllables': [], 'current_syllable': 'chú', 'id': 6, 'is_correct': True}, {'alternative_syllables': [], 'current_syllable': 'trọng', 'id': 7, 'is_correct': True}, {'alternative_syllables': [], 'current_syllable': 'đến', 'id': 8, 'is_correct': True}, {'alternative_syllables': [], 'current_syllable': 'yếu', 'id': 9, 'is_correct': True}, {'alternative_syllables': [], 'current_syllable': 'tố', 'id': 10, 'is_correct': True}, {'alternative_syllables': [], 'current_syllable': 'này', 'id': 11, 'is_correct': True}, {'alternative_syllables': [], 'current_syllable': 'để', 'id': 12, 'is_correct': True}, {'alternative_syllables': ['làm'], 'current_syllable': 'là', 'id': 13, 'is_correct': False}, {'alternative_syllables': [], 'current_syllable': 'thỏa', 'id': 14, 'is_correct': True}, {'alternative_syllables': [], 'current_syllable': 'mãn,', 'id': 15, 'is_correct': True}, {'alternative_syllables': [], 'current_syllable': 'hài', 'id': 16, 'is_correct': True}, {'alternative_syllables': [], 'current_syllable': 'lòng', 'id': 17, 'is_correct': True}, {'alternative_syllables': [], 'current_syllable': 'các', 'id': 18, 'is_correct': True}, {'alternative_syllables': [], 'current_syllable': 'nhóm', 'id': 19, 'is_correct': True}, {'alternative_syllables': [], 'current_syllable': 'đối', 'id': 20, 'is_correct': True}, {'alternative_syllables': [], 'current_syllable': 'tượng', 'id': 21, 'is_correct': True}, {'alternative_syllables': [], 'current_syllable': 'này.', 'id': 22, 'is_correct': True}]   \n",
       "2                                                                                                                                                                                                                                                                                                                                                                                                                                                                                                                                                                                                                                                                                                                                                                                                                                                                                                                                                                                                                                                                                                                                                                                                                                                                                                                                                                                                                                                                                                                                                                                                                                                                                                                                                                                                                                                                                                                                                                                                                                                                                                                                                                                                                                                                                                                                                                                                                                                                                                                                                                                                                                                                                                                                                                                                                                                                                                                                                                                                                                                                                                                                                                                                                                                                                                           [{'alternative_syllables': [], 'current_syllable': 'Giữ', 'id': 1, 'is_correct': True}, {'alternative_syllables': [], 'current_syllable': 'được', 'id': 2, 'is_correct': True}, {'alternative_syllables': [], 'current_syllable': 'chỉ', 'id': 3, 'is_correct': True}, {'alternative_syllables': [], 'current_syllable': 'số', 'id': 4, 'is_correct': True}, {'alternative_syllables': [], 'current_syllable': 'này', 'id': 5, 'is_correct': True}, {'alternative_syllables': [], 'current_syllable': 'không', 'id': 6, 'is_correct': True}, {'alternative_syllables': ['giảm'], 'current_syllable': 'giam', 'id': 7, 'is_correct': False}, {'alternative_syllables': [], 'current_syllable': 'mà', 'id': 8, 'is_correct': True}, {'alternative_syllables': [], 'current_syllable': 'còn', 'id': 9, 'is_correct': True}, {'alternative_syllables': [], 'current_syllable': 'tăng', 'id': 10, 'is_correct': True}, {'alternative_syllables': [], 'current_syllable': 'thêm', 'id': 11, 'is_correct': True}, {'alternative_syllables': [], 'current_syllable': 'cũng', 'id': 12, 'is_correct': True}, {'alternative_syllables': [], 'current_syllable': 'được', 'id': 13, 'is_correct': True}, {'alternative_syllables': [], 'current_syllable': 'xem', 'id': 14, 'is_correct': True}, {'alternative_syllables': [], 'current_syllable': 'là', 'id': 15, 'is_correct': True}, {'alternative_syllables': [], 'current_syllable': 'một', 'id': 16, 'is_correct': True}, {'alternative_syllables': ['bước'], 'current_syllable': 'bức', 'id': 17, 'is_correct': False}, {'alternative_syllables': [], 'current_syllable': 'thành', 'id': 18, 'is_correct': True}, {'alternative_syllables': [], 'current_syllable': 'công', 'id': 19, 'is_correct': True}, {'alternative_syllables': [], 'current_syllable': 'của', 'id': 20, 'is_correct': True}, {'alternative_syllables': [], 'current_syllable': 'Ngân', 'id': 21, 'is_correct': True}, {'alternative_syllables': [], 'current_syllable': 'hàng.', 'id': 22, 'is_correct': True}]   \n",
       "3                                                                                                                                                                                                                                                                                                                                                                                                                                                                                                                                                                                                                                                                                                                                                                                                                                                                                                                                                                                                                                                                                                                                                                                                                                                                                                                                                                                                                                                                                                                                                                                                                                                              [{'alternative_syllables': ['Đứng'], 'current_syllable': 'Đúng', 'id': 1, 'is_correct': False}, {'alternative_syllables': [], 'current_syllable': 'trước', 'id': 2, 'is_correct': True}, {'alternative_syllables': [], 'current_syllable': 'thực', 'id': 3, 'is_correct': True}, {'alternative_syllables': [], 'current_syllable': 'tế', 'id': 4, 'is_correct': True}, {'alternative_syllables': [], 'current_syllable': 'này', 'id': 5, 'is_correct': True}, {'alternative_syllables': [], 'current_syllable': 'đòi', 'id': 6, 'is_correct': True}, {'alternative_syllables': [], 'current_syllable': 'hỏi', 'id': 7, 'is_correct': True}, {'alternative_syllables': [], 'current_syllable': 'chúng', 'id': 8, 'is_correct': True}, {'alternative_syllables': [], 'current_syllable': 'ta', 'id': 9, 'is_correct': True}, {'alternative_syllables': [], 'current_syllable': 'cần', 'id': 10, 'is_correct': True}, {'alternative_syllables': [], 'current_syllable': 'phải', 'id': 11, 'is_correct': True}, {'alternative_syllables': [], 'current_syllable': 'có', 'id': 12, 'is_correct': True}, {'alternative_syllables': [], 'current_syllable': 'những', 'id': 13, 'is_correct': True}, {'alternative_syllables': [], 'current_syllable': 'nghiên', 'id': 14, 'is_correct': True}, {'alternative_syllables': [], 'current_syllable': 'cứu', 'id': 15, 'is_correct': True}, {'alternative_syllables': [], 'current_syllable': 'chi', 'id': 16, 'is_correct': True}, {'alternative_syllables': [], 'current_syllable': 'li,', 'id': 17, 'is_correct': True}, {'alternative_syllables': [], 'current_syllable': 'cụ', 'id': 18, 'is_correct': True}, {'alternative_syllables': [], 'current_syllable': 'thể', 'id': 19, 'is_correct': True}, {'alternative_syllables': [], 'current_syllable': 'nhằm', 'id': 20, 'is_correct': True}, {'alternative_syllables': [], 'current_syllable': 'tìm', 'id': 21, 'is_correct': True}, {'alternative_syllables': [], 'current_syllable': 'ra', 'id': 22, 'is_correct': True}, {'alternative_syllables': [], 'current_syllable': 'những', 'id': 23, 'is_correct': True}, {'alternative_syllables': [], 'current_syllable': 'nhân', 'id': 24, 'is_correct': True}, {'alternative_syllables': [], 'current_syllable': 'tố', 'id': 25, 'is_correct': True}, {'alternative_syllables': [], 'current_syllable': 'ảnh', 'id': 26, 'is_correct': True}, {'alternative_syllables': [], 'current_syllable': 'hưởng', 'id': 27, 'is_correct': True}, {'alternative_syllables': [], 'current_syllable': 'đến', 'id': 28, 'is_correct': True}, {'alternative_syllables': [], 'current_syllable': 'sự', 'id': 29, 'is_correct': True}, {'alternative_syllables': [], 'current_syllable': 'lựa', 'id': 30, 'is_correct': True}, {'alternative_syllables': [], 'current_syllable': 'chọn', 'id': 31, 'is_correct': True}, {'alternative_syllables': [], 'current_syllable': 'kênh', 'id': 32, 'is_correct': True}, {'alternative_syllables': [], 'current_syllable': 'mua', 'id': 33, 'is_correct': True}, {'alternative_syllables': [], 'current_syllable': 'sắm', 'id': 34, 'is_correct': True}, {'alternative_syllables': [], 'current_syllable': 'của', 'id': 35, 'is_correct': True}, {'alternative_syllables': [], 'current_syllable': 'người', 'id': 36, 'is_correct': True}, {'alternative_syllables': [], 'current_syllable': 'tiêu', 'id': 37, 'is_correct': True}, {'alternative_syllables': [], 'current_syllable': 'dùng', 'id': 38, 'is_correct': True}, {'alternative_syllables': [], 'current_syllable': 'ở', 'id': 39, 'is_correct': True}, {'alternative_syllables': [], 'current_syllable': 'TP.', 'id': 40, 'is_correct': True}]   \n",
       "4                                                                                                                                                                                                                                                                                                                                                                                                                                                                                                                                                                                                                                                                                                                                                                                                                                                                                                                                                                                                                                                                                                                                                                                                                                                                                                                                                                                                                                                                                                                                                                                                                                                                                                                                                                                                                                                                                                                                                                                                                                                                                                                                                                                                                                                                                                                                                                                                                                                                                                                                                                                                                                                                                                                                                                                                                                                                                                                                                                                                                                                                                                                                                                                                                      [{'alternative_syllables': [], 'current_syllable': 'Trình', 'id': 1, 'is_correct': True}, {'alternative_syllables': [], 'current_syllable': 'độ', 'id': 2, 'is_correct': True}, {'alternative_syllables': [], 'current_syllable': 'học', 'id': 3, 'is_correct': True}, {'alternative_syllables': [], 'current_syllable': 'vấn', 'id': 4, 'is_correct': True}, {'alternative_syllables': [], 'current_syllable': 'của', 'id': 5, 'is_correct': True}, {'alternative_syllables': [], 'current_syllable': 'nhân', 'id': 6, 'is_correct': True}, {'alternative_syllables': [], 'current_syllable': 'viên', 'id': 7, 'is_correct': True}, {'alternative_syllables': [], 'current_syllable': 'được', 'id': 8, 'is_correct': True}, {'alternative_syllables': [], 'current_syllable': 'tuyển', 'id': 9, 'is_correct': True}, {'alternative_syllables': [], 'current_syllable': 'dụng', 'id': 10, 'is_correct': True}, {'alternative_syllables': [], 'current_syllable': 'ngày', 'id': 11, 'is_correct': True}, {'alternative_syllables': ['càng'], 'current_syllable': 'cang', 'id': 12, 'is_correct': False}, {'alternative_syllables': [], 'current_syllable': 'cao', 'id': 13, 'is_correct': True}, {'alternative_syllables': [], 'current_syllable': 'hơn,', 'id': 14, 'is_correct': True}, {'alternative_syllables': [], 'current_syllable': 'thợ', 'id': 15, 'is_correct': True}, {'alternative_syllables': [], 'current_syllable': 'lành', 'id': 16, 'is_correct': True}, {'alternative_syllables': [], 'current_syllable': 'nghề', 'id': 17, 'is_correct': True}, {'alternative_syllables': [], 'current_syllable': 'cũng', 'id': 18, 'is_correct': True}, {'alternative_syllables': [], 'current_syllable': 'được', 'id': 19, 'is_correct': True}, {'alternative_syllables': [], 'current_syllable': 'sàng', 'id': 20, 'is_correct': True}, {'alternative_syllables': [], 'current_syllable': 'lọc', 'id': 21, 'is_correct': True}, {'alternative_syllables': [], 'current_syllable': 'kỹ', 'id': 22, 'is_correct': True}, {'alternative_syllables': [], 'current_syllable': 'hơn.', 'id': 23, 'is_correct': True}]   \n",
       "...                                                                                                                                                                                                                                                                                                                                                                                                                                                                                                                                                                                                                                                                                                                                                                                                                                                                                                                                                                                                                                                                                                                                                                                                                                                                                                                                                                                                                                                                                                                                                                                                                                                                                                                                                                                                                                                                                                                                                                                                                                                                                                                                                                                                                                                                                                                                                                                                                                                                                                                                                                                                                                                                                                                                                                                                                                                                                                                                                                                                                                                                                                                                                                                                                                                                                                                                                                                                                                                                                                                                                                                                                                                                                                                                                                                                                                                                                                                                                                                                                                                                                                                                                                                                                                                                                                                                                                                                                                                                                                                                                                                                                                                                                                                                                                                                                                                                                                                                                                                                                                                                                                                                                                                                                                                                                                                                      ...   \n",
       "8962                                                                                                                                                                                                                                                                                                                                                                                                                                                                                                                                                                                                                                                                                                                                                                                                                                                                                                                                                                                                                                                                                                                                                                                                                                                                                                                                                                                                                                                                                                                                                                                                                                                                                                                                      [{'alternative_syllables': [], 'current_syllable': 'Tuy', 'id': 1, 'is_correct': True}, {'alternative_syllables': [], 'current_syllable': 'nhiên,', 'id': 2, 'is_correct': True}, {'alternative_syllables': [], 'current_syllable': 'khi', 'id': 3, 'is_correct': True}, {'alternative_syllables': [], 'current_syllable': 'nói', 'id': 4, 'is_correct': True}, {'alternative_syllables': [], 'current_syllable': 'đến', 'id': 5, 'is_correct': True}, {'alternative_syllables': [], 'current_syllable': 'E-Learning,', 'id': 6, 'is_correct': True}, {'alternative_syllables': [], 'current_syllable': 'các', 'id': 7, 'is_correct': True}, {'alternative_syllables': [], 'current_syllable': 'phương', 'id': 8, 'is_correct': True}, {'alternative_syllables': [], 'current_syllable': 'pháp', 'id': 9, 'is_correct': True}, {'alternative_syllables': [], 'current_syllable': 'lớp', 'id': 10, 'is_correct': True}, {'alternative_syllables': [], 'current_syllable': 'học', 'id': 11, 'is_correct': True}, {'alternative_syllables': [], 'current_syllable': 'dựa', 'id': 12, 'is_correct': True}, {'alternative_syllables': [], 'current_syllable': 'trên', 'id': 13, 'is_correct': True}, {'alternative_syllables': [], 'current_syllable': 'địa', 'id': 14, 'is_correct': True}, {'alternative_syllables': [], 'current_syllable': 'điểm', 'id': 15, 'is_correct': True}, {'alternative_syllables': [], 'current_syllable': 'của', 'id': 16, 'is_correct': True}, {'alternative_syllables': [], 'current_syllable': 'Google', 'id': 17, 'is_correct': True}, {'alternative_syllables': [], 'current_syllable': 'có', 'id': 18, 'is_correct': True}, {'alternative_syllables': [], 'current_syllable': 'thể', 'id': 19, 'is_correct': True}, {'alternative_syllables': [], 'current_syllable': 'được', 'id': 20, 'is_correct': True}, {'alternative_syllables': [], 'current_syllable': 'thay', 'id': 21, 'is_correct': True}, {'alternative_syllables': [], 'current_syllable': 'thế', 'id': 22, 'is_correct': True}, {'alternative_syllables': [], 'current_syllable': 'bằng', 'id': 23, 'is_correct': True}, {'alternative_syllables': [], 'current_syllable': 'hội', 'id': 24, 'is_correct': True}, {'alternative_syllables': [], 'current_syllable': 'thảo', 'id': 25, 'is_correct': True}, {'alternative_syllables': [], 'current_syllable': 'trên', 'id': 26, 'is_correct': True}, {'alternative_syllables': [], 'current_syllable': 'web', 'id': 27, 'is_correct': True}, {'alternative_syllables': [], 'current_syllable': 'giúp', 'id': 28, 'is_correct': True}, {'alternative_syllables': [], 'current_syllable': 'việc', 'id': 29, 'is_correct': True}, {'alternative_syllables': ['học'], 'current_syllable': 'hoc', 'id': 30, 'is_correct': False}, {'alternative_syllables': [], 'current_syllable': 'trở', 'id': 31, 'is_correct': True}, {'alternative_syllables': [], 'current_syllable': 'nên', 'id': 32, 'is_correct': True}, {'alternative_syllables': [], 'current_syllable': 'dễ', 'id': 33, 'is_correct': True}, {'alternative_syllables': [], 'current_syllable': 'tiếp', 'id': 34, 'is_correct': True}, {'alternative_syllables': [], 'current_syllable': 'cận', 'id': 35, 'is_correct': True}, {'alternative_syllables': [], 'current_syllable': 'và', 'id': 36, 'is_correct': True}, {'alternative_syllables': [], 'current_syllable': 'thuận', 'id': 37, 'is_correct': True}, {'alternative_syllables': [], 'current_syllable': 'tiện', 'id': 38, 'is_correct': True}, {'alternative_syllables': [], 'current_syllable': 'hơn.', 'id': 39, 'is_correct': True}]   \n",
       "8963  [{'alternative_syllables': [], 'current_syllable': 'Đứng', 'id': 1, 'is_correct': True}, {'alternative_syllables': [], 'current_syllable': 'trước', 'id': 2, 'is_correct': True}, {'alternative_syllables': [], 'current_syllable': 'những', 'id': 3, 'is_correct': True}, {'alternative_syllables': [], 'current_syllable': 'hành', 'id': 4, 'is_correct': True}, {'alternative_syllables': [], 'current_syllable': 'vi', 'id': 5, 'is_correct': True}, {'alternative_syllables': [], 'current_syllable': 'đi', 'id': 6, 'is_correct': True}, {'alternative_syllables': [], 'current_syllable': 'ngược', 'id': 7, 'is_correct': True}, {'alternative_syllables': [], 'current_syllable': 'lại', 'id': 8, 'is_correct': True}, {'alternative_syllables': [], 'current_syllable': 'với', 'id': 9, 'is_correct': True}, {'alternative_syllables': [], 'current_syllable': 'đạo', 'id': 10, 'is_correct': True}, {'alternative_syllables': [], 'current_syllable': 'đức', 'id': 11, 'is_correct': True}, {'alternative_syllables': [], 'current_syllable': 'giáo', 'id': 12, 'is_correct': True}, {'alternative_syllables': [], 'current_syllable': 'dục', 'id': 13, 'is_correct': True}, {'alternative_syllables': [], 'current_syllable': 'và', 'id': 14, 'is_correct': True}, {'alternative_syllables': [], 'current_syllable': 'luật', 'id': 15, 'is_correct': True}, {'alternative_syllables': [], 'current_syllable': 'pháp', 'id': 16, 'is_correct': True}, {'alternative_syllables': [], 'current_syllable': 'nhóm', 'id': 17, 'is_correct': True}, {'alternative_syllables': [], 'current_syllable': 'chúng', 'id': 18, 'is_correct': True}, {'alternative_syllables': [], 'current_syllable': 'tôi', 'id': 19, 'is_correct': True}, {'alternative_syllables': [], 'current_syllable': 'quyết', 'id': 20, 'is_correct': True}, {'alternative_syllables': [], 'current_syllable': 'định', 'id': 21, 'is_correct': True}, {'alternative_syllables': [], 'current_syllable': 'chọn', 'id': 22, 'is_correct': True}, {'alternative_syllables': [], 'current_syllable': 'và', 'id': 23, 'is_correct': True}, {'alternative_syllables': [], 'current_syllable': 'thực', 'id': 24, 'is_correct': True}, {'alternative_syllables': [], 'current_syllable': 'hiện', 'id': 25, 'is_correct': True}, {'alternative_syllables': [], 'current_syllable': 'đề', 'id': 26, 'is_correct': True}, {'alternative_syllables': [], 'current_syllable': 'tài', 'id': 27, 'is_correct': True}, {'alternative_syllables': [], 'current_syllable': 'này', 'id': 28, 'is_correct': True}, {'alternative_syllables': [], 'current_syllable': 'để', 'id': 29, 'is_correct': True}, {'alternative_syllables': [], 'current_syllable': 'góp', 'id': 30, 'is_correct': True}, {'alternative_syllables': [], 'current_syllable': 'phần', 'id': 31, 'is_correct': True}, {'alternative_syllables': [], 'current_syllable': 'nói', 'id': 32, 'is_correct': True}, {'alternative_syllables': [], 'current_syllable': 'lên', 'id': 33, 'is_correct': True}, {'alternative_syllables': [], 'current_syllable': 'tiếng', 'id': 34, 'is_correct': True}, {'alternative_syllables': [], 'current_syllable': 'nói', 'id': 35, 'is_correct': True}, {'alternative_syllables': [], 'current_syllable': 'và', 'id': 36, 'is_correct': True}, {'alternative_syllables': [], 'current_syllable': 'nâng', 'id': 37, 'is_correct': True}, {'alternative_syllables': [], 'current_syllable': 'cao', 'id': 38, 'is_correct': True}, {'alternative_syllables': [], 'current_syllable': 'nhận', 'id': 39, 'is_correct': True}, {'alternative_syllables': [], 'current_syllable': 'thức', 'id': 40, 'is_correct': True}, {'alternative_syllables': [], 'current_syllable': 'cho', 'id': 41, 'is_correct': True}, {'alternative_syllables': [], 'current_syllable': 'giáo', 'id': 42, 'is_correct': True}, {'alternative_syllables': ['dục,'], 'current_syllable': 'duc,', 'id': 43, 'is_correct': False}, {'alternative_syllables': [], 'current_syllable': 'các', 'id': 44, 'is_correct': True}, {'alternative_syllables': [], 'current_syllable': 'bậc', 'id': 45, 'is_correct': True}, {'alternative_syllables': [], 'current_syllable': 'giáo', 'id': 46, 'is_correct': True}, {'alternative_syllables': [], 'current_syllable': 'viên', 'id': 47, 'is_correct': True}, {'alternative_syllables': [], 'current_syllable': 'về', 'id': 48, 'is_correct': True}, {'alternative_syllables': [], 'current_syllable': 'bạo', 'id': 49, 'is_correct': True}, {'alternative_syllables': [], 'current_syllable': 'lực', 'id': 50, 'is_correct': True}, {'alternative_syllables': [], 'current_syllable': 'trẻ', 'id': 51, 'is_correct': True}, {'alternative_syllables': [], 'current_syllable': 'em', 'id': 52, 'is_correct': True}, {'alternative_syllables': [], 'current_syllable': 'ở', 'id': 53, 'is_correct': True}, {'alternative_syllables': [], 'current_syllable': 'trường', 'id': 54, 'is_correct': True}, {'alternative_syllables': [], 'current_syllable': 'mầm', 'id': 55, 'is_correct': True}, {'alternative_syllables': [], 'current_syllable': 'non', 'id': 56, 'is_correct': True}, {'alternative_syllables': [], 'current_syllable': 'hiện', 'id': 57, 'is_correct': True}, {'alternative_syllables': [], 'current_syllable': 'nay.', 'id': 58, 'is_correct': True}]   \n",
       "8964                                                                                                                                                                                                                                                                                                                                                                                                                                                                                                                                                                                                                                                                                                                                                                                                                                                                                                                                                                                                                                                                                                                                                                                                                                                                                                                                                                                                                                                                                                                                                                                                                                                                                                                                          [{'alternative_syllables': [], 'current_syllable': 'Quan', 'id': 1, 'is_correct': True}, {'alternative_syllables': [], 'current_syllable': 'điểm', 'id': 2, 'is_correct': True}, {'alternative_syllables': [], 'current_syllable': 'biện', 'id': 3, 'is_correct': True}, {'alternative_syllables': [], 'current_syllable': 'chứng', 'id': 4, 'is_correct': True}, {'alternative_syllables': [], 'current_syllable': 'của', 'id': 5, 'is_correct': True}, {'alternative_syllables': ['chủ'], 'current_syllable': 'chù', 'id': 6, 'is_correct': False}, {'alternative_syllables': [], 'current_syllable': 'nghĩa', 'id': 7, 'is_correct': True}, {'alternative_syllables': [], 'current_syllable': 'Mác', 'id': 8, 'is_correct': True}, {'alternative_syllables': [], 'current_syllable': '-', 'id': 9, 'is_correct': True}, {'alternative_syllables': [], 'current_syllable': 'Lênin', 'id': 10, 'is_correct': True}, {'alternative_syllables': [], 'current_syllable': 'không', 'id': 11, 'is_correct': True}, {'alternative_syllables': [], 'current_syllable': 'chỉ', 'id': 12, 'is_correct': True}, {'alternative_syllables': [], 'current_syllable': 'khẳng', 'id': 13, 'is_correct': True}, {'alternative_syllables': [], 'current_syllable': 'định', 'id': 14, 'is_correct': True}, {'alternative_syllables': [], 'current_syllable': 'tính', 'id': 15, 'is_correct': True}, {'alternative_syllables': [], 'current_syllable': 'khách', 'id': 16, 'is_correct': True}, {'alternative_syllables': [], 'current_syllable': 'quan,', 'id': 17, 'is_correct': True}, {'alternative_syllables': [], 'current_syllable': 'tính', 'id': 18, 'is_correct': True}, {'alternative_syllables': [], 'current_syllable': 'phổ', 'id': 19, 'is_correct': True}, {'alternative_syllables': [], 'current_syllable': 'biến', 'id': 20, 'is_correct': True}, {'alternative_syllables': [], 'current_syllable': 'của', 'id': 21, 'is_correct': True}, {'alternative_syllables': [], 'current_syllable': 'các', 'id': 22, 'is_correct': True}, {'alternative_syllables': [], 'current_syllable': 'mối', 'id': 23, 'is_correct': True}, {'alternative_syllables': [], 'current_syllable': 'liên', 'id': 24, 'is_correct': True}, {'alternative_syllables': [], 'current_syllable': 'hệ', 'id': 25, 'is_correct': True}, {'alternative_syllables': [], 'current_syllable': 'mà', 'id': 26, 'is_correct': True}, {'alternative_syllables': [], 'current_syllable': 'còn', 'id': 27, 'is_correct': True}, {'alternative_syllables': [], 'current_syllable': 'nhấn', 'id': 28, 'is_correct': True}, {'alternative_syllables': [], 'current_syllable': 'mạnh', 'id': 29, 'is_correct': True}, {'alternative_syllables': [], 'current_syllable': 'tính', 'id': 30, 'is_correct': True}, {'alternative_syllables': [], 'current_syllable': 'phong', 'id': 31, 'is_correct': True}, {'alternative_syllables': [], 'current_syllable': 'phú,', 'id': 32, 'is_correct': True}, {'alternative_syllables': [], 'current_syllable': 'đa', 'id': 33, 'is_correct': True}, {'alternative_syllables': [], 'current_syllable': 'dạng', 'id': 34, 'is_correct': True}, {'alternative_syllables': [], 'current_syllable': 'của', 'id': 35, 'is_correct': True}, {'alternative_syllables': [], 'current_syllable': 'các', 'id': 36, 'is_correct': True}, {'alternative_syllables': [], 'current_syllable': 'mối', 'id': 37, 'is_correct': True}, {'alternative_syllables': [], 'current_syllable': 'liên', 'id': 38, 'is_correct': True}, {'alternative_syllables': [], 'current_syllable': 'hệ.', 'id': 39, 'is_correct': True}]   \n",
       "8965                                                                                                                                                                                                                                                                                                                                                                                                                                                                                                                                           [{'alternative_syllables': [], 'current_syllable': 'Đối', 'id': 1, 'is_correct': True}, {'alternative_syllables': [], 'current_syllable': 'với', 'id': 2, 'is_correct': True}, {'alternative_syllables': [], 'current_syllable': 'biểu', 'id': 3, 'is_correct': True}, {'alternative_syllables': [], 'current_syllable': 'đồ', 'id': 4, 'is_correct': True}, {'alternative_syllables': [], 'current_syllable': 'Histogram,', 'id': 5, 'is_correct': True}, {'alternative_syllables': [], 'current_syllable': 'nếu', 'id': 6, 'is_correct': True}, {'alternative_syllables': [], 'current_syllable': 'giá', 'id': 7, 'is_correct': True}, {'alternative_syllables': [], 'current_syllable': 'trị', 'id': 8, 'is_correct': True}, {'alternative_syllables': [], 'current_syllable': 'trung', 'id': 9, 'is_correct': True}, {'alternative_syllables': [], 'current_syllable': 'bình', 'id': 10, 'is_correct': True}, {'alternative_syllables': [], 'current_syllable': 'Mean', 'id': 11, 'is_correct': True}, {'alternative_syllables': [], 'current_syllable': 'gần', 'id': 12, 'is_correct': True}, {'alternative_syllables': [], 'current_syllable': 'bằng', 'id': 13, 'is_correct': True}, {'alternative_syllables': [], 'current_syllable': '0,', 'id': 14, 'is_correct': True}, {'alternative_syllables': [], 'current_syllable': 'độ', 'id': 15, 'is_correct': True}, {'alternative_syllables': [], 'current_syllable': 'lệch', 'id': 16, 'is_correct': True}, {'alternative_syllables': [], 'current_syllable': 'chuẩn', 'id': 17, 'is_correct': True}, {'alternative_syllables': [], 'current_syllable': 'gần', 'id': 18, 'is_correct': True}, {'alternative_syllables': [], 'current_syllable': 'bằng', 'id': 19, 'is_correct': True}, {'alternative_syllables': [], 'current_syllable': '1', 'id': 20, 'is_correct': True}, {'alternative_syllables': [], 'current_syllable': 'và', 'id': 21, 'is_correct': True}, {'alternative_syllables': [], 'current_syllable': 'đường', 'id': 22, 'is_correct': True}, {'alternative_syllables': [], 'current_syllable': 'cong', 'id': 23, 'is_correct': True}, {'alternative_syllables': [], 'current_syllable': 'phân', 'id': 24, 'is_correct': True}, {'alternative_syllables': [], 'current_syllable': 'phối', 'id': 25, 'is_correct': True}, {'alternative_syllables': [], 'current_syllable': 'có', 'id': 26, 'is_correct': True}, {'alternative_syllables': [], 'current_syllable': 'hình', 'id': 27, 'is_correct': True}, {'alternative_syllables': [], 'current_syllable': 'dạng', 'id': 28, 'is_correct': True}, {'alternative_syllables': [], 'current_syllable': 'chuông', 'id': 29, 'is_correct': True}, {'alternative_syllables': [], 'current_syllable': 'thì', 'id': 30, 'is_correct': True}, {'alternative_syllables': [], 'current_syllable': 'có', 'id': 31, 'is_correct': True}, {'alternative_syllables': [], 'current_syllable': 'thể', 'id': 32, 'is_correct': True}, {'alternative_syllables': [], 'current_syllable': 'khẳng', 'id': 33, 'is_correct': True}, {'alternative_syllables': [], 'current_syllable': 'định', 'id': 34, 'is_correct': True}, {'alternative_syllables': [], 'current_syllable': 'phân', 'id': 35, 'is_correct': True}, {'alternative_syllables': [], 'current_syllable': 'phối', 'id': 36, 'is_correct': True}, {'alternative_syllables': [], 'current_syllable': 'là', 'id': 37, 'is_correct': True}, {'alternative_syllables': ['xấp'], 'current_syllable': 'xếp', 'id': 38, 'is_correct': False}, {'alternative_syllables': [], 'current_syllable': 'xỉ', 'id': 39, 'is_correct': True}, {'alternative_syllables': [], 'current_syllable': 'chuẩn,', 'id': 40, 'is_correct': True}, {'alternative_syllables': [], 'current_syllable': 'giả', 'id': 41, 'is_correct': True}, {'alternative_syllables': [], 'current_syllable': 'định', 'id': 42, 'is_correct': True}, {'alternative_syllables': [], 'current_syllable': 'phân', 'id': 43, 'is_correct': True}, {'alternative_syllables': [], 'current_syllable': 'phối', 'id': 44, 'is_correct': True}, {'alternative_syllables': [], 'current_syllable': 'chuẩn', 'id': 45, 'is_correct': True}, {'alternative_syllables': [], 'current_syllable': 'của', 'id': 46, 'is_correct': True}, {'alternative_syllables': [], 'current_syllable': 'phần', 'id': 47, 'is_correct': True}, {'alternative_syllables': [], 'current_syllable': 'dư', 'id': 48, 'is_correct': True}, {'alternative_syllables': [], 'current_syllable': 'không', 'id': 49, 'is_correct': True}, {'alternative_syllables': [], 'current_syllable': 'bị', 'id': 50, 'is_correct': True}, {'alternative_syllables': [], 'current_syllable': 'vi', 'id': 51, 'is_correct': True}, {'alternative_syllables': [], 'current_syllable': 'phạm.', 'id': 52, 'is_correct': True}]   \n",
       "8966                                                                                                                                                                                                                                                                                                                                                                                                                                                                                                                                             [{'alternative_syllables': [], 'current_syllable': 'Trong', 'id': 1, 'is_correct': True}, {'alternative_syllables': [], 'current_syllable': 'mỗi', 'id': 2, 'is_correct': True}, {'alternative_syllables': [], 'current_syllable': 'khu', 'id': 3, 'is_correct': True}, {'alternative_syllables': [], 'current_syllable': 'vực', 'id': 4, 'is_correct': True}, {'alternative_syllables': [], 'current_syllable': 'mà', 'id': 5, 'is_correct': True}, {'alternative_syllables': [], 'current_syllable': 'đội', 'id': 6, 'is_correct': True}, {'alternative_syllables': [], 'current_syllable': 'phát', 'id': 7, 'is_correct': True}, {'alternative_syllables': [], 'current_syllable': 'triển', 'id': 8, 'is_correct': True}, {'alternative_syllables': [], 'current_syllable': 'thị', 'id': 9, 'is_correct': True}, {'alternative_syllables': [], 'current_syllable': 'trường', 'id': 10, 'is_correct': True}, {'alternative_syllables': [], 'current_syllable': 'nhắm', 'id': 11, 'is_correct': True}, {'alternative_syllables': [], 'current_syllable': 'đến', 'id': 12, 'is_correct': True}, {'alternative_syllables': [], 'current_syllable': 'sẽ', 'id': 13, 'is_correct': True}, {'alternative_syllables': [], 'current_syllable': 'có', 'id': 14, 'is_correct': True}, {'alternative_syllables': [], 'current_syllable': 'những', 'id': 15, 'is_correct': True}, {'alternative_syllables': [], 'current_syllable': 'tệp', 'id': 16, 'is_correct': True}, {'alternative_syllables': [], 'current_syllable': 'khách', 'id': 17, 'is_correct': True}, {'alternative_syllables': [], 'current_syllable': 'hàng', 'id': 18, 'is_correct': True}, {'alternative_syllables': [], 'current_syllable': 'khác', 'id': 19, 'is_correct': True}, {'alternative_syllables': [], 'current_syllable': 'nhau', 'id': 20, 'is_correct': True}, {'alternative_syllables': [], 'current_syllable': 'cho', 'id': 21, 'is_correct': True}, {'alternative_syllables': [], 'current_syllable': 'nên', 'id': 22, 'is_correct': True}, {'alternative_syllables': [], 'current_syllable': 'việc', 'id': 23, 'is_correct': True}, {'alternative_syllables': [], 'current_syllable': 'tạo', 'id': 24, 'is_correct': True}, {'alternative_syllables': [], 'current_syllable': 'ra', 'id': 25, 'is_correct': True}, {'alternative_syllables': [], 'current_syllable': 'từng', 'id': 26, 'is_correct': True}, {'alternative_syllables': [], 'current_syllable': 'nhóm', 'id': 27, 'is_correct': True}, {'alternative_syllables': [], 'current_syllable': 'khách', 'id': 28, 'is_correct': True}, {'alternative_syllables': [], 'current_syllable': 'hàng', 'id': 29, 'is_correct': True}, {'alternative_syllables': [], 'current_syllable': 'trên', 'id': 30, 'is_correct': True}, {'alternative_syllables': [], 'current_syllable': 'từng', 'id': 31, 'is_correct': True}, {'alternative_syllables': [], 'current_syllable': 'khu', 'id': 32, 'is_correct': True}, {'alternative_syllables': [], 'current_syllable': 'vực', 'id': 33, 'is_correct': True}, {'alternative_syllables': [], 'current_syllable': 'trong', 'id': 34, 'is_correct': True}, {'alternative_syllables': [], 'current_syllable': 'CRM', 'id': 35, 'is_correct': True}, {'alternative_syllables': [], 'current_syllable': 'là', 'id': 36, 'is_correct': True}, {'alternative_syllables': [], 'current_syllable': 'một', 'id': 37, 'is_correct': True}, {'alternative_syllables': [], 'current_syllable': 'việc', 'id': 38, 'is_correct': True}, {'alternative_syllables': [], 'current_syllable': 'cần', 'id': 39, 'is_correct': True}, {'alternative_syllables': [], 'current_syllable': 'thiết', 'id': 40, 'is_correct': True}, {'alternative_syllables': [], 'current_syllable': 'để', 'id': 41, 'is_correct': True}, {'alternative_syllables': [], 'current_syllable': 'dễ', 'id': 42, 'is_correct': True}, {'alternative_syllables': [], 'current_syllable': 'dàng', 'id': 43, 'is_correct': True}, {'alternative_syllables': [], 'current_syllable': 'và', 'id': 44, 'is_correct': True}, {'alternative_syllables': ['tiện'], 'current_syllable': 'tiên', 'id': 45, 'is_correct': False}, {'alternative_syllables': [], 'current_syllable': 'lợi', 'id': 46, 'is_correct': True}, {'alternative_syllables': [], 'current_syllable': 'cho', 'id': 47, 'is_correct': True}, {'alternative_syllables': [], 'current_syllable': 'việc', 'id': 48, 'is_correct': True}, {'alternative_syllables': [], 'current_syllable': 'chăm', 'id': 49, 'is_correct': True}, {'alternative_syllables': [], 'current_syllable': 'sóc', 'id': 50, 'is_correct': True}, {'alternative_syllables': [], 'current_syllable': 'khách', 'id': 51, 'is_correct': True}, {'alternative_syllables': [], 'current_syllable': 'hàng.', 'id': 52, 'is_correct': True}]   \n",
       "\n",
       "                                                                                                                                                                                                                                                                 text  \\\n",
       "0               Thông qua công tác tuyên truyền, vận động này phụ huynh sẽ hiểu rõ hơn tầm quan trọng của việc giáo dục ý thức bảo vệ môi trường cho trẻ không phải chỉ ở phía nhà trường mà còn ở gia đình , góp phần vào việc gìn giữ môi trường sanh , sạch , đẹp.   \n",
       "1                                                                                                                                                                   Do đó, doanh nghiệp cần chú trọng đến yếu tố này để là thỏa mãn, hài lòng các nhóm đối tượng này.   \n",
       "2                                                                                                                                                                  Giữ được chỉ số này không giam mà còn tăng thêm cũng được xem là một bức thành công của Ngân hàng.   \n",
       "3                                                                                      Đúng trước thực tế này đòi hỏi chúng ta cần phải có những nghiên cứu chi li, cụ thể nhằm tìm ra những nhân tố ảnh hưởng đến sự lựa chọn kênh mua sắm của người tiêu dùng ở TP.   \n",
       "4                                                                                                                                                          Trình độ học vấn của nhân viên được tuyển dụng ngày cang cao hơn, thợ lành nghề cũng được sàng lọc kỹ hơn.   \n",
       "...                                                                                                                                                                                                                                                               ...   \n",
       "8962                                                                         Tuy nhiên, khi nói đến E-Learning, các phương pháp lớp học dựa trên địa điểm của Google có thể được thay thế bằng hội thảo trên web giúp việc hoc trở nên dễ tiếp cận và thuận tiện hơn.   \n",
       "8963  Đứng trước những hành vi đi ngược lại với đạo đức giáo dục và luật pháp nhóm chúng tôi quyết định chọn và thực hiện đề tài này để góp phần nói lên tiếng nói và nâng cao nhận thức cho giáo duc, các bậc giáo viên về bạo lực trẻ em ở trường mầm non hiện nay.   \n",
       "8964                                                                             Quan điểm biện chứng của chù nghĩa Mác - Lênin không chỉ khẳng định tính khách quan, tính phổ biến của các mối liên hệ mà còn nhấn mạnh tính phong phú, đa dạng của các mối liên hệ.   \n",
       "8965                  Đối với biểu đồ Histogram, nếu giá trị trung bình Mean gần bằng 0, độ lệch chuẩn gần bằng 1 và đường cong phân phối có hình dạng chuông thì có thể khẳng định phân phối là xếp xỉ chuẩn, giả định phân phối chuẩn của phần dư không bị vi phạm.   \n",
       "8966                     Trong mỗi khu vực mà đội phát triển thị trường nhắm đến sẽ có những tệp khách hàng khác nhau cho nên việc tạo ra từng nhóm khách hàng trên từng khu vực trong CRM là một việc cần thiết để dễ dàng và tiên lợi cho việc chăm sóc khách hàng.   \n",
       "\n",
       "                                                                                                                                                                                                                                                           preprocess  \\\n",
       "0                  thông qua công tác tuyên truyền, vận động này phụ huynh sẽ hiểu rõ hơn tầm quan trọng của việc giáo dục ý thức bảo vệ môi trường cho trẻ không phải chỉ ở phía nhà trường mà còn ở gia đình, góp phần vào việc gìn giữ môi trường sanh, sạch, đẹp.   \n",
       "1                                                                                                                                                                   do đó, doanh nghiệp cần chú trọng đến yếu tố này để là thỏa mãn, hài lòng các nhóm đối tượng này.   \n",
       "2                                                                                                                                                                  giữ được chỉ số này không giam mà còn tăng thêm cũng được xem là một bức thành công của ngân hàng.   \n",
       "3                                                                                      đúng trước thực tế này đòi hỏi chúng ta cần phải có những nghiên cứu chi li, cụ thể nhằm tìm ra những nhân tố ảnh hưởng đến sự lựa chọn kênh mua sắm của người tiêu dùng ở tp.   \n",
       "4                                                                                                                                                          trình độ học vấn của nhân viên được tuyển dụng ngày cang cao hơn, thợ lành nghề cũng được sàng lọc kỹ hơn.   \n",
       "...                                                                                                                                                                                                                                                               ...   \n",
       "8962                                                                         tuy nhiên, khi nói đến e-learning, các phương pháp lớp học dựa trên địa điểm của google có thể được thay thế bằng hội thảo trên web giúp việc hoc trở nên dễ tiếp cận và thuận tiện hơn.   \n",
       "8963  đứng trước những hành vi đi ngược lại với đạo đức giáo dục và luật pháp nhóm chúng tôi quyết định chọn và thực hiện đề tài này để góp phần nói lên tiếng nói và nâng cao nhận thức cho giáo duc, các bậc giáo viên về bạo lực trẻ em ở trường mầm non hiện nay.   \n",
       "8964                                                                             quan điểm biện chứng của chù nghĩa mác - lênin không chỉ khẳng định tính khách quan, tính phổ biến của các mối liên hệ mà còn nhấn mạnh tính phong phú, đa dạng của các mối liên hệ.   \n",
       "8965                  đối với biểu đồ histogram, nếu giá trị trung bình mean gần bằng 0, độ lệch chuẩn gần bằng 1 và đường cong phân phối có hình dạng chuông thì có thể khẳng định phân phối là xếp xỉ chuẩn, giả định phân phối chuẩn của phần dư không bị vi phạm.   \n",
       "8966                     trong mỗi khu vực mà đội phát triển thị trường nhắm đến sẽ có những tệp khách hàng khác nhau cho nên việc tạo ra từng nhóm khách hàng trên từng khu vực trong crm là một việc cần thiết để dễ dàng và tiên lợi cho việc chăm sóc khách hàng.   \n",
       "\n",
       "                                                                                                                                                                                                                                                         correct_text  \\\n",
       "0                  Thông qua công tác tuyên truyền, vận động này phụ huynh sẽ hiểu rõ hơn tầm quan trọng của việc giáo dục ý thức bảo vệ môi trường cho trẻ không phải chỉ ở phía nhà trường mà còn ở gia đình, góp phần vào việc gìn giữ môi trường xanh, sạch, đẹp.   \n",
       "1                                                                                                                                                                  Do đó, doanh nghiệp cần chú trọng đến yếu tố này để làm thỏa mãn, hài lòng các nhóm đối tượng này.   \n",
       "2                                                                                                                                                                 Giữ được chỉ số này không giảm mà còn tăng thêm cũng được xem là một bước thành công của Ngân hàng.   \n",
       "3                                                                                      Đứng trước thực tế này đòi hỏi chúng ta cần phải có những nghiên cứu chi li, cụ thể nhằm tìm ra những nhân tố ảnh hưởng đến sự lựa chọn kênh mua sắm của người tiêu dùng ở TP.   \n",
       "4                                                                                                                                                          Trình độ học vấn của nhân viên được tuyển dụng ngày càng cao hơn, thợ lành nghề cũng được sàng lọc kỹ hơn.   \n",
       "...                                                                                                                                                                                                                                                               ...   \n",
       "8962                                                                         Tuy nhiên, khi nói đến E-Learning, các phương pháp lớp học dựa trên địa điểm của Google có thể được thay thế bằng hội thảo trên web giúp việc học trở nên dễ tiếp cận và thuận tiện hơn.   \n",
       "8963  Đứng trước những hành vi đi ngược lại với đạo đức giáo dục và luật pháp nhóm chúng tôi quyết định chọn và thực hiện đề tài này để góp phần nói lên tiếng nói và nâng cao nhận thức cho giáo dục, các bậc giáo viên về bạo lực trẻ em ở trường mầm non hiện nay.   \n",
       "8964                                                                             Quan điểm biện chứng của chủ nghĩa Mác - Lênin không chỉ khẳng định tính khách quan, tính phổ biến của các mối liên hệ mà còn nhấn mạnh tính phong phú, đa dạng của các mối liên hệ.   \n",
       "8965                  Đối với biểu đồ Histogram, nếu giá trị trung bình Mean gần bằng 0, độ lệch chuẩn gần bằng 1 và đường cong phân phối có hình dạng chuông thì có thể khẳng định phân phối là xấp xỉ chuẩn, giả định phân phối chuẩn của phần dư không bị vi phạm.   \n",
       "8966                     Trong mỗi khu vực mà đội phát triển thị trường nhắm đến sẽ có những tệp khách hàng khác nhau cho nên việc tạo ra từng nhóm khách hàng trên từng khu vực trong CRM là một việc cần thiết để dễ dàng và tiện lợi cho việc chăm sóc khách hàng.   \n",
       "\n",
       "      preprocess_word_count  correct_text_word_count  diff_word_count  \n",
       "0                        53                       53                1  \n",
       "1                        22                       22                1  \n",
       "2                        22                       22                2  \n",
       "3                        40                       40                1  \n",
       "4                        23                       23                1  \n",
       "...                     ...                      ...              ...  \n",
       "8962                     39                       39                1  \n",
       "8963                     58                       58                1  \n",
       "8964                     39                       39                1  \n",
       "8965                     52                       52                1  \n",
       "8966                     52                       52                1  \n",
       "\n",
       "[8967 rows x 7 columns]"
      ]
     },
     "execution_count": 58,
     "metadata": {},
     "output_type": "execute_result"
    }
   ],
   "source": [
    "df_matched = df_matched.drop(index=[3949, 5843]).reset_index(drop=True)\n",
    "df_matched"
   ]
  },
  {
   "cell_type": "code",
   "execution_count": 59,
   "id": "18578703",
   "metadata": {
    "execution": {
     "iopub.execute_input": "2025-06-25T12:02:03.799201Z",
     "iopub.status.busy": "2025-06-25T12:02:03.798838Z",
     "iopub.status.idle": "2025-06-25T12:02:03.965575Z",
     "shell.execute_reply": "2025-06-25T12:02:03.964449Z"
    },
    "papermill": {
     "duration": 0.195412,
     "end_time": "2025-06-25T12:02:03.967527",
     "exception": false,
     "start_time": "2025-06-25T12:02:03.772115",
     "status": "completed"
    },
    "tags": []
   },
   "outputs": [],
   "source": [
    "df_matched[[\"text\", \"preprocess\", \"correct_text\"]].to_csv(\"test.csv\", index = False)"
   ]
  },
  {
   "cell_type": "markdown",
   "id": "0d67483e",
   "metadata": {
    "papermill": {
     "duration": 0.026028,
     "end_time": "2025-06-25T12:02:04.023064",
     "exception": false,
     "start_time": "2025-06-25T12:02:03.997036",
     "status": "completed"
    },
    "tags": []
   },
   "source": [
    "# Chuẩn bị tập train"
   ]
  },
  {
   "cell_type": "code",
   "execution_count": 60,
   "id": "2a181352",
   "metadata": {
    "execution": {
     "iopub.execute_input": "2025-06-25T12:02:04.077015Z",
     "iopub.status.busy": "2025-06-25T12:02:04.076649Z",
     "iopub.status.idle": "2025-06-25T12:03:05.228870Z",
     "shell.execute_reply": "2025-06-25T12:03:05.227936Z"
    },
    "papermill": {
     "duration": 61.181624,
     "end_time": "2025-06-25T12:03:05.230751",
     "exception": false,
     "start_time": "2025-06-25T12:02:04.049127",
     "status": "completed"
    },
    "tags": []
   },
   "outputs": [],
   "source": [
    "train = pd.read_json(\"/kaggle/input/errors-generator/Corpus_text.jsonl\", lines = True)"
   ]
  },
  {
   "cell_type": "code",
   "execution_count": 61,
   "id": "51325cc5",
   "metadata": {
    "execution": {
     "iopub.execute_input": "2025-06-25T12:03:05.285704Z",
     "iopub.status.busy": "2025-06-25T12:03:05.285368Z",
     "iopub.status.idle": "2025-06-25T12:03:32.595469Z",
     "shell.execute_reply": "2025-06-25T12:03:32.594330Z"
    },
    "papermill": {
     "duration": 27.34013,
     "end_time": "2025-06-25T12:03:32.597567",
     "exception": false,
     "start_time": "2025-06-25T12:03:05.257437",
     "status": "completed"
    },
    "tags": []
   },
   "outputs": [
    {
     "data": {
      "text/html": [
       "<div>\n",
       "<style scoped>\n",
       "    .dataframe tbody tr th:only-of-type {\n",
       "        vertical-align: middle;\n",
       "    }\n",
       "\n",
       "    .dataframe tbody tr th {\n",
       "        vertical-align: top;\n",
       "    }\n",
       "\n",
       "    .dataframe thead th {\n",
       "        text-align: right;\n",
       "    }\n",
       "</style>\n",
       "<table border=\"1\" class=\"dataframe\">\n",
       "  <thead>\n",
       "    <tr style=\"text-align: right;\">\n",
       "      <th></th>\n",
       "      <th>text</th>\n",
       "      <th>correct_text</th>\n",
       "      <th>preprocess_word_count</th>\n",
       "      <th>correct_text_word_count</th>\n",
       "    </tr>\n",
       "  </thead>\n",
       "  <tbody>\n",
       "    <tr>\n",
       "      <th>0</th>\n",
       "      <td>Chây ì nộp phạt nguội.</td>\n",
       "      <td>Chây ì nộp phạt nguội.</td>\n",
       "      <td>5</td>\n",
       "      <td>5</td>\n",
       "    </tr>\n",
       "    <tr>\n",
       "      <th>1</th>\n",
       "      <td>Chây ì ngộp phạt nguội.</td>\n",
       "      <td>Chây ì nộp phạt nguội.</td>\n",
       "      <td>5</td>\n",
       "      <td>5</td>\n",
       "    </tr>\n",
       "    <tr>\n",
       "      <th>3</th>\n",
       "      <td>Chây i nộp phạt ngội.</td>\n",
       "      <td>Chây ì nộp phạt nguội.</td>\n",
       "      <td>5</td>\n",
       "      <td>5</td>\n",
       "    </tr>\n",
       "    <tr>\n",
       "      <th>5</th>\n",
       "      <td>Hàng chục ngàn phươngg tiện bị ghi hình iv phạm luật giao thông ở TP.HCM, bị 'bêu tên' nhưng chủ vẫn không chịu nộp phạt.</td>\n",
       "      <td>Hàng chục ngàn phương tiện bị ghi hình vi phạm luật giao thông ở TP.HCM, bị 'bêu tên' nhưng chủ vẫn không chịu nộp phạt.</td>\n",
       "      <td>25</td>\n",
       "      <td>25</td>\n",
       "    </tr>\n",
       "    <tr>\n",
       "      <th>6</th>\n",
       "      <td>Hàng chục ngàn phương tiệng bị ghy hình vi pham luật giao thông ở TP.HCM, bị 'bêu tên' nhưng chủ vẫn không chịu nộp pạt.</td>\n",
       "      <td>Hàng chục ngàn phương tiện bị ghi hình vi phạm luật giao thông ở TP.HCM, bị 'bêu tên' nhưng chủ vẫn không chịu nộp phạt.</td>\n",
       "      <td>25</td>\n",
       "      <td>25</td>\n",
       "    </tr>\n",
       "    <tr>\n",
       "      <th>...</th>\n",
       "      <td>...</td>\n",
       "      <td>...</td>\n",
       "      <td>...</td>\n",
       "      <td>...</td>\n",
       "    </tr>\n",
       "    <tr>\n",
       "      <th>4999995</th>\n",
       "      <td>Phó thủ tướngg cũng yêu cầu hoàn thành cổ phầc hóa Tổng công ty Phát điện 3 trong nửa dầu năm 2018 và tiếp thso là 2 Tổng công ny Phát điện còn lại.</td>\n",
       "      <td>Phó thủ tướng cũng yêu cầu hoàn thành cổ phần hóa Tổng công ty Phát điện 3 trong nửa đầu năm 2018 và tiếp theo là 2 Tổng công ty Phát điện còn lại.</td>\n",
       "      <td>34</td>\n",
       "      <td>34</td>\n",
       "    </tr>\n",
       "    <tr>\n",
       "      <th>4999996</th>\n",
       "      <td>Phó thủ tướng cũng Iu cầu hoờn thành cổ phần óa Tổng công ty Phát điện 3 trong ửa đầu năm 2018 và tyệp gtheo là 2 Tổng công ty Phát đjện còn lại.</td>\n",
       "      <td>Phó thủ tướng cũng yêu cầu hoàn thành cổ phần hóa Tổng công ty Phát điện 3 trong nửa đầu năm 2018 và tiếp theo là 2 Tổng công ty Phát điện còn lại.</td>\n",
       "      <td>34</td>\n",
       "      <td>34</td>\n",
       "    </tr>\n",
       "    <tr>\n",
       "      <th>4999997</th>\n",
       "      <td>Phó thũ tướngx cũng yêu cầu hoàn thành cổ phần uóa Tổng công ty Phát đệin 3 trong nửa đầu gằm 2018 và tiếp gtheo lờ 2 Tổng công ty Phát diện còn lại.</td>\n",
       "      <td>Phó thủ tướng cũng yêu cầu hoàn thành cổ phần hóa Tổng công ty Phát điện 3 trong nửa đầu năm 2018 và tiếp theo là 2 Tổng công ty Phát điện còn lại.</td>\n",
       "      <td>34</td>\n",
       "      <td>34</td>\n",
       "    </tr>\n",
       "    <tr>\n",
       "      <th>4999998</th>\n",
       "      <td>Pho thủ tướng cũng iu cầu hoàn thàh cổ phần hóa Tổng côgg ty Phát điện 3 ron nửa dau năm 2018 và tiếp theo là 2 Tổng cong yx Phát đĩển cũh lại.</td>\n",
       "      <td>Phó thủ tướng cũng yêu cầu hoàn thành cổ phần hóa Tổng công ty Phát điện 3 trong nửa đầu năm 2018 và tiếp theo là 2 Tổng công ty Phát điện còn lại.</td>\n",
       "      <td>34</td>\n",
       "      <td>34</td>\n",
       "    </tr>\n",
       "    <tr>\n",
       "      <th>4999999</th>\n",
       "      <td>Pho thủ tướngd cũng yêu vàu hoàn thành cổ phần hóă Tổng Ô ty Phát đinệ 3 trong nửa đầo năm 2018 và tiếp theo lờ 2 Tổng công ti Phát điện òn lại.</td>\n",
       "      <td>Phó thủ tướng cũng yêu cầu hoàn thành cổ phần hóa Tổng công ty Phát điện 3 trong nửa đầu năm 2018 và tiếp theo là 2 Tổng công ty Phát điện còn lại.</td>\n",
       "      <td>34</td>\n",
       "      <td>34</td>\n",
       "    </tr>\n",
       "  </tbody>\n",
       "</table>\n",
       "<p>4980404 rows × 4 columns</p>\n",
       "</div>"
      ],
      "text/plain": [
       "                                                                                                                                                          text  \\\n",
       "0                                                                                                                                       Chây ì nộp phạt nguội.   \n",
       "1                                                                                                                                      Chây ì ngộp phạt nguội.   \n",
       "3                                                                                                                                        Chây i nộp phạt ngội.   \n",
       "5                                    Hàng chục ngàn phươngg tiện bị ghi hình iv phạm luật giao thông ở TP.HCM, bị 'bêu tên' nhưng chủ vẫn không chịu nộp phạt.   \n",
       "6                                     Hàng chục ngàn phương tiệng bị ghy hình vi pham luật giao thông ở TP.HCM, bị 'bêu tên' nhưng chủ vẫn không chịu nộp pạt.   \n",
       "...                                                                                                                                                        ...   \n",
       "4999995   Phó thủ tướngg cũng yêu cầu hoàn thành cổ phầc hóa Tổng công ty Phát điện 3 trong nửa dầu năm 2018 và tiếp thso là 2 Tổng công ny Phát điện còn lại.   \n",
       "4999996      Phó thủ tướng cũng Iu cầu hoờn thành cổ phần óa Tổng công ty Phát điện 3 trong ửa đầu năm 2018 và tyệp gtheo là 2 Tổng công ty Phát đjện còn lại.   \n",
       "4999997  Phó thũ tướngx cũng yêu cầu hoàn thành cổ phần uóa Tổng công ty Phát đệin 3 trong nửa đầu gằm 2018 và tiếp gtheo lờ 2 Tổng công ty Phát diện còn lại.   \n",
       "4999998        Pho thủ tướng cũng iu cầu hoàn thàh cổ phần hóa Tổng côgg ty Phát điện 3 ron nửa dau năm 2018 và tiếp theo là 2 Tổng cong yx Phát đĩển cũh lại.   \n",
       "4999999       Pho thủ tướngd cũng yêu vàu hoàn thành cổ phần hóă Tổng Ô ty Phát đinệ 3 trong nửa đầo năm 2018 và tiếp theo lờ 2 Tổng công ti Phát điện òn lại.   \n",
       "\n",
       "                                                                                                                                                correct_text  \\\n",
       "0                                                                                                                                     Chây ì nộp phạt nguội.   \n",
       "1                                                                                                                                     Chây ì nộp phạt nguội.   \n",
       "3                                                                                                                                     Chây ì nộp phạt nguội.   \n",
       "5                                   Hàng chục ngàn phương tiện bị ghi hình vi phạm luật giao thông ở TP.HCM, bị 'bêu tên' nhưng chủ vẫn không chịu nộp phạt.   \n",
       "6                                   Hàng chục ngàn phương tiện bị ghi hình vi phạm luật giao thông ở TP.HCM, bị 'bêu tên' nhưng chủ vẫn không chịu nộp phạt.   \n",
       "...                                                                                                                                                      ...   \n",
       "4999995  Phó thủ tướng cũng yêu cầu hoàn thành cổ phần hóa Tổng công ty Phát điện 3 trong nửa đầu năm 2018 và tiếp theo là 2 Tổng công ty Phát điện còn lại.   \n",
       "4999996  Phó thủ tướng cũng yêu cầu hoàn thành cổ phần hóa Tổng công ty Phát điện 3 trong nửa đầu năm 2018 và tiếp theo là 2 Tổng công ty Phát điện còn lại.   \n",
       "4999997  Phó thủ tướng cũng yêu cầu hoàn thành cổ phần hóa Tổng công ty Phát điện 3 trong nửa đầu năm 2018 và tiếp theo là 2 Tổng công ty Phát điện còn lại.   \n",
       "4999998  Phó thủ tướng cũng yêu cầu hoàn thành cổ phần hóa Tổng công ty Phát điện 3 trong nửa đầu năm 2018 và tiếp theo là 2 Tổng công ty Phát điện còn lại.   \n",
       "4999999  Phó thủ tướng cũng yêu cầu hoàn thành cổ phần hóa Tổng công ty Phát điện 3 trong nửa đầu năm 2018 và tiếp theo là 2 Tổng công ty Phát điện còn lại.   \n",
       "\n",
       "         preprocess_word_count  correct_text_word_count  \n",
       "0                            5                        5  \n",
       "1                            5                        5  \n",
       "3                            5                        5  \n",
       "5                           25                       25  \n",
       "6                           25                       25  \n",
       "...                        ...                      ...  \n",
       "4999995                     34                       34  \n",
       "4999996                     34                       34  \n",
       "4999997                     34                       34  \n",
       "4999998                     34                       34  \n",
       "4999999                     34                       34  \n",
       "\n",
       "[4980404 rows x 4 columns]"
      ]
     },
     "execution_count": 61,
     "metadata": {},
     "output_type": "execute_result"
    }
   ],
   "source": [
    "train['preprocess_word_count'] = train['text'].apply(lambda x: len(x.split()))\n",
    "train['correct_text_word_count'] = train['correct_text'].apply(lambda x: len(x.split()))\n",
    "\n",
    "# Find rows where word counts differ\n",
    "train = train[train['preprocess_word_count'] == train['correct_text_word_count']]\n",
    "\n",
    "train"
   ]
  },
  {
   "cell_type": "code",
   "execution_count": 62,
   "id": "1afe0cea",
   "metadata": {
    "execution": {
     "iopub.execute_input": "2025-06-25T12:03:32.654296Z",
     "iopub.status.busy": "2025-06-25T12:03:32.653495Z",
     "iopub.status.idle": "2025-06-25T12:04:29.699514Z",
     "shell.execute_reply": "2025-06-25T12:04:29.698439Z"
    },
    "papermill": {
     "duration": 57.076035,
     "end_time": "2025-06-25T12:04:29.701481",
     "exception": false,
     "start_time": "2025-06-25T12:03:32.625446",
     "status": "completed"
    },
    "tags": []
   },
   "outputs": [],
   "source": [
    "train[['text', 'correct_text']].to_csv('train.csv', index = False)"
   ]
  },
  {
   "cell_type": "code",
   "execution_count": 63,
   "id": "5092e299",
   "metadata": {
    "execution": {
     "iopub.execute_input": "2025-06-25T12:04:29.753996Z",
     "iopub.status.busy": "2025-06-25T12:04:29.753614Z",
     "iopub.status.idle": "2025-06-25T12:04:29.767140Z",
     "shell.execute_reply": "2025-06-25T12:04:29.766184Z"
    },
    "papermill": {
     "duration": 0.042296,
     "end_time": "2025-06-25T12:04:29.769262",
     "exception": false,
     "start_time": "2025-06-25T12:04:29.726966",
     "status": "completed"
    },
    "tags": []
   },
   "outputs": [],
   "source": [
    "# Lấy danh sách các giá trị correct_text duy nhất (cột đầu tiên trong value_counts)\n",
    "unique_correct_texts = df['correct_text'].value_counts().index"
   ]
  },
  {
   "cell_type": "code",
   "execution_count": 64,
   "id": "067d7bfb",
   "metadata": {
    "execution": {
     "iopub.execute_input": "2025-06-25T12:04:29.826685Z",
     "iopub.status.busy": "2025-06-25T12:04:29.826307Z",
     "iopub.status.idle": "2025-06-25T12:04:29.834793Z",
     "shell.execute_reply": "2025-06-25T12:04:29.833675Z"
    },
    "papermill": {
     "duration": 0.039765,
     "end_time": "2025-06-25T12:04:29.836502",
     "exception": false,
     "start_time": "2025-06-25T12:04:29.796737",
     "status": "completed"
    },
    "tags": []
   },
   "outputs": [
    {
     "data": {
      "text/plain": [
       "Index(['Cung cấp những thông tin về tình hình kinh tế như thông tin các mặt hàng, kinh tế thị trường tài chính, thị trường nguồn lao động, các nguồn đầu tư, vật tư thiết bị công nghệ, . .',\n",
       "       'Đảng, Nhà nước Việt Nam luôn coi trọng yếu tố tinh thần và nhất là luôn tạo mọi điều kiện để mọi cá nhân, tổ chức phát huy năng lực, trí tuệ, sức sáng tạo, hướng tới mục tiêu xây dựng và bảo vệ Tổ quốc xã hội chủ nghĩa.',\n",
       "       'Việc giảng dạy mang lại cho hs những kiến thức, kĩ năng và tư duy sáng tạo hay nói cách khác là một quá trình liên tục, trải qua nhiều giai đoạn và cấp độ khác nhau.',\n",
       "       'Kết quả nghiên cứu cho thấy Môi trường giáo dục tinh thần khởi nghiệp là yếu tố có mức độ ảnh hưởng lớn thứ hai đến ý định khởi nghiệp của sinh viên ngành kinh tế trong nhóm 6 yếu tố tác động trong phạm vi nghiên cứu của đề tài.',\n",
       "       'Ứng dụng môi trường công nghệ đến các hoạt động Marketing của doanh nghiệp.',\n",
       "       'Thông thường trách nhiệm pháp lý nói chung và trách nhiệm bồi thường thiệt hại phải có đủ điều kiện phát sinh, trong đó hành vi trái pháp luật và lỗi là yếu tố bắt buộc.',\n",
       "       'Ngày nay, hầu hết các cơ quan báo chí đã và đang áp dụng thủ pháp tổ chức thông tin kết hợp với giải trí trên các ấn phẩm báo chí.',\n",
       "       'Phân tích để tổng hợp có cơ sở và tổng hợp để phân tích đạt được chiều sâu của đối tượng.',\n",
       "       'Chi bộ nhà trường, với vai trò lãnh đạo tạo động lực thông qua việc định hướng chung và tạo sự thống nhất trong hoạt động của đảng viên; khuyến khích tinh thần gương mẫu, tiên phong, thừa nhận sự nỗ lực cố gắng của các đảng viên.',\n",
       "       'HS lựa chọn được giải pháp tốt nhất theo các tiêu chí (do GV đề nghị và HS nghĩ ra) về mẫu hộp đựng đồ.',\n",
       "       ...\n",
       "       'Hiện tại động cơ đã được điều khiển tối ưu qua biến tần để tối ưu hóa vận hành, nên tiềm năng tiết kiệm cũng không đáng kể.',\n",
       "       'Để nhận biết nhiễu qua TEMS chúng ta có thể quan sát cửa sổ C/I [MS1].',\n",
       "       'Nhớ lại ý định tự tử và sự tủi hờn vì không có bố òa khóc.',\n",
       "       'NHTM là thúc đẩy sản xuất và tiêu dùng của các doanh nghiệp, cá nhân, hộ gia đình.',\n",
       "       'Khi dạy chủ đề đạo hàm theo hướng tích hợp liên môn vào giải các bài toán thực tiễn thầy cô thấy học sinh của mình hay gặp những khó khăn gì?',\n",
       "       'Cấp trên của Giám đốc điều hành là Hội đồng quản trị (đối với công ty cổ phần) hoặc Hội đồng thành viên (đối với Công ty Trách nhiệm hữu hạn).',\n",
       "       'Theo nghĩa hẹp, nợ công bao gồm nghĩa vụ nợ của chính phủ trung ương, các cấp chính quyền địa phương và nợ của các tổ chức độc lập được chính phủ bảo lãnh thanh toán.',\n",
       "       'Cụ thể, trong phần nội dung sẽ có sự tập trung vào các công cụ truyền thông trực tuyến như quảng cáo qua Facebook, Google, tối ưu hóa các công cụ tìm kiếm và quảng cáo, các trang thương mại điện tử, …',\n",
       "       'Ví dụ khi đọc bài thơ Mẹ nếu câu cuối Mẹ là ngọn gió của con suốt đời đọc chậm lại, nhịp giãn ra thì câu thơ có nhiều âm lượng nhất trong bài này sẽ đọng lại trong lòng người đọc hơn với tốc độ bình thường như câu khác.',\n",
       "       'Trong mỗi khu vực mà đội phát triển thị trường nhắm đến sẽ có những tệp khách hàng khác nhau cho nên việc tạo ra từng nhóm khách hàng trên từng khu vực trong CRM là một việc cần thiết để dễ dàng và tiện lợi cho việc chăm sóc khách hàng.'],\n",
       "      dtype='object', name='correct_text', length=9331)"
      ]
     },
     "execution_count": 64,
     "metadata": {},
     "output_type": "execute_result"
    }
   ],
   "source": [
    "unique_correct_texts"
   ]
  },
  {
   "cell_type": "code",
   "execution_count": 65,
   "id": "dcd6998e",
   "metadata": {
    "execution": {
     "iopub.execute_input": "2025-06-25T12:04:29.889639Z",
     "iopub.status.busy": "2025-06-25T12:04:29.888631Z",
     "iopub.status.idle": "2025-06-25T12:04:29.901410Z",
     "shell.execute_reply": "2025-06-25T12:04:29.900271Z"
    },
    "papermill": {
     "duration": 0.040869,
     "end_time": "2025-06-25T12:04:29.903249",
     "exception": false,
     "start_time": "2025-06-25T12:04:29.862380",
     "status": "completed"
    },
    "tags": []
   },
   "outputs": [],
   "source": [
    "unique_correct_texts = df['correct_text'].value_counts().index"
   ]
  },
  {
   "cell_type": "code",
   "execution_count": 66,
   "id": "5797318b",
   "metadata": {
    "execution": {
     "iopub.execute_input": "2025-06-25T12:04:29.961288Z",
     "iopub.status.busy": "2025-06-25T12:04:29.960367Z",
     "iopub.status.idle": "2025-06-25T12:04:30.027781Z",
     "shell.execute_reply": "2025-06-25T12:04:30.026837Z"
    },
    "papermill": {
     "duration": 0.098837,
     "end_time": "2025-06-25T12:04:30.029795",
     "exception": false,
     "start_time": "2025-06-25T12:04:29.930958",
     "status": "completed"
    },
    "tags": []
   },
   "outputs": [],
   "source": [
    "# Chuyển Index thành DataFrame (mỗi câu là một dòng)\n",
    "pd.DataFrame(unique_correct_texts, columns=['correct_text']).to_csv('unique_correct_texts.csv', index=False)"
   ]
  }
 ],
 "metadata": {
  "kaggle": {
   "accelerator": "none",
   "dataSources": [
    {
     "datasetId": 7266798,
     "sourceId": 11589050,
     "sourceType": "datasetVersion"
    },
    {
     "sourceId": 246880062,
     "sourceType": "kernelVersion"
    }
   ],
   "dockerImageVersionId": 31040,
   "isGpuEnabled": false,
   "isInternetEnabled": true,
   "language": "python",
   "sourceType": "notebook"
  },
  "kernelspec": {
   "display_name": "Python 3",
   "language": "python",
   "name": "python3"
  },
  "language_info": {
   "codemirror_mode": {
    "name": "ipython",
    "version": 3
   },
   "file_extension": ".py",
   "mimetype": "text/x-python",
   "name": "python",
   "nbconvert_exporter": "python",
   "pygments_lexer": "ipython3",
   "version": "3.11.11"
  },
  "papermill": {
   "default_parameters": {},
   "duration": 190.6152,
   "end_time": "2025-06-25T12:04:32.487386",
   "environment_variables": {},
   "exception": null,
   "input_path": "__notebook__.ipynb",
   "output_path": "__notebook__.ipynb",
   "parameters": {},
   "start_time": "2025-06-25T12:01:21.872186",
   "version": "2.6.0"
  }
 },
 "nbformat": 4,
 "nbformat_minor": 5
}
