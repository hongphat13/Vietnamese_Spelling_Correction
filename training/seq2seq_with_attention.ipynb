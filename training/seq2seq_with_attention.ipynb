{
 "cells": [
  {
   "cell_type": "code",
   "execution_count": 1,
   "id": "b6bce492",
   "metadata": {
    "execution": {
     "iopub.execute_input": "2025-06-26T04:21:03.808358Z",
     "iopub.status.busy": "2025-06-26T04:21:03.808101Z",
     "iopub.status.idle": "2025-06-26T04:21:08.848968Z",
     "shell.execute_reply": "2025-06-26T04:21:08.848156Z"
    },
    "papermill": {
     "duration": 5.045376,
     "end_time": "2025-06-26T04:21:08.850311",
     "exception": false,
     "start_time": "2025-06-26T04:21:03.804935",
     "status": "completed"
    },
    "tags": []
   },
   "outputs": [],
   "source": [
    "import torch\n",
    "import torch.nn as nn\n",
    "import torch.optim as optim\n",
    "import torch.nn.functional as F\n",
    "from torch.utils.data import Dataset, DataLoader\n",
    "import numpy as np\n",
    "import pandas as pd\n",
    "import unicodedata\n",
    "import re\n",
    "import time\n",
    "from tqdm import tqdm"
   ]
  },
  {
   "cell_type": "code",
   "execution_count": 2,
   "id": "ad402401",
   "metadata": {
    "execution": {
     "iopub.execute_input": "2025-06-26T04:21:08.854890Z",
     "iopub.status.busy": "2025-06-26T04:21:08.854541Z",
     "iopub.status.idle": "2025-06-26T04:21:08.860248Z",
     "shell.execute_reply": "2025-06-26T04:21:08.859543Z"
    },
    "papermill": {
     "duration": 0.009135,
     "end_time": "2025-06-26T04:21:08.861566",
     "exception": false,
     "start_time": "2025-06-26T04:21:08.852431",
     "status": "completed"
    },
    "tags": []
   },
   "outputs": [],
   "source": [
    "class Vocab:\n",
    "    def __init__(self, chars):\n",
    "        self.pad, self.go, self.eos = 0, 1, 2\n",
    "        self.chars = chars\n",
    "        self.c2i = {c: i + 3 for i, c in enumerate(chars)}\n",
    "        self.i2c = {i + 3: c for i, c in enumerate(chars)}\n",
    "        self.i2c.update({0: '<pad>', 1: '<sos>', 2: '<eos>'})\n",
    "    def encode(self, text): return [self.go] + [self.c2i.get(c, 0) for c in text] + [self.eos]\n",
    "    def decode(self, ids):\n",
    "        first = 1 if self.go in ids else 0\n",
    "        last = ids.index(self.eos) if self.eos in ids else None\n",
    "        return \"\".join([self.i2c.get(i, '') for i in ids[first:last]])\n",
    "    def __len__(self): return len(self.c2i) + 3"
   ]
  },
  {
   "cell_type": "code",
   "execution_count": 3,
   "id": "70b1ec6e",
   "metadata": {
    "execution": {
     "iopub.execute_input": "2025-06-26T04:21:08.867606Z",
     "iopub.status.busy": "2025-06-26T04:21:08.867007Z",
     "iopub.status.idle": "2025-06-26T04:21:08.874298Z",
     "shell.execute_reply": "2025-06-26T04:21:08.873598Z"
    },
    "papermill": {
     "duration": 0.012181,
     "end_time": "2025-06-26T04:21:08.875882",
     "exception": false,
     "start_time": "2025-06-26T04:21:08.863701",
     "status": "completed"
    },
    "tags": []
   },
   "outputs": [],
   "source": [
    "class SpellingDataset(Dataset):\n",
    "    def __init__(self, df, vocab, max_len=100):\n",
    "        self.df = df\n",
    "        self.vocab = vocab\n",
    "        self.max_len = max_len\n",
    "    def __len__(self): return len(self.df)\n",
    "    def __getitem__(self, idx):\n",
    "        row = self.df.iloc[idx]\n",
    "        text = str(row['text'])\n",
    "        correct_text = str(row['correct_text'])\n",
    "\n",
    "        # Cắt bớt câu nếu cần để đảm bảo nó + 2 tokens đặc biệt không vượt quá max_len\n",
    "        if len(text) > self.max_len - 2:\n",
    "            text = text[:self.max_len - 2]\n",
    "        if len(correct_text) > self.max_len - 2:\n",
    "            correct_text = correct_text[:self.max_len - 2]\n",
    "\n",
    "        src_encoded = self.vocab.encode(text)\n",
    "        tgt_encoded = self.vocab.encode(correct_text)\n",
    "        src = np.zeros(self.max_len, dtype=np.int64)\n",
    "        src[:len(src_encoded)] = src_encoded\n",
    "        tgt = np.zeros(self.max_len, dtype=np.int64)\n",
    "        tgt[:len(tgt_encoded)] = tgt_encoded\n",
    "        return torch.LongTensor(src), torch.LongTensor(tgt)"
   ]
  },
  {
   "cell_type": "code",
   "execution_count": 4,
   "id": "81d05ed4",
   "metadata": {
    "execution": {
     "iopub.execute_input": "2025-06-26T04:21:08.880101Z",
     "iopub.status.busy": "2025-06-26T04:21:08.879923Z",
     "iopub.status.idle": "2025-06-26T04:21:08.892469Z",
     "shell.execute_reply": "2025-06-26T04:21:08.891771Z"
    },
    "papermill": {
     "duration": 0.01637,
     "end_time": "2025-06-26T04:21:08.893870",
     "exception": false,
     "start_time": "2025-06-26T04:21:08.877500",
     "status": "completed"
    },
    "tags": []
   },
   "outputs": [],
   "source": [
    "class Encoder(nn.Module):\n",
    "    def __init__(self, input_dim, emb_dim, enc_hid_dim, dec_hid_dim, dropout):\n",
    "        super().__init__()\n",
    "        self.embedding = nn.Embedding(input_dim, emb_dim)\n",
    "        self.rnn = nn.GRU(emb_dim, enc_hid_dim, bidirectional = True)\n",
    "        self.fc = nn.Linear(enc_hid_dim * 2, dec_hid_dim)\n",
    "        self.dropout = nn.Dropout(dropout)\n",
    "    def forward(self, src):\n",
    "        embedded = self.dropout(self.embedding(src))\n",
    "        outputs, hidden = self.rnn(embedded)\n",
    "        hidden = torch.tanh(self.fc(torch.cat((hidden[-2,:,:], hidden[-1,:,:]), dim = 1)))\n",
    "        return outputs, hidden\n",
    "class Attention(nn.Module):\n",
    "    def __init__(self, enc_hid_dim, dec_hid_dim):\n",
    "        super().__init__()\n",
    "        self.attn = nn.Linear((enc_hid_dim * 2) + dec_hid_dim, dec_hid_dim)\n",
    "        self.v = nn.Linear(dec_hid_dim, 1, bias = False)\n",
    "    def forward(self, hidden, encoder_outputs):\n",
    "        batch_size = encoder_outputs.shape[1]\n",
    "        src_len = encoder_outputs.shape[0]\n",
    "        hidden = hidden.unsqueeze(1).repeat(1, src_len, 1)\n",
    "        encoder_outputs = encoder_outputs.permute(1, 0, 2)\n",
    "        energy = torch.tanh(self.attn(torch.cat((hidden, encoder_outputs), dim = 2)))\n",
    "        attention = self.v(energy).squeeze(2)\n",
    "        return F.softmax(attention, dim=1)\n",
    "class Decoder(nn.Module):\n",
    "    def __init__(self, output_dim, emb_dim, enc_hid_dim, dec_hid_dim, dropout, attention):\n",
    "        super().__init__()\n",
    "        self.output_dim = output_dim\n",
    "        self.attention = attention\n",
    "        self.embedding = nn.Embedding(output_dim, emb_dim)\n",
    "        self.rnn = nn.GRU((enc_hid_dim * 2) + emb_dim, dec_hid_dim)\n",
    "        self.fc_out = nn.Linear((enc_hid_dim * 2) + dec_hid_dim + emb_dim, output_dim)\n",
    "        self.dropout = nn.Dropout(dropout)\n",
    "    def forward(self, input, hidden, encoder_outputs):\n",
    "        input = input.unsqueeze(0)\n",
    "        embedded = self.dropout(self.embedding(input))\n",
    "        a = self.attention(hidden, encoder_outputs)\n",
    "        a = a.unsqueeze(1)\n",
    "        encoder_outputs = encoder_outputs.permute(1, 0, 2)\n",
    "        weighted = torch.bmm(a, encoder_outputs)\n",
    "        weighted = weighted.permute(1, 0, 2)\n",
    "        rnn_input = torch.cat((embedded, weighted), dim = 2)\n",
    "        output, hidden = self.rnn(rnn_input, hidden.unsqueeze(0))\n",
    "        embedded = embedded.squeeze(0)\n",
    "        output = output.squeeze(0)\n",
    "        weighted = weighted.squeeze(0)\n",
    "        prediction = self.fc_out(torch.cat((output, weighted, embedded), dim = 1))\n",
    "        return prediction, hidden.squeeze(0)\n",
    "class Seq2Seq(nn.Module):\n",
    "    def __init__(self, encoder, decoder, device):\n",
    "        super().__init__()\n",
    "        self.encoder = encoder\n",
    "        self.decoder = decoder\n",
    "        self.device = device\n",
    "    def forward(self, src, trg, teacher_forcing_ratio = 0.5):\n",
    "        batch_size = src.shape[1]\n",
    "        trg_len = trg.shape[0]\n",
    "        trg_vocab_size = self.decoder.output_dim\n",
    "        outputs = torch.zeros(trg_len, batch_size, trg_vocab_size).to(self.device)\n",
    "        encoder_outputs, hidden = self.encoder(src)\n",
    "        input = trg[0,:]\n",
    "        for t in range(1, trg_len):\n",
    "            output, hidden = self.decoder(input, hidden, encoder_outputs)\n",
    "            outputs[t] = output\n",
    "            teacher_force = np.random.random() < teacher_forcing_ratio\n",
    "            top1 = output.argmax(1)\n",
    "            input = trg[t] if teacher_force else top1\n",
    "        return outputs"
   ]
  },
  {
   "cell_type": "code",
   "execution_count": 5,
   "id": "f8873f62",
   "metadata": {
    "execution": {
     "iopub.execute_input": "2025-06-26T04:21:08.898871Z",
     "iopub.status.busy": "2025-06-26T04:21:08.898611Z",
     "iopub.status.idle": "2025-06-26T08:40:30.463696Z",
     "shell.execute_reply": "2025-06-26T08:40:30.462852Z"
    },
    "papermill": {
     "duration": 15561.568646,
     "end_time": "2025-06-26T08:40:30.465028",
     "exception": false,
     "start_time": "2025-06-26T04:21:08.896382",
     "status": "completed"
    },
    "tags": []
   },
   "outputs": [
    {
     "name": "stdout",
     "output_type": "stream",
     "text": [
      "Số lượng câu sẽ được dùng để huấn luyện: 150000\n",
      "Đã tạo DataLoader với MAX_LEN = 250 và GPU_BATCH_SIZE = 16\n",
      "--- Bắt đầu huấn luyện trên thiết bị: cuda ---\n"
     ]
    },
    {
     "name": "stderr",
     "output_type": "stream",
     "text": [
      "Epoch 1/3: 100%|██████████| 9375/9375 [1:24:41<00:00,  1.84it/s, loss=0.226]\n"
     ]
    },
    {
     "name": "stdout",
     "output_type": "stream",
     "text": [
      "\n",
      "Epoch: 01 | Train Loss: 1.089\n"
     ]
    },
    {
     "name": "stderr",
     "output_type": "stream",
     "text": [
      "Epoch 2/3: 100%|██████████| 9375/9375 [1:26:51<00:00,  1.80it/s, loss=0.159]\n"
     ]
    },
    {
     "name": "stdout",
     "output_type": "stream",
     "text": [
      "\n",
      "Epoch: 02 | Train Loss: 0.226\n"
     ]
    },
    {
     "name": "stderr",
     "output_type": "stream",
     "text": [
      "Epoch 3/3: 100%|██████████| 9375/9375 [1:26:52<00:00,  1.80it/s, loss=0.133]"
     ]
    },
    {
     "name": "stdout",
     "output_type": "stream",
     "text": [
      "\n",
      "Epoch: 03 | Train Loss: 0.198\n",
      "\n",
      "--- HUẤN LUYỆN HOÀN TẤT TRONG 258m 25s ---\n",
      "Model đã được lưu tại: /kaggle/working/vietnamese_spelling_correction_final.pth\n"
     ]
    },
    {
     "name": "stderr",
     "output_type": "stream",
     "text": [
      "\n"
     ]
    }
   ],
   "source": [
    "if __name__ == '__main__':\n",
    "    # --- Cấu hình siêu tham số ---\n",
    "    MAX_LEN_LIMIT = 250\n",
    "    TRAIN_SAMPLE_SIZE = 150000\n",
    "    N_EPOCHS = 3\n",
    "    \n",
    "    GPU_BATCH_SIZE = 16 \n",
    "    REAL_BATCH_SIZE = 64\n",
    "    ACCUMULATION_STEPS = REAL_BATCH_SIZE // GPU_BATCH_SIZE\n",
    "    \n",
    "    ENC_EMB_DIM, DEC_EMB_DIM = 128, 128\n",
    "    ENC_HID_DIM, DEC_HID_DIM = 256, 256\n",
    "\n",
    "    # --- Tải và lọc dữ liệu ---\n",
    "    train_path = '/kaggle/input/preprocessing/train.csv'\n",
    "    df_train = pd.read_csv(train_path)\n",
    "    df_train.dropna(subset=['text', 'correct_text'], inplace=True)\n",
    "    df_train = df_train.astype(str)\n",
    "    \n",
    "    df_filtered = df_train[(df_train['text'].str.len() < MAX_LEN_LIMIT) & (df_train['correct_text'].str.len() < MAX_LEN_LIMIT)].copy()\n",
    "    df_sample = df_filtered.sample(n=min(len(df_filtered), TRAIN_SAMPLE_SIZE), random_state=42)\n",
    "    print(f\"Số lượng câu sẽ được dùng để huấn luyện: {len(df_sample)}\")\n",
    "\n",
    "    # --- Tạo Vocabulary ---\n",
    "    vietnamese_chars = 'aAàÀảẢãÃáÁạẠăĂằẰẳẲẵẴắẮặẶâÂầẦẩẨẫẪấẤậẬbBcCdDđĐeEèÈẻẺẽẼéÉẹẸêÊềỀểỂễỄếẾệỆfFgGhHiIìÌỉỈĩĨíÍịỊjJkKlLmMnNoOòÒỏỎõÕóÓọỌôÔồỒổỔỗỖốỐộỘơƠờỜởỞỡỠớỚợỢpPqQrRsStTuUùÙủỦũŨúÚụỤưƯừỪửỬữỮứỨựỰvVwWxXyYỳỲỷỶỹỸýÝỵỴzZ0123456789!\"#$%&\\'()*+,-./:;<=>?@[\\]^_`{|}~ '\n",
    "    vocab = Vocab(vietnamese_chars)\n",
    "    \n",
    "    # --- Tạo DataLoader ---\n",
    "    train_dataset = SpellingDataset(df_sample, vocab, max_len=MAX_LEN_LIMIT)\n",
    "    train_loader = DataLoader(train_dataset, batch_size=GPU_BATCH_SIZE, shuffle=True)\n",
    "    print(f\"Đã tạo DataLoader với MAX_LEN = {MAX_LEN_LIMIT} và GPU_BATCH_SIZE = {GPU_BATCH_SIZE}\")\n",
    "\n",
    "    # --- Khởi tạo model ---\n",
    "    device = torch.device('cuda' if torch.cuda.is_available() else 'cpu')\n",
    "    INPUT_DIM, OUTPUT_DIM = len(vocab), len(vocab)\n",
    "    ENC_DROPOUT, DEC_DROPOUT = 0.5, 0.5\n",
    "    CLIP, LEARNING_RATE = 1, 0.001\n",
    "    MODEL_SAVE_PATH = 'vietnamese_spelling_correction_final.pth'\n",
    "\n",
    "    attn = Attention(ENC_HID_DIM, DEC_HID_DIM)\n",
    "    enc = Encoder(INPUT_DIM, ENC_EMB_DIM, ENC_HID_DIM, DEC_HID_DIM, ENC_DROPOUT)\n",
    "    dec = Decoder(OUTPUT_DIM, DEC_EMB_DIM, ENC_HID_DIM, DEC_HID_DIM, DEC_DROPOUT, attn)\n",
    "    model = Seq2Seq(enc, dec, device).to(device)\n",
    "    \n",
    "    optimizer = optim.Adam(model.parameters(), lr=LEARNING_RATE)\n",
    "    criterion = nn.CrossEntropyLoss(ignore_index=vocab.pad)\n",
    "    \n",
    "    # --- Vòng lặp huấn luyện ---\n",
    "    print(f\"--- Bắt đầu huấn luyện trên thiết bị: {device} ---\")\n",
    "    start_time_total = time.time()\n",
    "    \n",
    "    for epoch in range(N_EPOCHS):\n",
    "        model.train()\n",
    "        epoch_loss = 0\n",
    "        progress_bar = tqdm(train_loader, desc=f\"Epoch {epoch+1}/{N_EPOCHS}\")\n",
    "        \n",
    "        optimizer.zero_grad()\n",
    "        \n",
    "        for i, (src, tgt) in enumerate(progress_bar):\n",
    "            src, tgt = src.to(device).T, tgt.to(device).T\n",
    "            \n",
    "            output = model(src, tgt)\n",
    "            output_dim = output.shape[-1]\n",
    "            \n",
    "            output = output[1:].reshape(-1, output_dim)\n",
    "            tgt = tgt[1:].reshape(-1)\n",
    "            \n",
    "            loss = criterion(output, tgt)\n",
    "            loss = loss / ACCUMULATION_STEPS\n",
    "            loss.backward()\n",
    "            \n",
    "            if (i + 1) % ACCUMULATION_STEPS == 0:\n",
    "                torch.nn.utils.clip_grad_norm_(model.parameters(), CLIP)\n",
    "                optimizer.step()\n",
    "                optimizer.zero_grad()\n",
    "\n",
    "            epoch_loss += loss.item() * ACCUMULATION_STEPS\n",
    "            progress_bar.set_postfix({'loss': f'{loss.item()*ACCUMULATION_STEPS:.3f}'})\n",
    "\n",
    "        avg_loss = epoch_loss / len(train_loader.dataset) * GPU_BATCH_SIZE\n",
    "        print(f\"\\nEpoch: {epoch+1:02} | Train Loss: {avg_loss:.3f}\")\n",
    "\n",
    "    end_time_total = time.time()\n",
    "    training_mins, training_secs = divmod(end_time_total - start_time_total, 60)\n",
    "\n",
    "    # --- Lưu model ---\n",
    "    torch.save(model.state_dict(), MODEL_SAVE_PATH)\n",
    "    print(f\"\\n--- HUẤN LUYỆN HOÀN TẤT TRONG {int(training_mins)}m {int(training_secs)}s ---\")\n",
    "    print(f\"Model đã được lưu tại: /kaggle/working/{MODEL_SAVE_PATH}\")"
   ]
  }
 ],
 "metadata": {
  "kaggle": {
   "accelerator": "gpu",
   "dataSources": [
    {
     "sourceId": 247304015,
     "sourceType": "kernelVersion"
    }
   ],
   "dockerImageVersionId": 31042,
   "isGpuEnabled": true,
   "isInternetEnabled": true,
   "language": "python",
   "sourceType": "notebook"
  },
  "kernelspec": {
   "display_name": "Python 3",
   "language": "python",
   "name": "python3"
  },
  "language_info": {
   "codemirror_mode": {
    "name": "ipython",
    "version": 3
   },
   "file_extension": ".py",
   "mimetype": "text/x-python",
   "name": "python",
   "nbconvert_exporter": "python",
   "pygments_lexer": "ipython3",
   "version": "3.11.11"
  },
  "papermill": {
   "default_parameters": {},
   "duration": 15577.569049,
   "end_time": "2025-06-26T08:40:37.324389",
   "environment_variables": {},
   "exception": null,
   "input_path": "__notebook__.ipynb",
   "output_path": "__notebook__.ipynb",
   "parameters": {},
   "start_time": "2025-06-26T04:20:59.755340",
   "version": "2.6.0"
  }
 },
 "nbformat": 4,
 "nbformat_minor": 5
}
