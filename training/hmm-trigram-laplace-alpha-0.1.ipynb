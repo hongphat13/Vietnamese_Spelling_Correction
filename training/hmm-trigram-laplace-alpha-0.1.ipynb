{
 "cells": [
  {
   "cell_type": "code",
   "execution_count": 1,
   "id": "c0384f60",
   "metadata": {
    "_cell_guid": "b1076dfc-b9ad-4769-8c92-a6c4dae69d19",
    "_uuid": "8f2839f25d086af736a60e9eeb907d3b93b6e0e5",
    "execution": {
     "iopub.execute_input": "2025-06-28T06:05:03.534974Z",
     "iopub.status.busy": "2025-06-28T06:05:03.534702Z",
     "iopub.status.idle": "2025-06-28T06:05:04.940750Z",
     "shell.execute_reply": "2025-06-28T06:05:04.939992Z"
    },
    "papermill": {
     "duration": 1.415742,
     "end_time": "2025-06-28T06:05:04.942348",
     "exception": false,
     "start_time": "2025-06-28T06:05:03.526606",
     "status": "completed"
    },
    "tags": []
   },
   "outputs": [],
   "source": [
    "import pandas as pd"
   ]
  },
  {
   "cell_type": "code",
   "execution_count": 2,
   "id": "20aeb66d",
   "metadata": {
    "execution": {
     "iopub.execute_input": "2025-06-28T06:05:04.955354Z",
     "iopub.status.busy": "2025-06-28T06:05:04.954767Z",
     "iopub.status.idle": "2025-06-28T06:05:04.960854Z",
     "shell.execute_reply": "2025-06-28T06:05:04.960144Z"
    },
    "papermill": {
     "duration": 0.013696,
     "end_time": "2025-06-28T06:05:04.962111",
     "exception": false,
     "start_time": "2025-06-28T06:05:04.948415",
     "status": "completed"
    },
    "tags": []
   },
   "outputs": [],
   "source": [
    "def min_edit_distance(s1, s2):\n",
    "    \"\"\"\n",
    "    Tính khoảng cách chỉnh sửa (Levenshtein distance) giữa hai từ s1 và s2.\n",
    "    Hỗ trợ tiếng Việt có dấu, đa ký tự.\n",
    "\n",
    "    Trả về: số bước chỉnh sửa tối thiểu để biến s1 thành s2.\n",
    "    \"\"\"\n",
    "    len_s1 = len(s1)\n",
    "    len_s2 = len(s2)\n",
    "\n",
    "    # Khởi tạo ma trận khoảng cách\n",
    "    dp = [[0] * (len_s2 + 1) for _ in range(len_s1 + 1)]\n",
    "\n",
    "    # Khoảng cách từ \"\" đến s1 hoặc s2\n",
    "    for i in range(len_s1 + 1):\n",
    "        dp[i][0] = i\n",
    "    for j in range(len_s2 + 1):\n",
    "        dp[0][j] = j\n",
    "\n",
    "    # Tính khoảng cách\n",
    "    for i in range(1, len_s1 + 1):\n",
    "        for j in range(1, len_s2 + 1):\n",
    "            cost = 0 if s1[i-1] == s2[j-1] else 1\n",
    "\n",
    "            dp[i][j] = min(\n",
    "                dp[i-1][j] + 1,      # xóa\n",
    "                dp[i][j-1] + 1,      # thêm\n",
    "                dp[i-1][j-1] + cost  # thay thế\n",
    "            )\n",
    "    # print(dp)\n",
    "    return dp[len_s1][len_s2]"
   ]
  },
  {
   "cell_type": "code",
   "execution_count": 3,
   "id": "46a26d19",
   "metadata": {
    "execution": {
     "iopub.execute_input": "2025-06-28T06:05:04.973729Z",
     "iopub.status.busy": "2025-06-28T06:05:04.973259Z",
     "iopub.status.idle": "2025-06-28T06:05:04.977684Z",
     "shell.execute_reply": "2025-06-28T06:05:04.977130Z"
    },
    "papermill": {
     "duration": 0.011304,
     "end_time": "2025-06-28T06:05:04.978763",
     "exception": false,
     "start_time": "2025-06-28T06:05:04.967459",
     "status": "completed"
    },
    "tags": []
   },
   "outputs": [
    {
     "name": "stdout",
     "output_type": "stream",
     "text": [
      "1\n",
      "4\n",
      "1\n",
      "0\n"
     ]
    }
   ],
   "source": [
    "print(min_edit_distance(\"nhận\", \"nhân\"))  # → 1\n",
    "print(min_edit_distance(\"nhan\", \"cảh\"))  # → 1\n",
    "print(min_edit_distance(\"công\", \"cung\"))  # → 1\n",
    "print(min_edit_distance(\"công\", \"công\"))  # → 0"
   ]
  },
  {
   "cell_type": "code",
   "execution_count": 4,
   "id": "754d6303",
   "metadata": {
    "execution": {
     "iopub.execute_input": "2025-06-28T06:05:04.990633Z",
     "iopub.status.busy": "2025-06-28T06:05:04.989949Z",
     "iopub.status.idle": "2025-06-28T06:05:05.230349Z",
     "shell.execute_reply": "2025-06-28T06:05:05.229590Z"
    },
    "papermill": {
     "duration": 0.247384,
     "end_time": "2025-06-28T06:05:05.231560",
     "exception": false,
     "start_time": "2025-06-28T06:05:04.984176",
     "status": "completed"
    },
    "tags": []
   },
   "outputs": [
    {
     "data": {
      "text/html": [
       "<div>\n",
       "<style scoped>\n",
       "    .dataframe tbody tr th:only-of-type {\n",
       "        vertical-align: middle;\n",
       "    }\n",
       "\n",
       "    .dataframe tbody tr th {\n",
       "        vertical-align: top;\n",
       "    }\n",
       "\n",
       "    .dataframe thead th {\n",
       "        text-align: right;\n",
       "    }\n",
       "</style>\n",
       "<table border=\"1\" class=\"dataframe\">\n",
       "  <thead>\n",
       "    <tr style=\"text-align: right;\">\n",
       "      <th></th>\n",
       "      <th>text</th>\n",
       "      <th>preprocess</th>\n",
       "      <th>correct_text</th>\n",
       "    </tr>\n",
       "  </thead>\n",
       "  <tbody>\n",
       "    <tr>\n",
       "      <th>0</th>\n",
       "      <td>Thông qua công tác tuyên truyền, vận động này ...</td>\n",
       "      <td>thông qua công tác tuyên truyền, vận động này ...</td>\n",
       "      <td>Thông qua công tác tuyên truyền, vận động này ...</td>\n",
       "    </tr>\n",
       "    <tr>\n",
       "      <th>1</th>\n",
       "      <td>Do đó, doanh nghiệp cần chú trọng đến yếu tố n...</td>\n",
       "      <td>do đó, doanh nghiệp cần chú trọng đến yếu tố n...</td>\n",
       "      <td>Do đó, doanh nghiệp cần chú trọng đến yếu tố n...</td>\n",
       "    </tr>\n",
       "    <tr>\n",
       "      <th>2</th>\n",
       "      <td>Giữ được chỉ số này không giam mà còn tăng thê...</td>\n",
       "      <td>giữ được chỉ số này không giam mà còn tăng thê...</td>\n",
       "      <td>Giữ được chỉ số này không giảm mà còn tăng thê...</td>\n",
       "    </tr>\n",
       "    <tr>\n",
       "      <th>3</th>\n",
       "      <td>Đúng trước thực tế này đòi hỏi chúng ta cần ph...</td>\n",
       "      <td>đúng trước thực tế này đòi hỏi chúng ta cần ph...</td>\n",
       "      <td>Đứng trước thực tế này đòi hỏi chúng ta cần ph...</td>\n",
       "    </tr>\n",
       "    <tr>\n",
       "      <th>4</th>\n",
       "      <td>Trình độ học vấn của nhân viên được tuyển dụng...</td>\n",
       "      <td>trình độ học vấn của nhân viên được tuyển dụng...</td>\n",
       "      <td>Trình độ học vấn của nhân viên được tuyển dụng...</td>\n",
       "    </tr>\n",
       "    <tr>\n",
       "      <th>...</th>\n",
       "      <td>...</td>\n",
       "      <td>...</td>\n",
       "      <td>...</td>\n",
       "    </tr>\n",
       "    <tr>\n",
       "      <th>8962</th>\n",
       "      <td>Tuy nhiên, khi nói đến E-Learning, các phương ...</td>\n",
       "      <td>tuy nhiên, khi nói đến e-learning, các phương ...</td>\n",
       "      <td>Tuy nhiên, khi nói đến E-Learning, các phương ...</td>\n",
       "    </tr>\n",
       "    <tr>\n",
       "      <th>8963</th>\n",
       "      <td>Đứng trước những hành vi đi ngược lại với đạo ...</td>\n",
       "      <td>đứng trước những hành vi đi ngược lại với đạo ...</td>\n",
       "      <td>Đứng trước những hành vi đi ngược lại với đạo ...</td>\n",
       "    </tr>\n",
       "    <tr>\n",
       "      <th>8964</th>\n",
       "      <td>Quan điểm biện chứng của chù nghĩa Mác - Lênin...</td>\n",
       "      <td>quan điểm biện chứng của chù nghĩa mác - lênin...</td>\n",
       "      <td>Quan điểm biện chứng của chủ nghĩa Mác - Lênin...</td>\n",
       "    </tr>\n",
       "    <tr>\n",
       "      <th>8965</th>\n",
       "      <td>Đối với biểu đồ Histogram, nếu giá trị trung b...</td>\n",
       "      <td>đối với biểu đồ histogram, nếu giá trị trung b...</td>\n",
       "      <td>Đối với biểu đồ Histogram, nếu giá trị trung b...</td>\n",
       "    </tr>\n",
       "    <tr>\n",
       "      <th>8966</th>\n",
       "      <td>Trong mỗi khu vực mà đội phát triển thị trường...</td>\n",
       "      <td>trong mỗi khu vực mà đội phát triển thị trường...</td>\n",
       "      <td>Trong mỗi khu vực mà đội phát triển thị trường...</td>\n",
       "    </tr>\n",
       "  </tbody>\n",
       "</table>\n",
       "<p>8967 rows × 3 columns</p>\n",
       "</div>"
      ],
      "text/plain": [
       "                                                   text  \\\n",
       "0     Thông qua công tác tuyên truyền, vận động này ...   \n",
       "1     Do đó, doanh nghiệp cần chú trọng đến yếu tố n...   \n",
       "2     Giữ được chỉ số này không giam mà còn tăng thê...   \n",
       "3     Đúng trước thực tế này đòi hỏi chúng ta cần ph...   \n",
       "4     Trình độ học vấn của nhân viên được tuyển dụng...   \n",
       "...                                                 ...   \n",
       "8962  Tuy nhiên, khi nói đến E-Learning, các phương ...   \n",
       "8963  Đứng trước những hành vi đi ngược lại với đạo ...   \n",
       "8964  Quan điểm biện chứng của chù nghĩa Mác - Lênin...   \n",
       "8965  Đối với biểu đồ Histogram, nếu giá trị trung b...   \n",
       "8966  Trong mỗi khu vực mà đội phát triển thị trường...   \n",
       "\n",
       "                                             preprocess  \\\n",
       "0     thông qua công tác tuyên truyền, vận động này ...   \n",
       "1     do đó, doanh nghiệp cần chú trọng đến yếu tố n...   \n",
       "2     giữ được chỉ số này không giam mà còn tăng thê...   \n",
       "3     đúng trước thực tế này đòi hỏi chúng ta cần ph...   \n",
       "4     trình độ học vấn của nhân viên được tuyển dụng...   \n",
       "...                                                 ...   \n",
       "8962  tuy nhiên, khi nói đến e-learning, các phương ...   \n",
       "8963  đứng trước những hành vi đi ngược lại với đạo ...   \n",
       "8964  quan điểm biện chứng của chù nghĩa mác - lênin...   \n",
       "8965  đối với biểu đồ histogram, nếu giá trị trung b...   \n",
       "8966  trong mỗi khu vực mà đội phát triển thị trường...   \n",
       "\n",
       "                                           correct_text  \n",
       "0     Thông qua công tác tuyên truyền, vận động này ...  \n",
       "1     Do đó, doanh nghiệp cần chú trọng đến yếu tố n...  \n",
       "2     Giữ được chỉ số này không giảm mà còn tăng thê...  \n",
       "3     Đứng trước thực tế này đòi hỏi chúng ta cần ph...  \n",
       "4     Trình độ học vấn của nhân viên được tuyển dụng...  \n",
       "...                                                 ...  \n",
       "8962  Tuy nhiên, khi nói đến E-Learning, các phương ...  \n",
       "8963  Đứng trước những hành vi đi ngược lại với đạo ...  \n",
       "8964  Quan điểm biện chứng của chủ nghĩa Mác - Lênin...  \n",
       "8965  Đối với biểu đồ Histogram, nếu giá trị trung b...  \n",
       "8966  Trong mỗi khu vực mà đội phát triển thị trường...  \n",
       "\n",
       "[8967 rows x 3 columns]"
      ]
     },
     "execution_count": 4,
     "metadata": {},
     "output_type": "execute_result"
    }
   ],
   "source": [
    "test = pd.read_csv(\"/kaggle/input/preprocessing/test.csv\")\n",
    "test = test[['text', 'preprocess', 'correct_text']]\n",
    "test"
   ]
  },
  {
   "cell_type": "code",
   "execution_count": 5,
   "id": "853b129b",
   "metadata": {
    "execution": {
     "iopub.execute_input": "2025-06-28T06:05:05.243920Z",
     "iopub.status.busy": "2025-06-28T06:05:05.243417Z",
     "iopub.status.idle": "2025-06-28T06:05:54.266969Z",
     "shell.execute_reply": "2025-06-28T06:05:54.266180Z"
    },
    "papermill": {
     "duration": 49.036163,
     "end_time": "2025-06-28T06:05:54.273454",
     "exception": false,
     "start_time": "2025-06-28T06:05:05.237291",
     "status": "completed"
    },
    "tags": []
   },
   "outputs": [
    {
     "data": {
      "text/html": [
       "<div>\n",
       "<style scoped>\n",
       "    .dataframe tbody tr th:only-of-type {\n",
       "        vertical-align: middle;\n",
       "    }\n",
       "\n",
       "    .dataframe tbody tr th {\n",
       "        vertical-align: top;\n",
       "    }\n",
       "\n",
       "    .dataframe thead th {\n",
       "        text-align: right;\n",
       "    }\n",
       "</style>\n",
       "<table border=\"1\" class=\"dataframe\">\n",
       "  <thead>\n",
       "    <tr style=\"text-align: right;\">\n",
       "      <th></th>\n",
       "      <th>text</th>\n",
       "      <th>correct_text</th>\n",
       "    </tr>\n",
       "  </thead>\n",
       "  <tbody>\n",
       "    <tr>\n",
       "      <th>0</th>\n",
       "      <td>Chây ì nộp phạt nguội.</td>\n",
       "      <td>Chây ì nộp phạt nguội.</td>\n",
       "    </tr>\n",
       "    <tr>\n",
       "      <th>1</th>\n",
       "      <td>Chây ì ngộp phạt nguội.</td>\n",
       "      <td>Chây ì nộp phạt nguội.</td>\n",
       "    </tr>\n",
       "    <tr>\n",
       "      <th>2</th>\n",
       "      <td>Chây i nộp phạt ngội.</td>\n",
       "      <td>Chây ì nộp phạt nguội.</td>\n",
       "    </tr>\n",
       "    <tr>\n",
       "      <th>3</th>\n",
       "      <td>Hàng chục ngàn phươngg tiện bị ghi hình iv phạ...</td>\n",
       "      <td>Hàng chục ngàn phương tiện bị ghi hình vi phạm...</td>\n",
       "    </tr>\n",
       "    <tr>\n",
       "      <th>4</th>\n",
       "      <td>Hàng chục ngàn phương tiệng bị ghy hình vi pha...</td>\n",
       "      <td>Hàng chục ngàn phương tiện bị ghi hình vi phạm...</td>\n",
       "    </tr>\n",
       "    <tr>\n",
       "      <th>...</th>\n",
       "      <td>...</td>\n",
       "      <td>...</td>\n",
       "    </tr>\n",
       "    <tr>\n",
       "      <th>4980399</th>\n",
       "      <td>Phó thủ tướngg cũng yêu cầu hoàn thành cổ phầc...</td>\n",
       "      <td>Phó thủ tướng cũng yêu cầu hoàn thành cổ phần ...</td>\n",
       "    </tr>\n",
       "    <tr>\n",
       "      <th>4980400</th>\n",
       "      <td>Phó thủ tướng cũng Iu cầu hoờn thành cổ phần ó...</td>\n",
       "      <td>Phó thủ tướng cũng yêu cầu hoàn thành cổ phần ...</td>\n",
       "    </tr>\n",
       "    <tr>\n",
       "      <th>4980401</th>\n",
       "      <td>Phó thũ tướngx cũng yêu cầu hoàn thành cổ phần...</td>\n",
       "      <td>Phó thủ tướng cũng yêu cầu hoàn thành cổ phần ...</td>\n",
       "    </tr>\n",
       "    <tr>\n",
       "      <th>4980402</th>\n",
       "      <td>Pho thủ tướng cũng iu cầu hoàn thàh cổ phần hó...</td>\n",
       "      <td>Phó thủ tướng cũng yêu cầu hoàn thành cổ phần ...</td>\n",
       "    </tr>\n",
       "    <tr>\n",
       "      <th>4980403</th>\n",
       "      <td>Pho thủ tướngd cũng yêu vàu hoàn thành cổ phần...</td>\n",
       "      <td>Phó thủ tướng cũng yêu cầu hoàn thành cổ phần ...</td>\n",
       "    </tr>\n",
       "  </tbody>\n",
       "</table>\n",
       "<p>4980404 rows × 2 columns</p>\n",
       "</div>"
      ],
      "text/plain": [
       "                                                      text  \\\n",
       "0                                   Chây ì nộp phạt nguội.   \n",
       "1                                  Chây ì ngộp phạt nguội.   \n",
       "2                                    Chây i nộp phạt ngội.   \n",
       "3        Hàng chục ngàn phươngg tiện bị ghi hình iv phạ...   \n",
       "4        Hàng chục ngàn phương tiệng bị ghy hình vi pha...   \n",
       "...                                                    ...   \n",
       "4980399  Phó thủ tướngg cũng yêu cầu hoàn thành cổ phầc...   \n",
       "4980400  Phó thủ tướng cũng Iu cầu hoờn thành cổ phần ó...   \n",
       "4980401  Phó thũ tướngx cũng yêu cầu hoàn thành cổ phần...   \n",
       "4980402  Pho thủ tướng cũng iu cầu hoàn thàh cổ phần hó...   \n",
       "4980403  Pho thủ tướngd cũng yêu vàu hoàn thành cổ phần...   \n",
       "\n",
       "                                              correct_text  \n",
       "0                                   Chây ì nộp phạt nguội.  \n",
       "1                                   Chây ì nộp phạt nguội.  \n",
       "2                                   Chây ì nộp phạt nguội.  \n",
       "3        Hàng chục ngàn phương tiện bị ghi hình vi phạm...  \n",
       "4        Hàng chục ngàn phương tiện bị ghi hình vi phạm...  \n",
       "...                                                    ...  \n",
       "4980399  Phó thủ tướng cũng yêu cầu hoàn thành cổ phần ...  \n",
       "4980400  Phó thủ tướng cũng yêu cầu hoàn thành cổ phần ...  \n",
       "4980401  Phó thủ tướng cũng yêu cầu hoàn thành cổ phần ...  \n",
       "4980402  Phó thủ tướng cũng yêu cầu hoàn thành cổ phần ...  \n",
       "4980403  Phó thủ tướng cũng yêu cầu hoàn thành cổ phần ...  \n",
       "\n",
       "[4980404 rows x 2 columns]"
      ]
     },
     "execution_count": 5,
     "metadata": {},
     "output_type": "execute_result"
    }
   ],
   "source": [
    "train = pd.read_csv(\"/kaggle/input/preprocessing/train.csv\")\n",
    "train"
   ]
  },
  {
   "cell_type": "code",
   "execution_count": 6,
   "id": "5ef68782",
   "metadata": {
    "execution": {
     "iopub.execute_input": "2025-06-28T06:05:54.285413Z",
     "iopub.status.busy": "2025-06-28T06:05:54.285176Z",
     "iopub.status.idle": "2025-06-28T06:05:54.359395Z",
     "shell.execute_reply": "2025-06-28T06:05:54.358658Z"
    },
    "papermill": {
     "duration": 0.08154,
     "end_time": "2025-06-28T06:05:54.360602",
     "exception": false,
     "start_time": "2025-06-28T06:05:54.279062",
     "status": "completed"
    },
    "tags": []
   },
   "outputs": [
    {
     "data": {
      "text/html": [
       "<div>\n",
       "<style scoped>\n",
       "    .dataframe tbody tr th:only-of-type {\n",
       "        vertical-align: middle;\n",
       "    }\n",
       "\n",
       "    .dataframe tbody tr th {\n",
       "        vertical-align: top;\n",
       "    }\n",
       "\n",
       "    .dataframe thead th {\n",
       "        text-align: right;\n",
       "    }\n",
       "</style>\n",
       "<table border=\"1\" class=\"dataframe\">\n",
       "  <thead>\n",
       "    <tr style=\"text-align: right;\">\n",
       "      <th></th>\n",
       "      <th>correct_text</th>\n",
       "    </tr>\n",
       "  </thead>\n",
       "  <tbody>\n",
       "    <tr>\n",
       "      <th>0</th>\n",
       "      <td>Cung cấp những thông tin về tình hình kinh tế ...</td>\n",
       "    </tr>\n",
       "    <tr>\n",
       "      <th>1</th>\n",
       "      <td>Đảng, Nhà nước Việt Nam luôn coi trọng yếu tố ...</td>\n",
       "    </tr>\n",
       "    <tr>\n",
       "      <th>2</th>\n",
       "      <td>Việc giảng dạy mang lại cho hs những kiến thức...</td>\n",
       "    </tr>\n",
       "    <tr>\n",
       "      <th>3</th>\n",
       "      <td>Kết quả nghiên cứu cho thấy Môi trường giáo dụ...</td>\n",
       "    </tr>\n",
       "    <tr>\n",
       "      <th>4</th>\n",
       "      <td>Ứng dụng môi trường công nghệ đến các hoạt độn...</td>\n",
       "    </tr>\n",
       "    <tr>\n",
       "      <th>...</th>\n",
       "      <td>...</td>\n",
       "    </tr>\n",
       "    <tr>\n",
       "      <th>9326</th>\n",
       "      <td>Cấp trên của Giám đốc điều hành là Hội đồng qu...</td>\n",
       "    </tr>\n",
       "    <tr>\n",
       "      <th>9327</th>\n",
       "      <td>Theo nghĩa hẹp, nợ công bao gồm nghĩa vụ nợ củ...</td>\n",
       "    </tr>\n",
       "    <tr>\n",
       "      <th>9328</th>\n",
       "      <td>Cụ thể, trong phần nội dung sẽ có sự tập trung...</td>\n",
       "    </tr>\n",
       "    <tr>\n",
       "      <th>9329</th>\n",
       "      <td>Ví dụ khi đọc bài thơ Mẹ nếu câu cuối Mẹ là ng...</td>\n",
       "    </tr>\n",
       "    <tr>\n",
       "      <th>9330</th>\n",
       "      <td>Trong mỗi khu vực mà đội phát triển thị trường...</td>\n",
       "    </tr>\n",
       "  </tbody>\n",
       "</table>\n",
       "<p>9331 rows × 1 columns</p>\n",
       "</div>"
      ],
      "text/plain": [
       "                                           correct_text\n",
       "0     Cung cấp những thông tin về tình hình kinh tế ...\n",
       "1     Đảng, Nhà nước Việt Nam luôn coi trọng yếu tố ...\n",
       "2     Việc giảng dạy mang lại cho hs những kiến thức...\n",
       "3     Kết quả nghiên cứu cho thấy Môi trường giáo dụ...\n",
       "4     Ứng dụng môi trường công nghệ đến các hoạt độn...\n",
       "...                                                 ...\n",
       "9326  Cấp trên của Giám đốc điều hành là Hội đồng qu...\n",
       "9327  Theo nghĩa hẹp, nợ công bao gồm nghĩa vụ nợ củ...\n",
       "9328  Cụ thể, trong phần nội dung sẽ có sự tập trung...\n",
       "9329  Ví dụ khi đọc bài thơ Mẹ nếu câu cuối Mẹ là ng...\n",
       "9330  Trong mỗi khu vực mà đội phát triển thị trường...\n",
       "\n",
       "[9331 rows x 1 columns]"
      ]
     },
     "execution_count": 6,
     "metadata": {},
     "output_type": "execute_result"
    }
   ],
   "source": [
    "unique_correct_texts = pd.read_csv('/kaggle/input/preprocessing/unique_correct_texts.csv')\n",
    "unique_correct_texts"
   ]
  },
  {
   "cell_type": "markdown",
   "id": "6d20a11f",
   "metadata": {
    "papermill": {
     "duration": 0.005626,
     "end_time": "2025-06-28T06:05:54.372330",
     "exception": false,
     "start_time": "2025-06-28T06:05:54.366704",
     "status": "completed"
    },
    "tags": []
   },
   "source": [
    "## 1. Tiền xử lý dữ liệu\n",
    "- Chuẩn hóa các câu đúng (lowercase, loại bỏ ký tự không cần thiết).\n",
    "\n",
    "- Tách từ và sinh ra mô hình 3-gram từ tập văn bản đúng.\n",
    "\n",
    "- Tạo tập từ vựng (vocab) gồm tất cả các từ đã xuất hiện.\n",
    "\n"
   ]
  },
  {
   "cell_type": "code",
   "execution_count": 7,
   "id": "176af352",
   "metadata": {
    "execution": {
     "iopub.execute_input": "2025-06-28T06:05:54.384272Z",
     "iopub.status.busy": "2025-06-28T06:05:54.384072Z",
     "iopub.status.idle": "2025-06-28T06:05:54.389710Z",
     "shell.execute_reply": "2025-06-28T06:05:54.389160Z"
    },
    "papermill": {
     "duration": 0.012931,
     "end_time": "2025-06-28T06:05:54.390684",
     "exception": false,
     "start_time": "2025-06-28T06:05:54.377753",
     "status": "completed"
    },
    "tags": []
   },
   "outputs": [],
   "source": [
    "import re\n",
    "import pandas as pd\n",
    "\n",
    "def clean_punctuation(text):\n",
    "    # 0. Handle NaN values (already present)\n",
    "    if pd.isnull(text):\n",
    "        return text\n",
    "    \n",
    "    # Ensure text is a string (important for mixed data types in a DataFrame column)\n",
    "    text = str(text)\n",
    "\n",
    "    # --- Punctuation Normalization (Order matters!) ---\n",
    "\n",
    "    # 1. Normalize ellipses: Ensure all sequences of 2 or more periods become '...'\n",
    "    #    e.g., \"..\" -> \"...\", \"....\" -> \"...\"\n",
    "    text = re.sub(r'\\.{2,}', '...', text)\n",
    "\n",
    "    # 2. Handle numbers with periods/commas (e.g., 1 . 2 -> 1.2, 1,000 -> 1,000)\n",
    "    #    This is crucial to do early, before general space removal around punctuation.\n",
    "    text = re.sub(r'(?<=\\d)\\s*([.,])\\s*(?=\\d)', r'\\1', text)\n",
    "\n",
    "    # 3. Remove quotation marks (single and double) entirely as per requirement #6\n",
    "    #    This simplifies later rules as we don't need to account for them.\n",
    "    text = re.sub(r'[\\'\"]', '', text)\n",
    "\n",
    "    # 4. Consolidate repeated punctuation (e.g., '!!' -> '!', '???' -> '?')\n",
    "    #    This excludes ellipses, which were handled in step 1.\n",
    "    #    If you want to preserve '!!!' as '!!!', remove this rule or modify it.\n",
    "    text = re.sub(r'([.,!?;:])\\1+', r'\\1', text)\n",
    "    \n",
    "    # 5. Standardize spacing around punctuation and parentheses\n",
    "    \n",
    "    # 5.1 Remove any space immediately before common punctuation (.,!?:;) and ellipses (...)\n",
    "    #    e.g., \"hello .\" -> \"hello.\", \"word ...\" -> \"word...\"\n",
    "    text = re.sub(r'\\s+([.,!?:;])', r'\\1', text)\n",
    "    text = re.sub(r'\\s+(\\.\\.\\.)', r'\\1', text) # Specific for ellipses\n",
    "\n",
    "    # 5.2 Add space after punctuation (except when it's part of a number)\n",
    "    text = re.sub(r'(?<!\\d)([.,])(?!\\d)(?=\\S)', r'\\1 ', text)\n",
    "    text = re.sub(r'(?<=[!?;:])(?=\\S)', r' \\g<0>', text)  # safe spacing for other punctuations\n",
    "    text = re.sub(r'(\\.\\.\\.)(?=\\S)', r'\\1 ', text)  # ellipsis spacing\n",
    "\n",
    "    # 5.3 Handle parentheses spacing (section #5 in original)\n",
    "    #    Remove any spaces immediately inside or around parentheses:\n",
    "    #    e.g., \" ( hello ) \" -> \"(hello)\", \" (hello\" -> \"(hello\"\n",
    "    text = re.sub(r'\\s*([()])\\s*', r'\\1', text)\n",
    "    #    Add space before opening parenthesis if preceded by a word character:\n",
    "    #    e.g., \"word(content)\" -> \"word (content)\"\n",
    "    text = re.sub(r'(?<=\\w)\\(', ' (', text)\n",
    "    #    Add space after closing parenthesis if followed by a word character:\n",
    "    #    e.g., \"(content)word\" -> \"(content) word\"\n",
    "    text = re.sub(r'\\)(?=\\w)', ') ', text)\n",
    "\n",
    "    # --- Final Cleanup ---\n",
    "\n",
    "    # 6. Reduce multiple spaces to single spaces (section #7 in original)\n",
    "    text = re.sub(r'\\s{2,}', ' ', text)\n",
    "\n",
    "    # 7. Strip leading/trailing whitespace (already present)\n",
    "    return text.strip()"
   ]
  },
  {
   "cell_type": "code",
   "execution_count": 8,
   "id": "e7c697b0",
   "metadata": {
    "execution": {
     "iopub.execute_input": "2025-06-28T06:05:54.402881Z",
     "iopub.status.busy": "2025-06-28T06:05:54.402495Z",
     "iopub.status.idle": "2025-06-28T06:05:54.407375Z",
     "shell.execute_reply": "2025-06-28T06:05:54.406858Z"
    },
    "papermill": {
     "duration": 0.011888,
     "end_time": "2025-06-28T06:05:54.408377",
     "exception": false,
     "start_time": "2025-06-28T06:05:54.396489",
     "status": "completed"
    },
    "tags": []
   },
   "outputs": [
    {
     "data": {
      "text/plain": [
       "'13,5 triêu'"
      ]
     },
     "execution_count": 8,
     "metadata": {},
     "output_type": "execute_result"
    }
   ],
   "source": [
    "clean_punctuation(\"13,5 triêu\")"
   ]
  },
  {
   "cell_type": "code",
   "execution_count": 9,
   "id": "e80f1966",
   "metadata": {
    "execution": {
     "iopub.execute_input": "2025-06-28T06:05:54.420319Z",
     "iopub.status.busy": "2025-06-28T06:05:54.420128Z",
     "iopub.status.idle": "2025-06-28T06:05:56.190947Z",
     "shell.execute_reply": "2025-06-28T06:05:56.190130Z"
    },
    "papermill": {
     "duration": 1.778292,
     "end_time": "2025-06-28T06:05:56.192261",
     "exception": false,
     "start_time": "2025-06-28T06:05:54.413969",
     "status": "completed"
    },
    "tags": []
   },
   "outputs": [
    {
     "name": "stderr",
     "output_type": "stream",
     "text": [
      "[nltk_data] Downloading package punkt to /usr/share/nltk_data...\n",
      "[nltk_data]   Package punkt is already up-to-date!\n"
     ]
    }
   ],
   "source": [
    "import re\n",
    "from collections import defaultdict, Counter\n",
    "from nltk.tokenize import word_tokenize\n",
    "import nltk\n",
    "import string\n",
    "\n",
    "nltk.download('punkt')\n",
    "\n",
    "\n",
    "import re\n",
    "\n",
    "def clean_text(text):\n",
    "    # Thay thế URL trước\n",
    "    text = re.sub(r'https?://\\S+|www\\.\\S+', '<url>', text)\n",
    "\n",
    "    # Thay thế emoji bằng <emoji>\n",
    "    emoji_pattern = re.compile(\n",
    "        \"[\"\n",
    "        u\"\\U0001F600-\\U0001F64F\"  # emoticons\n",
    "        u\"\\U0001F300-\\U0001F5FF\"  # symbols & pictographs\n",
    "        u\"\\U0001F680-\\U0001F6FF\"  # transport & map symbols\n",
    "        u\"\\U0001F1E0-\\U0001F1FF\"  # flags (iOS)\n",
    "        u\"\\U0001F700-\\U0001F77F\"  # alchemical\n",
    "        u\"\\U0001F780-\\U0001F7FF\"  # geometric\n",
    "        u\"\\U0001F800-\\U0001F8FF\"  # arrows\n",
    "        u\"\\U0001F900-\\U0001F9FF\"  # supplemental symbols\n",
    "        u\"\\U0001FA00-\\U0001FA6F\"  # chess\n",
    "        u\"\\U0001FA70-\\U0001FAFF\"  # symbols extended\n",
    "        u\"\\u2600-\\u26FF\"          # misc symbols\n",
    "        u\"\\u2700-\\u27BF\"          # dingbats\n",
    "        \"]+\", flags=re.UNICODE\n",
    "    )\n",
    "    text = emoji_pattern.sub('<emoji>', text)\n",
    "\n",
    "    # Thay thế định dạng ngày (dd/mm/yyyy hoặc yyyy/mm/dd)\n",
    "    text = re.sub(r'\\b\\d{1,2}[-/]\\d{1,2}[-/]\\d{2,4}\\b', '<date>', text)\n",
    "    text = re.sub(r'\\b\\d{4}[-/]\\d{1,2}[-/]\\d{1,2}\\b', '<date>', text)\n",
    "\n",
    "    # Thay thế thời gian (hh:mm hoặc hh:mm:ss)\n",
    "    text = re.sub(r'\\b\\d{1,2}:\\d{2}(:\\d{2})?\\b', '<time>', text)\n",
    "\n",
    "    # Thay thế số (gồm số thập phân và số nguyên)\n",
    "    text = re.sub(r'\\d+([.,]\\d+)?', '<num>', text)\n",
    "\n",
    "    return text"
   ]
  },
  {
   "cell_type": "code",
   "execution_count": 10,
   "id": "08cd7cb5",
   "metadata": {
    "execution": {
     "iopub.execute_input": "2025-06-28T06:05:56.204929Z",
     "iopub.status.busy": "2025-06-28T06:05:56.204589Z",
     "iopub.status.idle": "2025-06-28T06:05:56.210907Z",
     "shell.execute_reply": "2025-06-28T06:05:56.210354Z"
    },
    "papermill": {
     "duration": 0.013568,
     "end_time": "2025-06-28T06:05:56.211936",
     "exception": false,
     "start_time": "2025-06-28T06:05:56.198368",
     "status": "completed"
    },
    "tags": []
   },
   "outputs": [],
   "source": [
    "import re\n",
    "from nltk.tokenize import word_tokenize\n",
    "\n",
    "def custom_tokenize(text):\n",
    "    # 1. Tìm các token đặc biệt dạng <...>\n",
    "    special_tokens = list(set(re.findall(r'<[^<> ]+>', text)))\n",
    "    token_map = {token: f\"___SPECIALTOKEN{i}___\" for i, token in enumerate(special_tokens)}\n",
    "\n",
    "    # 2. Thay thế token đặc biệt bằng placeholder\n",
    "    for orig, placeholder in token_map.items():\n",
    "        text = text.replace(orig, placeholder\n",
    "                           )\n",
    "\n",
    "    # 3. Tách các placeholder nếu dính vào từ hoặc ký tự đặc biệt\n",
    "    for placeholder in token_map.values():\n",
    "        text = re.sub(rf'({re.escape(placeholder)})([^\\W_]+)', r'\\1 \\2', text)\n",
    "        text = re.sub(rf'([^\\W_]+)({re.escape(placeholder)})', r'\\1 \\2', text)\n",
    "        text = re.sub(rf'({re.escape(placeholder)})([/%°\\-+=±≥<>\\.])', r'\\1 \\2', text)\n",
    "        text = re.sub(rf'([/%°\\-+=±≥<>\\.])({re.escape(placeholder)})', r'\\1 \\2', text)\n",
    "\n",
    "    # 4. TÁCH CÁC DẤU NHƯ / - … ... THÀNH TOKEN RIÊNG\n",
    "    # Chèn khoảng trắng quanh các ký hiệu phân tách\n",
    "    text = re.sub(r'([/\\-+=±%°₫.<>\\[\\]…])', r' \\1 ', text)\n",
    "    text = re.sub(r'\\.\\.\\.', ' ... ', text)  # tách \"...\" riêng\n",
    "    text = re.sub(r'…', ' … ', text)        # tách dấu ba chấm unicode riêng\n",
    "\n",
    "    # 5. Token hóa\n",
    "    tokens = word_tokenize(text)\n",
    "\n",
    "    # 6. Thay lại placeholder bằng token đặc biệt gốc\n",
    "    reverse_map = {v: k for k, v in token_map.items()}\n",
    "    tokens = [reverse_map.get(t, t) for t in tokens]\n",
    "\n",
    "    return tokens"
   ]
  },
  {
   "cell_type": "code",
   "execution_count": 11,
   "id": "a9e99bc5",
   "metadata": {
    "execution": {
     "iopub.execute_input": "2025-06-28T06:05:56.223791Z",
     "iopub.status.busy": "2025-06-28T06:05:56.223586Z",
     "iopub.status.idle": "2025-06-28T06:05:56.253341Z",
     "shell.execute_reply": "2025-06-28T06:05:56.252597Z"
    },
    "papermill": {
     "duration": 0.03687,
     "end_time": "2025-06-28T06:05:56.254349",
     "exception": false,
     "start_time": "2025-06-28T06:05:56.217479",
     "status": "completed"
    },
    "tags": []
   },
   "outputs": [
    {
     "name": "stdout",
     "output_type": "stream",
     "text": [
      "Sau khi clean: Ngày <date> lúc <time>, <num>-days giá là <num>triệu đồng <emoji> <url> <num>/<num>\n",
      "Token: ['Ngày', '<date>', 'lúc', '<time>', ',', '<num>', '-', 'days', 'giá', 'là', '<num>', 'triệu', 'đồng', '<emoji>', '<url>', '<num>', '/', '<num>']\n"
     ]
    }
   ],
   "source": [
    "text = \"Ngày 12/06/2024 lúc 08:45, 30-days giá là 13.78triệu đồng 😂 www.example.com 12/3\"\n",
    "cleaned = clean_text(text)\n",
    "print(\"Sau khi clean:\", cleaned)\n",
    "tokens = custom_tokenize(cleaned)\n",
    "print(\"Token:\", tokens)"
   ]
  },
  {
   "cell_type": "code",
   "execution_count": 12,
   "id": "5d01ea38",
   "metadata": {
    "execution": {
     "iopub.execute_input": "2025-06-28T06:05:56.267036Z",
     "iopub.status.busy": "2025-06-28T06:05:56.266617Z",
     "iopub.status.idle": "2025-06-28T06:05:56.271127Z",
     "shell.execute_reply": "2025-06-28T06:05:56.270425Z"
    },
    "papermill": {
     "duration": 0.011954,
     "end_time": "2025-06-28T06:05:56.272295",
     "exception": false,
     "start_time": "2025-06-28T06:05:56.260341",
     "status": "completed"
    },
    "tags": []
   },
   "outputs": [],
   "source": [
    "def preprocess(texts):\n",
    "    ngrams = defaultdict(Counter)\n",
    "    vocab = set()\n",
    "\n",
    "    for text in texts:\n",
    "        text = clean_punctuation(text)\n",
    "        text = clean_text(text)\n",
    "        tokens = custom_tokenize(text.lower())\n",
    "\n",
    "        # Thêm token đặc biệt cho đầu và cuối câu\n",
    "        tokens = ['<start1>', '<start2>'] + tokens + ['<end1>', '<end2>']\n",
    "\n",
    "        vocab.update(tokens)\n",
    "\n",
    "        for i in range(2, len(tokens)):\n",
    "            context = (tokens[i - 2], tokens[i - 1])\n",
    "            word = tokens[i]\n",
    "            ngrams[context][word] += 1\n",
    "\n",
    "    return ngrams, vocab"
   ]
  },
  {
   "cell_type": "markdown",
   "id": "3452be44",
   "metadata": {
    "papermill": {
     "duration": 0.005387,
     "end_time": "2025-06-28T06:05:56.283333",
     "exception": false,
     "start_time": "2025-06-28T06:05:56.277946",
     "status": "completed"
    },
    "tags": []
   },
   "source": [
    "## 2. Tính toán xác suất chuyển tiếp (Transition Probability)\n",
    "- Dựa trên mô hình 3-gram: P(w₃ | w₁, w₂)\n",
    "\n",
    "- Với mỗi bộ ba liên tiếp (w₁, w₂, w₃) trong văn bản đúng, đếm tần suất xuất hiện.\n",
    "\n",
    "- Chuẩn hóa tần suất để có xác suất chuyển tiếp giữa các từ đúng theo ngữ cảnh."
   ]
  },
  {
   "cell_type": "code",
   "execution_count": 13,
   "id": "4922c1f7",
   "metadata": {
    "execution": {
     "iopub.execute_input": "2025-06-28T06:05:56.295209Z",
     "iopub.status.busy": "2025-06-28T06:05:56.295008Z",
     "iopub.status.idle": "2025-06-28T06:05:56.299171Z",
     "shell.execute_reply": "2025-06-28T06:05:56.298596Z"
    },
    "papermill": {
     "duration": 0.011346,
     "end_time": "2025-06-28T06:05:56.300246",
     "exception": false,
     "start_time": "2025-06-28T06:05:56.288900",
     "status": "completed"
    },
    "tags": []
   },
   "outputs": [],
   "source": [
    "def get_transition_prob(ngrams, vocab, alpha=1.0):\n",
    "    transition_prob = {}\n",
    "    context_totals = {}\n",
    "\n",
    "    V = len(vocab)\n",
    "\n",
    "    for context, counter in ngrams.items():\n",
    "        total = sum(counter.values())\n",
    "        context_totals[context] = total\n",
    "\n",
    "        for word, count in counter.items():\n",
    "            prob = (count + alpha) / (total + alpha * V)\n",
    "            trigram = (context[0], context[1], word)\n",
    "            transition_prob[trigram] = prob\n",
    "\n",
    "    return transition_prob, context_totals"
   ]
  },
  {
   "cell_type": "markdown",
   "id": "31bccb11",
   "metadata": {
    "papermill": {
     "duration": 0.005423,
     "end_time": "2025-06-28T06:05:56.311310",
     "exception": false,
     "start_time": "2025-06-28T06:05:56.305887",
     "status": "completed"
    },
    "tags": []
   },
   "source": [
    "## 3. Tính xác suất phát xạ (Emission Probability)\n",
    "- Mỗi từ sai (quan sát được) có thể phát ra từ một số từ đúng.\n",
    "\n",
    "- Dựa vào Minimum Edit Distance giữa từ sai và từng từ đúng trong từ điển.\n",
    "\n",
    "- Những từ đúng có khoảng cách nhỏ nhất được coi là ứng viên thay thế hợp lý, và được gán xác suất tỷ lệ nghịch với khoảng cách."
   ]
  },
  {
   "cell_type": "code",
   "execution_count": 14,
   "id": "c74e8049",
   "metadata": {
    "execution": {
     "iopub.execute_input": "2025-06-28T06:05:56.323605Z",
     "iopub.status.busy": "2025-06-28T06:05:56.323425Z",
     "iopub.status.idle": "2025-06-28T06:05:56.328349Z",
     "shell.execute_reply": "2025-06-28T06:05:56.327842Z"
    },
    "papermill": {
     "duration": 0.012557,
     "end_time": "2025-06-28T06:05:56.329428",
     "exception": false,
     "start_time": "2025-06-28T06:05:56.316871",
     "status": "completed"
    },
    "tags": []
   },
   "outputs": [],
   "source": [
    "def get_emission_prob(observed_word, vocab, max_distance=5):\n",
    "    target_distance = min(len(observed_word) - 1, max_distance)\n",
    "    candidates = []\n",
    "    for word in vocab:\n",
    "        dist = min_edit_distance(observed_word, word)\n",
    "        if dist <= target_distance:\n",
    "            candidates.append((word, dist))\n",
    "\n",
    "    if not candidates:\n",
    "        # Dự phòng: nếu không có ứng viên đúng khoảng cách thì fallback\n",
    "        candidates = [(word, min_edit_distance(observed_word, word)) for word in vocab\n",
    "                      if min_edit_distance(observed_word, word) <= max_distance]\n",
    "\n",
    "        if not candidates:\n",
    "            return {}\n",
    "\n",
    "    # for word, dist in candidates:\n",
    "        # print(f\"  - '{word}' (khoảng cách: {dist})\")\n",
    "\n",
    "    # Tính xác suất ngược lại với khoảng cách\n",
    "    probs = {}\n",
    "    for word, dist in candidates:\n",
    "        prob = 1 / (1 + dist)\n",
    "        probs[word] = prob\n",
    "\n",
    "    # Chuẩn hóa\n",
    "    total = sum(probs.values())\n",
    "    for word in probs:\n",
    "        probs[word] /= total\n",
    "\n",
    "    return probs"
   ]
  },
  {
   "cell_type": "markdown",
   "id": "c27e4d2e",
   "metadata": {
    "papermill": {
     "duration": 0.005351,
     "end_time": "2025-06-28T06:05:56.340451",
     "exception": false,
     "start_time": "2025-06-28T06:05:56.335100",
     "status": "completed"
    },
    "tags": []
   },
   "source": [
    "## 4. Thuật toán Viterbi (Giải mã chuỗi tối ưu)\n",
    "- Với chuỗi từ quan sát (câu cần sửa), tìm chuỗi từ đúng (ẩn) sao cho:\n",
    "    - Xác suất tổng (transition * emission) là lớn nhất.\n",
    "- Áp dụng Viterbi để tìm dãy từ đúng có xác suất cao nhất, từng bước một, sử dụng:\n",
    "    - Các từ ứng viên ở mỗi bước (từ có khoảng cách edit nhỏ với từ đầu vào).\n",
    "    - Xác suất chuyển tiếp giữa các từ ứng viên liên tiếp (3-gram)."
   ]
  },
  {
   "cell_type": "code",
   "execution_count": 15,
   "id": "b7ee6546",
   "metadata": {
    "execution": {
     "iopub.execute_input": "2025-06-28T06:05:56.352395Z",
     "iopub.status.busy": "2025-06-28T06:05:56.352221Z",
     "iopub.status.idle": "2025-06-28T06:05:56.360502Z",
     "shell.execute_reply": "2025-06-28T06:05:56.359789Z"
    },
    "papermill": {
     "duration": 0.01558,
     "end_time": "2025-06-28T06:05:56.361586",
     "exception": false,
     "start_time": "2025-06-28T06:05:56.346006",
     "status": "completed"
    },
    "tags": []
   },
   "outputs": [],
   "source": [
    "from math import log\n",
    "\n",
    "def viterbi(observed, vocab, ngrams, transition_prob, context_totals, alpha, epsilon=1e-8):\n",
    "    # Thêm token đặc biệt vào đầu và cuối\n",
    "    observed = ['<start1>', '<start2>'] + observed + ['<end1>', '<end2>']\n",
    "    T = len(observed)\n",
    "    V = [{} for _ in range(T)]\n",
    "    path = {}\n",
    "\n",
    "    vocab_size = len(vocab)\n",
    "\n",
    "    # Khởi tạo bước đầu tiên tại vị trí t=2 (vì t=0,1 là <start>)\n",
    "    emis_probs = get_emission_prob(observed[2], vocab)\n",
    "    for y in emis_probs:\n",
    "        context = ('<start1>', '<start2>')\n",
    "        count = ngrams.get(context, {}).get(y, 0)\n",
    "        total = context_totals.get(context, 0)\n",
    "        trans_prob = (count + alpha) / (total + alpha * vocab_size)\n",
    "        emis_prob = emis_probs.get(y, epsilon)\n",
    "\n",
    "        V[2][y] = log(trans_prob + epsilon) + log(emis_prob + epsilon)\n",
    "        path[y] = ['<start1>', '<start2>', y]\n",
    "\n",
    "    # Duyệt từ t = 3 trở đi\n",
    "    for t in range(3, T):\n",
    "        emis_probs = get_emission_prob(observed[t], vocab)\n",
    "        V[t] = {}\n",
    "        newpath = {}\n",
    "\n",
    "        for y in emis_probs:\n",
    "            max_prob = float('-inf')\n",
    "            best_prev = None\n",
    "\n",
    "            for y1 in V[t - 1]:  # trạng thái trước\n",
    "                y0 = path[y1][-2]  # từ trước của y1\n",
    "                context = (y0, y1)\n",
    "                count = ngrams.get(context, {}).get(y, 0)\n",
    "                total = context_totals.get(context, 0)\n",
    "                trans_prob = (count + alpha) / (total + alpha * vocab_size)\n",
    "                emis_prob = emis_probs.get(y, epsilon)\n",
    "\n",
    "                prob = V[t - 1][y1] + log(trans_prob + epsilon) + log(emis_prob + epsilon)\n",
    "\n",
    "                if prob > max_prob:\n",
    "                    max_prob = prob\n",
    "                    best_prev = y1\n",
    "\n",
    "            if best_prev is not None:\n",
    "                V[t][y] = max_prob\n",
    "                newpath[y] = path[best_prev] + [y]\n",
    "\n",
    "        if not newpath:\n",
    "            raise ValueError(f\"No valid path at step {t}. Check transition/emission coverage.\")\n",
    "        path = newpath\n",
    "\n",
    "    # Tìm chuỗi có xác suất cao nhất ở bước cuối\n",
    "    n = T - 1\n",
    "    prob, state = max((V[n][y], y) for y in V[n])\n",
    "    return path[state]"
   ]
  },
  {
   "cell_type": "markdown",
   "id": "a92d193d",
   "metadata": {
    "papermill": {
     "duration": 0.005389,
     "end_time": "2025-06-28T06:05:56.372721",
     "exception": false,
     "start_time": "2025-06-28T06:05:56.367332",
     "status": "completed"
    },
    "tags": []
   },
   "source": [
    "## 5. Tái tạo câu đã sửa\n",
    "- Chuỗi từ đúng tìm được là kết quả sau khi sửa.\n",
    "\n",
    "- Ghép lại các từ theo đúng thứ tự để tạo thành câu đã sửa lỗi."
   ]
  },
  {
   "cell_type": "code",
   "execution_count": 16,
   "id": "d1f03d36",
   "metadata": {
    "execution": {
     "iopub.execute_input": "2025-06-28T06:05:56.384707Z",
     "iopub.status.busy": "2025-06-28T06:05:56.384506Z",
     "iopub.status.idle": "2025-06-28T06:05:56.390470Z",
     "shell.execute_reply": "2025-06-28T06:05:56.389781Z"
    },
    "papermill": {
     "duration": 0.013183,
     "end_time": "2025-06-28T06:05:56.391478",
     "exception": false,
     "start_time": "2025-06-28T06:05:56.378295",
     "status": "completed"
    },
    "tags": []
   },
   "outputs": [],
   "source": [
    "import re\n",
    "\n",
    "def clean_text_with_mapping(text):\n",
    "    replacements = {\n",
    "        \"<url>\": [],\n",
    "        \"<emoji>\": [],\n",
    "        \"<date>\": [],\n",
    "        \"<time>\": [],\n",
    "        \"<num>\": [],\n",
    "    }\n",
    "\n",
    "    # Danh sách các pattern với placeholder ưu tiên\n",
    "    patterns = [\n",
    "        (r'https?://\\S+|www\\.\\S+', \"<url>\"),\n",
    "        (\"[\" + u\"\\U0001F600-\\U0001F64F\"\n",
    "             + u\"\\U0001F300-\\U0001F5FF\"\n",
    "             + u\"\\U0001F680-\\U0001F6FF\"\n",
    "             + u\"\\U0001F1E0-\\U0001F1FF\"\n",
    "             + u\"\\u2600-\\u26FF\"\n",
    "             + u\"\\u2700-\\u27BF\" + \"]\", \"<emoji>\"),\n",
    "        (r'\\b\\d{1,2}[-/]\\d{1,2}[-/]\\d{2,4}\\b', \"<date>\"),   # dd/mm/yyyy hoặc dd-mm-yyyy\n",
    "        (r'\\b\\d{4}[-/]\\d{1,2}[-/]\\d{1,2}\\b', \"<date>\"),     # yyyy/mm/dd hoặc yyyy-mm-dd\n",
    "        (r'\\b\\d{1,2}:\\d{2}(?::\\d{2})?\\b', \"<time>\"),        # hh:mm hoặc hh:mm:ss\n",
    "        (r'\\d+(?:[.,]\\d+)?', \"<num>\"),                     # số thực hoặc số nguyên\n",
    "    ]\n",
    "\n",
    "    # Ghi lại vị trí đã thay để tránh chồng lặp\n",
    "    replaced = [False] * len(text)\n",
    "    new_text = \"\"\n",
    "    last_pos = 0\n",
    "    matches = []\n",
    "\n",
    "    for pattern, placeholder in patterns:\n",
    "        for match in re.finditer(pattern, text):\n",
    "            start, end = match.start(), match.end()\n",
    "            if any(replaced[start:end]):\n",
    "                continue  # Tránh thay chồng\n",
    "\n",
    "            matches.append((start, end, match.group(), placeholder))\n",
    "            for i in range(start, end):\n",
    "                replaced[i] = True  # Đánh dấu đã xử lý\n",
    "\n",
    "    # Sắp xếp lại theo thứ tự xuất hiện\n",
    "    matches.sort()\n",
    "    last_pos = 0\n",
    "    for start, end, original, placeholder in matches:\n",
    "        new_text += text[last_pos:start]\n",
    "        new_text += placeholder\n",
    "        replacements[placeholder].append(original)\n",
    "        last_pos = end\n",
    "\n",
    "    new_text += text[last_pos:]\n",
    "    return new_text, replacements\n"
   ]
  },
  {
   "cell_type": "code",
   "execution_count": 17,
   "id": "e9e36326",
   "metadata": {
    "execution": {
     "iopub.execute_input": "2025-06-28T06:05:56.403505Z",
     "iopub.status.busy": "2025-06-28T06:05:56.403168Z",
     "iopub.status.idle": "2025-06-28T06:05:56.407584Z",
     "shell.execute_reply": "2025-06-28T06:05:56.406956Z"
    },
    "papermill": {
     "duration": 0.011432,
     "end_time": "2025-06-28T06:05:56.408597",
     "exception": false,
     "start_time": "2025-06-28T06:05:56.397165",
     "status": "completed"
    },
    "tags": []
   },
   "outputs": [
    {
     "name": "stdout",
     "output_type": "stream",
     "text": [
      "➡ Văn bản sau khi clean: Hôm nay là <date>, mai là <date> và <time>. Website là <url> và giá là <num>,<num>₫ <emoji>\n",
      "➡ Mapping:\n",
      "  <url>: ['https://openai.com']\n",
      "  <emoji>: ['😊']\n",
      "  <date>: ['2024-12-01', '02/12/2024']\n",
      "  <time>: ['14:30']\n",
      "  <num>: ['12.345', '67']\n"
     ]
    }
   ],
   "source": [
    "text = \"Hôm nay là 2024-12-01, mai là 02/12/2024 và 14:30. Website là https://openai.com và giá là 12.345,67₫ 😊\"\n",
    "cleaned, repl = clean_text_with_mapping(text)\n",
    "\n",
    "print(\"➡ Văn bản sau khi clean:\", cleaned)\n",
    "print(\"➡ Mapping:\")\n",
    "for k, v in repl.items():\n",
    "    print(f\"  {k}: {v}\")"
   ]
  },
  {
   "cell_type": "code",
   "execution_count": 18,
   "id": "33218143",
   "metadata": {
    "execution": {
     "iopub.execute_input": "2025-06-28T06:05:56.421042Z",
     "iopub.status.busy": "2025-06-28T06:05:56.420543Z",
     "iopub.status.idle": "2025-06-28T06:05:56.424524Z",
     "shell.execute_reply": "2025-06-28T06:05:56.424046Z"
    },
    "papermill": {
     "duration": 0.011114,
     "end_time": "2025-06-28T06:05:56.425579",
     "exception": false,
     "start_time": "2025-06-28T06:05:56.414465",
     "status": "completed"
    },
    "tags": []
   },
   "outputs": [
    {
     "data": {
      "text/plain": [
       "'Hôm nay là <date>, mai là <date> và <time>. Website là <url> và giá là <num>,<num>₫ <emoji>'"
      ]
     },
     "execution_count": 18,
     "metadata": {},
     "output_type": "execute_result"
    }
   ],
   "source": [
    "clean_text(text)"
   ]
  },
  {
   "cell_type": "code",
   "execution_count": 19,
   "id": "38448c0c",
   "metadata": {
    "execution": {
     "iopub.execute_input": "2025-06-28T06:05:56.437741Z",
     "iopub.status.busy": "2025-06-28T06:05:56.437548Z",
     "iopub.status.idle": "2025-06-28T06:05:56.441842Z",
     "shell.execute_reply": "2025-06-28T06:05:56.441173Z"
    },
    "papermill": {
     "duration": 0.011503,
     "end_time": "2025-06-28T06:05:56.442903",
     "exception": false,
     "start_time": "2025-06-28T06:05:56.431400",
     "status": "completed"
    },
    "tags": []
   },
   "outputs": [],
   "source": [
    "from collections import defaultdict\n",
    "\n",
    "def restore_tokens(tokens, replacements):\n",
    "    # Đếm số lần đã dùng của mỗi placeholder\n",
    "    # print(tokens)\n",
    "    counts = {k: 0 for k in replacements}\n",
    "\n",
    "    restored = []\n",
    "    for token in tokens:\n",
    "        if token in replacements:\n",
    "            index = counts[token]\n",
    "            if index < len(replacements[token]):\n",
    "                restored.append(replacements[token][index])\n",
    "                counts[token] += 1\n",
    "            else:\n",
    "                # Trường hợp placeholder nhiều hơn số bản ghi, giữ nguyên\n",
    "                restored.append(token)\n",
    "        else:\n",
    "            restored.append(token)\n",
    "\n",
    "    return restored"
   ]
  },
  {
   "cell_type": "code",
   "execution_count": 20,
   "id": "aca692fe",
   "metadata": {
    "execution": {
     "iopub.execute_input": "2025-06-28T06:05:56.455185Z",
     "iopub.status.busy": "2025-06-28T06:05:56.454983Z",
     "iopub.status.idle": "2025-06-28T06:05:56.460221Z",
     "shell.execute_reply": "2025-06-28T06:05:56.459539Z"
    },
    "papermill": {
     "duration": 0.012742,
     "end_time": "2025-06-28T06:05:56.461380",
     "exception": false,
     "start_time": "2025-06-28T06:05:56.448638",
     "status": "completed"
    },
    "tags": []
   },
   "outputs": [],
   "source": [
    "def correct_text(input_text, vocab, ngrams, transition_prob, context_totals, alpha):\n",
    "    # print(\"\\n===== Bắt đầu sửa lỗi chính tả =====\")\n",
    "\n",
    "    # 1. Làm sạch dấu câu\n",
    "    input_text = clean_punctuation(input_text.lower())\n",
    "\n",
    "    # 2. Chuẩn hóa và ghi nhớ các token đặc biệt\n",
    "    cleaned_text, replacements = clean_text_with_mapping(input_text.lower())\n",
    "    \n",
    "    # 3. Tách từ (với xử lý placeholder dính liền)\n",
    "    tokens = custom_tokenize(cleaned_text)\n",
    "\n",
    "    # print(f\"Tách từ sau clean: {tokens}\")\n",
    "    # print(f\"Replacements: {replacements}\")\n",
    "\n",
    "    # 4. Xác định token cần sửa và giữ nguyên\n",
    "    special_placeholders = set(replacements.keys())\n",
    "    to_correct = []\n",
    "    mask = []  # True nếu cần sửa\n",
    "\n",
    "    for t in tokens:\n",
    "        if t in special_placeholders:\n",
    "            to_correct.append(t)\n",
    "            mask.append(False)\n",
    "        else:\n",
    "            to_correct.append(t)\n",
    "            mask.append(True)\n",
    "\n",
    "    # 5. Sửa lỗi chính tả bằng Viterbi\n",
    "    # tokens = [t for t, m in zip(to_correct, mask) if m]\n",
    "    # print(\"input for viterbi \", tokens)\n",
    "    corrected_tokens = viterbi(tokens, vocab, ngrams, transition_prob, context_totals, alpha)\n",
    "    corrected_tokens = corrected_tokens[2:-2]\n",
    "    # print(\"corrected tokens \",corrected_tokens)\n",
    "    \n",
    "    # 7. Khôi phục placeholder thành gốc\n",
    "    restored = restore_tokens(corrected_tokens, replacements)\n",
    "\n",
    "    # 8. Ghép lại thành văn bản hoàn chỉnh\n",
    "    corrected_text = ' '.join(restored)\n",
    "\n",
    "    corrected_text = clean_punctuation(corrected_text)\n",
    "\n",
    "    # print(\"\\n===== Hoàn tất sửa lỗi =====\")\n",
    "    # print(f\"Kết quả sau sửa: {corrected_text}\")\n",
    "\n",
    "    return corrected_text"
   ]
  },
  {
   "cell_type": "code",
   "execution_count": 21,
   "id": "38cd94a1",
   "metadata": {
    "collapsed": true,
    "execution": {
     "iopub.execute_input": "2025-06-28T06:05:56.473609Z",
     "iopub.status.busy": "2025-06-28T06:05:56.473419Z",
     "iopub.status.idle": "2025-06-28T06:05:59.299514Z",
     "shell.execute_reply": "2025-06-28T06:05:59.298741Z"
    },
    "jupyter": {
     "outputs_hidden": true
    },
    "papermill": {
     "duration": 2.835748,
     "end_time": "2025-06-28T06:05:59.302892",
     "exception": false,
     "start_time": "2025-06-28T06:05:56.467144",
     "status": "completed"
    },
    "tags": []
   },
   "outputs": [
    {
     "name": "stdout",
     "output_type": "stream",
     "text": [
      "82696\n",
      "{'vấu', 'bữa', 'composite', 'coworking', 'class', 'cay', 'mva', 'giáng', 'hẫng', 'dntn', 'kiền', 'ntm', 'omachi', 'hình', 'sứt', 'formaldehyde', 'thuyền', 'niêm', 'instagram', 'hại', 'fsra', 'hóc', 'ngặt', 'mong', 'sn', 'rubric', 'lại', 'sàn', 'xuyên', 'dịu', 'chiu', 'thiêm', 'nilon', 'khoăn', 'gvcn', 'rằng', 'kimbap', 'tsđb', 'loay', 'acfta', 'thánh', 'cent', 'khắt', 'nhật', 'oxy', 'luân', 'greek', 'móc', 'one', 'tân', 'mi', 'hưu', 'splunk', 'tiêu', 'mvc', 'oil', 'ích', 'thảm', 'mẹo', 'miều', 'iub', 'đà', 'coliform', 'jelacic', 'explained', 'vai', 'tdpb', 'heat', 'csvc', 'sính', 'sri', 'lazychin', 'true', 'tls', 'khích', 'bé', 'loài', 'rải', 'cisg', 'ndt', 'bms', 'ethernet', 'salads', 'p\\u200b', 'chị', 'chắp', 'lư', 'kn', 'ti', 'phủ', 'triệt', 'shehadi', 'tắc', 'biên', 'tk', 'ngợi', 'time', 'chậm', 'tùy', 'bobapop', 'fed', 'research', 'gium', 'lâm', 'lõm', 'thôn', 'tượng', 'giầy', 'tt', 'lte', 'nghẹt', 'quen', 'sững', 'boong', 'thung', 'hăng', 'forum', 'manpower', 'map', 'tráo', 'dặt', '+', 'chuốc', 'tể', 'tình', 'và', 'bangladesh', 'trục', 'say', 'đầu', 'bs', 'timeline', 'ct', 'hàng', 'án', 'thả', 'x', 'hiểm', 'ptntvn', 'qua', 'montgomery', 'hờ', 'kể', 'thô', 'đo', 'nam', '≥', 'david', 'homestay', 'hõm', 'hủy', 'tầng', 'feedforward', 'wichita', 'khoan', '–tn', 'biện', 'cấp', 'lgbt', 'nắng', 'mặn', 'dã', 'ico', 'khoắn', 'quyên', 'loading', 'xâm', 'thoải', 'coquantochuc', 'dpp', 'ifttt', 'mang', 'air', 'xk', 'nhi', 'nhn', 'làm', 'cần', 'globalgap', 'kothurkar', 'nhả', 'lay', 'ngọc', 'thắp', 'ucp', 'cọc', 'số', '’', 'câm', 'nhựa', 'milk', 'nq', 'value', 'khéo', 'sai', 'ave', 'bđs', 'tỉnh', 'vđt', 'pnj', 'brown', 'france', 'miếu', 'nút', 'mau', 'kém', 'tableau', 'aaker', 'dậm', 'khít', 'customer', 'lò', 'sko', 'dìm', 'iarp', 'btnmt', 'đóa', 'dbscan', 'hvn', 'ss', 'lược', 'dụ', 'trần', 'chiến', 'ktdh', 'pullantes', 'ga', 'cũ', 'gam', 'hcm', '<date>', 'sông', 'is', 'dán', 'nạ', 'nghia_viet_anh', 'rẽ', 'vksndtc', 'pan', 'what', 'kiđô', 'lạm', 'cú', 'thải', 'sạn', 'ngầm', 'nhịp', 'cs', 'dọn', 'doa', 'quế', 'răn', 'chìa', 'rod', 'minpts', 'bindingadapter', 'enter', 'lượt', 'dữ', 'lái', 'lãnh', 'sắc', 'consumer', 'marker', 'mị', 'phơ', 'túy', 'my', 'source', 'xá', 'dss', 'đế', 'khoáng', 'cdio', 'cho', 'ung', 'coating', 'hi', 'fsc', 'marketecology', 'nhóm', 'chủng', 'đam', 'nhị', 'cậu', 'loát', 'nm', 'khó', 'ngự', 'vũ', 'cậy', 'nhớ', 'làng', 'thận', 'mega', 'donor', 'se', 'nghiệp', 'càng', 'cqthtt', 'phim', 'nứt', 'tetrafloetilen', 'locator', 'dương', 'ctrl', 'computing', 'palmer', 'xóm', 'bctchn', 'dăm', 'bom', 'toan', 'nhuyễn', 'bịa', 'áo', 'dnbh', 'sợ', 'kg', 'phả', 'nói', 'ngao', 'leach', 'gắn', 'trí', 'thiện', 'cước', 'dndd', 'rào', 'tín', 'mũi', 'type', 'price', 'quãng', 'nêu', 'pedot', 'lăm', 'tháp', 'nghênh', 'quang', 'camnangceo', 'cell', 'rme', 'asean', 'ngừng', 'nhuận', 'do', 'khuấy', 'virusshare', 'bruner', 'ghép', 'niss', 'thêm', 'eigenvalua', 'liêm', 'vietjetair', 'lụi', 'hỏng', 'cigar', 'lạ', 'rau', 'nuốt', 'cy', 'iso', 'meraki', 'waton', 'duyên', 'laravel', 'container', 'kạn', 'trắc', 'yêu', 'ids', 'cồng', 'này', 'pepsi', 'reply', 'quasimodo', 'read', 'font', 'bim', 'đôlômit', 'rệt', 'rreq', 'ngốc', 'scatter', 'hóa', 'lực', 'mwg', 'daemonlogger', 'ngọng', 'thắn', 'lhđn', 'no', 'ngập', 'cdgnl', 'vĩnh', 'nnl', 'mckinsey', 'thạc', 'chat', 'cấm', 'tác', 'kèm', 'dưới', 'sò', 'giơnevơ', 'rạch', 'square', 'phong', 'doppler', 'the', 'cá', 'lan', 'labour', 'zhou', 'nua', 'acceptor', 'hữu', 'xô', 'tcp', 'vẫy', 'fi', 'dời', 'giãn', 'vẻ', 'intenational', 'led', 'sinh', 'evfta', 'nguồn', 'siems', 'dianetillman', 'ồn', 'object', 'mốc', 'up', 'giường', 'nagadaki', 'ưng', 'trước', 'trả', 'tẻ', 'sắt', 'chà', 'khuôn', 'vng', 'phun', 'sứ', 'lui', 'húng', 'tẩy', 'header', 'tụt', 'khiển', 'linh', 'lịch', 'cộng', 'testing', 'vectơ', 'phiên', 'ngũ', 'nổi', 'trai', 'thị', 'nhánh', 'crsis', 'xương', 'vẫn', 'backpropagation', 'kẹp', 'fading', 'ái', 'cắm', 'ibm', 'engine', 'swot', 'or', 'angular', 'analysis', 'vecto', 'nhnn', 'ngơi', 'hở', 'll', 'hành', 'flickr', 'êke', 'phạm', 'kỹ', 'lễ', 'vinatex', 'euro', 'like', 'sưu', 'email', 'gà', 'mỳ', 'sum', 'đoạt', 'half', 'nhắc', 'tất', 'trắng', 'tp', 'thoảng', 'lênin', 'lập', 'tray', 'tan', 'quẳng', 'côp', 'cao', 'vùng', 'vuông', 'tap', 'thuẫn', 'lố', 'thịt', 'thời', 'loan', 'dột', 'parasuraman', 'sóng', 'áng', 'neighbouring', 'load', 'nhầm', 'emissionprices', 'kx', 'đanh', 'chịu', 'kt', 'thổi', 'model', 'luận', 'đương', 'vkfta', 'tựu', 'sony', 'đám', 'chợ', 'xoa', 'bill', 'giếng', 'hỗ', 'chạy', 'trật', 'atm', 'xcơ', '(', 'sét', 'kít', 'mũ', 'ftp', '\\u200bcopy', 'peace', 'tôn', 'đồi', 'thế', 'backend', 'hố', 'yang', 'mờ', 'cờ', 'interface', 'quartz', 'tivi', 'dis', 'lẻ', 'hãm', 'đoan', 'resource', 'đua', 'share', 'sản', 'cố', 'lookalive', 'iphone', 'guốc', 'lợi', 'ngo', 'xăng', 'z', 'facebook', 'ngon', 'nhập', 'trấn', 'chọc', 'xay', 'blu', 'víu', 'triết', 'juergen', 'thiệp', 'atnđ', 'areas', 'muốn', 'chùm', 'mổ', 'giỏ', 'gắng', 'năng', 'rail', 'đã', 'đang', 'sale', 'vạn', 'rõ', 'too', 'bmw', 'treo', 'vácxin', 'điêu', 'hà', 'sợi', 'góa', 'max\\u200b', 'amazon', 'lau', 'made', 'postman', 'gds', 'java', 'cong', 'tường', 'mộc', 'đen', 'uy', 'long', 'khoát', 'vốn', 'sdn', 'hireme', 'nhậy', 'xoay', 'sức', 'root', 'gong', 'kiệt', 'speed', 'von', 'bản', 'coppha', 'youtube', 'tơ', 'hydro', 'ttg', 'chồng', 'sundström', 'vơi', 'ủy', 'm', 'gián', 'ubtvqh', 'bịch', 'shawn', 'lồi', 'heo', 'thổ', 'gốm', 'đũa', 'lửng', 'phổ', 'nodejs', 'archibald', 'bớp', 'dàng', 'icor', 'wessels', 'ksđt', 'đạc', 'gdđh', 'vượt', 'caravelle', 'xoăn', 'transform', 'el', 'lóa', 'mập', 'giây', 'đăng', 'những', 'vôi', 'mồ', 'nhăn', 'ah', 'sig', 'thủy_lớp', 'least', 'pwa', 'lùi', 'ni', 'thản', 'nhỏ', 'nghiệt', 'egress', 'clr', '–', 'ban', 'stem', 'ssp', 'hotline', 'sternthal', 'access_token', 'management', 'api', 'mix', 'vhnt', 'classroom', 'ruồi', 'lđn', 'bảy', 'lạc', 'straw', 'hydrocacbon', 'olof', 'phán', 'vựng', 'oc', 'arndt', 'bứt', 'tr', 'khô', 'action', 'digital', 'trung', 'go', 'members', 'thiệu', 'ecu', 'đảng', 'chiêm', 'huyện', 'bướm', 'bà', 'nsnn', 'array', 'chiểu', 'cargo', 'trễ', 'bắn', 'schlevogt', 'tphcm', 'digitool', 'thượng', 'clinton', 'sectional', 'vlr', 'thường', 'cái', 'vần', 'chư', 'đình', 'duy', 'sơ', 'combo', 'phấn', 'bgh', 'ha', 'vũng', 'hỏa', 'th', 'variance', 'cstt', 'đặc', 'êm', 'tận', 'chớ', 'riềng', 'cỡ', 'cobbler', 'lầm', 'băn', 'chẽ', 'aws', 'sac', 'thụ', 'vitme', 'benford', 'căng', 'ông', 'iot', 'www', 'đùm', 'mai', 'chúc', 'ngắm', 'chân', 'will', 'táp', 'thừa', 'gigabit', ';', 'xua', 'cám', 'tt–btc', 'publisher', 'đoán', 'audit', 'vi', 'apec', 'dậy', 'tù', 'bvmt', 'aci', 'houses', 'gù', 'dinh', 'amadeo', 'biết', 'vả', 'linux', 'uất', 'ipad', 'ngôn', 'sẻ', 'khử', 'bọn', 'ricardo', 'nsđp', 'lào', 'đậm', 'dè', 'tim', 'kl', '𝛼', 'thóc', 'dẹp', 'mason', 'mù', 'xuất', 'ar', 'tnhh', 'nhẩm', 'gặt', 'gf', 'thậm', 'nếu', 'nôn', 'thiết', 'thăng', 'big', 'edo', 'sarbanes', 'maasz', 'vương', 'thìa', 'pp', 'bloomberg', 'usecase', 'hoay', '?', 'kasier', 'btc', 'phùn', 'ai', 'sọc', 'là', 'chuồng', 'khôn', 'luật', 'thoại', 'cpe', '<config>', 'nhét', 'maketing', 'thửa', 'rủi', 'tuy', 'dễ', 'nhãn', 'luyến', 'spam', 'ttqt', 'phai', 'ở', 'tntn', 'rỉ', 'dùng', 'rỗng', 'ctg', 'me', 'đẩy', 'gánh', 'maslow', 'viên', 'tàng', 'loucanova', 'sink', 'ủng', 'reliability', 'comparative', 'lam', '<num>', 'buôn', 'ats', 'đặt', 'sở', 'dỏm', 'phường', 'bồi', 'osco', 'routing', 'gis', 'quở', 'thiêng', 'cáu', 'overshoot', 'mượt', 'htl', 'ngát', 'tổng', 'có', 'pgs', 'xim', 'cầm', 'qcvn', 'vỡ', 'cooperation', 'hàn', 'ẩm', 'makiguchi', 'tong', 'trừu', 'bias', 'hẻm', 'tủ', 'socket', 'lổ', 'paved', 'sensor', 'liêng', 'việt', 'heteroskedasticity', 'bồng', 'mỗi', 'sỹ', 'cecem', 'chuộng', 'đinh', 'hãi', 'láng', 'gmsc', 'dingtea', 'sụt', 'khiến', 'vnn', 'bong', 'vắng', 'hoa', 'xi', 'héo', 'văn', 'dục', 'cật', 'open', 'ifra', 'tổ', 'pci', 'rè', 'tpbank', 'transfe', 'thỉnh', 'trò', 'nhiễu', 'rẻo', 'dày', 'cồn', 'hst', 'vahs', 'cuộc', 'route', 'cứu', 'giảm', 'thiểu', 'rẻ', 'súc', 'lúc', 'standards', 'giồng', 'ix', 'thục', 'meyer', 'hệ', 'xả', 'đh', 'gối', 'spr', 'cellfiles', 'phên', 'gia', 'bên', 'trạm', 'lộ', 'bộc', 'vân', 'mua', 'nề', 'thoáng', 'xh', 'mac', 'thặng', 'bkhcn', 'sao', 'riêng', 'nghiên', 'họ', 'gốc', 'màu', 'nhạy', 'xoắn', 'nhàng', 'bụt', 'switch', 'hyundai', 'verification', 'thầu', 'hvmhnh', 'thí', 'hoang', 'dậu', 'sụp', 'mili', 'xơ', 'tẩu', 'thần', 'wimax', 'thứ', 'khinh', 'sưởi', 'dưỡng', 'cptpp', 'sẹo', 'titman', 'compute', 'ỷ', 'tọa', 'unesco', 'kẹt', 'tích', 'pearson', '-', 'một', 'sunmerged', 'đồ', 'validation', 'lo', 'haiku', 'lavret', 'millward', 'gắp', 'vsat', 'core', 'sênô', 'khốn', 'muối', 'thiều', 'ơn', 'găng', 'chôn', 'iz', 'green', 'urgur', 'search', 'shih', 'người', 'bén', 'lẫy', 'tùng', 'trầu', 'sector', 'mẽ', 'nhĩ', 'tuabin', 'mắm', 'frame', 'vay', 'gọn', 'otto', 'bẵng', 'york', 'cụp', 'tiền', 'alley', 'vjepa', 'ngừa', 'duyệt', 'kêu', 'xuyến', 'lãi', 'nhát', 'đp', 'cách', 'nhặt', 'xii', 'hđtp', 'tháng', 'thụy', 'pierre', 'start', 'hiv', 'quyết', 'hub', 'tái', 'cứng', 'xảy', '–mix', 'âu', 'logic', 'thủy', 'okinawa', 'rét', 'hoài', 'rosli', 'ánh', 'aditxterrec', 'xvi', 'lb', 'đĩa', 'màng', 'thành', 'giàu', 'trùm', 'xiết', 'nhút', 'things', 'viii', 'teraform', 'giục', 'bltths', 'bây', 'cup', 'independent', 'thông', 'dải', 'đàn', 'ren', 'xướng', 'utc', 'rườm', 'wan', 'dhth', 'aren', 'quận', 'fishbein', 'cào', 'ofdma', 'sương', 'ad', 'dắt', 'vênh', 'thập', 'ác', 'nhậm', 'ebanking', 'hùng', 'dượt', 'hô', 'kính', 'balancing', 'xd', 'dứt', 'đâm', 'vọng', 'test', 'tuyến', 'tri', 'wto', 'blttds', 'logstash', 'nắp', 'colgate', 'og', 'application', 'đỗi', 'ngạc', 'trống', 'load_longterm', 'trát', 'với', 'dội', 'ntd', 'spss', 'canh', 'inox', 'cọ', 'sống', 'ngờ', 'plus', 'mạ', 'nung', 'buộc', 'tầm', 'menu', 'hưởng', 'lận', 'exciton', 'tranh', 'mỡ', 'highlands', 'lọ', 'khôi', 'option', 'dạy', 'đại', 'đần', 'ray', 'gỡ', 'lơ', 'gpmb', 'bẩn', 'kiệm', 'nhắn', 'htx', 'ajcep', 'nuôi', 'miss', 'load_midterm', 'mass', 'hanchuan', 'maxwell', 'then', 'business', 'mắc', 'hứng', 'efa', 'phân', 'đơ', 'ireland', 'mậu', 'kiếm', 'shb', 'phông', 'tcvm', 'khứu', 'ôi', 'giậm', 'razrabotka', 'lăng', 'xoáy', 'freedman', 'tội', 'lũng', 'dtt', 'nhà', 'xml', 'vcđ', 'friendster', 'xe', 'logarit', 'xứ', 'ân', 'bê', 'false', 'who', 'sầu', 'lỗ', 'ưu', 'đi', 'nén', 'viral', 'xxpt', 'neo', 'nowpos', 'chằng', 'tổn', 'thể', 'sảo', 'vây', 'viếng', 'sưa', 'wifi', 'khoai', 'coeficient', 'kênh', 'broadman', 'vì', 'dnnn', 'member', 'akfta', 'khuynh', 'curren', 'bừng', 'institute', 'sw', 'tpb', 'phù', 'chặn', 'thpt', 'smart', 'ao', 'build', 'ocr', 'dầm', 'vàn', 'mãi', 'text', 'lương', 'rưỡi', 'nhấn', 'tcđt', 'dem', 'p', 'ann', 'ạt', 'kts', 'hợt', 'đưa', 'gateway', 'hào', 'driving', 'vít', 'dây', 'bền', 'mysql', 'chênh', 'trùng', 'min', 'nào', 'scaps', 'score', 'nhấp', 'zealand', 'đảo', 'mạnh', 'cpi', 'vùi', 'lột', 'sáp', 'khoảng', 'win', 'thạo', 'dang', 'lúa', 'chiêu', 'bctc', 'lene', 'hàm', 'nàn', 'nghèo', 'zimbabwe', 'đáo', 'gộp', 'mắt', 'của', 'knth', 'elb', 'lũy', 'gồ', 'nghe', 'bungari', 'android', 'npv', 'tưới', 'host', 'vật', 'tràng', 'nấc', 'ueb', 'cf', 'bọt', 'ingress', 'bừa', 'lưỡng', 'ncovi', 'serving', 'hầm', 'léo', 'quốc', 'silic', 'aaa', 'openwrt', 'chuyển', 'nhục', 'rain', 'xo', 'nhtm', 'rửa', 'tskh', 'li', 'ong', 'sheet', 'nhọn', 'dừng', 'lặp', 'buýt', 'public', 'william', 'kỷ', 'stata', 'dù', 'request', 'cov', 'xilanh', 'nguội', 'vụ', 'đắp', 'exchange', 'phụ', 'abc', 'tea', 'chui', 'nương', 'đá', 'tv', 'ổ', 'cát', 'xở', 'tám', 'trọc', 'ngoại', 'carbon', 'gcn', 'bội', 'nhọc', 'truyện', 'gbps', 'zheng', 'xét', 'sạt', 'đôn', 'tiễu', 'phẳng', 'tỷ', 'vành', 'aneco', 'niña', 'anten', 'kill', 'scheduler', '#', 'điển', 'đời', 'độ', 'dịch', 'cn', 'dựa', 'moftec', 'date', 'vertical', 'discovery', 'seo', 'lõi', 'mesh', 'cronnin', 'quân', 'nhằm', 'zhang', 'cử', 'không', 'reo', 'mỏ', 'barcbara', 'hậu', 'hoatieu', 'fiber', 'lefebvre', 'config', 'to', 'đó', 'cisco', 'mil', 'bí', 'market', 'môn', 'phế', 'quầy', 'suricata', 'xưng', 'băng', 'bệnh', 'thua', 'sập', 'biều', 'juliet', 'trigger', 'nlos', 'bcđkthn', 'metadata', 'carry', 'mongodb', 'ros', 'cõng', 'giống', 'lạp', 'freudenthal', 'toán', 'đắng', 'cntt', 'râm', 'cd', 'microsoft', 'webadmin', 'đúng', 'dmz', 'giá', 'dâm', 'umts', 'wipo', 'hut', 'đụng', 'circle', 'bổ', 'nvl', 'tàu', 'trong', 'khuẩn', 'cánh', 'likert', 'ngủi', 'lân', 'nơi', '<target>', 'hổi', 'cạo', 'mì', 'ttkt', 'ttn', 'soni', 'mạch', 'mạn', 'vinfast', 'dặn', 'đun', 'mimo', 'rối', 'kông', 'trở', 'phật', 'vinamilk', 'bôi', 'chuột', 'viển', 'delios', 'donald', 'wom', 'docking', 'peroxid', 'voc', 'rách', 'từng', 'nới', 'phẩm', 'cõi', 'razak', 'dạo', 'việc', 'file', 'cừ', 'tập', 'đảm', 'thuế', 'rosenstock', 'robot', 'hiệp', 'phốt', 'kva', 'nó', 'gắm', 'pgd', 'uống', 'góc', 'phúc', 'saemaul', 'khẩu', 'biến', 'giọt', 'tcm', 'edition', 'mầm', 'tễ', 'quảng', 'cà', 'xdcb', 'vặt', 'dòng', 'ghét', 'crawler', 'gặp', 'tế', 'viết', 'nd', 'rkt', 'thùng', 'nãy', 'rừng', 'thư', 'gqvđ', 'trù', 'mart', 'arthur', 'ngữ', 'đức', 'chừng', 'quành', 'mưa', 'gây', 'thơ', 'c', 'khiêm', 'so', 'phu', 'tốc', 'smet', 'tài', 'gian', 'nguy', 'mỉm', 'măng', 'thai', 'hít', 'dh', 'wescott', 'xix', 'ném', 'trưởng', 'sườn', 'khoái', 'ols', 'vàm', 'ham', 'bhxh', 'khen', 'insieme', 'road', 'ý', 'bài', 'nđ–cp', 'lĩnh', 'faisal', 'nhòa', 'anova', 'kìm', 'tươi', 'issue', 'tệp', 'hung', 'nlth', 'chơi', 'sớm', 'biti', 'rà', 'bhyt', 'lanka', 'lụy', 'lô', 'kín', 'messages', 'trích', 'dáng', 'thốn', 'vua', 'đc', 'tìm', 'vóc', 'ghế', 'sửa', 'giận', 'sem', 'nịnh', 'động', 'cnv', 'trademap', 'trăn', 'rô', 'khỏe', 'txt', 'càn', 'calorimeter', 'chăm', 'tdst', 'nhu', 'anselin', 'tiếc', 'kttn', 'sotaro', 'ngài', 'hoan', 'napier', 'vicenza', 'vách', 'economy', 'thiên', 'phích', 'hđtn', 'truy', 'miến', 'general', 'học', 'mốt', 'tiễn', 'nlmt', 'mắn', 'stft', 'non', 'tên', 'google', 'tôm', 'nguyễn', 'trump', 'nhịn', 'rạng', 'điều', 'que', 'rãnh', 'huyễn', 'et', 'tmcp', 'vnđ', 'tách', 'mây', 'hướng', 'nữ', 'ngoài', 'khung', 'sacombank', 'all', 'ngọn', 'vinalink', 'yên', 'hđxxpt', 'thự', 'esiyok', 'download', 'trị', 'bấy', 'nodeb', 'snapfish', 'đòn', 'lẽ', 'toyota', 'khan', 'rỡ', 'hận', 'nê', 'chứ', 'dề', 'đáp', 'attitudes', 'soi', 'múa', 'broker', 'nhìn', 'thòi', 'quan', 'khóa', 'lnw', 'đói', 'chuyến', 'nhất', 'openflow', 'tràn', 'soup', 'má', 'dư', 'chay', 'maps', 'cúm', 'm²', 'nhẹ', 'nxb', 'tuyển', 'tftp', 'gt', 'ru', 'hài', 'arabica', 'phối', 'thúy', 'kdqt', 'misa', 'lánh', 'notification', 'phoebus', 'kenvin', 'kalman', 'lở', 'sốc', 'https', 'influencing', 'rụng', 'đổi', 'keller', 'vác', 'nảy', 'mềm', 'cau', 'branch', 'chứa', 'bơm', 'bức', 'huých', 'thắng', 'norris', 'ngưỡng', 'tuyệt', 'chỉ', 'sóc', 'server', 'đổ', 'rá', 'hằng', 'địch', 'sảng', 'vẹn', 'quy', 'tonne', 'stress', 'diêm', 'colab', 'phần', 'am', 'sắn', 'lượn', 'nhấc', 'common', 'bồn', 'lầy', 'căn', 'bt', 'bã', 'điêden', 'cai', 'dai', 'nghiện', 'phác', 'lật', 'đống', 'pressure', 'sovét', 'cuộn', 'staple', 'lỏng', 'motor', 'csv', 'haberler', 'background', 'oliver', 'pss', 'vã', 'tesla', 'bptt', 'khúc', 'trên', 'tống', 'pali', 'dabla', 'phớt', 'dạ', 'hầu', 'any', 'đốt', 'bát', 'xích', 'nhằn', 'tuyết', 'admission', 'lốc', 'lôgic', 'rud', 'ty', 'gơ', 'rút', 'ipsos', 'cđts', 'kotler', 'pakistan', 'chạp', 'lên', 'marketing', 'xảo', 'mùi', 'quặc', 'form', 'dàn', 'nghĩnh', 'ridge', 'quạt', 'datacenter', 'return', 'tuyn', 'thomsson', 'hợi', 'giành', 'tum', 'nh', 'authoring', 'mẹ', 'multimedia', 'hiểu', 'roe', 'doanh', 'sắm', 'đạt', 'khách', 'dường', 'admimistration', 'lý', 'ips', 'innova', 'liệu', 'mênh', 'hường', 'vec', 'đầy', 'kimberly', 'nhuần', 'mức', 'techniques', 'xicloankan', 'calculator', 'ghi', 'đhqghn', 'dawk', 'cởi', 'khiếu', 'admin', 'bìa', 'bidv', 'nốt', 'weisheng', 'khán', 'dưa', 'hồ', 'lanh', 'nạo', 'đốc', 'chiêng', 'inverter', 'được', 'nồng', 'xen', 'nhãng', 'dbm', 'cầu', 'tò', 'sa', 'trân', 'mảnh', 'mặt', '}', 'nhượng', 'notebook', 'ron', 'mừng', 'saigontourist', 'margarine', 'app', 'chiếc', 'đấy', 'chờ', 'giọng', 'gantt', 'nôi', 'prusa', 'uav', 'and', 'mình', 'ráp', 'k', 'sẽ', 'lòa', 'tư', 'đẳng', 'honda', 'far', 'khao', 'pisa', 'sar', 'matlad', 'bám', 'coffee', 'nhúng', 'đỡ', 'định', 'cbql', 'bởi', 'nã', 'đứt', 'vời', 'tán', 'leiva', 'dò', 'đậu', 'ốm', 'bmi', 'tia', 'vận', 'ocop', 'để', 'cnh', 'code', 'hết', 'blackwell', 'bỏng', 'flipped', 'giấu', 'thui', 'mỏng', 'bán', 'kiêu', 'fletcher', 'link', 'chợt', 'media', 'mol', 'kỉ', 'ào', 'mĩ', 'house', 'shopify', 'bấm', 'kwan', 'cua', 'bờ', 'đường', 'thọ', 'wcdma', 'cấy', 'oan', 'bác', 'pc', 'ngẫu', 'mazzarol', 'caren', 'bày', 'kỉnh', 'unfccc', 'thình', 'oecd', 'âm', 'chém', 'framework', 'mỏi', 'nghiệm', 'che', 'khiêu', 'cuspen', 'tỏa', 'ms', 'lã', 'ta', 'bạch', 'đợt', 'rạc', 'diot', 'chấn', 'chói', 'pls', 'database', 'vào', 'nặng', 'q', 'vắt', 'nhẹn', 'este', 'gujion', 'dna', 'dám', 'lướt', 'enron', 'tuấn', 'park', 'momen', 'enso', 'baemin', '%', 'toe', 'chè', 'hoãn', 'bạn', 'gom', 'đếm', 'policy', 'cháy', 'windows', 'techdata', 'súng', 'xông', 'thẳng', 'dồi', 'triển', 'tạo', 'nữa', 'step', 'flexible', 'cày', 'hổng', 'competence', 'tbdh', 'vạt', 'kề', 'gói', 'đích', 'giám', 'trốn', 'kho', 'bánh', 'hút', 'adn', 'fedma', 'ppp', 'chục', 'thính', 'franz', 'áp', 'tchc', 'karidis', 'phi', 'tảo', 'cuốn', 'khxhvn', 'olkin', 'clb', 'axetic', 'xói', 'rtt', 'tày', 'safeguard', 'tướng', 'lồ', 'short', 'net', 'mại', 'sảnh', 'cấu', 'nhở', 'văn', 'nhuệ', '<start1>', 'rơm', 'đào', '<', 'nỗ', 'andersen', 'bãi', 'sờ', 'icon', 'alexa', 'bở', 'find', 'plugin', 'tráng', 'transaction', 'khoản', 'xúi', 'tube', 'transexual', 'trẻ', 'tang', 'cpu', 'gì', 'pvc', 'dẫm', 'bitum', 'lão', 'crm', 'w', 'ngụy', 'niềm', 'gen', 'output', 'mẫu', 'cận', 'cam', 'sộ', 'terraformer', 'group', 'acquisition', 'colombia', 'corona', 'dần', 'éo', 'tokyo', 'area', 'rscp', 'log', 'iac', 'cronch', 'nội', 'cân', 'hoại', 'đcsvn', 'bè', 'cài', 'rabbitmq', 'nstư', 'emgel', 'chật', 'yammer', 'trọn', 'ktgd', 'miligam', 'ký', 'rpm', 'component', 'bầu', 'crossover', 'đặng', 'lưới', 'nền', 'xạ', 'kon', 'clients', 'kiểm', 'phút', 'trạng', 'euromonitor', 'cáp', 'wi', 'tăng', 'fdi', 'vết', 'lúng', 'ansible', 'dài', 'nét', 'thử', 'kiat', 'vector', 'hoán', 'α', 'phê', 'downlink', 'mà', 'thu', 'ói', 'global', 'thao', 'singapore', 'standard', 'reasoned', 'thấy', 'giới', 'thỏm', 'thắt', 'coi', 'lừa', 'ơi', 'view', 'token', 'qlnl', 'đớn', 'trucking', 'tems', 'á', 'quát', 'terry', 'nùng', 'icmp', 'quỷ', 'blockchain', 'ozon', 'bound', 'trầy', 'kiều', 'diệp', 'eigenvalue', 'ngộ', 'hair', 'mã', 'đò', 'golf', 'h', 'chàng', 'cù', 'alpha', 'hối', 'byte', 'nơ', 'song', 'ngồi', 'phanh', 'vậy', 'ral', 'tmđt', 'sirisack', 'các', 'lactic', 'efas', 'buồng', 'venice', 'thcs', 'samsung', 'phải', 'lỗi', 'phó', 'gầy', 'ptnt', 'tạp', 'tắt', 'fastfood', 'fcm', 'le', 'total', 'sasser', 'hưng', 'tóm', 'chlb', 'ipos', 'kì', 'ankan', 'vẽ', 'ngỡ', 'dở', 'henri', '>', 'soichiro', 'tớ', 'tỉ', 'sms', 'báu', 'tàn', 'nst', 'binh', 'bazan', 'xơn', 'cữ', 'taylor', 'tấn', 'khẳng', 'xách', 'eurepgap', 'lít', 'sơn', 'bon', 'ax', 'kwp', 'unicast', 'tiêm', 'bông', 'trứng', 'ăng', '/', 'toàn', 'findjobs', 'sánh', 'ven', 'nghiêng', 'lần', 'hecta', '\\u200bbao', 'túi', 'đáy', 'khuếch', 'gàng', 'trâu', 'cached', 'mạc', 'thờ', 'bến', 'lựa', 'lớp', 'ớt', 'huấn', 'github', 'điệp', 'khi', 'dao', 'khăn', 'xhtd', 'pcb', 'iras', 'tịnh', 'lìm', 'tiki', 'prudential', 'ngưng', 'maersk', 'lứa', 'nâng', 'apple', 'sun', 'phô', 'rèn', 'bùi', 'duật', 'nano', 'lài', 'extracted', 'nghị', 'tô', 'polya', 'khắc', 'gạn', 'giã', 'mún', 'nxbgd', 'quay', 'dr', 'oai', 'for', 'trầm', 'css', 'tụng', 'dẻo', 'nhct', 'edvardsson', 'mòn', 'trực', '≤', 'elastic', 'lút', 'nike', 'hơi', 'blog', 'academy', 'hun', 'chữ', 'thép', 'còi', 'đạn', 'truyền', 'talk', 'rish', 'hãng', 'ipa', 'cảng', 'khe', 'dọa', 'ngay', 'vàng', 'tbgd', 'chánh', 'asem', 'rrep', 'kiến', 'ngần', 'chẳng', 'apache', 'khớp', 'ảnh', 'bỉnh', 'giao', 'ugur', 'tụy', 'thà', 'grid', 'ương', 'ngắn', 'flash', 'brexit', 'lắng', 'chưa', 'ức', 'phơi', 'plvn', 'dọc', 'xít', 'apl', 'phú', 'greendragon', 'showroom', 'masan', 'cảm', 'hạ', 'hát', 'blahna', 'ecef', 'benzen', 'vietnam', 'mùa', 'phục', 'bắc', 'khủng', 'bốn', 'chuyện', 'uplink', 'gallium', 'ngạn', 'agribank', 'tre', 'trông', 'rcp', 'hđh', 'ntts', 'huy', 'đỉnh', 'isalive', 'stator', 'system', 'bank', '℃', 'mét', 'nghề', 'cổ', 'phiện', 'bận', 'cvđc', 'cường', 'phím', 'vinamarine', 'ovretveit', 'ngắt', 'niệm', 'tms', 'qgis', 'phép', 'unit', 'bandwidth', 'môi', 'chụp', 'túc', 'xy', 'sgsn', 'thảo', 'thủ', 'vừa', 'dân', 'ngột', 'quanh', 'trào', 'roysamb', 'thái', 'cục', 'dvc', 'trơn', 'mông', 'diesel', 'vu', 'an', 'ít', 'miệt', 'services', 'xuôi', 'informed', 'xúc', 'phượng', 'nhno', 'starbucks', 'nối', 'slogan', 'nguyên', 'dtc', 'naive', 'đắm', 'kiểu', 'đấu', 'hot', 'hiền', 'võ', 'vcb', 'letter', 'fanpage', 'loại', 'vở', 'khâu', 'gót', 'cắp', 'suối', 'quên', 'chiết', 'nợ', 'hoặc', 'boxall', 'phạt', 'qlnn', 'khuỷu', 'ngừ', 'dll', 'soạn', 'asset', 'keswick', 'ngôi', 'tông', 'đắn', 'may', 'kê', 'accord', 'tết', 'nỏ', 'tấm', 'nhiên', 'xvii', ',', 'xiclô', 'defenders', 'chán', 'hay', 'trèo', 'ovs', 'youth', 'lăn', 'that', 'đeo', 'ricacdo', 'diamond', 'express', 'chần', 'rụt', 'white', 'optimor', 'hcl', 'vãnh', 'lẹ', 'luôn', ':', 'cbtd', 'bề', 'quả', 'shirley', 'táng', 'wr', 'trót', 'thưởng', 'tháo', 'vòi', 'nhận', 'hunter', 'đong', 'hđnd', 'quỹ', 'jd', 'thẻ', 'equivelent', 'mèo', 'rịa', 'echo', 'theo', 'rõm', 'ba', 'diễu', 'tn', 'chung', 'rộn', 'tiếng', 'softmax', 'hích', 'hư', 'trái', 'nhàn', 'cẩn', 'eo', 'khoảnh', 'luồng', 'lẽo', 'cipo', 'collider', 'struct', 'rộ', 'suốt', 'games', 'bại', 'hlkhxhvn', 'cic', 'mạng', 'sỏi', 'xuống', 'bố', 'xây', 'ndp', 'linkage', 'nhủ', 'gòn', 'ốt', 'tần', 'drx', 'mật', 'diệu', 'đt', 'gls', 'trưng', 'turbine', 'phố', 'hẳn', 'investigation', 'gb', 'trợ', 'diffserv', 'đựng', 'vnpt', 'ngạt', 'index', 'ấy', 'chuyền', 'nằm', 'ét', 'magadha', 'quản', 'pr', 'newton', 'davis', 'khiếm', 'uốn', 'gió', 'khác', 'xa', 'điaba', 'bốc', 'lí', 'cẩm', 'average', 'đập', 'cất', 'giúp', 'vãng', 'ghe', 'mômen', 'tại', 'dãi', 'chập', 'bạo', 'đing', 'khay', 'out', 'mg', 'xiclo', 'giặc', 'xộc', 'aloud', 'bành', 'nhô', 'vồ', 'megavnn', 'kibana', 'hạm', 'hunt', 'sắp', 'chấp', 'kind', 'resources', 'vô', 'dính', 'xứng', 'diết', 'phẫu', 'soát', 'khtn', 'diện', 'community', 'báo', 'lvpb', '<end2>', 'mẩu', 'nỗi', 'mượn', 'ị', 'tủi', 'co', 'hanosimex', 'dung', 'arsen', 'dí', 'trúc', 'bù', 'ra', 'armstrong', 'number', 'sỉ', 'function', 'theory', 'pdtd', 'chăng', 'asphalt', 'attribute', 'đỏng', 'mươi', 'hẻo', 'circular', 'araki', 'huyền', 'ecm', 'gdpt', 'lấn', 'oxi', 'nòng', 'foody', 'chíp', 'noi', 'còn', 'côn', 'agreement', 'dựng', 'chậu', 'quệ', 'plan', 'kép', 'module', 'lotteria', 'điểm', 'rôm', 'chắn', 'bóc', 'thạch', 'km', 'dunning', 'hồn', 'côi', 'úc', 'rời', 'đề', 'khái', 'rờ', 'terraform', 'dẫn', 'thay', 'phái', 'giản', '<source>', 'lông', 'khdn', 'deichmann', 'mến', 'thôi', 'phiền', 'bút', 'hoàng', 'colorado', 'veth', 'ekonomicheskoy', 'bay', 'it', 'đối', 'khoán', 'cloud', 'lẹo', 'sgk', 'hđlđ', 'bể', 'kẻ', 'shop', 'hiện', 'gay', 'mãnh', 'axit', 'user', 'bẫy', 'truất', 'dâng', 'chớp', 'tl', 'chen', 'npm', 'cracking', 'wasd', 'tự', 'thì', 'triều', 'vass', 'australia', 'sorento', 'sâu', 's', 'sev', 'rong', 'bò', 'kttt', 'hiên', 'kh', 'mini', 'huệ', 'keangnam', 'trọng', 'al', 'as', 'nể', 'iii', 'staff', 'tuyên', 'đa', 'xhcn', 'xót', 'lưỡi', 'silicon', 'bị', 'ép', '{', 'ngoan', 'sau', 'bopp', 'mái', 'esl', 'vnu', 'ngược', 'quà', 'asr', 'advanced', 'bớ', 'game', 'e', 'cosine', 'khoanh', 'rscm', 'kiêm', 'coc', 'qh', 'cạn', 'êđê', 'xocn', 'cm', 'la', 'news', 'thất', 'phe', 'cả', 'hiệu', 'keo', 'giấy', 'hứa', 'kraft', 'kết', 'ok', 'nhũng', 'ngưởng', 'chết', 'điệu', 'nắn', 'pak', 'chúng', 'trao', 'bằng', 'ngóng', 'bridge', 'building', 'kmol', 'dập', 'thuận', 'hồng', 'phỏng', 'chạm', 'pho', 'tòi', 'smartphone', 'fao', 'kpi', 'moscow', 'ừ', 'shs', 'phận', 'mẻ', 'hao', 'cluster', 'chép', 'úy', 'ten', 'ngất', 'sàng', 'parsed', 'kệ', 'chút', 'hiđrocacbon', 'max', 'cung', 'mời', 'tw', 'powerpoint', 'expiry', 'bảng', 'rượi', 'mobile', 'tu', 'hidrocacbon', 'đixrtervec', 'gửi', 'meh', 'round', 'ecdis', 'ảo', 'sayek', 'card', 'world', 'khói', 'location', 'ctxh', 'sự', 'lối', 'succuri', 'freelancer', 'khá', 'gmb', 'hắng', 'anken', 'fe', 'miền', 'cống', 'ma', 'đãi', 'branc', 'mới', 'xem', 'đến', 'nộp', 'geogebra', 'loạt', 'rang', 'paine', 'tsunesaburo', 'vcd', 'ráo', 'ads', 'csn', 'mail', 'vãi', 'sha', 'sếp', 'trải', ']', 'tinh', 'rác', 'thò', 'shouldcomponentupdate', 'thạnh', 'mxh', 'hy', 'tuệ', 'tắn', 'nghiêm', 'golang', 'chuỗi', 'trinh', 'dằn', 'mô', 'francisco', 'thuyết', 'thanh', 'nhạc', 'tiết', 'lồng', 'spin', '°', 'richardson', 'oda', 'gdkns', 'nhiệt', 'trap', 'hoành', 'khốc', 'biển', 'hụt', 'lành', 'fresh', 'lớn', 'mười', 'van', 'rcđ', 'joan', 'châu', 'cốt', 'hoạn', 'nhuộm', 'nản', 'xao', 'chào', 'cụ', 'thi', 'plug', 'ip', 'roto', 'forbes', 'giờ', 'vất', 'đính', 'đóng', 'node', 'liên', 'già', 'đỗ', 'dự', 'thấp', 'xử', '±', 'sổ', 'work', 'chở', 'commands', 'cronbach', 'lức', 'hermann', 'dệt', 'xắt', 'lẫn', 'hắc', 'tđh', 'bóng', 'bào', 'usd', 'cô', 'bđkh', 'clo', 'cross', 'sử', 'gartner', 'lát', 'handover', 'activating', 'bắp', 'era', 'farmstay', 'urê', 'sòng', 'dào', 'kheo', 'suất', 'job', 'lún', 'cieślik', 'huế', 'cdtm', 'y', 'ạ', 'nóng', 'nga', 'snack', 'sales', 'thưa', 'ngu', 'yểm', 'bayes', 'liềm', 'đạo', 'đắk', 'if', 'top', 'vd', 'khỏi', 'bắt', 'sướng', 'xỉ', 'nghịch', 'metro', 'kia', 'thân', 'chỗ', 'ủ', 'phản', 'hỉ', 'ii', 'giềng', 'package', 'thầm', 'huyết', 'chọn', 'khcn', 'sdk', 'lường', 'tin', 'philippines', 'lao', 'tool', 'polymer', 'vui', 'chu', 'mnes', 'dưng', 'gvhd', 'csr', 'unfa', 'phát', '&', 'đãng', 'rusell', 'giáo', 'dị', 'mc', 'cập', 'thích', 'nhâm', 'mou', 'xanh', 'chóa', 'lọc', 'lãng', 'halogen', 'chờn', 'lụng', 'sxkd', 'tật', 'xin', 'durbin', 'gõ', 'rh', 'thtt', 'rủa', 'ghềnh', 'bớt', 'bùng', 'mài', 'khả', 'xuân', 'supper', 'axít', 'nửa', 'đẹp', 'ấm', 'thủng', 'hu', 'hảo', 'đón', 'loóng', 'xong', 'siêu', 'quê', 'ktth', 'ắt', 'quần', 'stock', 'trội', 'tncn', 'viet', '…', 'yaml', 'hee', 'nàng', 'bão', 'vicofa', 'khđt', 'dành', 'chặt', 'plants', 'ngây', 'lệch', 'lòng', 'đọng', 'nẵng', 'thuê', 'dụng', 'giai', 'vẹt', 'pos', 'histogram', 'john', 'ec', 'hiển', 'mỹ', 'mở', 'cửa', 'đố', 'cán', 'item', 'thú', 'nay', 'nghệ', 'nhưng', 'ceo', 'thầy', 'thét', 'máng', 'pcbm', 'hán', 'j', 'đột', 'sea', 'mứt', 'energy', 'tôi', 'phiếu', 'tột', 'chất', 'cuối', 'dũ', 'tròn', 'vướng', 'security', 'coupons', 'bó', 'nsdlđ', 'ỉ', 'ag', 'ohno', 'cqđt', 'hước', 'kggtf', 'nav', 'tra', 'cũng', 'ván', 'khoác', 'luyện', 'khí', 'xế', 'upsell', 'nicxon', 'đèn', 'cắt', 'buồn', 'tốt', 'tuân', 'vcpu', 'trau', 'lắm', 'đô', 'món', 'tntp', 'holding', 'vứt', 'mác', 'vọt', 'vcci', 'nhẫn', 'laptop', 'bổng', 'emic', 'doudeijns', 'gạch', 'nk', 'proxy', 'indonesia', 'hạt', 'úng', 'châm', 'human', 'chuẩn', 'vii', 'las', 'jenkins', 'eu', 'typescript', 'rắc', 'trượt', 'servperf', 'đông', 'gờm', 'đâu', 'rồi', ')', 'shopee', 'plaza', 'hỏi', 'civic', 'thuộc', 'nát', 'chéo', 'web', 'sư', 'team', 'lôi', 'o', 'tây', 'khẩn', 'st', 'gương', 'kim', 'vn', 'xiii', 'hời', 'arsenide', 'linkedin', 'ca', 'nhòe', 'grab', 'kềnh', 'nha', 'vr', 'chiều', 'khối', 'vế', 'vks', 'mấy', 'exel', 'wqi', 'iv', 'tam', 'fourier', 'smm', 'lép', 'tua', 'hề', 'đòi', 'điện', 'client', 'dn', 'lũ', 'bitcoin', 'sĩ', 'thống', 'arduino', 'tòng', 'lùng', 'nhiễm', 'vấn', 'bậc', 'trôi', 'cbcnv', 'quán', 'nở', 'vincent', 'hái', 'chốc', 'optic', 'hđtv', 'positive', 'dunford', 'khổng', 'high', 'ut', 'hoàn', 'bối', 'cháu', 'ngấm', 'idle', 'controller', 'ướt', 'lcoe', 'đọc', 'xôn', 'mhh', 'đúc', 'ki', 'xưởng', 'thiệt', 'đàm', 'lpi', 'thăm', 'sạc', 'thúc', 'xấu', 'phễu', 'ninh', 'vnd', 'lắk', 'òa', 'nhạt', 'loa', 'cốp', 'factors', 'kiên', '[', 'chọi', 'rơi', 'né', 'international', 'tịch', 'cos', 'ràng', 'bi', 'nên', 'ksv', 'bơ', 'hđ', 'control', 'mặc', 'nghĩ', 'knight', 'thấu', 'tâu', 'sql', 'can', 'yết', 'phóng', 'dốc', 'họp', 'sharing', 'ngực', 'miên', 'ngại', 'địa', 'nguyệt', 'freighter', 'vựa', 'à', 'perceived', 'gronroos', 'bẩy', 'bấc', 'ngoặt', 'logo', 'rỗi', 'tnhhtm', 'đán', 'rượu', 'quặng', 'hờn', 'góp', 'dại', 'phiến', 'côsi', 'teflon', 'neighbor', 'quý', 'xenon', 'json', 'tiện', 'vpa', 'artboard', 'mò', 'tú', 'óc', 'trơ', 'buông', 'mod', 'kpmg', 'cãi', 'service', 'thâu', 'cơm', 'of', 'vỉ', 'gươm', 'cối', 'đây', 'cơn', 'ròng', 'ống', 'sẵn', 'nạp', 'tiến', 'bực', 'sát', 'bỏ', 'ch', 'tuổi', 'ốc', 'cq', 'ac', 'omo', 'swich', 'nv', 'hãy', 'ngà', 'pha', 'xxst', 'sút', 'hiếm', 'lang', 'factor', 'ngạch', 'imadjust', 'tạm', 'lagged', 'gìn', 'chữa', 'kế', 'dạn', 'network', 'debt', 'nặn', 'dỗ', '‘', 'thuật', 'cúng', 'vội', 'trúng', 'vitell', '=', 'rsync', 'bú', 'trú', 'cảnh', 'hỗn', 'town', 'us', 'ekip', 'đơn', 'amway', 'blds', 'nhtw', 'công', 'phức', 'xâu', 'khống', 'kịch', 'kkt', 'nho', 'nghỉ', 'chóng', 'jayasinghe', 'ws', 'liệt', 'new', 'chứng', 'doc', 'covid', 'lậu', 'wave', 'ngủ', 'sấu', 'hắt', 'biếng', 'leenin', 'firewall', 'kem', 'authentication', 'xấp', 'nhộn', 'diệt', 'ganh', 'nần', 'khưu', 'asic', 'chính', 'mth', 'kháng', 'niño', 'imf', 'milo', 'jo', 'glenn', 'dỗng', 'momo', 'kịp', 'gầu', 'hòn', 't', 'đe', 'mary', 'tag', 'độn', 'vksnd', 'cpich', 'nlgqvđ', 'ấp', 'chi', 'ôn', 'ubnd', 'vợ', 'ngẫm', 'tq', 'gỗ', 'george', 'phương', 'ắc', 'thằng', 'payment', 'cẩu', 'development', 'sạch', 'vịnh', 'migration', 'bcs', 'mm', 'trặc', 'móng', 'vms', 'xám', 'ngang', 'thiền', 'trồng', 'làn', 'ndvn', 'nạt', 'thớt', 'recanatini', 'nhưỡng', 'sáu', 'oxley', 'baltimore', 'quyện', 'vị', 'dối', 'cheng', 'quyến', 'bái', 'oxit', 'loạn', 'n', 'chững', 'trách', 'rotor', 'phước', 'simple', 'suôn', 'chống', 'thắc', 'partner', 'lshtt', 'mâu', 'cáo', 'líp', 'đêm', 'ebay', 'full', 'diệm', 'lá', 'vtđt', 'jerome', 'rũ', 'hủ', 'peter', 'mpa', 'hoạch', 'dsdv', 'sáng', 'apa', 'pemh', 'tả', 'thỏa', 'knk', 'cửu', 'hơn', 'csc', 'hôn', 'thisthen', 'đuôi', 'trịnh', 'nguyền', 'sủi', 'thách', 'chia', 'nhôm', 'dĩ', 'nước', 'aphin', 'mệt', 'gtgt', 'nang', 'hởi', 'tools', '!', 'di', 'behavioral', 'than', 'khánh', 'chocolate', 'asian', 'nấu', 'chiếu', 'hãnh', 'nielsen', 'lắp', 'etl', 'petersburd', 'mean', 'đê', 'hân', 'ql', 'tro', 'latinh', 'chí', 'kích', 'nắm', 'khiếp', 'pyeongchang', 'dỡ', 'bake', 'đtpt', 'đoạn', 'lụt', 'nghẽn', 'tà', 'xx', 'gấp', 'cr', 'ngày', 'liền', 'lội', 'khmer', 'vtn', 'message', 'sang', 'uẩn', 'phùng', 'knpt', 'hâm', 'thoát', 'trữ', 'in', 'giác', 'năm', 'gợi', 'lệ', 'gồm', 'spreng', 'chip', 'phan', 'im', 'yu', 'nâu', 'nguyện', 'chổi', 'ngăn', 'nhái', 'mỉ', 'tham', 'chăn', 'tắm', 'thợ', 'kè', 'ofdm', 'bụng', 'tiểu', 'bật', 'coates', 'ankin', 'mảng', 'nestle', 'data', 'legal', 'acb', 'ths', 'nại', 'gán', 'thở', 'nến', 'set', 'booking', 'mưu', 'hắn', 'bỡ', 'tkv', 'ewom', 'đứng', 'kiện', 'kha', 'unilever', 'cặp', 'màn', 'chụm', 'gs', 'machine', 'tới', 'btth', 'gạo', 'bit', 'vông', 'tử', 'đoái', 'nixon', 'ajzen', 'đu', 'vinmart', 'shan', 'manh', 'mất', 'chừ', 'phpunit', 'heroin', 'ox', 'nđ', 'sắng', 'ggsn', 'chó', 'chuốt', 'generalized', 'roi', 'cỏ', 'tóc', 'grep', 'cl', 'now', 'pe', 'hạnh', 'ts', 'đội', 'su', 'ns', 'bụi', 'huynh', 'csdl', 'l', 'check', 'xén', 'nướu', 'lạnh', 'dợ', 'mw', 'biếu', 'khu', 'quyển', 'đai', 'cương', 'khuyến', 'buổi', 'cpa', 'chướng', 'vzaimopomoshchi', 'vạch', 'thoái', 'họa', 'cốc', 'virus', 'elip', 'protocol', 'bia', 'cqt', 'khơi', 'thương', 'vĩ', 'trệ', 'fa', 'hạng', 'giảng', 'ft', 'bitis', 'về', 'xu', 'khứ', 'gauge', 'gas', 'servo', 'hè', 'hội', 'hấp', 'đoàn', 'tít', 'lắc', 'rãi', 'gieo', 'đtb', 'trường', 'hoạt', 'nhã', 'tetra', 'điền', 'boj', 'đuổi', 'terrafrom', 'ngụ', 'queue', 'lubinski', 'muống', 'vif', 'em', 'mường', 'đánh', 'giật', 'epc', 'nhanh', 'knxk', 'ứ', 'cmhs', 'anh', 'đủ', 'lãm', 'laterit', 'krugman', 'lọt', 'rò', 'vặn', 'infrastructure', 'bưởi', 'vppl', 'home', 'nhắm', 'hoảng', 'institude', 'nấm', 'tiệt', 'ngàn', 'trừng', 'excel', 'béo', 'kaengnam', 'gọi', 'sla', 'nông', 'hạch', 'automatic', 'tố', 'tknl', 'pollak', 'blue', 'ht', 'thịnh', 'lợ', 'dãy', 'nhàm', 'grdp', 'sân', 'đau', 'san', 'vinh', 'unifi', 'qđ', 'lai', 'destroy', 'xì', 'chinsu', 'tụ', 'lờ', 'ghg', 'thoa', 'gd', 'pizza', 'phảng', 'internet', 'vina', 'bao', 'cash', 'đan', 'dịp', 'khai', 'kiêng', 'vđ', 'biệt', 'bưu', 'mạt', 'bot', 'vải', 'ngòi', 'kẽ', 'dõi', 'lệnh', 'rảnh', 'level', 'khắp', 'múi', 'hqkd', 'giãi', 'ước', 'cli', 'scan', 'thoi', 'liêu', 'bèo', 'opac', 'unity', 'cây', 'bicanic', 'palmolive', 'loang', 'lụa', 'vỉa', 'kẹo', 'vi–ét', 'owlh', 'g', 'gdmn', 'trướng', 'chuyên', 'đỏ', 'vài', 'nhường', 'ping', 'quá', 'piston', 'sú', 'geoda', 'ssi', 'khuyên', 'huân', 'trưa', 'táo', 'trăm', 'ro', 'tĩnh', 'kenichi', 'thiếu', 'du', 'đều', 'huống', 'nigrini', 'tối', 'sài', 'khép', 'hông', 'vhdg', 'mọc', 'gũi', 'nghi', 'tục', 'lẻo', 'mali', 'smartstream', 'target', 'you', 'docker', 'matova', 'cp', 'đáng', 'tỏ', 'thức', 'cạnh', 'nhân', 'dạng', 'sl', 'thực', 'rót', 'xà', 'nhiệm', 'sách', 'niên', 'reboot', 'washington', 'núi', 'nếp', 'lon', 'mbps', 'cổng', 'mấu', 'tỳ', 'economic', 'khoang', 'berne', 'b', 'nhiêu', 'át', 'bột', 'phất', 'wikipedia', 'diễn', 'freedom', 'thói', 'dầu', 'trọt', 'ám', 'nre', 'michael', 'vnch', 'chúa', 'sữa', 'ngành', 'bá', 'katsuma', 'mơ', 'cb', 'nhồi', 'ăn', 'viễn', 'router', 'ab', 'mọi', 'vỏ', 'lười', 'rễ', 'lấp', 'miệng', 'javascript', 'ruby', 'đôi', 'vietgap', 'ho', 'răng', 'cost', 'khảo', 'danh', 'hòm', 'mark', 'dtts', 'lình', 'sót', 'u', 'ngư', 'nghĩa', 'clips', 'đ', 'meckling', 'hiếu', '.', 'gdhn', 'lấy', 'pmax', 'varna', 'từ', 'kinh', 'ẩn', 'đất', 'cronin', 'rise', 'tru', 'chức', 'nan', 'camera', 'beta', 'trạch', 'edi', 'bugi', 'lê', 'repository', 'fibervnn', 'dũng', 'tặng', 'parameters', 'pop', 'giặt', 'financial', 'muộn', 'khổ', 'thù', 'organic', 'chua', 'đắc', 'bts', 'chú', 'cụm', 'aes', 'tải', 'thấm', 'gdp', 'dồn', 'nl', 'vtap', 'brazil', 'elasticsearch', 'nnt', 'ổn', 'dấu', 'based', 'úa', 'bỉ', 'thâm', 'ly', 'trời', 'tiệc', 'access', 'lời', 'chim', 'bang', 'zabbix', 'miễn', 'hạn', 'sdm', 'ito', 'thước', 'cha', 'whitmore', 'ptbv', 'hv', 'tung', 'hạc', 'ocb', 'nhược', 'louri', '∈k', 'encrypt', 'nhờ', 'mục', 'gắt', 'gò', 'v', '<start2>', 'va', 'bất', 'bình', 'cải', 'joy', 'muỗi', 'tương', 'xưa', 'bin', 'cooh', 'biểu', 'đài', 'csb', 'vietcombank', 'lâu', 'key', 'bạc', 'chẩn', 'đành', 'gmdss', 'clip', 'nlnt', 'miêu', 'syed', 'đới', 'brude', 'dê', 'vập', 'hồi', 'tựa', 'cmcn', 'thẩm', 'evn', 'cành', 'gióng', 'nhì', 'ram', 'r', 'ckt', 'html', 'ngô', 'thơm', 'marina', 'mộng', 'roa', 'kansas', 'kiềm', 'tránh', 'ipcc', 'xẻ', 'nat', 'ddd', 'rã', 'tròng', 'rồng', 'mực', 'ví', 'chốt', 'site', 'mendel', 'prometheus', 'imgroup', 'hs', 'bunke', 'nạn', 'vươn', 'london', 'provinces', 'gần', 'bón', 'vswitch', '<end1>', 'website', 'ngậm', 'trọ', 'súp', 'sen', 'son', 'bush', 'poli', 'thật', 'men', 'servqual', 'chưng', 'xí', 'ín', 'camber', 'ngọt', 'phí', 'chuông', 'bộ', 'kỳ', 'unido', 'giữ', 'gates', 'vệ', 'lặng', 'peyregne', 'trộn', 'săn', 'lh', 'hộp', 'khoa', 'nai', 'nhối', 'hòa', 'đầm', 'giáp', 'cơ', 'association', 'ngời', 'lục', 'ập', 'mộ', 'gamma', 'xã', 'vườn', 'trận', 'calculation', 'jensen', 'opv', 'viện', 'mn', 'middleware', 'pump', 'khuyết', 'click', 'tấp', 'hải', 'bọc', 'giấc', 'means', 'mexico', 'kqht', 'airlines', 'ranh', 'capital', 'vững', 'need', 'dâu', 'player', 'trip', 'tolerance', 'chín', 'knn', 'dong', 'khía', 'cđr', 'hẹp', 'trình', 'oman', 'mãn', 'lộc', 'collectd', 'logistics', 'chế', 'hương', 'tảng', 'lính', 'angten', 'tiên', 'rắn', 'porter', 'nlvdkt', 'sung', 'enzyme', 'thuần', 'tb', 'sấy', 'photon', 'hổ', 'ap', 'rất', 'ứng', 'khám', 'tồn', 'dead', 'đục', 'philip', 'hđqt', 'xxi', 'hôm', 'xác', 'video', 'learning', 'như', 'cướp', 'cực', 'techcombank', 'mệnh', 'trương', 'mt', 'singapo', 'bách', 'parabol', 'đổng', 'nụ', 'ngón', 'chùa', 'hang', 'xung', 'vực', 'xnk', 'túng', 'ruộng', 'gáy', 'vượng', 'ấn', 'thác', 'giả', 'quyền', 'chảy', 'hai', 'sốt', 'mối', 'xóa', 'display', 'luxury', 'đtv', 'save', 'nhức', 'nlct', 'gitlab', 'giải', 'autoliker', 'chai', 'con', 'soe', 'vietjet', 'cưới', 'tuần', 'matlab', 'tpp', 'chevrolet', 'man', 'hẹn', 'training', 'mạo', 'tệ', 'power', 'đuối', 'giỏi', 'os', 'nhiều', 'afta', 'darriulat', 'lây', 'đứa', 'cắn', 'ruột', 'giết', 'trì', 'cản', 'đảnh', 'ô', 'cột', 'trà', 'chấm', 'ngai', 'cự', 'cauchy', 'đẫm', 'assessment', 'khóc', 'lươn', 'dược', 'rớt', 'tai', 'center', 'bùn', 'giày', 'indutry', 'đợi', 'ưa', 'hiến', 'xé', 'chắc', 'trụ', 'sailsjs', 'night', 'đọ', 'đệ', 'thám', 'polyethylene', 'xệch', 'thang', 'tuyl', 'lộn', 'tâm', 'đắt', 'nlđ', 'tnhs', 'phum', 'nhau', 'goujon', 'xước', 'nơron', 'khấu', 'bgtv', 'xupap', 'bếp', 'cằn', 'ttr', 'ubuntu', 'report', 'giữa', 'fob', 'yếu', 'logit', 'tưởng', 'triệu', 'đừng', 'da', 'đặn', 'câu', 'lưu', 'order', 'vớt', 'thuốc', 'f', 'protein', 'rộng', 'msc', 'phá', 'gạt', 'rocket', 'phì', 'radar', 'kéo', 'chef', 'bàn', 'chủ', 'tức', 'dấn', 'sin', 'đem', 'minh', 'trăng', 'block', 'kí', 'oh', 'xếp', 'rạn', 'hợp', 'nghìn', 'trang', 'củng', 'sôi', 'vision', 'vang', 'vòng', 'gv', 'tạc', 'tính', 'khiết', 'logistic', 'khởi', 'declare', 'tộc', 'lượng', 'khát', 'bì', 'agent', 'giam', 'cannel', 'nhyt', 'máy', 'platform', 'bước', 'ngân', 'chải', 'wang', 'bảo', 'độc', 'tờ', 'bazơ', 'nổ', 'tòa', 'cứ', 'lu', 'central', 'a', 'gãy', 'cùng', 'mê', 'pháp', 'lén', 'đệm', 'chặng', 'reit', 'cư', 'districts', 'giằng', 'campuchia', 'trừ', 'wetland', 'mát', 'chối', 'canada', 'chìm', 'bmv', 'ngùi', 'i', 'giàn', 'phổi', 'rung', 'eps', 'giấm', 'trãi', 'lốp', 'chiếm', 'cbkh', '—', 'cười', 'hộ', 'lộng', 'on', 'kolter', 'kĩ', 'chương', 'lửa', 'isle', 'tốn', 'quét', 'tiếp', 'đồng', 'gottfried', 'ppv', 'chén', 'behavior', 'ồ', 'đền', 'osc', 'cưỡng', 'pin', 'esco', 'củ', 'trại', 'gái', 'huỳnh', 'pentek', 'bar', 'gdbvmt', 'dép', 'suy', 'máu', 'ruy', 'đốm', 'phòng', 'tiềm', 'com', 'gan', 'online', 'qvvn', 'giang', 'kmo', 'phía', 'đmt', 'quất', 'about', 'mpos', 'cút', 'nháy', 'tay', 'yes', 'lạng', 'johnson', 'empowerment', 'chỉnh', 'nhảy', 'gdcd', 'sđtd', 'ppdh', 'times', 'tá', 'đạp', 'ge', 'dt', 'd', 'tocotoco', 'mutivariate'}\n"
     ]
    }
   ],
   "source": [
    "# Step 1: huấn luyện với tập văn bản đúng\n",
    "texts = list(unique_correct_texts['correct_text'])\n",
    "ngrams, vocab = preprocess(texts)\n",
    "transition_prob, context_totals = get_transition_prob(ngrams, vocab, alpha=0.5)\n",
    "print(len(ngrams))\n",
    "print(vocab)"
   ]
  },
  {
   "cell_type": "code",
   "execution_count": 22,
   "id": "f97a1103",
   "metadata": {
    "execution": {
     "iopub.execute_input": "2025-06-28T06:05:59.319542Z",
     "iopub.status.busy": "2025-06-28T06:05:59.319100Z",
     "iopub.status.idle": "2025-06-28T06:06:06.007624Z",
     "shell.execute_reply": "2025-06-28T06:06:06.006777Z"
    },
    "papermill": {
     "duration": 6.697903,
     "end_time": "2025-06-28T06:06:06.009203",
     "exception": false,
     "start_time": "2025-06-28T06:05:59.311300",
     "status": "completed"
    },
    "tags": []
   },
   "outputs": [],
   "source": [
    "# Step 2: sửa lỗi\n",
    "wrong_text = \"thông qua công tác tuyên truyeenf, van động này phu huynh sẽ hiểu rỏ hơn tầm quan trọng của việc giáo dục.\"\n",
    "corrected = correct_text(wrong_text, vocab, ngrams, transition_prob, context_totals, alpha=0.001)"
   ]
  },
  {
   "cell_type": "code",
   "execution_count": 23,
   "id": "9cae5ebd",
   "metadata": {
    "execution": {
     "iopub.execute_input": "2025-06-28T06:06:06.023957Z",
     "iopub.status.busy": "2025-06-28T06:06:06.023698Z",
     "iopub.status.idle": "2025-06-28T06:06:24.000193Z",
     "shell.execute_reply": "2025-06-28T06:06:23.999592Z"
    },
    "papermill": {
     "duration": 17.985328,
     "end_time": "2025-06-28T06:06:24.001587",
     "exception": false,
     "start_time": "2025-06-28T06:06:06.016259",
     "status": "completed"
    },
    "tags": []
   },
   "outputs": [],
   "source": [
    "wrong_text = \"quan điểm biện chứng của chù nghĩa mác - lênin không chỉ khẳng định tính khách quan, tính phổ biến của các mối liên hệ mà còn nhấn mạnh tin phong phú, đa dạng của các mối liên hệ.\"\n",
    "corrected = correct_text(wrong_text, vocab, ngrams, transition_prob, context_totals, alpha=0.01)"
   ]
  },
  {
   "cell_type": "code",
   "execution_count": 24,
   "id": "e7e06e5c",
   "metadata": {
    "execution": {
     "iopub.execute_input": "2025-06-28T06:06:24.016479Z",
     "iopub.status.busy": "2025-06-28T06:06:24.015877Z",
     "iopub.status.idle": "2025-06-28T06:06:45.108644Z",
     "shell.execute_reply": "2025-06-28T06:06:45.108066Z"
    },
    "papermill": {
     "duration": 21.101342,
     "end_time": "2025-06-28T06:06:45.109959",
     "exception": false,
     "start_time": "2025-06-28T06:06:24.008617",
     "status": "completed"
    },
    "tags": []
   },
   "outputs": [],
   "source": [
    "wrong_text = \"đối với biểu đồ histogram, nếu giá trị trung bình mean gần bằng 0, độ lệch chuẩn gần bằng 1 và đường cong phân phối có hình dạng chuông thì có thể khẳng định phân phối là xếp xỉ chuẩn, giả định phân phối chuẩn của phần dư không bị vi phạm.\"\n",
    "corrected = correct_text(wrong_text, vocab, ngrams, transition_prob, context_totals, alpha=1)"
   ]
  },
  {
   "cell_type": "markdown",
   "id": "de930ae4",
   "metadata": {
    "papermill": {
     "duration": 0.006482,
     "end_time": "2025-06-28T06:06:45.123525",
     "exception": false,
     "start_time": "2025-06-28T06:06:45.117043",
     "status": "completed"
    },
    "tags": []
   },
   "source": [
    "## Đánh giá trên tập test"
   ]
  },
  {
   "cell_type": "code",
   "execution_count": 25,
   "id": "60994344",
   "metadata": {
    "execution": {
     "iopub.execute_input": "2025-06-28T06:06:45.137170Z",
     "iopub.status.busy": "2025-06-28T06:06:45.136908Z",
     "iopub.status.idle": "2025-06-28T06:06:45.145583Z",
     "shell.execute_reply": "2025-06-28T06:06:45.144979Z"
    },
    "papermill": {
     "duration": 0.016674,
     "end_time": "2025-06-28T06:06:45.146605",
     "exception": false,
     "start_time": "2025-06-28T06:06:45.129931",
     "status": "completed"
    },
    "tags": []
   },
   "outputs": [
    {
     "data": {
      "text/html": [
       "<div>\n",
       "<style scoped>\n",
       "    .dataframe tbody tr th:only-of-type {\n",
       "        vertical-align: middle;\n",
       "    }\n",
       "\n",
       "    .dataframe tbody tr th {\n",
       "        vertical-align: top;\n",
       "    }\n",
       "\n",
       "    .dataframe thead th {\n",
       "        text-align: right;\n",
       "    }\n",
       "</style>\n",
       "<table border=\"1\" class=\"dataframe\">\n",
       "  <thead>\n",
       "    <tr style=\"text-align: right;\">\n",
       "      <th></th>\n",
       "      <th>text</th>\n",
       "      <th>preprocess</th>\n",
       "      <th>correct_text</th>\n",
       "    </tr>\n",
       "  </thead>\n",
       "  <tbody>\n",
       "    <tr>\n",
       "      <th>0</th>\n",
       "      <td>Thông qua công tác tuyên truyền, vận động này ...</td>\n",
       "      <td>thông qua công tác tuyên truyền, vận động này ...</td>\n",
       "      <td>Thông qua công tác tuyên truyền, vận động này ...</td>\n",
       "    </tr>\n",
       "    <tr>\n",
       "      <th>1</th>\n",
       "      <td>Do đó, doanh nghiệp cần chú trọng đến yếu tố n...</td>\n",
       "      <td>do đó, doanh nghiệp cần chú trọng đến yếu tố n...</td>\n",
       "      <td>Do đó, doanh nghiệp cần chú trọng đến yếu tố n...</td>\n",
       "    </tr>\n",
       "    <tr>\n",
       "      <th>2</th>\n",
       "      <td>Giữ được chỉ số này không giam mà còn tăng thê...</td>\n",
       "      <td>giữ được chỉ số này không giam mà còn tăng thê...</td>\n",
       "      <td>Giữ được chỉ số này không giảm mà còn tăng thê...</td>\n",
       "    </tr>\n",
       "    <tr>\n",
       "      <th>3</th>\n",
       "      <td>Đúng trước thực tế này đòi hỏi chúng ta cần ph...</td>\n",
       "      <td>đúng trước thực tế này đòi hỏi chúng ta cần ph...</td>\n",
       "      <td>Đứng trước thực tế này đòi hỏi chúng ta cần ph...</td>\n",
       "    </tr>\n",
       "    <tr>\n",
       "      <th>4</th>\n",
       "      <td>Trình độ học vấn của nhân viên được tuyển dụng...</td>\n",
       "      <td>trình độ học vấn của nhân viên được tuyển dụng...</td>\n",
       "      <td>Trình độ học vấn của nhân viên được tuyển dụng...</td>\n",
       "    </tr>\n",
       "    <tr>\n",
       "      <th>...</th>\n",
       "      <td>...</td>\n",
       "      <td>...</td>\n",
       "      <td>...</td>\n",
       "    </tr>\n",
       "    <tr>\n",
       "      <th>8962</th>\n",
       "      <td>Tuy nhiên, khi nói đến E-Learning, các phương ...</td>\n",
       "      <td>tuy nhiên, khi nói đến e-learning, các phương ...</td>\n",
       "      <td>Tuy nhiên, khi nói đến E-Learning, các phương ...</td>\n",
       "    </tr>\n",
       "    <tr>\n",
       "      <th>8963</th>\n",
       "      <td>Đứng trước những hành vi đi ngược lại với đạo ...</td>\n",
       "      <td>đứng trước những hành vi đi ngược lại với đạo ...</td>\n",
       "      <td>Đứng trước những hành vi đi ngược lại với đạo ...</td>\n",
       "    </tr>\n",
       "    <tr>\n",
       "      <th>8964</th>\n",
       "      <td>Quan điểm biện chứng của chù nghĩa Mác - Lênin...</td>\n",
       "      <td>quan điểm biện chứng của chù nghĩa mác - lênin...</td>\n",
       "      <td>Quan điểm biện chứng của chủ nghĩa Mác - Lênin...</td>\n",
       "    </tr>\n",
       "    <tr>\n",
       "      <th>8965</th>\n",
       "      <td>Đối với biểu đồ Histogram, nếu giá trị trung b...</td>\n",
       "      <td>đối với biểu đồ histogram, nếu giá trị trung b...</td>\n",
       "      <td>Đối với biểu đồ Histogram, nếu giá trị trung b...</td>\n",
       "    </tr>\n",
       "    <tr>\n",
       "      <th>8966</th>\n",
       "      <td>Trong mỗi khu vực mà đội phát triển thị trường...</td>\n",
       "      <td>trong mỗi khu vực mà đội phát triển thị trường...</td>\n",
       "      <td>Trong mỗi khu vực mà đội phát triển thị trường...</td>\n",
       "    </tr>\n",
       "  </tbody>\n",
       "</table>\n",
       "<p>8967 rows × 3 columns</p>\n",
       "</div>"
      ],
      "text/plain": [
       "                                                   text  \\\n",
       "0     Thông qua công tác tuyên truyền, vận động này ...   \n",
       "1     Do đó, doanh nghiệp cần chú trọng đến yếu tố n...   \n",
       "2     Giữ được chỉ số này không giam mà còn tăng thê...   \n",
       "3     Đúng trước thực tế này đòi hỏi chúng ta cần ph...   \n",
       "4     Trình độ học vấn của nhân viên được tuyển dụng...   \n",
       "...                                                 ...   \n",
       "8962  Tuy nhiên, khi nói đến E-Learning, các phương ...   \n",
       "8963  Đứng trước những hành vi đi ngược lại với đạo ...   \n",
       "8964  Quan điểm biện chứng của chù nghĩa Mác - Lênin...   \n",
       "8965  Đối với biểu đồ Histogram, nếu giá trị trung b...   \n",
       "8966  Trong mỗi khu vực mà đội phát triển thị trường...   \n",
       "\n",
       "                                             preprocess  \\\n",
       "0     thông qua công tác tuyên truyền, vận động này ...   \n",
       "1     do đó, doanh nghiệp cần chú trọng đến yếu tố n...   \n",
       "2     giữ được chỉ số này không giam mà còn tăng thê...   \n",
       "3     đúng trước thực tế này đòi hỏi chúng ta cần ph...   \n",
       "4     trình độ học vấn của nhân viên được tuyển dụng...   \n",
       "...                                                 ...   \n",
       "8962  tuy nhiên, khi nói đến e-learning, các phương ...   \n",
       "8963  đứng trước những hành vi đi ngược lại với đạo ...   \n",
       "8964  quan điểm biện chứng của chù nghĩa mác - lênin...   \n",
       "8965  đối với biểu đồ histogram, nếu giá trị trung b...   \n",
       "8966  trong mỗi khu vực mà đội phát triển thị trường...   \n",
       "\n",
       "                                           correct_text  \n",
       "0     Thông qua công tác tuyên truyền, vận động này ...  \n",
       "1     Do đó, doanh nghiệp cần chú trọng đến yếu tố n...  \n",
       "2     Giữ được chỉ số này không giảm mà còn tăng thê...  \n",
       "3     Đứng trước thực tế này đòi hỏi chúng ta cần ph...  \n",
       "4     Trình độ học vấn của nhân viên được tuyển dụng...  \n",
       "...                                                 ...  \n",
       "8962  Tuy nhiên, khi nói đến E-Learning, các phương ...  \n",
       "8963  Đứng trước những hành vi đi ngược lại với đạo ...  \n",
       "8964  Quan điểm biện chứng của chủ nghĩa Mác - Lênin...  \n",
       "8965  Đối với biểu đồ Histogram, nếu giá trị trung b...  \n",
       "8966  Trong mỗi khu vực mà đội phát triển thị trường...  \n",
       "\n",
       "[8967 rows x 3 columns]"
      ]
     },
     "execution_count": 25,
     "metadata": {},
     "output_type": "execute_result"
    }
   ],
   "source": [
    "test"
   ]
  },
  {
   "cell_type": "code",
   "execution_count": 26,
   "id": "e71cd973",
   "metadata": {
    "execution": {
     "iopub.execute_input": "2025-06-28T06:06:45.160400Z",
     "iopub.status.busy": "2025-06-28T06:06:45.160198Z",
     "iopub.status.idle": "2025-06-28T06:06:45.163344Z",
     "shell.execute_reply": "2025-06-28T06:06:45.162847Z"
    },
    "papermill": {
     "duration": 0.011187,
     "end_time": "2025-06-28T06:06:45.164363",
     "exception": false,
     "start_time": "2025-06-28T06:06:45.153176",
     "status": "completed"
    },
    "tags": []
   },
   "outputs": [],
   "source": [
    "test = test[4000:6000]"
   ]
  },
  {
   "cell_type": "code",
   "execution_count": 27,
   "id": "db634fe4",
   "metadata": {
    "execution": {
     "iopub.execute_input": "2025-06-28T06:06:45.179325Z",
     "iopub.status.busy": "2025-06-28T06:06:45.178751Z",
     "iopub.status.idle": "2025-06-28T12:06:38.403782Z",
     "shell.execute_reply": "2025-06-28T12:06:38.403016Z"
    },
    "papermill": {
     "duration": 21593.241598,
     "end_time": "2025-06-28T12:06:38.413280",
     "exception": false,
     "start_time": "2025-06-28T06:06:45.171682",
     "status": "completed"
    },
    "tags": []
   },
   "outputs": [
    {
     "name": "stderr",
     "output_type": "stream",
     "text": [
      "/tmp/ipykernel_19/1586533214.py:5: SettingWithCopyWarning: \n",
      "A value is trying to be set on a copy of a slice from a DataFrame.\n",
      "Try using .loc[row_indexer,col_indexer] = value instead\n",
      "\n",
      "See the caveats in the documentation: https://pandas.pydata.org/pandas-docs/stable/user_guide/indexing.html#returning-a-view-versus-a-copy\n",
      "  test[\"predicted\"] = test[\"preprocess\"].apply(correct_wrapper)\n"
     ]
    }
   ],
   "source": [
    "def correct_wrapper(text):\n",
    "    return correct_text(text, vocab, ngrams, transition_prob, context_totals, alpha=0.1)\n",
    "\n",
    "# Áp dụng sửa lỗi cho toàn bộ cột \"preprocess\"\n",
    "test[\"predicted\"] = test[\"preprocess\"].apply(correct_wrapper)"
   ]
  },
  {
   "cell_type": "code",
   "execution_count": 28,
   "id": "5978ce7c",
   "metadata": {
    "execution": {
     "iopub.execute_input": "2025-06-28T12:06:38.428239Z",
     "iopub.status.busy": "2025-06-28T12:06:38.427557Z",
     "iopub.status.idle": "2025-06-28T12:06:38.474545Z",
     "shell.execute_reply": "2025-06-28T12:06:38.473976Z"
    },
    "papermill": {
     "duration": 0.055746,
     "end_time": "2025-06-28T12:06:38.475920",
     "exception": false,
     "start_time": "2025-06-28T12:06:38.420174",
     "status": "completed"
    },
    "tags": []
   },
   "outputs": [],
   "source": [
    "test.to_csv(\"results.csv\", index = False)"
   ]
  },
  {
   "cell_type": "code",
   "execution_count": 29,
   "id": "301ea958",
   "metadata": {
    "execution": {
     "iopub.execute_input": "2025-06-28T12:06:38.491153Z",
     "iopub.status.busy": "2025-06-28T12:06:38.490598Z",
     "iopub.status.idle": "2025-06-28T12:06:38.494931Z",
     "shell.execute_reply": "2025-06-28T12:06:38.494237Z"
    },
    "papermill": {
     "duration": 0.012786,
     "end_time": "2025-06-28T12:06:38.496016",
     "exception": false,
     "start_time": "2025-06-28T12:06:38.483230",
     "status": "completed"
    },
    "tags": []
   },
   "outputs": [],
   "source": [
    "import re\n",
    "import pandas as pd\n",
    "import nltk\n",
    "from nltk.tokenize import word_tokenize\n",
    "import re\n",
    "from sklearn.metrics import precision_recall_fscore_support\n",
    "\n",
    "def clean_and_tokenize(sentence):\n",
    "    # Lowercase\n",
    "    sentence = sentence.lower()\n",
    "    # Tokenize first, before removing punctuation\n",
    "    tokens = custom_tokenize(sentence)\n",
    "    # Remove punctuation from each token\n",
    "    cleaned_tokens = [re.sub(r'[^\\w\\s]', '', token) for token in tokens]\n",
    "    return cleaned_tokens"
   ]
  },
  {
   "cell_type": "code",
   "execution_count": 30,
   "id": "22b6854b",
   "metadata": {
    "execution": {
     "iopub.execute_input": "2025-06-28T12:06:38.510773Z",
     "iopub.status.busy": "2025-06-28T12:06:38.510362Z",
     "iopub.status.idle": "2025-06-28T12:06:38.520522Z",
     "shell.execute_reply": "2025-06-28T12:06:38.519852Z"
    },
    "papermill": {
     "duration": 0.01869,
     "end_time": "2025-06-28T12:06:38.521646",
     "exception": false,
     "start_time": "2025-06-28T12:06:38.502956",
     "status": "completed"
    },
    "tags": []
   },
   "outputs": [],
   "source": [
    "import pandas as pd\n",
    "import numpy as np\n",
    "from sklearn.metrics import precision_recall_fscore_support, confusion_matrix, ConfusionMatrixDisplay\n",
    "import matplotlib.pyplot as plt\n",
    "\n",
    "def evaluate_corrections(test_df, save_path=\"evaluated_test.csv\"):\n",
    "    y_true_detection = []\n",
    "    y_pred_detection = []\n",
    "    y_true_correction = []\n",
    "    y_pred_correction = []\n",
    "\n",
    "    wrong_sentences = []\n",
    "\n",
    "    for i, (prep_sent, pred_sent, gold_sent) in enumerate(zip(test_df['preprocess'], test_df['predicted'], test_df['correct_text'])):\n",
    "        prep_tokens = clean_and_tokenize(prep_sent)\n",
    "        pred_tokens = clean_and_tokenize(pred_sent)\n",
    "        gold_tokens = clean_and_tokenize(gold_sent)\n",
    "\n",
    "        min_len = min(len(prep_tokens), len(pred_tokens), len(gold_tokens))\n",
    "\n",
    "        sent_has_error = False\n",
    "\n",
    "        for j in range(min_len):\n",
    "            prep_token = prep_tokens[j]\n",
    "            pred_token = pred_tokens[j]\n",
    "            gold_token = gold_tokens[j]\n",
    "\n",
    "\n",
    "            # Detection labels\n",
    "            y_true_detection.append(prep_token != gold_token)\n",
    "            y_pred_detection.append(pred_token != gold_token)\n",
    "\n",
    "            # Correction labels\n",
    "            if pred_token != gold_token:\n",
    "                y_true_correction.append(gold_token)\n",
    "                y_pred_correction.append(pred_token)\n",
    "                sent_has_error = True\n",
    "\n",
    "        if sent_has_error:\n",
    "            wrong_sentences.append({\n",
    "                \"index\": i,\n",
    "                \"predicted\": pred_sent,\n",
    "                \"correct_text\": gold_sent,\n",
    "                \"pred_tokens\": pred_tokens,\n",
    "                \"gold_tokens\": gold_tokens\n",
    "            })\n",
    "\n",
    "\n",
    "    # Detection metrics\n",
    "    p_det, r_det, f1_det, _ = precision_recall_fscore_support(\n",
    "        y_true_detection, y_pred_detection, average='binary'\n",
    "    )\n",
    "\n",
    "    print(\"\\n Detection Results:\")\n",
    "    print(f\"Precision: {p_det:.4f} | Recall: {r_det:.4f} | F1: {f1_det:.4f}\")\n",
    "\n",
    "    # Confusion Matrix for Detection\n",
    "    cm_det = confusion_matrix(y_true_detection, y_pred_detection)\n",
    "    disp = ConfusionMatrixDisplay(confusion_matrix=cm_det, display_labels=[\"Correct\", \"Error\"])\n",
    "    disp.plot(cmap='Blues')\n",
    "    plt.title(\"Detection Confusion Matrix\")\n",
    "    plt.show()\n",
    "\n",
    "    # Correction metrics\n",
    "    if y_true_correction:\n",
    "        p_corr, r_corr, f1_corr, _ = precision_recall_fscore_support(\n",
    "            y_true_correction, y_pred_correction, average='micro'\n",
    "        )\n",
    "\n",
    "        print(\"\\n Correction Results (on detected tokens):\")\n",
    "        print(f\"Precision: {p_corr:.4f} | Recall: {r_corr:.4f} | F1: {f1_corr:.4f}\")\n",
    "\n",
    "        # Confusion Matrix for Correction\n",
    "        labels = list(set(y_true_correction + y_pred_correction))\n",
    "        cm_corr = confusion_matrix(y_true_correction, y_pred_correction, labels=labels)\n",
    "        disp_corr = ConfusionMatrixDisplay(confusion_matrix=cm_corr, display_labels=labels)\n",
    "        disp_corr.plot(cmap='Oranges', xticks_rotation=90)\n",
    "        plt.title(\"Correction Confusion Matrix\")\n",
    "        plt.show()\n",
    "\n",
    "    else:\n",
    "        print(\"\\n No corrections made or needed.\")\n",
    "        p_corr = r_corr = f1_corr = 0.0\n",
    "\n",
    "    # Print wrong predictions\n",
    "    print(\"\\n===== Các câu dự đoán sai =====\")\n",
    "    for wrong in wrong_sentences:\n",
    "        print(f\"\\n# {wrong['index']}\")\n",
    "        print(f\"Predicted   : {wrong['predicted']}\")\n",
    "        print(f\"Correct     : {wrong['correct_text']}\")\n",
    "        print(f\"Pred tokens : {wrong['pred_tokens']}\")\n",
    "        print(f\"Gold tokens : {wrong['gold_tokens']}\")\n",
    "\n",
    "    # Save wrong sentences\n",
    "    pd.DataFrame(wrong_sentences).to_csv(\"wrong_sentences.csv\", index=False)\n",
    "\n",
    "    return {\n",
    "        \"detection\": {\"precision\": p_det, \"recall\": r_det, \"f1\": f1_det},\n",
    "        \"correction\": {\"precision\": p_corr, \"recall\": r_corr, \"f1\": f1_corr}\n",
    "    }"
   ]
  },
  {
   "cell_type": "code",
   "execution_count": 31,
   "id": "ad33eb75",
   "metadata": {
    "execution": {
     "iopub.execute_input": "2025-06-28T12:06:38.536727Z",
     "iopub.status.busy": "2025-06-28T12:06:38.536148Z",
     "iopub.status.idle": "2025-06-28T12:06:38.539345Z",
     "shell.execute_reply": "2025-06-28T12:06:38.538815Z"
    },
    "papermill": {
     "duration": 0.011649,
     "end_time": "2025-06-28T12:06:38.540403",
     "exception": false,
     "start_time": "2025-06-28T12:06:38.528754",
     "status": "completed"
    },
    "tags": []
   },
   "outputs": [],
   "source": [
    "# results = evaluate_corrections(test, save_path=\"test_with_prediction.csv\")\n",
    "\n",
    "# print(\"=== Kết quả đánh giá ===\")\n",
    "# print(\"🔍 Detection (Phát hiện lỗi):\")\n",
    "# print(f\"Precision: {results['detection']['precision']:.4f}\")\n",
    "# print(f\"Recall   : {results['detection']['recall']:.4f}\")\n",
    "# print(f\"F1       : {results['detection']['f1']:.4f}\")\n",
    "\n",
    "# print(\"\\n🛠️ Correction (Sửa lỗi):\")\n",
    "# print(f\"Precision: {results['correction']['precision']:.4f}\")\n",
    "# print(f\"Recall   : {results['correction']['recall']:.4f}\")\n",
    "# print(f\"F1       : {results['correction']['f1']:.4f}\")"
   ]
  }
 ],
 "metadata": {
  "kaggle": {
   "accelerator": "none",
   "dataSources": [
    {
     "sourceId": 246880062,
     "sourceType": "kernelVersion"
    },
    {
     "sourceId": 247304015,
     "sourceType": "kernelVersion"
    }
   ],
   "dockerImageVersionId": 31040,
   "isGpuEnabled": false,
   "isInternetEnabled": true,
   "language": "python",
   "sourceType": "notebook"
  },
  "kernelspec": {
   "display_name": "Python 3",
   "language": "python",
   "name": "python3"
  },
  "language_info": {
   "codemirror_mode": {
    "name": "ipython",
    "version": 3
   },
   "file_extension": ".py",
   "mimetype": "text/x-python",
   "name": "python",
   "nbconvert_exporter": "python",
   "pygments_lexer": "ipython3",
   "version": "3.11.11"
  },
  "papermill": {
   "default_parameters": {},
   "duration": 21700.297025,
   "end_time": "2025-06-28T12:06:39.785946",
   "environment_variables": {},
   "exception": null,
   "input_path": "__notebook__.ipynb",
   "output_path": "__notebook__.ipynb",
   "parameters": {},
   "start_time": "2025-06-28T06:04:59.488921",
   "version": "2.6.0"
  }
 },
 "nbformat": 4,
 "nbformat_minor": 5
}
