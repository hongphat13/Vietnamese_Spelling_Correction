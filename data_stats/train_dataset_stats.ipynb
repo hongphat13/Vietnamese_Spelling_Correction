{
 "cells": [
  {
   "cell_type": "code",
   "execution_count": 1,
   "id": "4f7f9e11",
   "metadata": {
    "_cell_guid": "b1076dfc-b9ad-4769-8c92-a6c4dae69d19",
    "_uuid": "8f2839f25d086af736a60e9eeb907d3b93b6e0e5",
    "execution": {
     "iopub.execute_input": "2025-06-22T14:26:46.725861Z",
     "iopub.status.busy": "2025-06-22T14:26:46.725547Z",
     "iopub.status.idle": "2025-06-22T14:26:48.647924Z",
     "shell.execute_reply": "2025-06-22T14:26:48.647024Z"
    },
    "papermill": {
     "duration": 1.931378,
     "end_time": "2025-06-22T14:26:48.649655",
     "exception": false,
     "start_time": "2025-06-22T14:26:46.718277",
     "status": "completed"
    },
    "tags": []
   },
   "outputs": [],
   "source": [
    "import pandas as pd"
   ]
  },
  {
   "cell_type": "code",
   "execution_count": 2,
   "id": "ce748b4e",
   "metadata": {
    "execution": {
     "iopub.execute_input": "2025-06-22T14:26:48.661465Z",
     "iopub.status.busy": "2025-06-22T14:26:48.660810Z",
     "iopub.status.idle": "2025-06-22T14:26:50.615592Z",
     "shell.execute_reply": "2025-06-22T14:26:50.614701Z"
    },
    "papermill": {
     "duration": 1.962011,
     "end_time": "2025-06-22T14:26:50.617049",
     "exception": false,
     "start_time": "2025-06-22T14:26:48.655038",
     "status": "completed"
    },
    "tags": []
   },
   "outputs": [
    {
     "data": {
      "text/html": [
       "<div>\n",
       "<style scoped>\n",
       "    .dataframe tbody tr th:only-of-type {\n",
       "        vertical-align: middle;\n",
       "    }\n",
       "\n",
       "    .dataframe tbody tr th {\n",
       "        vertical-align: top;\n",
       "    }\n",
       "\n",
       "    .dataframe thead th {\n",
       "        text-align: right;\n",
       "    }\n",
       "</style>\n",
       "<table border=\"1\" class=\"dataframe\">\n",
       "  <thead>\n",
       "    <tr style=\"text-align: right;\">\n",
       "      <th></th>\n",
       "      <th>annotations</th>\n",
       "      <th>text</th>\n",
       "    </tr>\n",
       "  </thead>\n",
       "  <tbody>\n",
       "    <tr>\n",
       "      <th>0</th>\n",
       "      <td>[{'alternative_syllables': [], 'current_syllab...</td>\n",
       "      <td>Thông qua công tác tuyên truyền, vận động này ...</td>\n",
       "    </tr>\n",
       "    <tr>\n",
       "      <th>1</th>\n",
       "      <td>[{'alternative_syllables': [], 'current_syllab...</td>\n",
       "      <td>Do đó, doanh nghiệp cần chú trọng đến yếu tố n...</td>\n",
       "    </tr>\n",
       "    <tr>\n",
       "      <th>2</th>\n",
       "      <td>[{'alternative_syllables': [], 'current_syllab...</td>\n",
       "      <td>Giữ được chỉ số này không giam mà còn tăng thê...</td>\n",
       "    </tr>\n",
       "    <tr>\n",
       "      <th>3</th>\n",
       "      <td>[{'alternative_syllables': ['Đứng'], 'current_...</td>\n",
       "      <td>Đúng trước thực tế này đòi hỏi chúng ta cần ph...</td>\n",
       "    </tr>\n",
       "    <tr>\n",
       "      <th>4</th>\n",
       "      <td>[{'alternative_syllables': [], 'current_syllab...</td>\n",
       "      <td>Trình độ học vấn của nhân viên được tuyển dụng...</td>\n",
       "    </tr>\n",
       "    <tr>\n",
       "      <th>...</th>\n",
       "      <td>...</td>\n",
       "      <td>...</td>\n",
       "    </tr>\n",
       "    <tr>\n",
       "      <th>9336</th>\n",
       "      <td>[{'alternative_syllables': [], 'current_syllab...</td>\n",
       "      <td>Tuy nhiên, khi nói đến E-Learning, các phương ...</td>\n",
       "    </tr>\n",
       "    <tr>\n",
       "      <th>9337</th>\n",
       "      <td>[{'alternative_syllables': [], 'current_syllab...</td>\n",
       "      <td>Đứng trước những hành vi đi ngược lại với đạo ...</td>\n",
       "    </tr>\n",
       "    <tr>\n",
       "      <th>9338</th>\n",
       "      <td>[{'alternative_syllables': [], 'current_syllab...</td>\n",
       "      <td>Quan điểm biện chứng của chù nghĩa Mác - Lênin...</td>\n",
       "    </tr>\n",
       "    <tr>\n",
       "      <th>9339</th>\n",
       "      <td>[{'alternative_syllables': [], 'current_syllab...</td>\n",
       "      <td>Đối với biểu đồ Histogram, nếu giá trị trung b...</td>\n",
       "    </tr>\n",
       "    <tr>\n",
       "      <th>9340</th>\n",
       "      <td>[{'alternative_syllables': [], 'current_syllab...</td>\n",
       "      <td>Trong mỗi khu vực mà đội phát triển thị trường...</td>\n",
       "    </tr>\n",
       "  </tbody>\n",
       "</table>\n",
       "<p>9341 rows × 2 columns</p>\n",
       "</div>"
      ],
      "text/plain": [
       "                                            annotations  \\\n",
       "0     [{'alternative_syllables': [], 'current_syllab...   \n",
       "1     [{'alternative_syllables': [], 'current_syllab...   \n",
       "2     [{'alternative_syllables': [], 'current_syllab...   \n",
       "3     [{'alternative_syllables': ['Đứng'], 'current_...   \n",
       "4     [{'alternative_syllables': [], 'current_syllab...   \n",
       "...                                                 ...   \n",
       "9336  [{'alternative_syllables': [], 'current_syllab...   \n",
       "9337  [{'alternative_syllables': [], 'current_syllab...   \n",
       "9338  [{'alternative_syllables': [], 'current_syllab...   \n",
       "9339  [{'alternative_syllables': [], 'current_syllab...   \n",
       "9340  [{'alternative_syllables': [], 'current_syllab...   \n",
       "\n",
       "                                                   text  \n",
       "0     Thông qua công tác tuyên truyền, vận động này ...  \n",
       "1     Do đó, doanh nghiệp cần chú trọng đến yếu tố n...  \n",
       "2     Giữ được chỉ số này không giam mà còn tăng thê...  \n",
       "3     Đúng trước thực tế này đòi hỏi chúng ta cần ph...  \n",
       "4     Trình độ học vấn của nhân viên được tuyển dụng...  \n",
       "...                                                 ...  \n",
       "9336  Tuy nhiên, khi nói đến E-Learning, các phương ...  \n",
       "9337  Đứng trước những hành vi đi ngược lại với đạo ...  \n",
       "9338  Quan điểm biện chứng của chù nghĩa Mác - Lênin...  \n",
       "9339  Đối với biểu đồ Histogram, nếu giá trị trung b...  \n",
       "9340  Trong mỗi khu vực mà đội phát triển thị trường...  \n",
       "\n",
       "[9341 rows x 2 columns]"
      ]
     },
     "execution_count": 2,
     "metadata": {},
     "output_type": "execute_result"
    }
   ],
   "source": [
    "df = pd.read_json('/kaggle/input/vsec-dataset-for-vietnammese-correction-words/VSEC.jsonl', lines = True)\n",
    "df"
   ]
  },
  {
   "cell_type": "code",
   "execution_count": 3,
   "id": "9343ef85",
   "metadata": {
    "execution": {
     "iopub.execute_input": "2025-06-22T14:26:50.628484Z",
     "iopub.status.busy": "2025-06-22T14:26:50.628123Z",
     "iopub.status.idle": "2025-06-22T14:26:50.637924Z",
     "shell.execute_reply": "2025-06-22T14:26:50.637001Z"
    },
    "papermill": {
     "duration": 0.016964,
     "end_time": "2025-06-22T14:26:50.639191",
     "exception": false,
     "start_time": "2025-06-22T14:26:50.622227",
     "status": "completed"
    },
    "tags": []
   },
   "outputs": [
    {
     "data": {
      "text/plain": [
       "[{'alternative_syllables': [],\n",
       "  'current_syllable': 'Thông',\n",
       "  'id': 1,\n",
       "  'is_correct': True},\n",
       " {'alternative_syllables': [],\n",
       "  'current_syllable': 'qua',\n",
       "  'id': 2,\n",
       "  'is_correct': True},\n",
       " {'alternative_syllables': [],\n",
       "  'current_syllable': 'công',\n",
       "  'id': 3,\n",
       "  'is_correct': True},\n",
       " {'alternative_syllables': [],\n",
       "  'current_syllable': 'tác',\n",
       "  'id': 4,\n",
       "  'is_correct': True},\n",
       " {'alternative_syllables': [],\n",
       "  'current_syllable': 'tuyên',\n",
       "  'id': 5,\n",
       "  'is_correct': True},\n",
       " {'alternative_syllables': [],\n",
       "  'current_syllable': 'truyền,',\n",
       "  'id': 6,\n",
       "  'is_correct': True},\n",
       " {'alternative_syllables': [],\n",
       "  'current_syllable': 'vận',\n",
       "  'id': 7,\n",
       "  'is_correct': True},\n",
       " {'alternative_syllables': [],\n",
       "  'current_syllable': 'động',\n",
       "  'id': 8,\n",
       "  'is_correct': True},\n",
       " {'alternative_syllables': [],\n",
       "  'current_syllable': 'này',\n",
       "  'id': 9,\n",
       "  'is_correct': True},\n",
       " {'alternative_syllables': [],\n",
       "  'current_syllable': 'phụ',\n",
       "  'id': 10,\n",
       "  'is_correct': True},\n",
       " {'alternative_syllables': [],\n",
       "  'current_syllable': 'huynh',\n",
       "  'id': 11,\n",
       "  'is_correct': True},\n",
       " {'alternative_syllables': [],\n",
       "  'current_syllable': 'sẽ',\n",
       "  'id': 12,\n",
       "  'is_correct': True},\n",
       " {'alternative_syllables': [],\n",
       "  'current_syllable': 'hiểu',\n",
       "  'id': 13,\n",
       "  'is_correct': True},\n",
       " {'alternative_syllables': [],\n",
       "  'current_syllable': 'rõ',\n",
       "  'id': 14,\n",
       "  'is_correct': True},\n",
       " {'alternative_syllables': [],\n",
       "  'current_syllable': 'hơn',\n",
       "  'id': 15,\n",
       "  'is_correct': True},\n",
       " {'alternative_syllables': [],\n",
       "  'current_syllable': 'tầm',\n",
       "  'id': 16,\n",
       "  'is_correct': True},\n",
       " {'alternative_syllables': [],\n",
       "  'current_syllable': 'quan',\n",
       "  'id': 17,\n",
       "  'is_correct': True},\n",
       " {'alternative_syllables': [],\n",
       "  'current_syllable': 'trọng',\n",
       "  'id': 18,\n",
       "  'is_correct': True},\n",
       " {'alternative_syllables': [],\n",
       "  'current_syllable': 'của',\n",
       "  'id': 19,\n",
       "  'is_correct': True},\n",
       " {'alternative_syllables': [],\n",
       "  'current_syllable': 'việc',\n",
       "  'id': 20,\n",
       "  'is_correct': True},\n",
       " {'alternative_syllables': [],\n",
       "  'current_syllable': 'giáo',\n",
       "  'id': 21,\n",
       "  'is_correct': True},\n",
       " {'alternative_syllables': [],\n",
       "  'current_syllable': 'dục',\n",
       "  'id': 22,\n",
       "  'is_correct': True},\n",
       " {'alternative_syllables': [],\n",
       "  'current_syllable': 'ý',\n",
       "  'id': 23,\n",
       "  'is_correct': True},\n",
       " {'alternative_syllables': [],\n",
       "  'current_syllable': 'thức',\n",
       "  'id': 24,\n",
       "  'is_correct': True},\n",
       " {'alternative_syllables': [],\n",
       "  'current_syllable': 'bảo',\n",
       "  'id': 25,\n",
       "  'is_correct': True},\n",
       " {'alternative_syllables': [],\n",
       "  'current_syllable': 'vệ',\n",
       "  'id': 26,\n",
       "  'is_correct': True},\n",
       " {'alternative_syllables': [],\n",
       "  'current_syllable': 'môi',\n",
       "  'id': 27,\n",
       "  'is_correct': True},\n",
       " {'alternative_syllables': [],\n",
       "  'current_syllable': 'trường',\n",
       "  'id': 28,\n",
       "  'is_correct': True},\n",
       " {'alternative_syllables': [],\n",
       "  'current_syllable': 'cho',\n",
       "  'id': 29,\n",
       "  'is_correct': True},\n",
       " {'alternative_syllables': [],\n",
       "  'current_syllable': 'trẻ',\n",
       "  'id': 30,\n",
       "  'is_correct': True},\n",
       " {'alternative_syllables': [],\n",
       "  'current_syllable': 'không',\n",
       "  'id': 31,\n",
       "  'is_correct': True},\n",
       " {'alternative_syllables': [],\n",
       "  'current_syllable': 'phải',\n",
       "  'id': 32,\n",
       "  'is_correct': True},\n",
       " {'alternative_syllables': [],\n",
       "  'current_syllable': 'chỉ',\n",
       "  'id': 33,\n",
       "  'is_correct': True},\n",
       " {'alternative_syllables': [],\n",
       "  'current_syllable': 'ở',\n",
       "  'id': 34,\n",
       "  'is_correct': True},\n",
       " {'alternative_syllables': [],\n",
       "  'current_syllable': 'phía',\n",
       "  'id': 35,\n",
       "  'is_correct': True},\n",
       " {'alternative_syllables': [],\n",
       "  'current_syllable': 'nhà',\n",
       "  'id': 36,\n",
       "  'is_correct': True},\n",
       " {'alternative_syllables': [],\n",
       "  'current_syllable': 'trường',\n",
       "  'id': 37,\n",
       "  'is_correct': True},\n",
       " {'alternative_syllables': [],\n",
       "  'current_syllable': 'mà',\n",
       "  'id': 38,\n",
       "  'is_correct': True},\n",
       " {'alternative_syllables': [],\n",
       "  'current_syllable': 'còn',\n",
       "  'id': 39,\n",
       "  'is_correct': True},\n",
       " {'alternative_syllables': [],\n",
       "  'current_syllable': 'ở',\n",
       "  'id': 40,\n",
       "  'is_correct': True},\n",
       " {'alternative_syllables': [],\n",
       "  'current_syllable': 'gia',\n",
       "  'id': 41,\n",
       "  'is_correct': True},\n",
       " {'alternative_syllables': [],\n",
       "  'current_syllable': 'đình',\n",
       "  'id': 42,\n",
       "  'is_correct': True},\n",
       " {'alternative_syllables': [],\n",
       "  'current_syllable': ',',\n",
       "  'id': 43,\n",
       "  'is_correct': True},\n",
       " {'alternative_syllables': [],\n",
       "  'current_syllable': 'góp',\n",
       "  'id': 44,\n",
       "  'is_correct': True},\n",
       " {'alternative_syllables': [],\n",
       "  'current_syllable': 'phần',\n",
       "  'id': 45,\n",
       "  'is_correct': True},\n",
       " {'alternative_syllables': [],\n",
       "  'current_syllable': 'vào',\n",
       "  'id': 46,\n",
       "  'is_correct': True},\n",
       " {'alternative_syllables': [],\n",
       "  'current_syllable': 'việc',\n",
       "  'id': 47,\n",
       "  'is_correct': True},\n",
       " {'alternative_syllables': [],\n",
       "  'current_syllable': 'gìn',\n",
       "  'id': 48,\n",
       "  'is_correct': True},\n",
       " {'alternative_syllables': [],\n",
       "  'current_syllable': 'giữ',\n",
       "  'id': 49,\n",
       "  'is_correct': True},\n",
       " {'alternative_syllables': [],\n",
       "  'current_syllable': 'môi',\n",
       "  'id': 50,\n",
       "  'is_correct': True},\n",
       " {'alternative_syllables': [],\n",
       "  'current_syllable': 'trường',\n",
       "  'id': 51,\n",
       "  'is_correct': True},\n",
       " {'alternative_syllables': ['xanh'],\n",
       "  'current_syllable': 'sanh',\n",
       "  'id': 52,\n",
       "  'is_correct': False},\n",
       " {'alternative_syllables': [],\n",
       "  'current_syllable': ',',\n",
       "  'id': 53,\n",
       "  'is_correct': True},\n",
       " {'alternative_syllables': [],\n",
       "  'current_syllable': 'sạch',\n",
       "  'id': 54,\n",
       "  'is_correct': True},\n",
       " {'alternative_syllables': [],\n",
       "  'current_syllable': ',',\n",
       "  'id': 55,\n",
       "  'is_correct': True},\n",
       " {'alternative_syllables': [],\n",
       "  'current_syllable': 'đẹp.',\n",
       "  'id': 56,\n",
       "  'is_correct': True}]"
      ]
     },
     "execution_count": 3,
     "metadata": {},
     "output_type": "execute_result"
    }
   ],
   "source": [
    "df['annotations'][0]"
   ]
  },
  {
   "cell_type": "code",
   "execution_count": 4,
   "id": "64fd0b84",
   "metadata": {
    "execution": {
     "iopub.execute_input": "2025-06-22T14:26:50.651215Z",
     "iopub.status.busy": "2025-06-22T14:26:50.650910Z",
     "iopub.status.idle": "2025-06-22T14:26:51.659003Z",
     "shell.execute_reply": "2025-06-22T14:26:51.657958Z"
    },
    "papermill": {
     "duration": 1.015982,
     "end_time": "2025-06-22T14:26:51.660680",
     "exception": false,
     "start_time": "2025-06-22T14:26:50.644698",
     "status": "completed"
    },
    "tags": []
   },
   "outputs": [],
   "source": [
    "import pandas as pd\n",
    "import ast\n",
    "\n",
    "def process_annotations(annotations):\n",
    "    num_annotations = len(annotations)\n",
    "    incorrect_positions = []\n",
    "    incorrect_words = []\n",
    "    correct_words = []\n",
    "\n",
    "    for i, ann in enumerate(annotations):\n",
    "        if ann['alternative_syllables']:  # Nếu có từ thay thế => sai\n",
    "            incorrect_positions.append(i)\n",
    "            incorrect_words.append(ann['current_syllable'])\n",
    "            correct_words.append(ann['alternative_syllables'])\n",
    "\n",
    "    num_incorrect = len(incorrect_positions)\n",
    "    return pd.Series([num_annotations, num_incorrect, incorrect_positions, incorrect_words, correct_words])\n",
    "\n",
    "# Áp dụng vào DataFrame\n",
    "df[['num_annotations', 'num_incorrect', 'incorrect_positions', 'incorrect_words', 'correct_words']] = df['annotations'].apply(process_annotations)"
   ]
  },
  {
   "cell_type": "code",
   "execution_count": 5,
   "id": "2cf1c64b",
   "metadata": {
    "execution": {
     "iopub.execute_input": "2025-06-22T14:26:51.673020Z",
     "iopub.status.busy": "2025-06-22T14:26:51.672706Z",
     "iopub.status.idle": "2025-06-22T14:26:51.823271Z",
     "shell.execute_reply": "2025-06-22T14:26:51.822432Z"
    },
    "papermill": {
     "duration": 0.158577,
     "end_time": "2025-06-22T14:26:51.824851",
     "exception": false,
     "start_time": "2025-06-22T14:26:51.666274",
     "status": "completed"
    },
    "tags": []
   },
   "outputs": [
    {
     "data": {
      "text/html": [
       "<div>\n",
       "<style scoped>\n",
       "    .dataframe tbody tr th:only-of-type {\n",
       "        vertical-align: middle;\n",
       "    }\n",
       "\n",
       "    .dataframe tbody tr th {\n",
       "        vertical-align: top;\n",
       "    }\n",
       "\n",
       "    .dataframe thead th {\n",
       "        text-align: right;\n",
       "    }\n",
       "</style>\n",
       "<table border=\"1\" class=\"dataframe\">\n",
       "  <thead>\n",
       "    <tr style=\"text-align: right;\">\n",
       "      <th></th>\n",
       "      <th>annotations</th>\n",
       "      <th>text</th>\n",
       "      <th>num_annotations</th>\n",
       "      <th>num_incorrect</th>\n",
       "      <th>incorrect_positions</th>\n",
       "      <th>incorrect_words</th>\n",
       "      <th>correct_words</th>\n",
       "    </tr>\n",
       "  </thead>\n",
       "  <tbody>\n",
       "    <tr>\n",
       "      <th>0</th>\n",
       "      <td>[{'alternative_syllables': [], 'current_syllab...</td>\n",
       "      <td>Thông qua công tác tuyên truyền, vận động này ...</td>\n",
       "      <td>56</td>\n",
       "      <td>1</td>\n",
       "      <td>[51]</td>\n",
       "      <td>[sanh]</td>\n",
       "      <td>[[xanh]]</td>\n",
       "    </tr>\n",
       "    <tr>\n",
       "      <th>1</th>\n",
       "      <td>[{'alternative_syllables': [], 'current_syllab...</td>\n",
       "      <td>Do đó, doanh nghiệp cần chú trọng đến yếu tố n...</td>\n",
       "      <td>22</td>\n",
       "      <td>1</td>\n",
       "      <td>[12]</td>\n",
       "      <td>[là]</td>\n",
       "      <td>[[làm]]</td>\n",
       "    </tr>\n",
       "    <tr>\n",
       "      <th>2</th>\n",
       "      <td>[{'alternative_syllables': [], 'current_syllab...</td>\n",
       "      <td>Giữ được chỉ số này không giam mà còn tăng thê...</td>\n",
       "      <td>22</td>\n",
       "      <td>2</td>\n",
       "      <td>[6, 16]</td>\n",
       "      <td>[giam, bức]</td>\n",
       "      <td>[[giảm], [bước]]</td>\n",
       "    </tr>\n",
       "    <tr>\n",
       "      <th>3</th>\n",
       "      <td>[{'alternative_syllables': ['Đứng'], 'current_...</td>\n",
       "      <td>Đúng trước thực tế này đòi hỏi chúng ta cần ph...</td>\n",
       "      <td>40</td>\n",
       "      <td>1</td>\n",
       "      <td>[0]</td>\n",
       "      <td>[Đúng]</td>\n",
       "      <td>[[Đứng]]</td>\n",
       "    </tr>\n",
       "    <tr>\n",
       "      <th>4</th>\n",
       "      <td>[{'alternative_syllables': [], 'current_syllab...</td>\n",
       "      <td>Trình độ học vấn của nhân viên được tuyển dụng...</td>\n",
       "      <td>23</td>\n",
       "      <td>1</td>\n",
       "      <td>[11]</td>\n",
       "      <td>[cang]</td>\n",
       "      <td>[[càng]]</td>\n",
       "    </tr>\n",
       "    <tr>\n",
       "      <th>...</th>\n",
       "      <td>...</td>\n",
       "      <td>...</td>\n",
       "      <td>...</td>\n",
       "      <td>...</td>\n",
       "      <td>...</td>\n",
       "      <td>...</td>\n",
       "      <td>...</td>\n",
       "    </tr>\n",
       "    <tr>\n",
       "      <th>9336</th>\n",
       "      <td>[{'alternative_syllables': [], 'current_syllab...</td>\n",
       "      <td>Tuy nhiên, khi nói đến E-Learning, các phương ...</td>\n",
       "      <td>39</td>\n",
       "      <td>1</td>\n",
       "      <td>[29]</td>\n",
       "      <td>[hoc]</td>\n",
       "      <td>[[học]]</td>\n",
       "    </tr>\n",
       "    <tr>\n",
       "      <th>9337</th>\n",
       "      <td>[{'alternative_syllables': [], 'current_syllab...</td>\n",
       "      <td>Đứng trước những hành vi đi ngược lại với đạo ...</td>\n",
       "      <td>58</td>\n",
       "      <td>1</td>\n",
       "      <td>[42]</td>\n",
       "      <td>[duc,]</td>\n",
       "      <td>[[dục,]]</td>\n",
       "    </tr>\n",
       "    <tr>\n",
       "      <th>9338</th>\n",
       "      <td>[{'alternative_syllables': [], 'current_syllab...</td>\n",
       "      <td>Quan điểm biện chứng của chù nghĩa Mác - Lênin...</td>\n",
       "      <td>39</td>\n",
       "      <td>1</td>\n",
       "      <td>[5]</td>\n",
       "      <td>[chù]</td>\n",
       "      <td>[[chủ]]</td>\n",
       "    </tr>\n",
       "    <tr>\n",
       "      <th>9339</th>\n",
       "      <td>[{'alternative_syllables': [], 'current_syllab...</td>\n",
       "      <td>Đối với biểu đồ Histogram, nếu giá trị trung b...</td>\n",
       "      <td>52</td>\n",
       "      <td>1</td>\n",
       "      <td>[37]</td>\n",
       "      <td>[xếp]</td>\n",
       "      <td>[[xấp]]</td>\n",
       "    </tr>\n",
       "    <tr>\n",
       "      <th>9340</th>\n",
       "      <td>[{'alternative_syllables': [], 'current_syllab...</td>\n",
       "      <td>Trong mỗi khu vực mà đội phát triển thị trường...</td>\n",
       "      <td>52</td>\n",
       "      <td>1</td>\n",
       "      <td>[44]</td>\n",
       "      <td>[tiên]</td>\n",
       "      <td>[[tiện]]</td>\n",
       "    </tr>\n",
       "  </tbody>\n",
       "</table>\n",
       "<p>9341 rows × 7 columns</p>\n",
       "</div>"
      ],
      "text/plain": [
       "                                            annotations  \\\n",
       "0     [{'alternative_syllables': [], 'current_syllab...   \n",
       "1     [{'alternative_syllables': [], 'current_syllab...   \n",
       "2     [{'alternative_syllables': [], 'current_syllab...   \n",
       "3     [{'alternative_syllables': ['Đứng'], 'current_...   \n",
       "4     [{'alternative_syllables': [], 'current_syllab...   \n",
       "...                                                 ...   \n",
       "9336  [{'alternative_syllables': [], 'current_syllab...   \n",
       "9337  [{'alternative_syllables': [], 'current_syllab...   \n",
       "9338  [{'alternative_syllables': [], 'current_syllab...   \n",
       "9339  [{'alternative_syllables': [], 'current_syllab...   \n",
       "9340  [{'alternative_syllables': [], 'current_syllab...   \n",
       "\n",
       "                                                   text  num_annotations  \\\n",
       "0     Thông qua công tác tuyên truyền, vận động này ...               56   \n",
       "1     Do đó, doanh nghiệp cần chú trọng đến yếu tố n...               22   \n",
       "2     Giữ được chỉ số này không giam mà còn tăng thê...               22   \n",
       "3     Đúng trước thực tế này đòi hỏi chúng ta cần ph...               40   \n",
       "4     Trình độ học vấn của nhân viên được tuyển dụng...               23   \n",
       "...                                                 ...              ...   \n",
       "9336  Tuy nhiên, khi nói đến E-Learning, các phương ...               39   \n",
       "9337  Đứng trước những hành vi đi ngược lại với đạo ...               58   \n",
       "9338  Quan điểm biện chứng của chù nghĩa Mác - Lênin...               39   \n",
       "9339  Đối với biểu đồ Histogram, nếu giá trị trung b...               52   \n",
       "9340  Trong mỗi khu vực mà đội phát triển thị trường...               52   \n",
       "\n",
       "      num_incorrect incorrect_positions incorrect_words     correct_words  \n",
       "0                 1                [51]          [sanh]          [[xanh]]  \n",
       "1                 1                [12]            [là]           [[làm]]  \n",
       "2                 2             [6, 16]     [giam, bức]  [[giảm], [bước]]  \n",
       "3                 1                 [0]          [Đúng]          [[Đứng]]  \n",
       "4                 1                [11]          [cang]          [[càng]]  \n",
       "...             ...                 ...             ...               ...  \n",
       "9336              1                [29]           [hoc]           [[học]]  \n",
       "9337              1                [42]          [duc,]          [[dục,]]  \n",
       "9338              1                 [5]           [chù]           [[chủ]]  \n",
       "9339              1                [37]           [xếp]           [[xấp]]  \n",
       "9340              1                [44]          [tiên]          [[tiện]]  \n",
       "\n",
       "[9341 rows x 7 columns]"
      ]
     },
     "execution_count": 5,
     "metadata": {},
     "output_type": "execute_result"
    }
   ],
   "source": [
    "df"
   ]
  },
  {
   "cell_type": "code",
   "execution_count": 6,
   "id": "4f22ee0c",
   "metadata": {
    "execution": {
     "iopub.execute_input": "2025-06-22T14:26:51.838231Z",
     "iopub.status.busy": "2025-06-22T14:26:51.837947Z",
     "iopub.status.idle": "2025-06-22T14:26:51.850548Z",
     "shell.execute_reply": "2025-06-22T14:26:51.849690Z"
    },
    "papermill": {
     "duration": 0.021182,
     "end_time": "2025-06-22T14:26:51.852048",
     "exception": false,
     "start_time": "2025-06-22T14:26:51.830866",
     "status": "completed"
    },
    "tags": []
   },
   "outputs": [
    {
     "data": {
      "text/plain": [
       "count    9341.000000\n",
       "mean       30.238625\n",
       "std        12.793480\n",
       "min         4.000000\n",
       "25%        20.000000\n",
       "50%        30.000000\n",
       "75%        40.000000\n",
       "max        64.000000\n",
       "Name: num_annotations, dtype: float64"
      ]
     },
     "execution_count": 6,
     "metadata": {},
     "output_type": "execute_result"
    }
   ],
   "source": [
    "df['num_annotations'].describe()"
   ]
  },
  {
   "cell_type": "code",
   "execution_count": 7,
   "id": "9a6211b0",
   "metadata": {
    "execution": {
     "iopub.execute_input": "2025-06-22T14:26:51.865283Z",
     "iopub.status.busy": "2025-06-22T14:26:51.864518Z",
     "iopub.status.idle": "2025-06-22T14:26:51.873112Z",
     "shell.execute_reply": "2025-06-22T14:26:51.872368Z"
    },
    "papermill": {
     "duration": 0.016708,
     "end_time": "2025-06-22T14:26:51.874517",
     "exception": false,
     "start_time": "2025-06-22T14:26:51.857809",
     "status": "completed"
    },
    "tags": []
   },
   "outputs": [
    {
     "data": {
      "text/plain": [
       "count    9341.000000\n",
       "mean        1.199229\n",
       "std         0.523151\n",
       "min         1.000000\n",
       "25%         1.000000\n",
       "50%         1.000000\n",
       "75%         1.000000\n",
       "max         8.000000\n",
       "Name: num_incorrect, dtype: float64"
      ]
     },
     "execution_count": 7,
     "metadata": {},
     "output_type": "execute_result"
    }
   ],
   "source": [
    "df['num_incorrect'].describe()"
   ]
  },
  {
   "cell_type": "code",
   "execution_count": 8,
   "id": "bedbc008",
   "metadata": {
    "execution": {
     "iopub.execute_input": "2025-06-22T14:26:51.887712Z",
     "iopub.status.busy": "2025-06-22T14:26:51.887429Z",
     "iopub.status.idle": "2025-06-22T14:26:52.044770Z",
     "shell.execute_reply": "2025-06-22T14:26:52.043690Z"
    },
    "papermill": {
     "duration": 0.165528,
     "end_time": "2025-06-22T14:26:52.046237",
     "exception": false,
     "start_time": "2025-06-22T14:26:51.880709",
     "status": "completed"
    },
    "tags": []
   },
   "outputs": [
    {
     "data": {
      "text/html": [
       "<div>\n",
       "<style scoped>\n",
       "    .dataframe tbody tr th:only-of-type {\n",
       "        vertical-align: middle;\n",
       "    }\n",
       "\n",
       "    .dataframe tbody tr th {\n",
       "        vertical-align: top;\n",
       "    }\n",
       "\n",
       "    .dataframe thead th {\n",
       "        text-align: right;\n",
       "    }\n",
       "</style>\n",
       "<table border=\"1\" class=\"dataframe\">\n",
       "  <thead>\n",
       "    <tr style=\"text-align: right;\">\n",
       "      <th></th>\n",
       "      <th>annotations</th>\n",
       "      <th>text</th>\n",
       "      <th>num_annotations</th>\n",
       "      <th>num_incorrect</th>\n",
       "      <th>incorrect_positions</th>\n",
       "      <th>incorrect_words</th>\n",
       "      <th>correct_words</th>\n",
       "    </tr>\n",
       "  </thead>\n",
       "  <tbody>\n",
       "    <tr>\n",
       "      <th>2</th>\n",
       "      <td>[{'alternative_syllables': [], 'current_syllab...</td>\n",
       "      <td>Giữ được chỉ số này không giam mà còn tăng thê...</td>\n",
       "      <td>22</td>\n",
       "      <td>2</td>\n",
       "      <td>[6, 16]</td>\n",
       "      <td>[giam, bức]</td>\n",
       "      <td>[[giảm], [bước]]</td>\n",
       "    </tr>\n",
       "    <tr>\n",
       "      <th>7</th>\n",
       "      <td>[{'alternative_syllables': [], 'current_syllab...</td>\n",
       "      <td>Các lệnh được gửi tử Home Gateway mà ổ điện th...</td>\n",
       "      <td>46</td>\n",
       "      <td>2</td>\n",
       "      <td>[4, 41]</td>\n",
       "      <td>[tử, nắp]</td>\n",
       "      <td>[[từ], [lắp]]</td>\n",
       "    </tr>\n",
       "    <tr>\n",
       "      <th>15</th>\n",
       "      <td>[{'alternative_syllables': [], 'current_syllab...</td>\n",
       "      <td>Tuy nh iên, mục tiêu của P4 là còn có thể tái ...</td>\n",
       "      <td>23</td>\n",
       "      <td>2</td>\n",
       "      <td>[1, 2]</td>\n",
       "      <td>[nh, iên,]</td>\n",
       "      <td>[[], [nhiên,]]</td>\n",
       "    </tr>\n",
       "    <tr>\n",
       "      <th>33</th>\n",
       "      <td>[{'alternative_syllables': [], 'current_syllab...</td>\n",
       "      <td>Bên cạnh đó, ai trong forum cũng có quyền lên ...</td>\n",
       "      <td>33</td>\n",
       "      <td>2</td>\n",
       "      <td>[14, 26]</td>\n",
       "      <td>[ự, truyề]</td>\n",
       "      <td>[[tự], [truyền]]</td>\n",
       "    </tr>\n",
       "    <tr>\n",
       "      <th>41</th>\n",
       "      <td>[{'alternative_syllables': [], 'current_syllab...</td>\n",
       "      <td>Do vậy, trên thế giới ngoài những vấn đề nóng ...</td>\n",
       "      <td>47</td>\n",
       "      <td>2</td>\n",
       "      <td>[14, 24]</td>\n",
       "      <td>[dữ, tao,]</td>\n",
       "      <td>[[dự], [tạo,]]</td>\n",
       "    </tr>\n",
       "    <tr>\n",
       "      <th>...</th>\n",
       "      <td>...</td>\n",
       "      <td>...</td>\n",
       "      <td>...</td>\n",
       "      <td>...</td>\n",
       "      <td>...</td>\n",
       "      <td>...</td>\n",
       "      <td>...</td>\n",
       "    </tr>\n",
       "    <tr>\n",
       "      <th>9312</th>\n",
       "      <td>[{'alternative_syllables': [], 'current_syllab...</td>\n",
       "      <td>Nâng cao hiệu suất của lập trình viên: Việc sử...</td>\n",
       "      <td>39</td>\n",
       "      <td>2</td>\n",
       "      <td>[23, 31]</td>\n",
       "      <td>[lên, lên]</td>\n",
       "      <td>[[nên], [nên]]</td>\n",
       "    </tr>\n",
       "    <tr>\n",
       "      <th>9319</th>\n",
       "      <td>[{'alternative_syllables': [], 'current_syllab...</td>\n",
       "      <td>Trong công tác chăm sóc sứ khoẻ, nhiều phương ...</td>\n",
       "      <td>46</td>\n",
       "      <td>3</td>\n",
       "      <td>[5, 6, 40]</td>\n",
       "      <td>[sứ, khoẻ,, khoẻ]</td>\n",
       "      <td>[[sức], [khỏe], [khỏe]]</td>\n",
       "    </tr>\n",
       "    <tr>\n",
       "      <th>9324</th>\n",
       "      <td>[{'alternative_syllables': [], 'current_syllab...</td>\n",
       "      <td>Về kiểm tra chất lượng kỹ thuật bảo vệ môi trư...</td>\n",
       "      <td>54</td>\n",
       "      <td>2</td>\n",
       "      <td>[20, 52]</td>\n",
       "      <td>[củ, xản]</td>\n",
       "      <td>[[cụ], [sản]]</td>\n",
       "    </tr>\n",
       "    <tr>\n",
       "      <th>9326</th>\n",
       "      <td>[{'alternative_syllables': [], 'current_syllab...</td>\n",
       "      <td>Vị trí đặc điểm địa hình khiến Việt Nam là một...</td>\n",
       "      <td>54</td>\n",
       "      <td>2</td>\n",
       "      <td>[29, 40]</td>\n",
       "      <td>[xâm, sảy]</td>\n",
       "      <td>[[xâm nhập], [xảy]]</td>\n",
       "    </tr>\n",
       "    <tr>\n",
       "      <th>9328</th>\n",
       "      <td>[{'alternative_syllables': [], 'current_syllab...</td>\n",
       "      <td>Em xin được gửi lời cảm ơn đến \"Hội đồng phản ...</td>\n",
       "      <td>43</td>\n",
       "      <td>2</td>\n",
       "      <td>[26, 32]</td>\n",
       "      <td>[đòng, thiệt]</td>\n",
       "      <td>[[đóng], [thiết]]</td>\n",
       "    </tr>\n",
       "  </tbody>\n",
       "</table>\n",
       "<p>1488 rows × 7 columns</p>\n",
       "</div>"
      ],
      "text/plain": [
       "                                            annotations  \\\n",
       "2     [{'alternative_syllables': [], 'current_syllab...   \n",
       "7     [{'alternative_syllables': [], 'current_syllab...   \n",
       "15    [{'alternative_syllables': [], 'current_syllab...   \n",
       "33    [{'alternative_syllables': [], 'current_syllab...   \n",
       "41    [{'alternative_syllables': [], 'current_syllab...   \n",
       "...                                                 ...   \n",
       "9312  [{'alternative_syllables': [], 'current_syllab...   \n",
       "9319  [{'alternative_syllables': [], 'current_syllab...   \n",
       "9324  [{'alternative_syllables': [], 'current_syllab...   \n",
       "9326  [{'alternative_syllables': [], 'current_syllab...   \n",
       "9328  [{'alternative_syllables': [], 'current_syllab...   \n",
       "\n",
       "                                                   text  num_annotations  \\\n",
       "2     Giữ được chỉ số này không giam mà còn tăng thê...               22   \n",
       "7     Các lệnh được gửi tử Home Gateway mà ổ điện th...               46   \n",
       "15    Tuy nh iên, mục tiêu của P4 là còn có thể tái ...               23   \n",
       "33    Bên cạnh đó, ai trong forum cũng có quyền lên ...               33   \n",
       "41    Do vậy, trên thế giới ngoài những vấn đề nóng ...               47   \n",
       "...                                                 ...              ...   \n",
       "9312  Nâng cao hiệu suất của lập trình viên: Việc sử...               39   \n",
       "9319  Trong công tác chăm sóc sứ khoẻ, nhiều phương ...               46   \n",
       "9324  Về kiểm tra chất lượng kỹ thuật bảo vệ môi trư...               54   \n",
       "9326  Vị trí đặc điểm địa hình khiến Việt Nam là một...               54   \n",
       "9328  Em xin được gửi lời cảm ơn đến \"Hội đồng phản ...               43   \n",
       "\n",
       "      num_incorrect incorrect_positions    incorrect_words  \\\n",
       "2                 2             [6, 16]        [giam, bức]   \n",
       "7                 2             [4, 41]          [tử, nắp]   \n",
       "15                2              [1, 2]         [nh, iên,]   \n",
       "33                2            [14, 26]         [ự, truyề]   \n",
       "41                2            [14, 24]         [dữ, tao,]   \n",
       "...             ...                 ...                ...   \n",
       "9312              2            [23, 31]         [lên, lên]   \n",
       "9319              3          [5, 6, 40]  [sứ, khoẻ,, khoẻ]   \n",
       "9324              2            [20, 52]          [củ, xản]   \n",
       "9326              2            [29, 40]         [xâm, sảy]   \n",
       "9328              2            [26, 32]      [đòng, thiệt]   \n",
       "\n",
       "                correct_words  \n",
       "2            [[giảm], [bước]]  \n",
       "7               [[từ], [lắp]]  \n",
       "15             [[], [nhiên,]]  \n",
       "33           [[tự], [truyền]]  \n",
       "41             [[dự], [tạo,]]  \n",
       "...                       ...  \n",
       "9312           [[nên], [nên]]  \n",
       "9319  [[sức], [khỏe], [khỏe]]  \n",
       "9324            [[cụ], [sản]]  \n",
       "9326      [[xâm nhập], [xảy]]  \n",
       "9328        [[đóng], [thiết]]  \n",
       "\n",
       "[1488 rows x 7 columns]"
      ]
     },
     "execution_count": 8,
     "metadata": {},
     "output_type": "execute_result"
    }
   ],
   "source": [
    "df[df['num_incorrect']>1]"
   ]
  },
  {
   "cell_type": "code",
   "execution_count": 9,
   "id": "6db68eea",
   "metadata": {
    "execution": {
     "iopub.execute_input": "2025-06-22T14:26:52.060370Z",
     "iopub.status.busy": "2025-06-22T14:26:52.059654Z",
     "iopub.status.idle": "2025-06-22T14:26:52.070245Z",
     "shell.execute_reply": "2025-06-22T14:26:52.069340Z"
    },
    "papermill": {
     "duration": 0.018859,
     "end_time": "2025-06-22T14:26:52.071589",
     "exception": false,
     "start_time": "2025-06-22T14:26:52.052730",
     "status": "completed"
    },
    "tags": []
   },
   "outputs": [
    {
     "data": {
      "text/plain": [
       "num_annotations\n",
       "28    267\n",
       "29    266\n",
       "30    266\n",
       "25    260\n",
       "32    256\n",
       "33    255\n",
       "24    254\n",
       "27    253\n",
       "23    237\n",
       "31    236\n",
       "21    228\n",
       "26    227\n",
       "19    226\n",
       "34    224\n",
       "20    223\n",
       "40    217\n",
       "37    217\n",
       "38    214\n",
       "18    213\n",
       "36    213\n",
       "22    212\n",
       "35    211\n",
       "17    207\n",
       "16    204\n",
       "39    202\n",
       "13    193\n",
       "15    191\n",
       "14    190\n",
       "44    178\n",
       "41    177\n",
       "43    174\n",
       "12    165\n",
       "45    159\n",
       "42    157\n",
       "47    146\n",
       "46    146\n",
       "48    145\n",
       "11    143\n",
       "52    142\n",
       "10    126\n",
       "53    116\n",
       "49    116\n",
       "51    116\n",
       "9     115\n",
       "54    105\n",
       "50    100\n",
       "8      98\n",
       "55     72\n",
       "56     61\n",
       "7      60\n",
       "6      53\n",
       "57     42\n",
       "5      24\n",
       "58     23\n",
       "59      9\n",
       "60      4\n",
       "61      4\n",
       "4       2\n",
       "64      1\n",
       "Name: count, dtype: int64"
      ]
     },
     "execution_count": 9,
     "metadata": {},
     "output_type": "execute_result"
    }
   ],
   "source": [
    "df['num_annotations'].value_counts()"
   ]
  },
  {
   "cell_type": "code",
   "execution_count": 10,
   "id": "d61763e2",
   "metadata": {
    "execution": {
     "iopub.execute_input": "2025-06-22T14:26:52.085330Z",
     "iopub.status.busy": "2025-06-22T14:26:52.085020Z",
     "iopub.status.idle": "2025-06-22T14:26:52.679549Z",
     "shell.execute_reply": "2025-06-22T14:26:52.678707Z"
    },
    "papermill": {
     "duration": 0.602938,
     "end_time": "2025-06-22T14:26:52.680984",
     "exception": false,
     "start_time": "2025-06-22T14:26:52.078046",
     "status": "completed"
    },
    "tags": []
   },
   "outputs": [
    {
     "data": {
      "image/png": "[encoded data removed]",
      "text/plain": [
       "<Figure size 1400x600 with 1 Axes>"
      ]
     },
     "metadata": {},
     "output_type": "display_data"
    }
   ],
   "source": [
    "import matplotlib.pyplot as plt\n",
    "\n",
    "# Giả sử bạn đã có cột num_annotations\n",
    "plt.figure(figsize=(14, 6))\n",
    "plt.hist(df['num_annotations'], bins=range(df['num_annotations'].max()+2), edgecolor='black')\n",
    "plt.title('Phân bố số từ trong mỗi câu')\n",
    "plt.xlabel('Số từ trong một câu')\n",
    "plt.ylabel('Số lượng câu')\n",
    "plt.xticks(range(df['num_annotations'].max()+1))\n",
    "plt.grid(axis='y', linestyle='--', alpha=0.7)\n",
    "plt.tight_layout()\n",
    "plt.show()"
   ]
  },
  {
   "cell_type": "code",
   "execution_count": 11,
   "id": "b9ac8fc1",
   "metadata": {
    "execution": {
     "iopub.execute_input": "2025-06-22T14:26:52.697057Z",
     "iopub.status.busy": "2025-06-22T14:26:52.696765Z",
     "iopub.status.idle": "2025-06-22T14:26:54.897066Z",
     "shell.execute_reply": "2025-06-22T14:26:54.896194Z"
    },
    "papermill": {
     "duration": 2.210363,
     "end_time": "2025-06-22T14:26:54.898754",
     "exception": false,
     "start_time": "2025-06-22T14:26:52.688391",
     "status": "completed"
    },
    "tags": []
   },
   "outputs": [
    {
     "name": "stderr",
     "output_type": "stream",
     "text": [
      "/usr/local/lib/python3.11/dist-packages/seaborn/_oldcore.py:1119: FutureWarning: use_inf_as_na option is deprecated and will be removed in a future version. Convert inf values to NaN before operating instead.\n",
      "  with pd.option_context('mode.use_inf_as_na', True):\n"
     ]
    },
    {
     "data": {
      "image/png": "[encoded data removed]",
      "text/plain": [
       "<Figure size 1400x600 with 1 Axes>"
      ]
     },
     "metadata": {},
     "output_type": "display_data"
    }
   ],
   "source": [
    "import seaborn as sns\n",
    "import matplotlib.pyplot as plt\n",
    "\n",
    "plt.figure(figsize=(14, 6))\n",
    "sns.histplot(df['num_annotations'], bins=range(df['num_annotations'].max()+2), kde=False, edgecolor='black')\n",
    "plt.title('Phân bố số lỗi (annotations) trên mỗi câu')\n",
    "plt.xlabel('Số lỗi trong một câu')\n",
    "plt.ylabel('Số lượng câu')\n",
    "plt.xticks(range(df['num_annotations'].max()+1))\n",
    "plt.grid(axis='y', linestyle='--', alpha=0.7)\n",
    "plt.tight_layout()\n",
    "plt.show()"
   ]
  },
  {
   "cell_type": "code",
   "execution_count": 12,
   "id": "ed225fe9",
   "metadata": {
    "execution": {
     "iopub.execute_input": "2025-06-22T14:26:54.917191Z",
     "iopub.status.busy": "2025-06-22T14:26:54.916760Z",
     "iopub.status.idle": "2025-06-22T14:26:54.924012Z",
     "shell.execute_reply": "2025-06-22T14:26:54.923148Z"
    },
    "papermill": {
     "duration": 0.018333,
     "end_time": "2025-06-22T14:26:54.925585",
     "exception": false,
     "start_time": "2025-06-22T14:26:54.907252",
     "status": "completed"
    },
    "tags": []
   },
   "outputs": [
    {
     "data": {
      "text/plain": [
       "num_incorrect\n",
       "1    7853\n",
       "2    1224\n",
       "3     191\n",
       "4      47\n",
       "5      20\n",
       "6       3\n",
       "7       2\n",
       "8       1\n",
       "Name: count, dtype: int64"
      ]
     },
     "execution_count": 12,
     "metadata": {},
     "output_type": "execute_result"
    }
   ],
   "source": [
    "df['num_incorrect'].value_counts()"
   ]
  },
  {
   "cell_type": "code",
   "execution_count": 13,
   "id": "c141a405",
   "metadata": {
    "execution": {
     "iopub.execute_input": "2025-06-22T14:26:54.943008Z",
     "iopub.status.busy": "2025-06-22T14:26:54.942716Z",
     "iopub.status.idle": "2025-06-22T14:26:54.952003Z",
     "shell.execute_reply": "2025-06-22T14:26:54.951090Z"
    },
    "papermill": {
     "duration": 0.019655,
     "end_time": "2025-06-22T14:26:54.953595",
     "exception": false,
     "start_time": "2025-06-22T14:26:54.933940",
     "status": "completed"
    },
    "tags": []
   },
   "outputs": [
    {
     "data": {
      "text/plain": [
       "count    9341.000000\n",
       "mean        1.199229\n",
       "std         0.523151\n",
       "min         1.000000\n",
       "25%         1.000000\n",
       "50%         1.000000\n",
       "75%         1.000000\n",
       "max         8.000000\n",
       "Name: num_incorrect, dtype: float64"
      ]
     },
     "execution_count": 13,
     "metadata": {},
     "output_type": "execute_result"
    }
   ],
   "source": [
    "df['num_incorrect'].describe()"
   ]
  },
  {
   "cell_type": "code",
   "execution_count": 14,
   "id": "7cb4f913",
   "metadata": {
    "execution": {
     "iopub.execute_input": "2025-06-22T14:26:54.971255Z",
     "iopub.status.busy": "2025-06-22T14:26:54.970944Z",
     "iopub.status.idle": "2025-06-22T14:26:54.977158Z",
     "shell.execute_reply": "2025-06-22T14:26:54.976264Z"
    },
    "papermill": {
     "duration": 0.016788,
     "end_time": "2025-06-22T14:26:54.978632",
     "exception": false,
     "start_time": "2025-06-22T14:26:54.961844",
     "status": "completed"
    },
    "tags": []
   },
   "outputs": [
    {
     "data": {
      "text/plain": [
       "11202"
      ]
     },
     "execution_count": 14,
     "metadata": {},
     "output_type": "execute_result"
    }
   ],
   "source": [
    "sum(df['num_incorrect'])"
   ]
  },
  {
   "cell_type": "code",
   "execution_count": null,
   "id": "3fa87eb7",
   "metadata": {
    "papermill": {
     "duration": 0.007884,
     "end_time": "2025-06-22T14:26:54.994780",
     "exception": false,
     "start_time": "2025-06-22T14:26:54.986896",
     "status": "completed"
    },
    "tags": []
   },
   "outputs": [],
   "source": []
  },
  {
   "cell_type": "code",
   "execution_count": 15,
   "id": "387c07c0",
   "metadata": {
    "execution": {
     "iopub.execute_input": "2025-06-22T14:26:55.012311Z",
     "iopub.status.busy": "2025-06-22T14:26:55.012000Z",
     "iopub.status.idle": "2025-06-22T14:26:55.257264Z",
     "shell.execute_reply": "2025-06-22T14:26:55.256238Z"
    },
    "papermill": {
     "duration": 0.25587,
     "end_time": "2025-06-22T14:26:55.258776",
     "exception": false,
     "start_time": "2025-06-22T14:26:55.002906",
     "status": "completed"
    },
    "tags": []
   },
   "outputs": [
    {
     "data": {
      "image/png": "[encoded data removed]",
      "text/plain": [
       "<Figure size 1000x600 with 1 Axes>"
      ]
     },
     "metadata": {},
     "output_type": "display_data"
    }
   ],
   "source": [
    "import seaborn as sns\n",
    "import matplotlib.pyplot as plt\n",
    "\n",
    "# Chuẩn bị dữ liệu\n",
    "counts = df['num_incorrect'].value_counts().sort_index()\n",
    "data = counts.reset_index()\n",
    "data.columns = ['num_errors', 'num_sentences']\n",
    "\n",
    "# Vẽ biểu đồ\n",
    "plt.figure(figsize=(10, 6))\n",
    "sns.barplot(x='num_errors', y='num_sentences', data=data, palette='Blues_d')\n",
    "plt.title('Biểu đồ cột số lỗi (annotations) trên mỗi câu')\n",
    "plt.xlabel('Số lỗi trong câu')\n",
    "plt.ylabel('Số lượng câu')\n",
    "plt.grid(axis='y', linestyle='--', alpha=0.7)\n",
    "plt.tight_layout()\n",
    "plt.show()\n"
   ]
  },
  {
   "cell_type": "code",
   "execution_count": 16,
   "id": "b6d2d7e1",
   "metadata": {
    "execution": {
     "iopub.execute_input": "2025-06-22T14:26:55.278733Z",
     "iopub.status.busy": "2025-06-22T14:26:55.278394Z",
     "iopub.status.idle": "2025-06-22T14:26:55.720237Z",
     "shell.execute_reply": "2025-06-22T14:26:55.719211Z"
    },
    "papermill": {
     "duration": 0.453337,
     "end_time": "2025-06-22T14:26:55.721820",
     "exception": false,
     "start_time": "2025-06-22T14:26:55.268483",
     "status": "completed"
    },
    "tags": []
   },
   "outputs": [
    {
     "name": "stdout",
     "output_type": "stream",
     "text": [
      "Tổng số cặp lỗi-sửa khác biệt: 5210\n",
      "Ví dụ: [('đế', 'đến'), ('phần', 'phân'), ('trường.', 'trương.'), ('tuyển', 'tuyên'), ('hạn', 'hạng'), ('cachs', 'cách'), ('nghĩaa,', 'nghĩa'), ('Nkhí', 'khí'), ('chi', 'chỉ'), ('gỉai', 'giải'), ('nả,', 'tảng'), ('toan', 'toán'), ('nến', 'nếu'), ('vảo', 'bảo'), ('cấu,', 'cầu,'), ('yéu,', 'yêu'), ('đo', 'đó'), ('dùng', 'dung'), ('phân', 'phần'), ('chúng', 'chung'), ('bữa', 'bừa'), ('han', 'hán'), ('hận', 'nhận'), ('hội', 'hối'), ('căng', 'năng'), ('hương', 'hướng'), ('xa', 'xã'), ('nưỡng.', 'ngưởng'), ('kể', 'kế'), ('tài', 'tải'), ('nược', 'nước'), ('dùn', 'dung'), ('bệnhlại', 'bệnh lại'), ('phe.', 'phê.'), ('p', ''), ('tinn', 'tin'), ('bóng', 'bong'), ('g', 'lượng'), ('giã', 'giả'), ('tổn', 'tồn'), ('ván', 'vấn'), ('tang.', 'tăng.'), ('moi', 'mọi'), ('ta', 'tay'), ('Mang', 'Mạng'), ('khác', 'khá'), ('nảy,', 'này'), ('chặc', 'chặt'), ('thi', ''), ('vi', 'vị'), ('thep', 'theo'), ('tê', 'tên'), ('thưởng', 'thường'), ('năm.', 'Nam.'), ('dựn', 'dựng'), ('gio', 'giao'), ('nổi', 'nối'), ('tóan.', 'toán'), ('nhập', 'thập'), ('moon', 'môn'), ('bắn', 'bán'), ('trươngđa', 'trương đa'), ('xuyến', 'xuyên'), ('vưng', 'vững'), ('b', ''), ('Nôị', 'Nội'), ('đói', 'đó'), ('cac', 'các'), ('cồ', 'cô'), ('nối', 'nỗi'), ('gởi', 'gửi'), ('tiét', 'tiết'), ('đàm', 'đầm'), ('cái', 'cải'), ('bây', 'bấy'), ('hiể', 'hiểu'), ('Nhâ', 'Nhật'), ('roc', 'ro'), ('vây', 'vay'), ('lớ', 'lớp'), ('Nnội', 'nội'), ('it', 'ít'), ('Điểu', 'Điều'), ('rnhanh,', 'nhanh'), ('dư', 'dữ'), ('dúp', 'giúp'), ('Goi', 'Gọi'), ('cắn', 'căn'), ('xâyy', 'xây'), ('nình.', 'mình.'), ('lê', 'lệ'), ('giasd,', 'giá'), ('truy', 'tru'), ('giò', 'giờ'), ('thi', 'thí'), ('phá', 'phát'), ('tự', 'từ'), ('triêụ', 'triệu'), ('hêt', 'hết'), ('đối', 'đãi')]\n"
     ]
    }
   ],
   "source": [
    "unique_corrections = set()\n",
    "\n",
    "for _, row in df.iterrows():\n",
    "    for wrong, correct_list in zip(row['incorrect_words'], row['correct_words']):\n",
    "        if correct_list:  # kiểm tra không rỗng\n",
    "            for correct in correct_list:\n",
    "                # Kiểm tra nếu từ sai khác với từ đúng, và đảm bảo rằng từ đúng là một chuỗi\n",
    "                if wrong != correct and isinstance(correct, str):\n",
    "                    unique_corrections.add((wrong, correct))\n",
    "\n",
    "# Chuyển về list nếu cần\n",
    "unique_corrections = list(unique_corrections)\n",
    "\n",
    "# In kết quả (ví dụ in 5 cặp đầu tiên)\n",
    "print(\"Tổng số cặp lỗi-sửa khác biệt:\", len(unique_corrections))\n",
    "print(\"Ví dụ:\", unique_corrections[:100])"
   ]
  },
  {
   "cell_type": "code",
   "execution_count": 17,
   "id": "8c0d0f4f",
   "metadata": {
    "execution": {
     "iopub.execute_input": "2025-06-22T14:26:55.740872Z",
     "iopub.status.busy": "2025-06-22T14:26:55.740546Z",
     "iopub.status.idle": "2025-06-22T14:26:55.744745Z",
     "shell.execute_reply": "2025-06-22T14:26:55.743904Z"
    },
    "papermill": {
     "duration": 0.015514,
     "end_time": "2025-06-22T14:26:55.746149",
     "exception": false,
     "start_time": "2025-06-22T14:26:55.730635",
     "status": "completed"
    },
    "tags": []
   },
   "outputs": [],
   "source": [
    "# unique_corrections = set()\n",
    "\n",
    "# for _, row in df.iterrows():\n",
    "#     for wrong, correct_list in zip(row['incorrect_words'], row['correct_words']):\n",
    "#         if correct_list:  # kiểm tra không rỗng\n",
    "#             for correct in correct_list:\n",
    "#                 # Kiểm tra nếu từ sai khác với từ đúng, và đảm bảo rằng từ đúng là một chuỗi\n",
    "#                 if wrong != correct and isinstance(correct, str):\n",
    "#                     if correct !=\"\":\n",
    "#                         unique_corrections.add((wrong, correct))\n",
    "\n",
    "# # Chuyển về list nếu cần\n",
    "# unique_corrections = list(unique_corrections)\n",
    "\n",
    "# # In kết quả (ví dụ in 5 cặp đầu tiên)\n",
    "# print(\"Tổng số cặp lỗi-sửa khác biệt:\", len(unique_corrections))\n",
    "# print(\"Ví dụ:\", unique_corrections[:100])"
   ]
  },
  {
   "cell_type": "code",
   "execution_count": 18,
   "id": "008e9da0",
   "metadata": {
    "execution": {
     "iopub.execute_input": "2025-06-22T14:26:55.765541Z",
     "iopub.status.busy": "2025-06-22T14:26:55.764827Z",
     "iopub.status.idle": "2025-06-22T14:27:03.201424Z",
     "shell.execute_reply": "2025-06-22T14:27:03.200234Z"
    },
    "papermill": {
     "duration": 7.448117,
     "end_time": "2025-06-22T14:27:03.203358",
     "exception": false,
     "start_time": "2025-06-22T14:26:55.755241",
     "status": "completed"
    },
    "tags": []
   },
   "outputs": [
    {
     "name": "stdout",
     "output_type": "stream",
     "text": [
      "Collecting python-Levenshtein\r\n",
      "  Downloading python_levenshtein-0.27.1-py3-none-any.whl.metadata (3.7 kB)\r\n",
      "Collecting Levenshtein==0.27.1 (from python-Levenshtein)\r\n",
      "  Downloading levenshtein-0.27.1-cp311-cp311-manylinux_2_17_x86_64.manylinux2014_x86_64.whl.metadata (3.6 kB)\r\n",
      "Collecting rapidfuzz<4.0.0,>=3.9.0 (from Levenshtein==0.27.1->python-Levenshtein)\r\n",
      "  Downloading rapidfuzz-3.13.0-cp311-cp311-manylinux_2_17_x86_64.manylinux2014_x86_64.whl.metadata (12 kB)\r\n",
      "Downloading python_levenshtein-0.27.1-py3-none-any.whl (9.4 kB)\r\n",
      "Downloading levenshtein-0.27.1-cp311-cp311-manylinux_2_17_x86_64.manylinux2014_x86_64.whl (161 kB)\r\n",
      "\u001b[2K   \u001b[90m━━━━━━━━━━━━━━━━━━━━━━━━━━━━━━━━━━━━━━━━\u001b[0m \u001b[32m161.7/161.7 kB\u001b[0m \u001b[31m3.5 MB/s\u001b[0m eta \u001b[36m0:00:00\u001b[0m\r\n",
      "\u001b[?25hDownloading rapidfuzz-3.13.0-cp311-cp311-manylinux_2_17_x86_64.manylinux2014_x86_64.whl (3.1 MB)\r\n",
      "\u001b[2K   \u001b[90m━━━━━━━━━━━━━━━━━━━━━━━━━━━━━━━━━━━━━━━━\u001b[0m \u001b[32m3.1/3.1 MB\u001b[0m \u001b[31m42.7 MB/s\u001b[0m eta \u001b[36m0:00:00\u001b[0m\r\n",
      "\u001b[?25hInstalling collected packages: rapidfuzz, Levenshtein, python-Levenshtein\r\n",
      "Successfully installed Levenshtein-0.27.1 python-Levenshtein-0.27.1 rapidfuzz-3.13.0\r\n"
     ]
    }
   ],
   "source": [
    "!pip install python-Levenshtein"
   ]
  },
  {
   "cell_type": "code",
   "execution_count": 19,
   "id": "3c1ca7b6",
   "metadata": {
    "execution": {
     "iopub.execute_input": "2025-06-22T14:27:03.224027Z",
     "iopub.status.busy": "2025-06-22T14:27:03.223711Z",
     "iopub.status.idle": "2025-06-22T14:27:03.268252Z",
     "shell.execute_reply": "2025-06-22T14:27:03.267175Z"
    },
    "papermill": {
     "duration": 0.056635,
     "end_time": "2025-06-22T14:27:03.269699",
     "exception": false,
     "start_time": "2025-06-22T14:27:03.213064",
     "status": "completed"
    },
    "tags": []
   },
   "outputs": [
    {
     "name": "stdout",
     "output_type": "stream",
     "text": [
      "Số lỗi do gõ sai (ước lượng): 3942\n",
      "Ví dụ lỗi gõ sai: [('đế', 'đến'), ('phần', 'phân'), ('trường.', 'trương.'), ('tuyển', 'tuyên'), ('hạn', 'hạng'), ('Nkhí', 'khí'), ('chi', 'chỉ'), ('toan', 'toán'), ('nến', 'nếu'), ('vảo', 'bảo')]\n"
     ]
    }
   ],
   "source": [
    "import Levenshtein\n",
    "# Hàm đếm số lỗi \"gõ sai\" với Levenshtein distance <= 2 (có thể chỉnh)\n",
    "typing_errors = [pair for pair in unique_corrections if Levenshtein.distance(pair[0], pair[1]) <= 1]\n",
    "\n",
    "# Kết quả\n",
    "print(\"Số lỗi do gõ sai (ước lượng):\", len(typing_errors))\n",
    "print(\"Ví dụ lỗi gõ sai:\", typing_errors[:10])"
   ]
  },
  {
   "cell_type": "code",
   "execution_count": 20,
   "id": "795ad13b",
   "metadata": {
    "execution": {
     "iopub.execute_input": "2025-06-22T14:27:03.289990Z",
     "iopub.status.busy": "2025-06-22T14:27:03.289694Z",
     "iopub.status.idle": "2025-06-22T14:27:03.881857Z",
     "shell.execute_reply": "2025-06-22T14:27:03.880572Z"
    },
    "papermill": {
     "duration": 0.604638,
     "end_time": "2025-06-22T14:27:03.883862",
     "exception": false,
     "start_time": "2025-06-22T14:27:03.279224",
     "status": "completed"
    },
    "tags": []
   },
   "outputs": [
    {
     "name": "stdout",
     "output_type": "stream",
     "text": [
      "--2025-06-22 14:27:03--  https://raw.githubusercontent.com/duyetdev/vietnamese-wordlist/master/Viet74K.txt\r\n",
      "Resolving raw.githubusercontent.com (raw.githubusercontent.com)... 185.199.111.133, 185.199.109.133, 185.199.110.133, ...\r\n",
      "Connecting to raw.githubusercontent.com (raw.githubusercontent.com)|185.199.111.133|:443... connected.\r\n",
      "HTTP request sent, awaiting response... 200 OK\r\n",
      "Length: 988627 (965K) [text/plain]\r\n",
      "Saving to: ‘viet74k.txt’\r\n",
      "\r\n",
      "viet74k.txt         100%[===================>] 965.46K  --.-KB/s    in 0.05s   \r\n",
      "\r\n",
      "2025-06-22 14:27:03 (20.1 MB/s) - ‘viet74k.txt’ saved [988627/988627]\r\n",
      "\r\n",
      "Số từ trong từ điển: 72535\n",
      "Ví dụ: ['dũng', 'cảm tử', 'lo sợ', 'chữ rời', 'hậu cung', 'nhảy nọc', 'chỏng lỏn', 'nhảy ô', 'khâm định việt sử thông', 'như hũ nút']\n"
     ]
    }
   ],
   "source": [
    "# Tải file từ GitHub\n",
    "!wget https://raw.githubusercontent.com/duyetdev/vietnamese-wordlist/master/Viet74K.txt -O viet74k.txt\n",
    "\n",
    "# Đọc file vào một tập hợp từ\n",
    "with open(\"viet74k.txt\", \"r\", encoding=\"utf-8\") as f:\n",
    "    vietnamese_vocab = set(word.strip().lower() for word in f)\n",
    "\n",
    "print(\"Số từ trong từ điển:\", len(vietnamese_vocab))\n",
    "print(\"Ví dụ:\", list(vietnamese_vocab)[:10])"
   ]
  },
  {
   "cell_type": "code",
   "execution_count": 21,
   "id": "87466685",
   "metadata": {
    "execution": {
     "iopub.execute_input": "2025-06-22T14:27:03.910873Z",
     "iopub.status.busy": "2025-06-22T14:27:03.910532Z",
     "iopub.status.idle": "2025-06-22T14:27:04.682469Z",
     "shell.execute_reply": "2025-06-22T14:27:04.681533Z"
    },
    "papermill": {
     "duration": 0.785,
     "end_time": "2025-06-22T14:27:04.684272",
     "exception": false,
     "start_time": "2025-06-22T14:27:03.899272",
     "status": "completed"
    },
    "tags": []
   },
   "outputs": [],
   "source": [
    "all_incorrect_words = sum(df['incorrect_words'], [])"
   ]
  },
  {
   "cell_type": "code",
   "execution_count": 22,
   "id": "742947d7",
   "metadata": {
    "execution": {
     "iopub.execute_input": "2025-06-22T14:27:04.705869Z",
     "iopub.status.busy": "2025-06-22T14:27:04.705489Z",
     "iopub.status.idle": "2025-06-22T14:27:04.721429Z",
     "shell.execute_reply": "2025-06-22T14:27:04.720417Z"
    },
    "papermill": {
     "duration": 0.028445,
     "end_time": "2025-06-22T14:27:04.722907",
     "exception": false,
     "start_time": "2025-06-22T14:27:04.694462",
     "status": "completed"
    },
    "tags": []
   },
   "outputs": [
    {
     "name": "stdout",
     "output_type": "stream",
     "text": [
      "Số lượng từ không có nghĩa: 3665\n",
      "Ví dụ: ['cang', 'nghệp', 'nghiêp', 'tranhh', 'chẩy', 'nh', 'iên,', 'hoạc.', 'qúa', 'đươc', 'cachh', 'hoc', 'ự', 'truyề', 'gỉa', 'chăt', 'dến', 'tinh.', 'tao,', 'them', 'anăng', 'vàahệ', 'cõ', 'điã', 'phân,', 'mưởi', 'găp', 'kêt', 'đươc', 'nữa.', 'ận', 'nhiệu', 'rang,', 'đạ', 'chiểu.', 'hỗi', 'than,', 'fthu', 'trog', 'tuý', 'hnhf,', 'tuwf', 'ngoaì,', 'tao.', 'it', '\"ắn', 'giảing', 'ghĩ', 'tực', 'mêm']\n"
     ]
    }
   ],
   "source": [
    "# Giả sử bạn đã có danh sách all_incorrect_words và từ điển vietnamese_vocab (là một tập hợp các từ hợp lệ)\n",
    "all_incorrect_words = [w.lower() for w in all_incorrect_words if w.lower() not in vietnamese_vocab]\n",
    "print(\"Số lượng từ không có nghĩa:\", len(all_incorrect_words))\n",
    "print(\"Ví dụ:\", all_incorrect_words[:50])"
   ]
  },
  {
   "cell_type": "code",
   "execution_count": 23,
   "id": "e2a958e6",
   "metadata": {
    "execution": {
     "iopub.execute_input": "2025-06-22T14:27:04.744994Z",
     "iopub.status.busy": "2025-06-22T14:27:04.744583Z",
     "iopub.status.idle": "2025-06-22T14:27:04.753663Z",
     "shell.execute_reply": "2025-06-22T14:27:04.752744Z"
    },
    "papermill": {
     "duration": 0.022128,
     "end_time": "2025-06-22T14:27:04.755158",
     "exception": false,
     "start_time": "2025-06-22T14:27:04.733030",
     "status": "completed"
    },
    "tags": []
   },
   "outputs": [
    {
     "data": {
      "text/plain": [
       "0.3271737189787538"
      ]
     },
     "execution_count": 23,
     "metadata": {},
     "output_type": "execute_result"
    }
   ],
   "source": [
    "len(all_incorrect_words)/sum(df['num_incorrect'])"
   ]
  },
  {
   "cell_type": "code",
   "execution_count": 24,
   "id": "77ce3894",
   "metadata": {
    "execution": {
     "iopub.execute_input": "2025-06-22T14:27:04.776933Z",
     "iopub.status.busy": "2025-06-22T14:27:04.776551Z",
     "iopub.status.idle": "2025-06-22T14:27:05.257505Z",
     "shell.execute_reply": "2025-06-22T14:27:05.256562Z"
    },
    "papermill": {
     "duration": 0.493765,
     "end_time": "2025-06-22T14:27:05.259221",
     "exception": false,
     "start_time": "2025-06-22T14:27:04.765456",
     "status": "completed"
    },
    "tags": []
   },
   "outputs": [],
   "source": [
    "corrections = []\n",
    "for _, row in df.iterrows():\n",
    "    for wrong, correct_list in zip(row['incorrect_words'], row['correct_words']):\n",
    "        if correct_list:\n",
    "            for correct in correct_list:\n",
    "                if wrong != correct and isinstance(correct, str):\n",
    "                    corrections.append([wrong, correct])\n"
   ]
  },
  {
   "cell_type": "code",
   "execution_count": 25,
   "id": "bd8ff256",
   "metadata": {
    "execution": {
     "iopub.execute_input": "2025-06-22T14:27:05.280417Z",
     "iopub.status.busy": "2025-06-22T14:27:05.280080Z",
     "iopub.status.idle": "2025-06-22T14:27:05.287483Z",
     "shell.execute_reply": "2025-06-22T14:27:05.286640Z"
    },
    "papermill": {
     "duration": 0.019332,
     "end_time": "2025-06-22T14:27:05.288770",
     "exception": false,
     "start_time": "2025-06-22T14:27:05.269438",
     "status": "completed"
    },
    "tags": []
   },
   "outputs": [],
   "source": [
    "# Sai chính tả\n",
    "COMMON_ORTHO_ERRORS = [\n",
    "    ('x', 's'), ('s', 'x'),\n",
    "    ('ch', 'tr'), ('tr', 'ch'),\n",
    "    ('d', 'gi'), ('gi', 'd'), ('r', 'gi'), ('gi', 'r'),\n",
    "    ('l', 'n'), ('n', 'l'),\n",
    "    ('i', 'y'), ('y', 'i'),\n",
    "    ('c', 'k'), ('k', 'c'), ('q', 'c'), ('q', 'k'),\n",
    "    ('g', 'gh'), ('gh', 'g'),\n",
    "    ('ng', 'ngh'), ('ngh', 'ng'),\n",
    "    ('t', 'c'), ('n', 'ng'), ('m', 'n'), # âm cuối\n",
    "]\n",
    "\n",
    "def detect_orthographic_error(wrong_word, correct_word):\n",
    "    for a, b in COMMON_ORTHO_ERRORS:\n",
    "        # Chỉ kiểm tra khi độ dài giống nhau để dễ xác định vị trí tương ứng\n",
    "        if len(wrong_word) == len(correct_word):\n",
    "            for i in range(len(wrong_word)):\n",
    "                if wrong_word[i:].startswith(a) and correct_word[i:].startswith(b):\n",
    "                    return f\"Confusion at position {i}: '{a}' → '{b}'\"\n",
    "                if wrong_word[i:].startswith(b) and correct_word[i:].startswith(a):\n",
    "                    return f\"Confusion at position {i}: '{b}' → '{a}'\"\n",
    "    return None\n"
   ]
  },
  {
   "cell_type": "code",
   "execution_count": 26,
   "id": "f7ab1ccf",
   "metadata": {
    "execution": {
     "iopub.execute_input": "2025-06-22T14:27:05.310172Z",
     "iopub.status.busy": "2025-06-22T14:27:05.309541Z",
     "iopub.status.idle": "2025-06-22T14:27:05.599520Z",
     "shell.execute_reply": "2025-06-22T14:27:05.598459Z"
    },
    "papermill": {
     "duration": 0.302297,
     "end_time": "2025-06-22T14:27:05.601125",
     "exception": false,
     "start_time": "2025-06-22T14:27:05.298828",
     "status": "completed"
    },
    "tags": []
   },
   "outputs": [
    {
     "name": "stdout",
     "output_type": "stream",
     "text": [
      "Tổng số lỗi chính tả phổ biến phát hiện được: 1815\n",
      "\n",
      "Ví dụ lỗi chính tả phổ biến:\n",
      "Sai: sanh → Đúng: xanh | Ghi chú: Confusion at position 0: 's' → 'x'\n",
      "Sai: Đúng → Đúng: Đứng | Ghi chú: Confusion at position 2: 'n' → 'ng'\n",
      "Sai: cang → Đúng: càng | Ghi chú: Confusion at position 2: 'n' → 'ng'\n",
      "Sai: nắp → Đúng: lắp | Ghi chú: Confusion at position 0: 'n' → 'l'\n",
      "Sai: lên → Đúng: nên | Ghi chú: Confusion at position 0: 'l' → 'n'\n",
      "Sai: nên → Đúng: lên | Ghi chú: Confusion at position 0: 'n' → 'l'\n",
      "Sai: nghiêp → Đúng: nghiệp | Ghi chú: Confusion at position 1: 'g' → 'gh'\n",
      "Sai: dụng → Đúng: dựng | Ghi chú: Confusion at position 2: 'n' → 'ng'\n",
      "Sai: đông → Đúng: đồng | Ghi chú: Confusion at position 2: 'n' → 'ng'\n",
      "Sai: trưởng → Đúng: trường | Ghi chú: Confusion at position 4: 'n' → 'ng'\n"
     ]
    }
   ],
   "source": [
    "orthographic_errors = []\n",
    "\n",
    "for wrong, correct in corrections:\n",
    "    result = detect_orthographic_error(wrong, correct)\n",
    "    if result:\n",
    "        orthographic_errors.append({\n",
    "            'wrong': wrong,\n",
    "            'correct': correct,\n",
    "            'note': result\n",
    "        })\n",
    "\n",
    "# Tổng số lỗi chính tả phát hiện được\n",
    "print(f\"Tổng số lỗi chính tả phổ biến phát hiện được: {len(orthographic_errors)}\\n\")\n",
    "\n",
    "# Hiển thị một vài ví dụ\n",
    "print(\"Ví dụ lỗi chính tả phổ biến:\")\n",
    "for err in orthographic_errors[:10]:\n",
    "    print(f\"Sai: {err['wrong']} → Đúng: {err['correct']} | Ghi chú: {err['note']}\")\n"
   ]
  },
  {
   "cell_type": "code",
   "execution_count": 27,
   "id": "4c3ad1c7",
   "metadata": {
    "execution": {
     "iopub.execute_input": "2025-06-22T14:27:05.623073Z",
     "iopub.status.busy": "2025-06-22T14:27:05.622266Z",
     "iopub.status.idle": "2025-06-22T14:27:05.628449Z",
     "shell.execute_reply": "2025-06-22T14:27:05.627682Z"
    },
    "papermill": {
     "duration": 0.018369,
     "end_time": "2025-06-22T14:27:05.629846",
     "exception": false,
     "start_time": "2025-06-22T14:27:05.611477",
     "status": "completed"
    },
    "tags": []
   },
   "outputs": [],
   "source": [
    "import unicodedata\n",
    "\n",
    "def remove_diacritics(text):\n",
    "    \"\"\"\n",
    "    Loại bỏ dấu tiếng Việt (normalize về dạng không dấu).\n",
    "    \"\"\"\n",
    "    normalized = unicodedata.normalize('NFD', text)\n",
    "    return ''.join(c for c in normalized if unicodedata.category(c) != 'Mn')\n",
    "\n",
    "def detect_missing_diacritics(wrong_word, correct_word):\n",
    "    \"\"\"\n",
    "    Phát hiện lỗi do thiếu dấu tiếng Việt.\n",
    "    \"\"\"\n",
    "    if wrong_word == correct_word:\n",
    "        return None  # giống nhau hoàn toàn\n",
    "\n",
    "    correct_no_diacritics = remove_diacritics(correct_word)\n",
    "    if wrong_word.lower() == correct_no_diacritics.lower():\n",
    "        return f\"Lỗi thiếu dấu: '{wrong_word}' → '{correct_word}'\"\n",
    "    return None\n"
   ]
  },
  {
   "cell_type": "code",
   "execution_count": 28,
   "id": "799ee6f2",
   "metadata": {
    "execution": {
     "iopub.execute_input": "2025-06-22T14:27:05.651239Z",
     "iopub.status.busy": "2025-06-22T14:27:05.650938Z",
     "iopub.status.idle": "2025-06-22T14:27:05.683680Z",
     "shell.execute_reply": "2025-06-22T14:27:05.682695Z"
    },
    "papermill": {
     "duration": 0.045242,
     "end_time": "2025-06-22T14:27:05.685117",
     "exception": false,
     "start_time": "2025-06-22T14:27:05.639875",
     "status": "completed"
    },
    "tags": []
   },
   "outputs": [
    {
     "name": "stdout",
     "output_type": "stream",
     "text": [
      "Tổng số lỗi chính tả sai do thiếu dấu: 1286\n",
      "\n",
      "Ví dụ lỗi chính tả phổ biến:\n",
      "Sai: giam → Đúng: giảm | Ghi chú: Lỗi thiếu dấu: 'giam' → 'giảm'\n",
      "Sai: cang → Đúng: càng | Ghi chú: Lỗi thiếu dấu: 'cang' → 'càng'\n",
      "Sai: xa → Đúng: xã | Ghi chú: Lỗi thiếu dấu: 'xa' → 'xã'\n",
      "Sai: hoc → Đúng: học | Ghi chú: Lỗi thiếu dấu: 'hoc' → 'học'\n",
      "Sai: lam → Đúng: làm | Ghi chú: Lỗi thiếu dấu: 'lam' → 'làm'\n",
      "Sai: tao, → Đúng: tạo, | Ghi chú: Lỗi thiếu dấu: 'tao,' → 'tạo,'\n",
      "Sai: them → Đúng: thêm | Ghi chú: Lỗi thiếu dấu: 'them' → 'thêm'\n",
      "Sai: dung → Đúng: dùng | Ghi chú: Lỗi thiếu dấu: 'dung' → 'dùng'\n",
      "Sai: tinh → Đúng: tính | Ghi chú: Lỗi thiếu dấu: 'tinh' → 'tính'\n",
      "Sai: tao. → Đúng: tạo. | Ghi chú: Lỗi thiếu dấu: 'tao.' → 'tạo.'\n"
     ]
    }
   ],
   "source": [
    "missing_diacritics = []\n",
    "\n",
    "for wrong, correct in corrections:\n",
    "    result = detect_missing_diacritics(wrong, correct)\n",
    "    if result:\n",
    "        missing_diacritics.append({\n",
    "            'wrong': wrong,\n",
    "            'correct': correct,\n",
    "            'note': result\n",
    "        })\n",
    "\n",
    "# Tổng số lỗi chính tả phát hiện được\n",
    "print(f\"Tổng số lỗi chính tả sai do thiếu dấu: {len(missing_diacritics)}\\n\")\n",
    "\n",
    "# Hiển thị một vài ví dụ\n",
    "print(\"Ví dụ lỗi chính tả phổ biến:\")\n",
    "for err in missing_diacritics[:10]:\n",
    "    print(f\"Sai: {err['wrong']} → Đúng: {err['correct']} | Ghi chú: {err['note']}\")\n"
   ]
  }
 ],
 "metadata": {
  "kaggle": {
   "accelerator": "none",
   "dataSources": [
    {
     "datasetId": 7266798,
     "sourceId": 11589050,
     "sourceType": "datasetVersion"
    }
   ],
   "dockerImageVersionId": 31012,
   "isGpuEnabled": false,
   "isInternetEnabled": true,
   "language": "python",
   "sourceType": "notebook"
  },
  "kernelspec": {
   "display_name": "Python 3",
   "language": "python",
   "name": "python3"
  },
  "language_info": {
   "codemirror_mode": {
    "name": "ipython",
    "version": 3
   },
   "file_extension": ".py",
   "mimetype": "text/x-python",
   "name": "python",
   "nbconvert_exporter": "python",
   "pygments_lexer": "ipython3",
   "version": "3.11.11"
  },
  "papermill": {
   "default_parameters": {},
   "duration": 25.222191,
   "end_time": "2025-06-22T14:27:06.715758",
   "environment_variables": {},
   "exception": null,
   "input_path": "__notebook__.ipynb",
   "output_path": "__notebook__.ipynb",
   "parameters": {},
   "start_time": "2025-06-22T14:26:41.493567",
   "version": "2.6.0"
  }
 },
 "nbformat": 4,
 "nbformat_minor": 5
}
